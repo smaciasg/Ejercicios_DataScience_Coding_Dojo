{
  "nbformat": 4,
  "nbformat_minor": 0,
  "metadata": {
    "colab": {
      "provenance": [],
      "collapsed_sections": [],
      "mount_file_id": "1lBpDFp6TaJ3AwLzSXZD6j9EN9VRDvyBN",
      "authorship_tag": "ABX9TyNoohSvVKb//UpogEeLqe4L",
      "include_colab_link": true
    },
    "kernelspec": {
      "name": "python3",
      "display_name": "Python 3"
    },
    "language_info": {
      "name": "python"
    }
  },
  "cells": [
    {
      "cell_type": "markdown",
      "metadata": {
        "id": "view-in-github",
        "colab_type": "text"
      },
      "source": [
        "<a href=\"https://colab.research.google.com/github/smaciasg/Ejercicios_DataScience_Coding_Dojo/blob/main/Actividad_de_pipelines_(base).ipynb\" target=\"_parent\"><img src=\"https://colab.research.google.com/assets/colab-badge.svg\" alt=\"Open In Colab\"/></a>"
      ]
    },
    {
      "cell_type": "markdown",
      "source": [
        "Para esta tarea, usaran el conjunto de datos de cereales. Este conjunto de datos muestra cereales populares por marca y fabricante junto con información nutricional.  La pregunta de aprendizaje automático es: \n",
        "\n",
        "¿Qué tan bien se pueden predecir las calorías basándose en el fabricante, tipo de cereal, gramos de grasa, gramos de azúcares y el peso en onzas por una porción del cereal? "
      ],
      "metadata": {
        "id": "oDzJztjEC7tu"
      }
    },
    {
      "cell_type": "markdown",
      "source": [
        "#**PARTE 1**"
      ],
      "metadata": {
        "id": "ScuRigeFFtNk"
      }
    },
    {
      "cell_type": "markdown",
      "source": [
        "Deberán:\n",
        "\n",
        "Definir la característica (X) y objetivo (y).\n",
        "\n",
        "Utilizar train test split en los datos para prepararlos para aprendizaje automático.\n",
        "\n",
        "Identificar cada característica como numérica, ordinal o nominal. (Entreguen esta pregunta en una celda de texto en un cuaderno de Colab).\n",
        "\n",
        "Utilizar pipelines y transformadores de columnas para completar las siguientes tareas:\n",
        "\n",
        "Imputar algún valor faltante. Utilizar la estrategia “mean” para las columnas numéricas y la estrategia “most_frequent” para las columnas categóricas.\n",
        "\n",
        "Realizar una codificación one-hot a las características nominales.\n",
        "\n",
        "Escalar las columnas numéricas.\n",
        "\n",
        "Todos los datos de preprocesamiento deben estar contenidos en un único objeto de preprocesamiento.\n",
        "\n",
        "Utilizar el objeto de preprocesamiento para transformar los datos de manera adecuada, evitar la fuga de datos para dejarlos listos para el modelado. \n",
        "\n",
        "Muestren los arrays de NumPy resultantes."
      ],
      "metadata": {
        "id": "IlN31M45FwKr"
      }
    },
    {
      "cell_type": "markdown",
      "source": [
        "####**1. Importar las bibliotecas necesarias**"
      ],
      "metadata": {
        "id": "FpdWfobkDJhi"
      }
    },
    {
      "cell_type": "code",
      "execution_count": 19,
      "metadata": {
        "id": "Gmzm2eJfCo6s"
      },
      "outputs": [],
      "source": [
        "import pandas as pd\n",
        "import numpy as np\n",
        "from sklearn.pipeline import make_pipeline\n",
        "from sklearn.impute import SimpleImputer\n",
        "from sklearn.model_selection import train_test_split\n",
        "from sklearn.compose import make_column_selector, make_column_transformer\n",
        "from sklearn.preprocessing import StandardScaler, OneHotEncoder\n",
        "from sklearn import set_config\n",
        "set_config(display='diagram')"
      ]
    },
    {
      "cell_type": "markdown",
      "source": [
        "####**2) Importar los datos y explorarlos**"
      ],
      "metadata": {
        "id": "iTrF63leDM_p"
      }
    },
    {
      "cell_type": "code",
      "source": [
        "cereales = pd.read_csv('/content/drive/MyDrive/CODING DOJO/DATA SCIENCE/ACTIVIDADES SEMANA 5 - INTRO APRENDIZAJE AUTOMÁTICO ML/Cereal with missing values.xlsx - Sheet 1 - cereal.csv')\n",
        "cereales.head()"
      ],
      "metadata": {
        "colab": {
          "base_uri": "https://localhost:8080/",
          "height": 389
        },
        "id": "GpLFSSpyDPzO",
        "outputId": "5ed3251a-5d34-4468-e350-3fd1d53ccfb0"
      },
      "execution_count": 20,
      "outputs": [
        {
          "output_type": "execute_result",
          "data": {
            "text/plain": [
              "                      name   Manufacturer  type  calories per serving  \\\n",
              "0  Apple Cinnamon Cheerios  General Mills  Cold                 110.0   \n",
              "1                  Basic 4  General Mills  Cold                 130.0   \n",
              "2                 Cheerios  General Mills  Cold                   NaN   \n",
              "3    Cinnamon Toast Crunch  General Mills  Cold                 120.0   \n",
              "4                 Clusters  General Mills  Cold                 110.0   \n",
              "\n",
              "   grams of protein  grams of fat  milligrams of sodium  \\\n",
              "0                 2           2.0                 180.0   \n",
              "1                 3           2.0                   NaN   \n",
              "2                 6           2.0                 290.0   \n",
              "3                 1           3.0                 210.0   \n",
              "4                 3           2.0                 140.0   \n",
              "\n",
              "   grams of dietary fiber  grams of complex carbohydrates  grams of sugars  \\\n",
              "0                     1.5                            10.5             10.0   \n",
              "1                     2.0                            18.0              NaN   \n",
              "2                     2.0                            17.0              1.0   \n",
              "3                     0.0                            13.0              9.0   \n",
              "4                     2.0                            13.0              7.0   \n",
              "\n",
              "   milligrams of potassium  vitamins and minerals (% of FDA recommendation)  \\\n",
              "0                       70                                             25.0   \n",
              "1                      100                                             25.0   \n",
              "2                      105                                             25.0   \n",
              "3                       45                                             25.0   \n",
              "4                      105                                             25.0   \n",
              "\n",
              "   Display shelf  Weight in ounces per one serving  \\\n",
              "0              1                              1.00   \n",
              "1              3                              1.33   \n",
              "2              1                              1.00   \n",
              "3              2                              1.00   \n",
              "4              3                              1.00   \n",
              "\n",
              "   Number of cups in one serving  Rating of cereal  \n",
              "0                           0.75         29.509541  \n",
              "1                           0.75         37.038562  \n",
              "2                           1.25         50.764999  \n",
              "3                           0.75         19.823573  \n",
              "4                           0.50         40.400208  "
            ],
            "text/html": [
              "\n",
              "  <div id=\"df-62af0639-8261-4579-bcd1-ce69590a96e2\">\n",
              "    <div class=\"colab-df-container\">\n",
              "      <div>\n",
              "<style scoped>\n",
              "    .dataframe tbody tr th:only-of-type {\n",
              "        vertical-align: middle;\n",
              "    }\n",
              "\n",
              "    .dataframe tbody tr th {\n",
              "        vertical-align: top;\n",
              "    }\n",
              "\n",
              "    .dataframe thead th {\n",
              "        text-align: right;\n",
              "    }\n",
              "</style>\n",
              "<table border=\"1\" class=\"dataframe\">\n",
              "  <thead>\n",
              "    <tr style=\"text-align: right;\">\n",
              "      <th></th>\n",
              "      <th>name</th>\n",
              "      <th>Manufacturer</th>\n",
              "      <th>type</th>\n",
              "      <th>calories per serving</th>\n",
              "      <th>grams of protein</th>\n",
              "      <th>grams of fat</th>\n",
              "      <th>milligrams of sodium</th>\n",
              "      <th>grams of dietary fiber</th>\n",
              "      <th>grams of complex carbohydrates</th>\n",
              "      <th>grams of sugars</th>\n",
              "      <th>milligrams of potassium</th>\n",
              "      <th>vitamins and minerals (% of FDA recommendation)</th>\n",
              "      <th>Display shelf</th>\n",
              "      <th>Weight in ounces per one serving</th>\n",
              "      <th>Number of cups in one serving</th>\n",
              "      <th>Rating of cereal</th>\n",
              "    </tr>\n",
              "  </thead>\n",
              "  <tbody>\n",
              "    <tr>\n",
              "      <th>0</th>\n",
              "      <td>Apple Cinnamon Cheerios</td>\n",
              "      <td>General Mills</td>\n",
              "      <td>Cold</td>\n",
              "      <td>110.0</td>\n",
              "      <td>2</td>\n",
              "      <td>2.0</td>\n",
              "      <td>180.0</td>\n",
              "      <td>1.5</td>\n",
              "      <td>10.5</td>\n",
              "      <td>10.0</td>\n",
              "      <td>70</td>\n",
              "      <td>25.0</td>\n",
              "      <td>1</td>\n",
              "      <td>1.00</td>\n",
              "      <td>0.75</td>\n",
              "      <td>29.509541</td>\n",
              "    </tr>\n",
              "    <tr>\n",
              "      <th>1</th>\n",
              "      <td>Basic 4</td>\n",
              "      <td>General Mills</td>\n",
              "      <td>Cold</td>\n",
              "      <td>130.0</td>\n",
              "      <td>3</td>\n",
              "      <td>2.0</td>\n",
              "      <td>NaN</td>\n",
              "      <td>2.0</td>\n",
              "      <td>18.0</td>\n",
              "      <td>NaN</td>\n",
              "      <td>100</td>\n",
              "      <td>25.0</td>\n",
              "      <td>3</td>\n",
              "      <td>1.33</td>\n",
              "      <td>0.75</td>\n",
              "      <td>37.038562</td>\n",
              "    </tr>\n",
              "    <tr>\n",
              "      <th>2</th>\n",
              "      <td>Cheerios</td>\n",
              "      <td>General Mills</td>\n",
              "      <td>Cold</td>\n",
              "      <td>NaN</td>\n",
              "      <td>6</td>\n",
              "      <td>2.0</td>\n",
              "      <td>290.0</td>\n",
              "      <td>2.0</td>\n",
              "      <td>17.0</td>\n",
              "      <td>1.0</td>\n",
              "      <td>105</td>\n",
              "      <td>25.0</td>\n",
              "      <td>1</td>\n",
              "      <td>1.00</td>\n",
              "      <td>1.25</td>\n",
              "      <td>50.764999</td>\n",
              "    </tr>\n",
              "    <tr>\n",
              "      <th>3</th>\n",
              "      <td>Cinnamon Toast Crunch</td>\n",
              "      <td>General Mills</td>\n",
              "      <td>Cold</td>\n",
              "      <td>120.0</td>\n",
              "      <td>1</td>\n",
              "      <td>3.0</td>\n",
              "      <td>210.0</td>\n",
              "      <td>0.0</td>\n",
              "      <td>13.0</td>\n",
              "      <td>9.0</td>\n",
              "      <td>45</td>\n",
              "      <td>25.0</td>\n",
              "      <td>2</td>\n",
              "      <td>1.00</td>\n",
              "      <td>0.75</td>\n",
              "      <td>19.823573</td>\n",
              "    </tr>\n",
              "    <tr>\n",
              "      <th>4</th>\n",
              "      <td>Clusters</td>\n",
              "      <td>General Mills</td>\n",
              "      <td>Cold</td>\n",
              "      <td>110.0</td>\n",
              "      <td>3</td>\n",
              "      <td>2.0</td>\n",
              "      <td>140.0</td>\n",
              "      <td>2.0</td>\n",
              "      <td>13.0</td>\n",
              "      <td>7.0</td>\n",
              "      <td>105</td>\n",
              "      <td>25.0</td>\n",
              "      <td>3</td>\n",
              "      <td>1.00</td>\n",
              "      <td>0.50</td>\n",
              "      <td>40.400208</td>\n",
              "    </tr>\n",
              "  </tbody>\n",
              "</table>\n",
              "</div>\n",
              "      <button class=\"colab-df-convert\" onclick=\"convertToInteractive('df-62af0639-8261-4579-bcd1-ce69590a96e2')\"\n",
              "              title=\"Convert this dataframe to an interactive table.\"\n",
              "              style=\"display:none;\">\n",
              "        \n",
              "  <svg xmlns=\"http://www.w3.org/2000/svg\" height=\"24px\"viewBox=\"0 0 24 24\"\n",
              "       width=\"24px\">\n",
              "    <path d=\"M0 0h24v24H0V0z\" fill=\"none\"/>\n",
              "    <path d=\"M18.56 5.44l.94 2.06.94-2.06 2.06-.94-2.06-.94-.94-2.06-.94 2.06-2.06.94zm-11 1L8.5 8.5l.94-2.06 2.06-.94-2.06-.94L8.5 2.5l-.94 2.06-2.06.94zm10 10l.94 2.06.94-2.06 2.06-.94-2.06-.94-.94-2.06-.94 2.06-2.06.94z\"/><path d=\"M17.41 7.96l-1.37-1.37c-.4-.4-.92-.59-1.43-.59-.52 0-1.04.2-1.43.59L10.3 9.45l-7.72 7.72c-.78.78-.78 2.05 0 2.83L4 21.41c.39.39.9.59 1.41.59.51 0 1.02-.2 1.41-.59l7.78-7.78 2.81-2.81c.8-.78.8-2.07 0-2.86zM5.41 20L4 18.59l7.72-7.72 1.47 1.35L5.41 20z\"/>\n",
              "  </svg>\n",
              "      </button>\n",
              "      \n",
              "  <style>\n",
              "    .colab-df-container {\n",
              "      display:flex;\n",
              "      flex-wrap:wrap;\n",
              "      gap: 12px;\n",
              "    }\n",
              "\n",
              "    .colab-df-convert {\n",
              "      background-color: #E8F0FE;\n",
              "      border: none;\n",
              "      border-radius: 50%;\n",
              "      cursor: pointer;\n",
              "      display: none;\n",
              "      fill: #1967D2;\n",
              "      height: 32px;\n",
              "      padding: 0 0 0 0;\n",
              "      width: 32px;\n",
              "    }\n",
              "\n",
              "    .colab-df-convert:hover {\n",
              "      background-color: #E2EBFA;\n",
              "      box-shadow: 0px 1px 2px rgba(60, 64, 67, 0.3), 0px 1px 3px 1px rgba(60, 64, 67, 0.15);\n",
              "      fill: #174EA6;\n",
              "    }\n",
              "\n",
              "    [theme=dark] .colab-df-convert {\n",
              "      background-color: #3B4455;\n",
              "      fill: #D2E3FC;\n",
              "    }\n",
              "\n",
              "    [theme=dark] .colab-df-convert:hover {\n",
              "      background-color: #434B5C;\n",
              "      box-shadow: 0px 1px 3px 1px rgba(0, 0, 0, 0.15);\n",
              "      filter: drop-shadow(0px 1px 2px rgba(0, 0, 0, 0.3));\n",
              "      fill: #FFFFFF;\n",
              "    }\n",
              "  </style>\n",
              "\n",
              "      <script>\n",
              "        const buttonEl =\n",
              "          document.querySelector('#df-62af0639-8261-4579-bcd1-ce69590a96e2 button.colab-df-convert');\n",
              "        buttonEl.style.display =\n",
              "          google.colab.kernel.accessAllowed ? 'block' : 'none';\n",
              "\n",
              "        async function convertToInteractive(key) {\n",
              "          const element = document.querySelector('#df-62af0639-8261-4579-bcd1-ce69590a96e2');\n",
              "          const dataTable =\n",
              "            await google.colab.kernel.invokeFunction('convertToInteractive',\n",
              "                                                     [key], {});\n",
              "          if (!dataTable) return;\n",
              "\n",
              "          const docLinkHtml = 'Like what you see? Visit the ' +\n",
              "            '<a target=\"_blank\" href=https://colab.research.google.com/notebooks/data_table.ipynb>data table notebook</a>'\n",
              "            + ' to learn more about interactive tables.';\n",
              "          element.innerHTML = '';\n",
              "          dataTable['output_type'] = 'display_data';\n",
              "          await google.colab.output.renderOutput(dataTable, element);\n",
              "          const docLink = document.createElement('div');\n",
              "          docLink.innerHTML = docLinkHtml;\n",
              "          element.appendChild(docLink);\n",
              "        }\n",
              "      </script>\n",
              "    </div>\n",
              "  </div>\n",
              "  "
            ]
          },
          "metadata": {},
          "execution_count": 20
        }
      ]
    },
    {
      "cell_type": "code",
      "source": [
        "cereales.info()"
      ],
      "metadata": {
        "colab": {
          "base_uri": "https://localhost:8080/"
        },
        "id": "WkpBfz-qDjh-",
        "outputId": "937163ae-6bfa-41fd-9327-3e29f96b174f"
      },
      "execution_count": 21,
      "outputs": [
        {
          "output_type": "stream",
          "name": "stdout",
          "text": [
            "<class 'pandas.core.frame.DataFrame'>\n",
            "RangeIndex: 77 entries, 0 to 76\n",
            "Data columns (total 16 columns):\n",
            " #   Column                                           Non-Null Count  Dtype  \n",
            "---  ------                                           --------------  -----  \n",
            " 0   name                                             77 non-null     object \n",
            " 1   Manufacturer                                     77 non-null     object \n",
            " 2   type                                             68 non-null     object \n",
            " 3   calories per serving                             70 non-null     float64\n",
            " 4   grams of protein                                 77 non-null     int64  \n",
            " 5   grams of fat                                     69 non-null     float64\n",
            " 6   milligrams of sodium                             76 non-null     float64\n",
            " 7   grams of dietary fiber                           77 non-null     float64\n",
            " 8   grams of complex carbohydrates                   77 non-null     float64\n",
            " 9   grams of sugars                                  68 non-null     float64\n",
            " 10  milligrams of potassium                          77 non-null     int64  \n",
            " 11  vitamins and minerals (% of FDA recommendation)  76 non-null     float64\n",
            " 12  Display shelf                                    77 non-null     int64  \n",
            " 13  Weight in ounces per one serving                 77 non-null     float64\n",
            " 14  Number of cups in one serving                    77 non-null     float64\n",
            " 15  Rating of cereal                                 77 non-null     float64\n",
            "dtypes: float64(10), int64(3), object(3)\n",
            "memory usage: 9.8+ KB\n"
          ]
        }
      ]
    },
    {
      "cell_type": "markdown",
      "source": [
        "**COLUMNA OBJETIVO: calories per serving**\n",
        "\n"
      ],
      "metadata": {
        "id": "s6R1jLq7Duxx"
      }
    },
    {
      "cell_type": "code",
      "source": [
        "from pandas.core.internals import create_block_manager_from_arrays\n",
        "#Columnas con datos faltantes\n",
        "cereales.isna().sum()\n",
        "\n",
        "#type - objetc\n",
        "#calories per serving - float\n",
        "#grams of fat - float\n",
        "#milligrams of sodium - float\n",
        "#grams of sugars - float\n",
        "#vitamins and minerals (% of FDA recommendation) - float\n",
        "\n",
        "# Esto quiere decir que solo tenemos que imputar los datos flotantes y un objeto"
      ],
      "metadata": {
        "colab": {
          "base_uri": "https://localhost:8080/"
        },
        "id": "Y0o5jK8SEGyv",
        "outputId": "40f5156f-1f38-4e96-af6d-d356ba6e1b76"
      },
      "execution_count": 22,
      "outputs": [
        {
          "output_type": "execute_result",
          "data": {
            "text/plain": [
              "name                                               0\n",
              "Manufacturer                                       0\n",
              "type                                               9\n",
              "calories per serving                               7\n",
              "grams of protein                                   0\n",
              "grams of fat                                       8\n",
              "milligrams of sodium                               1\n",
              "grams of dietary fiber                             0\n",
              "grams of complex carbohydrates                     0\n",
              "grams of sugars                                    9\n",
              "milligrams of potassium                            0\n",
              "vitamins and minerals (% of FDA recommendation)    1\n",
              "Display shelf                                      0\n",
              "Weight in ounces per one serving                   0\n",
              "Number of cups in one serving                      0\n",
              "Rating of cereal                                   0\n",
              "dtype: int64"
            ]
          },
          "metadata": {},
          "execution_count": 22
        }
      ]
    },
    {
      "cell_type": "markdown",
      "source": [
        "**IDENTIFICACIÓN DE CARACTERÍSTICAS**"
      ],
      "metadata": {
        "id": "eyxYPxaLGC9Y"
      }
    },
    {
      "cell_type": "markdown",
      "source": [
        " 0   name                                             NOMINAL \n",
        "\n",
        " 1   Manufacturer                                     NOMINAL \n",
        "\n",
        " 2   type                                             NOMINAL \n",
        "\n",
        " 3   calories per serving                             NUMÉRICA\n",
        "\n",
        " 4   grams of protein                                 NUMÉRICA \n",
        "\n",
        " 5   grams of fat                                     NUMÉRICA\n",
        "\n",
        " 6   milligrams of sodium                             NUMÉRICA\n",
        "\n",
        " 7   grams of dietary fiber                           NUMÉRICA\n",
        "\n",
        " 8   grams of complex carbohydrates                   NUMÉRICA\n",
        "\n",
        " 9   grams of sugars                                  NUMÉRICA\n",
        "\n",
        " 10  milligrams of potassium                          NUMÉRICA \n",
        "\n",
        " 11  vitamins and minerals (% of FDA recommendation)  NUMÉRICA\n",
        "\n",
        " 12  Display shelf                                    NUMÉRICA \n",
        "\n",
        " 13  Weight in ounces per one serving                 NUMÉRICA\n",
        "\n",
        " 14  Number of cups in one serving                    NUMÉRICA\n",
        " \n",
        " 15  Rating of cereal                                 NUMÉRICA"
      ],
      "metadata": {
        "id": "tHThwMv8GIqa"
      }
    },
    {
      "cell_type": "code",
      "source": [
        "#Ver que tal están escritos los datos categóricos\n",
        "for i in cereales.columns:\n",
        "  if cereales[i].dtypes == 'O':\n",
        "    print(f'{i}:\\n{cereales[i].unique()}\\n-----------------')\n",
        "\n",
        "#Como no conozco las marcas supondré que están bien, por los otras dos columnas de candena, no veo que cambiar\n",
        "#Respecto a columnas ordinales, no veo que alguna de las columnas de cadena deba de tener algún tipo de jerarquía, por lo que no se realiza nungún tipo de cambio"
      ],
      "metadata": {
        "colab": {
          "base_uri": "https://localhost:8080/"
        },
        "id": "dkUqoLnkE80z",
        "outputId": "f7af161d-6aa7-4362-9081-e8ef125d5d05"
      },
      "execution_count": 23,
      "outputs": [
        {
          "output_type": "stream",
          "name": "stdout",
          "text": [
            "name:\n",
            "['Apple Cinnamon Cheerios' 'Basic 4' 'Cheerios' 'Cinnamon Toast Crunch'\n",
            " 'Clusters' 'Cocoa Puffs' 'Count Chocula' 'Crispy Wheat & Raisins'\n",
            " 'Golden Grahams' 'Honey Nut Cheerios' 'Kix' 'Lucky Charms'\n",
            " 'Multi-Grain Cheerios' 'Oatmeal Raisin Crisp' 'Raisin Nut Bran'\n",
            " 'Total Corn Flakes' 'Total Raisin Bran' 'Total Whole Grain' 'Triples'\n",
            " 'Trix' 'Wheaties' 'Wheaties Honey Gold' 'All-Bran'\n",
            " 'All-Bran with Extra Fiber' 'Apple Jacks' 'Corn Flakes' 'Corn Pops'\n",
            " \"Cracklin' Oat Bran\" 'Crispix' 'Froot Loops' 'Frosted Flakes'\n",
            " 'Frosted Mini-Wheats' 'Fruitful Bran' 'Just Right Crunchy  Nuggets'\n",
            " 'Just Right Fruit & Nut' 'Mueslix Crispy Blend' 'Nut&Honey Crunch'\n",
            " 'Nutri-Grain Almond-Raisin' 'Nutri-grain Wheat' 'Product 19'\n",
            " 'Raisin Bran' 'Raisin Squares' 'Rice Krispies' 'Smacks' 'Special K'\n",
            " '100% Bran' 'Shredded Wheat' \"Shredded Wheat 'n'Bran\"\n",
            " 'Shredded Wheat spoon size' 'Strawberry Fruit Wheats' 'Bran Flakes'\n",
            " 'Fruit & Fibre Dates; Walnuts; and Oats' 'Fruity Pebbles' 'Golden Crisp'\n",
            " 'Grape Nuts Flakes' 'Grape-Nuts' 'Great Grains Pecan' 'Honey-comb'\n",
            " 'Post Nat. Raisin Bran' '100% Natural Bran' \"Cap'n'Crunch\"\n",
            " 'Honey Graham Ohs' 'Life' 'Puffed Rice' 'Puffed Wheat'\n",
            " 'Quaker Oat Squares' 'Almond Delight' 'Bran Chex' 'Corn Chex'\n",
            " 'Double Chex' 'Muesli Raisins; Dates; & Almonds'\n",
            " 'Muesli Raisins; Peaches; & Pecans' 'Rice Chex' 'Wheat Chex' 'Maypo'\n",
            " 'Cream of Wheat (Quick)' 'Quaker Oatmeal']\n",
            "-----------------\n",
            "Manufacturer:\n",
            "['General Mills' 'Kelloggs' 'Nabisco' 'Post' 'Quaker Oats'\n",
            " 'Ralston Purina' 'American Home Food Products']\n",
            "-----------------\n",
            "type:\n",
            "['Cold' nan 'Hot']\n",
            "-----------------\n"
          ]
        }
      ]
    },
    {
      "cell_type": "markdown",
      "source": [
        "####**3) División de la validación: Crear matriz de características y vector objetivo**"
      ],
      "metadata": {
        "id": "48An8GraGqhM"
      }
    },
    {
      "cell_type": "code",
      "source": [
        "X = cereales.drop(columns='calories per serving')\n",
        "y = cereales['calories per serving']\n",
        "X_train, X_test, y_train, y_test = train_test_split(X,y,random_state=42)"
      ],
      "metadata": {
        "id": "x9suCCO1Gv2L"
      },
      "execution_count": 24,
      "outputs": []
    },
    {
      "cell_type": "markdown",
      "source": [
        "####**4) Crear los selectores de columnas categóricas y numéricas**"
      ],
      "metadata": {
        "id": "voMHbiOxHIlX"
      }
    },
    {
      "cell_type": "code",
      "source": [
        "numeric_selector = make_column_selector(dtype_include='number')\n",
        "category_selector = make_column_selector(dtype_include='object')"
      ],
      "metadata": {
        "id": "kml3dKLGHEqw"
      },
      "execution_count": 25,
      "outputs": []
    },
    {
      "cell_type": "markdown",
      "source": [
        "####**5) Instanciar los transformadores numérico y categórico**"
      ],
      "metadata": {
        "id": "0ytG0SnsHlvU"
      }
    },
    {
      "cell_type": "markdown",
      "source": [
        "**Transformadores para los IMPUTER**"
      ],
      "metadata": {
        "id": "6EVT5D_xHppO"
      }
    },
    {
      "cell_type": "code",
      "source": [
        "#Dado que no hay datos faltantes en los datos numéricos de tipo entero, el imputador a usar seré la media\n",
        "imputer_numeric_flotat = SimpleImputer(strategy='mean')\n",
        "imputer_object_frequente = SimpleImputer(strategy='most_frequent')"
      ],
      "metadata": {
        "id": "9lZtoN9eHWB_"
      },
      "execution_count": 26,
      "outputs": []
    },
    {
      "cell_type": "markdown",
      "source": [
        "**Transformador de escala - Escalador**"
      ],
      "metadata": {
        "id": "WHjn0ZtNH_3m"
      }
    },
    {
      "cell_type": "code",
      "source": [
        "scaler = StandardScaler()"
      ],
      "metadata": {
        "id": "bum7KAooIAbG"
      },
      "execution_count": 27,
      "outputs": []
    },
    {
      "cell_type": "markdown",
      "source": [
        "**Tranformador para datos categóricos OneHotEncoder**"
      ],
      "metadata": {
        "id": "hPTGSNv9IDw0"
      }
    },
    {
      "cell_type": "code",
      "source": [
        "ohe = OneHotEncoder(handle_unknown='ignore',sparse=False)"
      ],
      "metadata": {
        "id": "FVZuGaZlIIHG"
      },
      "execution_count": 28,
      "outputs": []
    },
    {
      "cell_type": "markdown",
      "source": [
        "####**6) Crear/instanciar los PIPELINES a usar**"
      ],
      "metadata": {
        "id": "MSgjGwJ-ITCM"
      }
    },
    {
      "cell_type": "markdown",
      "source": [
        "**pipeline numérico**"
      ],
      "metadata": {
        "id": "-HP2k6pRIW8U"
      }
    },
    {
      "cell_type": "code",
      "source": [
        "numeric_pipe = make_pipeline(imputer_numeric_flotat,scaler) #Reciben un imputador y un transformador\n",
        "numeric_pipe"
      ],
      "metadata": {
        "colab": {
          "base_uri": "https://localhost:8080/",
          "height": 126
        },
        "id": "55Xcxo9sIZ-9",
        "outputId": "420b8ffa-6905-46ca-b0c3-5e0d7d9f66c4"
      },
      "execution_count": 29,
      "outputs": [
        {
          "output_type": "execute_result",
          "data": {
            "text/plain": [
              "Pipeline(steps=[('simpleimputer', SimpleImputer()),\n",
              "                ('standardscaler', StandardScaler())])"
            ],
            "text/html": [
              "<style>#sk-9a819d65-3fba-477b-a3f3-265147cb8def {color: black;background-color: white;}#sk-9a819d65-3fba-477b-a3f3-265147cb8def pre{padding: 0;}#sk-9a819d65-3fba-477b-a3f3-265147cb8def div.sk-toggleable {background-color: white;}#sk-9a819d65-3fba-477b-a3f3-265147cb8def label.sk-toggleable__label {cursor: pointer;display: block;width: 100%;margin-bottom: 0;padding: 0.3em;box-sizing: border-box;text-align: center;}#sk-9a819d65-3fba-477b-a3f3-265147cb8def label.sk-toggleable__label-arrow:before {content: \"▸\";float: left;margin-right: 0.25em;color: #696969;}#sk-9a819d65-3fba-477b-a3f3-265147cb8def label.sk-toggleable__label-arrow:hover:before {color: black;}#sk-9a819d65-3fba-477b-a3f3-265147cb8def div.sk-estimator:hover label.sk-toggleable__label-arrow:before {color: black;}#sk-9a819d65-3fba-477b-a3f3-265147cb8def div.sk-toggleable__content {max-height: 0;max-width: 0;overflow: hidden;text-align: left;background-color: #f0f8ff;}#sk-9a819d65-3fba-477b-a3f3-265147cb8def div.sk-toggleable__content pre {margin: 0.2em;color: black;border-radius: 0.25em;background-color: #f0f8ff;}#sk-9a819d65-3fba-477b-a3f3-265147cb8def input.sk-toggleable__control:checked~div.sk-toggleable__content {max-height: 200px;max-width: 100%;overflow: auto;}#sk-9a819d65-3fba-477b-a3f3-265147cb8def input.sk-toggleable__control:checked~label.sk-toggleable__label-arrow:before {content: \"▾\";}#sk-9a819d65-3fba-477b-a3f3-265147cb8def div.sk-estimator input.sk-toggleable__control:checked~label.sk-toggleable__label {background-color: #d4ebff;}#sk-9a819d65-3fba-477b-a3f3-265147cb8def div.sk-label input.sk-toggleable__control:checked~label.sk-toggleable__label {background-color: #d4ebff;}#sk-9a819d65-3fba-477b-a3f3-265147cb8def input.sk-hidden--visually {border: 0;clip: rect(1px 1px 1px 1px);clip: rect(1px, 1px, 1px, 1px);height: 1px;margin: -1px;overflow: hidden;padding: 0;position: absolute;width: 1px;}#sk-9a819d65-3fba-477b-a3f3-265147cb8def div.sk-estimator {font-family: monospace;background-color: #f0f8ff;border: 1px dotted black;border-radius: 0.25em;box-sizing: border-box;margin-bottom: 0.5em;}#sk-9a819d65-3fba-477b-a3f3-265147cb8def div.sk-estimator:hover {background-color: #d4ebff;}#sk-9a819d65-3fba-477b-a3f3-265147cb8def div.sk-parallel-item::after {content: \"\";width: 100%;border-bottom: 1px solid gray;flex-grow: 1;}#sk-9a819d65-3fba-477b-a3f3-265147cb8def div.sk-label:hover label.sk-toggleable__label {background-color: #d4ebff;}#sk-9a819d65-3fba-477b-a3f3-265147cb8def div.sk-serial::before {content: \"\";position: absolute;border-left: 1px solid gray;box-sizing: border-box;top: 2em;bottom: 0;left: 50%;}#sk-9a819d65-3fba-477b-a3f3-265147cb8def div.sk-serial {display: flex;flex-direction: column;align-items: center;background-color: white;padding-right: 0.2em;padding-left: 0.2em;}#sk-9a819d65-3fba-477b-a3f3-265147cb8def div.sk-item {z-index: 1;}#sk-9a819d65-3fba-477b-a3f3-265147cb8def div.sk-parallel {display: flex;align-items: stretch;justify-content: center;background-color: white;}#sk-9a819d65-3fba-477b-a3f3-265147cb8def div.sk-parallel::before {content: \"\";position: absolute;border-left: 1px solid gray;box-sizing: border-box;top: 2em;bottom: 0;left: 50%;}#sk-9a819d65-3fba-477b-a3f3-265147cb8def div.sk-parallel-item {display: flex;flex-direction: column;position: relative;background-color: white;}#sk-9a819d65-3fba-477b-a3f3-265147cb8def div.sk-parallel-item:first-child::after {align-self: flex-end;width: 50%;}#sk-9a819d65-3fba-477b-a3f3-265147cb8def div.sk-parallel-item:last-child::after {align-self: flex-start;width: 50%;}#sk-9a819d65-3fba-477b-a3f3-265147cb8def div.sk-parallel-item:only-child::after {width: 0;}#sk-9a819d65-3fba-477b-a3f3-265147cb8def div.sk-dashed-wrapped {border: 1px dashed gray;margin: 0 0.4em 0.5em 0.4em;box-sizing: border-box;padding-bottom: 0.4em;background-color: white;position: relative;}#sk-9a819d65-3fba-477b-a3f3-265147cb8def div.sk-label label {font-family: monospace;font-weight: bold;background-color: white;display: inline-block;line-height: 1.2em;}#sk-9a819d65-3fba-477b-a3f3-265147cb8def div.sk-label-container {position: relative;z-index: 2;text-align: center;}#sk-9a819d65-3fba-477b-a3f3-265147cb8def div.sk-container {/* jupyter's `normalize.less` sets `[hidden] { display: none; }` but bootstrap.min.css set `[hidden] { display: none !important; }` so we also need the `!important` here to be able to override the default hidden behavior on the sphinx rendered scikit-learn.org. See: https://github.com/scikit-learn/scikit-learn/issues/21755 */display: inline-block !important;position: relative;}#sk-9a819d65-3fba-477b-a3f3-265147cb8def div.sk-text-repr-fallback {display: none;}</style><div id=\"sk-9a819d65-3fba-477b-a3f3-265147cb8def\" class=\"sk-top-container\"><div class=\"sk-text-repr-fallback\"><pre>Pipeline(steps=[(&#x27;simpleimputer&#x27;, SimpleImputer()),\n",
              "                (&#x27;standardscaler&#x27;, StandardScaler())])</pre><b>Please rerun this cell to show the HTML repr or trust the notebook.</b></div><div class=\"sk-container\" hidden><div class=\"sk-item sk-dashed-wrapped\"><div class=\"sk-label-container\"><div class=\"sk-label sk-toggleable\"><input class=\"sk-toggleable__control sk-hidden--visually\" id=\"0987b02c-fb29-443f-b041-8b87ec2c6b68\" type=\"checkbox\" ><label for=\"0987b02c-fb29-443f-b041-8b87ec2c6b68\" class=\"sk-toggleable__label sk-toggleable__label-arrow\">Pipeline</label><div class=\"sk-toggleable__content\"><pre>Pipeline(steps=[(&#x27;simpleimputer&#x27;, SimpleImputer()),\n",
              "                (&#x27;standardscaler&#x27;, StandardScaler())])</pre></div></div></div><div class=\"sk-serial\"><div class=\"sk-item\"><div class=\"sk-estimator sk-toggleable\"><input class=\"sk-toggleable__control sk-hidden--visually\" id=\"853a8d67-94a2-4a44-99c1-45d31ff4451c\" type=\"checkbox\" ><label for=\"853a8d67-94a2-4a44-99c1-45d31ff4451c\" class=\"sk-toggleable__label sk-toggleable__label-arrow\">SimpleImputer</label><div class=\"sk-toggleable__content\"><pre>SimpleImputer()</pre></div></div></div><div class=\"sk-item\"><div class=\"sk-estimator sk-toggleable\"><input class=\"sk-toggleable__control sk-hidden--visually\" id=\"54365126-f60f-49d7-a6f8-f9f428a5cf01\" type=\"checkbox\" ><label for=\"54365126-f60f-49d7-a6f8-f9f428a5cf01\" class=\"sk-toggleable__label sk-toggleable__label-arrow\">StandardScaler</label><div class=\"sk-toggleable__content\"><pre>StandardScaler()</pre></div></div></div></div></div></div></div>"
            ]
          },
          "metadata": {},
          "execution_count": 29
        }
      ]
    },
    {
      "cell_type": "markdown",
      "source": [
        "**pipeline categórico**"
      ],
      "metadata": {
        "id": "rkl-spRCI1b1"
      }
    },
    {
      "cell_type": "code",
      "source": [
        "category_pipe = make_pipeline(imputer_object_frequente, ohe) #Recibe un imputador y una transformador \n",
        "category_pipe"
      ],
      "metadata": {
        "colab": {
          "base_uri": "https://localhost:8080/",
          "height": 126
        },
        "id": "WrZjOtHYI3gF",
        "outputId": "0cd7d1ae-3ebc-4626-842b-e725cad35f35"
      },
      "execution_count": 30,
      "outputs": [
        {
          "output_type": "execute_result",
          "data": {
            "text/plain": [
              "Pipeline(steps=[('simpleimputer', SimpleImputer(strategy='most_frequent')),\n",
              "                ('onehotencoder',\n",
              "                 OneHotEncoder(handle_unknown='ignore', sparse=False))])"
            ],
            "text/html": [
              "<style>#sk-06e9f14a-e286-4e96-8481-15d477d96a5a {color: black;background-color: white;}#sk-06e9f14a-e286-4e96-8481-15d477d96a5a pre{padding: 0;}#sk-06e9f14a-e286-4e96-8481-15d477d96a5a div.sk-toggleable {background-color: white;}#sk-06e9f14a-e286-4e96-8481-15d477d96a5a label.sk-toggleable__label {cursor: pointer;display: block;width: 100%;margin-bottom: 0;padding: 0.3em;box-sizing: border-box;text-align: center;}#sk-06e9f14a-e286-4e96-8481-15d477d96a5a label.sk-toggleable__label-arrow:before {content: \"▸\";float: left;margin-right: 0.25em;color: #696969;}#sk-06e9f14a-e286-4e96-8481-15d477d96a5a label.sk-toggleable__label-arrow:hover:before {color: black;}#sk-06e9f14a-e286-4e96-8481-15d477d96a5a div.sk-estimator:hover label.sk-toggleable__label-arrow:before {color: black;}#sk-06e9f14a-e286-4e96-8481-15d477d96a5a div.sk-toggleable__content {max-height: 0;max-width: 0;overflow: hidden;text-align: left;background-color: #f0f8ff;}#sk-06e9f14a-e286-4e96-8481-15d477d96a5a div.sk-toggleable__content pre {margin: 0.2em;color: black;border-radius: 0.25em;background-color: #f0f8ff;}#sk-06e9f14a-e286-4e96-8481-15d477d96a5a input.sk-toggleable__control:checked~div.sk-toggleable__content {max-height: 200px;max-width: 100%;overflow: auto;}#sk-06e9f14a-e286-4e96-8481-15d477d96a5a input.sk-toggleable__control:checked~label.sk-toggleable__label-arrow:before {content: \"▾\";}#sk-06e9f14a-e286-4e96-8481-15d477d96a5a div.sk-estimator input.sk-toggleable__control:checked~label.sk-toggleable__label {background-color: #d4ebff;}#sk-06e9f14a-e286-4e96-8481-15d477d96a5a div.sk-label input.sk-toggleable__control:checked~label.sk-toggleable__label {background-color: #d4ebff;}#sk-06e9f14a-e286-4e96-8481-15d477d96a5a input.sk-hidden--visually {border: 0;clip: rect(1px 1px 1px 1px);clip: rect(1px, 1px, 1px, 1px);height: 1px;margin: -1px;overflow: hidden;padding: 0;position: absolute;width: 1px;}#sk-06e9f14a-e286-4e96-8481-15d477d96a5a div.sk-estimator {font-family: monospace;background-color: #f0f8ff;border: 1px dotted black;border-radius: 0.25em;box-sizing: border-box;margin-bottom: 0.5em;}#sk-06e9f14a-e286-4e96-8481-15d477d96a5a div.sk-estimator:hover {background-color: #d4ebff;}#sk-06e9f14a-e286-4e96-8481-15d477d96a5a div.sk-parallel-item::after {content: \"\";width: 100%;border-bottom: 1px solid gray;flex-grow: 1;}#sk-06e9f14a-e286-4e96-8481-15d477d96a5a div.sk-label:hover label.sk-toggleable__label {background-color: #d4ebff;}#sk-06e9f14a-e286-4e96-8481-15d477d96a5a div.sk-serial::before {content: \"\";position: absolute;border-left: 1px solid gray;box-sizing: border-box;top: 2em;bottom: 0;left: 50%;}#sk-06e9f14a-e286-4e96-8481-15d477d96a5a div.sk-serial {display: flex;flex-direction: column;align-items: center;background-color: white;padding-right: 0.2em;padding-left: 0.2em;}#sk-06e9f14a-e286-4e96-8481-15d477d96a5a div.sk-item {z-index: 1;}#sk-06e9f14a-e286-4e96-8481-15d477d96a5a div.sk-parallel {display: flex;align-items: stretch;justify-content: center;background-color: white;}#sk-06e9f14a-e286-4e96-8481-15d477d96a5a div.sk-parallel::before {content: \"\";position: absolute;border-left: 1px solid gray;box-sizing: border-box;top: 2em;bottom: 0;left: 50%;}#sk-06e9f14a-e286-4e96-8481-15d477d96a5a div.sk-parallel-item {display: flex;flex-direction: column;position: relative;background-color: white;}#sk-06e9f14a-e286-4e96-8481-15d477d96a5a div.sk-parallel-item:first-child::after {align-self: flex-end;width: 50%;}#sk-06e9f14a-e286-4e96-8481-15d477d96a5a div.sk-parallel-item:last-child::after {align-self: flex-start;width: 50%;}#sk-06e9f14a-e286-4e96-8481-15d477d96a5a div.sk-parallel-item:only-child::after {width: 0;}#sk-06e9f14a-e286-4e96-8481-15d477d96a5a div.sk-dashed-wrapped {border: 1px dashed gray;margin: 0 0.4em 0.5em 0.4em;box-sizing: border-box;padding-bottom: 0.4em;background-color: white;position: relative;}#sk-06e9f14a-e286-4e96-8481-15d477d96a5a div.sk-label label {font-family: monospace;font-weight: bold;background-color: white;display: inline-block;line-height: 1.2em;}#sk-06e9f14a-e286-4e96-8481-15d477d96a5a div.sk-label-container {position: relative;z-index: 2;text-align: center;}#sk-06e9f14a-e286-4e96-8481-15d477d96a5a div.sk-container {/* jupyter's `normalize.less` sets `[hidden] { display: none; }` but bootstrap.min.css set `[hidden] { display: none !important; }` so we also need the `!important` here to be able to override the default hidden behavior on the sphinx rendered scikit-learn.org. See: https://github.com/scikit-learn/scikit-learn/issues/21755 */display: inline-block !important;position: relative;}#sk-06e9f14a-e286-4e96-8481-15d477d96a5a div.sk-text-repr-fallback {display: none;}</style><div id=\"sk-06e9f14a-e286-4e96-8481-15d477d96a5a\" class=\"sk-top-container\"><div class=\"sk-text-repr-fallback\"><pre>Pipeline(steps=[(&#x27;simpleimputer&#x27;, SimpleImputer(strategy=&#x27;most_frequent&#x27;)),\n",
              "                (&#x27;onehotencoder&#x27;,\n",
              "                 OneHotEncoder(handle_unknown=&#x27;ignore&#x27;, sparse=False))])</pre><b>Please rerun this cell to show the HTML repr or trust the notebook.</b></div><div class=\"sk-container\" hidden><div class=\"sk-item sk-dashed-wrapped\"><div class=\"sk-label-container\"><div class=\"sk-label sk-toggleable\"><input class=\"sk-toggleable__control sk-hidden--visually\" id=\"3812944c-8e89-4901-a72e-5ebec9b85c56\" type=\"checkbox\" ><label for=\"3812944c-8e89-4901-a72e-5ebec9b85c56\" class=\"sk-toggleable__label sk-toggleable__label-arrow\">Pipeline</label><div class=\"sk-toggleable__content\"><pre>Pipeline(steps=[(&#x27;simpleimputer&#x27;, SimpleImputer(strategy=&#x27;most_frequent&#x27;)),\n",
              "                (&#x27;onehotencoder&#x27;,\n",
              "                 OneHotEncoder(handle_unknown=&#x27;ignore&#x27;, sparse=False))])</pre></div></div></div><div class=\"sk-serial\"><div class=\"sk-item\"><div class=\"sk-estimator sk-toggleable\"><input class=\"sk-toggleable__control sk-hidden--visually\" id=\"cf3e1d34-55bb-4e30-bafc-f81b2b8bd7a4\" type=\"checkbox\" ><label for=\"cf3e1d34-55bb-4e30-bafc-f81b2b8bd7a4\" class=\"sk-toggleable__label sk-toggleable__label-arrow\">SimpleImputer</label><div class=\"sk-toggleable__content\"><pre>SimpleImputer(strategy=&#x27;most_frequent&#x27;)</pre></div></div></div><div class=\"sk-item\"><div class=\"sk-estimator sk-toggleable\"><input class=\"sk-toggleable__control sk-hidden--visually\" id=\"2ec050ca-f460-4829-a376-1f3a30c62284\" type=\"checkbox\" ><label for=\"2ec050ca-f460-4829-a376-1f3a30c62284\" class=\"sk-toggleable__label sk-toggleable__label-arrow\">OneHotEncoder</label><div class=\"sk-toggleable__content\"><pre>OneHotEncoder(handle_unknown=&#x27;ignore&#x27;, sparse=False)</pre></div></div></div></div></div></div></div>"
            ]
          },
          "metadata": {},
          "execution_count": 30
        }
      ]
    },
    {
      "cell_type": "markdown",
      "source": [
        "####**7) Instanciar ColumnTransformer**"
      ],
      "metadata": {
        "id": "n1gs7EODJIAp"
      }
    },
    {
      "cell_type": "markdown",
      "source": [
        "**Tupla para ColumnTransformer categórico**"
      ],
      "metadata": {
        "id": "pR35OIERJb4U"
      }
    },
    {
      "cell_type": "code",
      "source": [
        "category_tuple = (category_pipe, category_selector) #Recibe un pipeline y un selector de columnas\n",
        "category_tuple"
      ],
      "metadata": {
        "colab": {
          "base_uri": "https://localhost:8080/"
        },
        "id": "ms1FIQgdJU0F",
        "outputId": "fafa3b83-8fe6-4a80-df36-8bcc1a4b332a"
      },
      "execution_count": 31,
      "outputs": [
        {
          "output_type": "execute_result",
          "data": {
            "text/plain": [
              "(Pipeline(steps=[('simpleimputer', SimpleImputer(strategy='most_frequent')),\n",
              "                 ('onehotencoder',\n",
              "                  OneHotEncoder(handle_unknown='ignore', sparse=False))]),\n",
              " <sklearn.compose._column_transformer.make_column_selector at 0x7f4020858710>)"
            ]
          },
          "metadata": {},
          "execution_count": 31
        }
      ]
    },
    {
      "cell_type": "markdown",
      "source": [
        "**Tupla para ColumnTransformer numérico**"
      ],
      "metadata": {
        "id": "bHiMC3dtJtYg"
      }
    },
    {
      "cell_type": "code",
      "source": [
        "numeric_tuple = (numeric_pipe, numeric_selector) #Recibe un pipeline y el selector de columnas numéricas\n",
        "numeric_tuple"
      ],
      "metadata": {
        "colab": {
          "base_uri": "https://localhost:8080/"
        },
        "id": "tW7et7udJuJD",
        "outputId": "1a5c58da-0dfc-49e6-e1e5-df4dfabb28d1"
      },
      "execution_count": 32,
      "outputs": [
        {
          "output_type": "execute_result",
          "data": {
            "text/plain": [
              "(Pipeline(steps=[('simpleimputer', SimpleImputer()),\n",
              "                 ('standardscaler', StandardScaler())]),\n",
              " <sklearn.compose._column_transformer.make_column_selector at 0x7f40208a0950>)"
            ]
          },
          "metadata": {},
          "execution_count": 32
        }
      ]
    },
    {
      "cell_type": "markdown",
      "source": [
        "**CREAMOS EL COLUMNTRANSFORMER**"
      ],
      "metadata": {
        "id": "5kh3MlHXJ_An"
      }
    },
    {
      "cell_type": "code",
      "source": [
        "preprocessed = make_column_transformer(numeric_tuple,category_tuple,remainder='passthrough') #Recibe las tuplas categóricas, numérica y una acción para los datos que no están allí contenidos\n",
        "preprocessed"
      ],
      "metadata": {
        "colab": {
          "base_uri": "https://localhost:8080/",
          "height": 153
        },
        "id": "NbSv8-HuKBb8",
        "outputId": "28e8730a-ae36-46c7-f703-06eebfd5a9f9"
      },
      "execution_count": 33,
      "outputs": [
        {
          "output_type": "execute_result",
          "data": {
            "text/plain": [
              "ColumnTransformer(remainder='passthrough',\n",
              "                  transformers=[('pipeline-1',\n",
              "                                 Pipeline(steps=[('simpleimputer',\n",
              "                                                  SimpleImputer()),\n",
              "                                                 ('standardscaler',\n",
              "                                                  StandardScaler())]),\n",
              "                                 <sklearn.compose._column_transformer.make_column_selector object at 0x7f40208a0950>),\n",
              "                                ('pipeline-2',\n",
              "                                 Pipeline(steps=[('simpleimputer',\n",
              "                                                  SimpleImputer(strategy='most_frequent')),\n",
              "                                                 ('onehotencoder',\n",
              "                                                  OneHotEncoder(handle_unknown='ignore',\n",
              "                                                                sparse=False))]),\n",
              "                                 <sklearn.compose._column_transformer.make_column_selector object at 0x7f4020858710>)])"
            ],
            "text/html": [
              "<style>#sk-a9075015-efb8-4fec-b4f2-f06a54c846fa {color: black;background-color: white;}#sk-a9075015-efb8-4fec-b4f2-f06a54c846fa pre{padding: 0;}#sk-a9075015-efb8-4fec-b4f2-f06a54c846fa div.sk-toggleable {background-color: white;}#sk-a9075015-efb8-4fec-b4f2-f06a54c846fa label.sk-toggleable__label {cursor: pointer;display: block;width: 100%;margin-bottom: 0;padding: 0.3em;box-sizing: border-box;text-align: center;}#sk-a9075015-efb8-4fec-b4f2-f06a54c846fa label.sk-toggleable__label-arrow:before {content: \"▸\";float: left;margin-right: 0.25em;color: #696969;}#sk-a9075015-efb8-4fec-b4f2-f06a54c846fa label.sk-toggleable__label-arrow:hover:before {color: black;}#sk-a9075015-efb8-4fec-b4f2-f06a54c846fa div.sk-estimator:hover label.sk-toggleable__label-arrow:before {color: black;}#sk-a9075015-efb8-4fec-b4f2-f06a54c846fa div.sk-toggleable__content {max-height: 0;max-width: 0;overflow: hidden;text-align: left;background-color: #f0f8ff;}#sk-a9075015-efb8-4fec-b4f2-f06a54c846fa div.sk-toggleable__content pre {margin: 0.2em;color: black;border-radius: 0.25em;background-color: #f0f8ff;}#sk-a9075015-efb8-4fec-b4f2-f06a54c846fa input.sk-toggleable__control:checked~div.sk-toggleable__content {max-height: 200px;max-width: 100%;overflow: auto;}#sk-a9075015-efb8-4fec-b4f2-f06a54c846fa input.sk-toggleable__control:checked~label.sk-toggleable__label-arrow:before {content: \"▾\";}#sk-a9075015-efb8-4fec-b4f2-f06a54c846fa div.sk-estimator input.sk-toggleable__control:checked~label.sk-toggleable__label {background-color: #d4ebff;}#sk-a9075015-efb8-4fec-b4f2-f06a54c846fa div.sk-label input.sk-toggleable__control:checked~label.sk-toggleable__label {background-color: #d4ebff;}#sk-a9075015-efb8-4fec-b4f2-f06a54c846fa input.sk-hidden--visually {border: 0;clip: rect(1px 1px 1px 1px);clip: rect(1px, 1px, 1px, 1px);height: 1px;margin: -1px;overflow: hidden;padding: 0;position: absolute;width: 1px;}#sk-a9075015-efb8-4fec-b4f2-f06a54c846fa div.sk-estimator {font-family: monospace;background-color: #f0f8ff;border: 1px dotted black;border-radius: 0.25em;box-sizing: border-box;margin-bottom: 0.5em;}#sk-a9075015-efb8-4fec-b4f2-f06a54c846fa div.sk-estimator:hover {background-color: #d4ebff;}#sk-a9075015-efb8-4fec-b4f2-f06a54c846fa div.sk-parallel-item::after {content: \"\";width: 100%;border-bottom: 1px solid gray;flex-grow: 1;}#sk-a9075015-efb8-4fec-b4f2-f06a54c846fa div.sk-label:hover label.sk-toggleable__label {background-color: #d4ebff;}#sk-a9075015-efb8-4fec-b4f2-f06a54c846fa div.sk-serial::before {content: \"\";position: absolute;border-left: 1px solid gray;box-sizing: border-box;top: 2em;bottom: 0;left: 50%;}#sk-a9075015-efb8-4fec-b4f2-f06a54c846fa div.sk-serial {display: flex;flex-direction: column;align-items: center;background-color: white;padding-right: 0.2em;padding-left: 0.2em;}#sk-a9075015-efb8-4fec-b4f2-f06a54c846fa div.sk-item {z-index: 1;}#sk-a9075015-efb8-4fec-b4f2-f06a54c846fa div.sk-parallel {display: flex;align-items: stretch;justify-content: center;background-color: white;}#sk-a9075015-efb8-4fec-b4f2-f06a54c846fa div.sk-parallel::before {content: \"\";position: absolute;border-left: 1px solid gray;box-sizing: border-box;top: 2em;bottom: 0;left: 50%;}#sk-a9075015-efb8-4fec-b4f2-f06a54c846fa div.sk-parallel-item {display: flex;flex-direction: column;position: relative;background-color: white;}#sk-a9075015-efb8-4fec-b4f2-f06a54c846fa div.sk-parallel-item:first-child::after {align-self: flex-end;width: 50%;}#sk-a9075015-efb8-4fec-b4f2-f06a54c846fa div.sk-parallel-item:last-child::after {align-self: flex-start;width: 50%;}#sk-a9075015-efb8-4fec-b4f2-f06a54c846fa div.sk-parallel-item:only-child::after {width: 0;}#sk-a9075015-efb8-4fec-b4f2-f06a54c846fa div.sk-dashed-wrapped {border: 1px dashed gray;margin: 0 0.4em 0.5em 0.4em;box-sizing: border-box;padding-bottom: 0.4em;background-color: white;position: relative;}#sk-a9075015-efb8-4fec-b4f2-f06a54c846fa div.sk-label label {font-family: monospace;font-weight: bold;background-color: white;display: inline-block;line-height: 1.2em;}#sk-a9075015-efb8-4fec-b4f2-f06a54c846fa div.sk-label-container {position: relative;z-index: 2;text-align: center;}#sk-a9075015-efb8-4fec-b4f2-f06a54c846fa div.sk-container {/* jupyter's `normalize.less` sets `[hidden] { display: none; }` but bootstrap.min.css set `[hidden] { display: none !important; }` so we also need the `!important` here to be able to override the default hidden behavior on the sphinx rendered scikit-learn.org. See: https://github.com/scikit-learn/scikit-learn/issues/21755 */display: inline-block !important;position: relative;}#sk-a9075015-efb8-4fec-b4f2-f06a54c846fa div.sk-text-repr-fallback {display: none;}</style><div id=\"sk-a9075015-efb8-4fec-b4f2-f06a54c846fa\" class=\"sk-top-container\"><div class=\"sk-text-repr-fallback\"><pre>ColumnTransformer(remainder=&#x27;passthrough&#x27;,\n",
              "                  transformers=[(&#x27;pipeline-1&#x27;,\n",
              "                                 Pipeline(steps=[(&#x27;simpleimputer&#x27;,\n",
              "                                                  SimpleImputer()),\n",
              "                                                 (&#x27;standardscaler&#x27;,\n",
              "                                                  StandardScaler())]),\n",
              "                                 &lt;sklearn.compose._column_transformer.make_column_selector object at 0x7f40208a0950&gt;),\n",
              "                                (&#x27;pipeline-2&#x27;,\n",
              "                                 Pipeline(steps=[(&#x27;simpleimputer&#x27;,\n",
              "                                                  SimpleImputer(strategy=&#x27;most_frequent&#x27;)),\n",
              "                                                 (&#x27;onehotencoder&#x27;,\n",
              "                                                  OneHotEncoder(handle_unknown=&#x27;ignore&#x27;,\n",
              "                                                                sparse=False))]),\n",
              "                                 &lt;sklearn.compose._column_transformer.make_column_selector object at 0x7f4020858710&gt;)])</pre><b>Please rerun this cell to show the HTML repr or trust the notebook.</b></div><div class=\"sk-container\" hidden><div class=\"sk-item sk-dashed-wrapped\"><div class=\"sk-label-container\"><div class=\"sk-label sk-toggleable\"><input class=\"sk-toggleable__control sk-hidden--visually\" id=\"c08d8c50-456c-4083-9722-6cc4834c753a\" type=\"checkbox\" ><label for=\"c08d8c50-456c-4083-9722-6cc4834c753a\" class=\"sk-toggleable__label sk-toggleable__label-arrow\">ColumnTransformer</label><div class=\"sk-toggleable__content\"><pre>ColumnTransformer(remainder=&#x27;passthrough&#x27;,\n",
              "                  transformers=[(&#x27;pipeline-1&#x27;,\n",
              "                                 Pipeline(steps=[(&#x27;simpleimputer&#x27;,\n",
              "                                                  SimpleImputer()),\n",
              "                                                 (&#x27;standardscaler&#x27;,\n",
              "                                                  StandardScaler())]),\n",
              "                                 &lt;sklearn.compose._column_transformer.make_column_selector object at 0x7f40208a0950&gt;),\n",
              "                                (&#x27;pipeline-2&#x27;,\n",
              "                                 Pipeline(steps=[(&#x27;simpleimputer&#x27;,\n",
              "                                                  SimpleImputer(strategy=&#x27;most_frequent&#x27;)),\n",
              "                                                 (&#x27;onehotencoder&#x27;,\n",
              "                                                  OneHotEncoder(handle_unknown=&#x27;ignore&#x27;,\n",
              "                                                                sparse=False))]),\n",
              "                                 &lt;sklearn.compose._column_transformer.make_column_selector object at 0x7f4020858710&gt;)])</pre></div></div></div><div class=\"sk-parallel\"><div class=\"sk-parallel-item\"><div class=\"sk-item\"><div class=\"sk-label-container\"><div class=\"sk-label sk-toggleable\"><input class=\"sk-toggleable__control sk-hidden--visually\" id=\"b6c36717-c10f-40b1-8934-378b92a61e01\" type=\"checkbox\" ><label for=\"b6c36717-c10f-40b1-8934-378b92a61e01\" class=\"sk-toggleable__label sk-toggleable__label-arrow\">pipeline-1</label><div class=\"sk-toggleable__content\"><pre>&lt;sklearn.compose._column_transformer.make_column_selector object at 0x7f40208a0950&gt;</pre></div></div></div><div class=\"sk-serial\"><div class=\"sk-item\"><div class=\"sk-serial\"><div class=\"sk-item\"><div class=\"sk-estimator sk-toggleable\"><input class=\"sk-toggleable__control sk-hidden--visually\" id=\"18967ebf-8ebd-4760-8f90-e81bc83b338e\" type=\"checkbox\" ><label for=\"18967ebf-8ebd-4760-8f90-e81bc83b338e\" class=\"sk-toggleable__label sk-toggleable__label-arrow\">SimpleImputer</label><div class=\"sk-toggleable__content\"><pre>SimpleImputer()</pre></div></div></div><div class=\"sk-item\"><div class=\"sk-estimator sk-toggleable\"><input class=\"sk-toggleable__control sk-hidden--visually\" id=\"0c63bd0f-8e87-4390-a6fd-d5c3ed5dc345\" type=\"checkbox\" ><label for=\"0c63bd0f-8e87-4390-a6fd-d5c3ed5dc345\" class=\"sk-toggleable__label sk-toggleable__label-arrow\">StandardScaler</label><div class=\"sk-toggleable__content\"><pre>StandardScaler()</pre></div></div></div></div></div></div></div></div><div class=\"sk-parallel-item\"><div class=\"sk-item\"><div class=\"sk-label-container\"><div class=\"sk-label sk-toggleable\"><input class=\"sk-toggleable__control sk-hidden--visually\" id=\"f09e4fa3-560c-43ce-bc6b-a9ac422bf234\" type=\"checkbox\" ><label for=\"f09e4fa3-560c-43ce-bc6b-a9ac422bf234\" class=\"sk-toggleable__label sk-toggleable__label-arrow\">pipeline-2</label><div class=\"sk-toggleable__content\"><pre>&lt;sklearn.compose._column_transformer.make_column_selector object at 0x7f4020858710&gt;</pre></div></div></div><div class=\"sk-serial\"><div class=\"sk-item\"><div class=\"sk-serial\"><div class=\"sk-item\"><div class=\"sk-estimator sk-toggleable\"><input class=\"sk-toggleable__control sk-hidden--visually\" id=\"eed20b11-e677-4bf6-aaff-ceea2aef9b22\" type=\"checkbox\" ><label for=\"eed20b11-e677-4bf6-aaff-ceea2aef9b22\" class=\"sk-toggleable__label sk-toggleable__label-arrow\">SimpleImputer</label><div class=\"sk-toggleable__content\"><pre>SimpleImputer(strategy=&#x27;most_frequent&#x27;)</pre></div></div></div><div class=\"sk-item\"><div class=\"sk-estimator sk-toggleable\"><input class=\"sk-toggleable__control sk-hidden--visually\" id=\"7f6cae50-ead4-40ab-a62d-a98e1e0f7429\" type=\"checkbox\" ><label for=\"7f6cae50-ead4-40ab-a62d-a98e1e0f7429\" class=\"sk-toggleable__label sk-toggleable__label-arrow\">OneHotEncoder</label><div class=\"sk-toggleable__content\"><pre>OneHotEncoder(handle_unknown=&#x27;ignore&#x27;, sparse=False)</pre></div></div></div></div></div></div></div></div><div class=\"sk-parallel-item\"><div class=\"sk-item\"><div class=\"sk-label-container\"><div class=\"sk-label sk-toggleable\"><input class=\"sk-toggleable__control sk-hidden--visually\" id=\"9c6387a1-556d-4229-91fc-65d3b6b0ba66\" type=\"checkbox\" ><label for=\"9c6387a1-556d-4229-91fc-65d3b6b0ba66\" class=\"sk-toggleable__label sk-toggleable__label-arrow\">remainder</label><div class=\"sk-toggleable__content\"><pre></pre></div></div></div><div class=\"sk-serial\"><div class=\"sk-item\"><div class=\"sk-estimator sk-toggleable\"><input class=\"sk-toggleable__control sk-hidden--visually\" id=\"5aba410e-5991-44f3-a024-c6a3fd6a82ae\" type=\"checkbox\" ><label for=\"5aba410e-5991-44f3-a024-c6a3fd6a82ae\" class=\"sk-toggleable__label sk-toggleable__label-arrow\">passthrough</label><div class=\"sk-toggleable__content\"><pre>passthrough</pre></div></div></div></div></div></div></div></div></div></div>"
            ]
          },
          "metadata": {},
          "execution_count": 33
        }
      ]
    },
    {
      "cell_type": "markdown",
      "source": [
        "####**8) Transformador de datos**"
      ],
      "metadata": {
        "id": "4L1122mQKbUJ"
      }
    },
    {
      "cell_type": "markdown",
      "source": [
        "**Ajustar la variable que contiene el ColumnTrasnformer con los datos de ENTRENAMIENTO**"
      ],
      "metadata": {
        "id": "GvXen_kpKfyc"
      }
    },
    {
      "cell_type": "code",
      "source": [
        "preprocessed.fit(X_train)"
      ],
      "metadata": {
        "colab": {
          "base_uri": "https://localhost:8080/",
          "height": 153
        },
        "id": "7AR0VLo-KpBz",
        "outputId": "35de72d5-a81d-4805-f476-1492aa78ffb5"
      },
      "execution_count": 34,
      "outputs": [
        {
          "output_type": "execute_result",
          "data": {
            "text/plain": [
              "ColumnTransformer(remainder='passthrough',\n",
              "                  transformers=[('pipeline-1',\n",
              "                                 Pipeline(steps=[('simpleimputer',\n",
              "                                                  SimpleImputer()),\n",
              "                                                 ('standardscaler',\n",
              "                                                  StandardScaler())]),\n",
              "                                 <sklearn.compose._column_transformer.make_column_selector object at 0x7f40208a0950>),\n",
              "                                ('pipeline-2',\n",
              "                                 Pipeline(steps=[('simpleimputer',\n",
              "                                                  SimpleImputer(strategy='most_frequent')),\n",
              "                                                 ('onehotencoder',\n",
              "                                                  OneHotEncoder(handle_unknown='ignore',\n",
              "                                                                sparse=False))]),\n",
              "                                 <sklearn.compose._column_transformer.make_column_selector object at 0x7f4020858710>)])"
            ],
            "text/html": [
              "<style>#sk-be74f4e4-70d8-49e5-b7ef-e7f1900a6683 {color: black;background-color: white;}#sk-be74f4e4-70d8-49e5-b7ef-e7f1900a6683 pre{padding: 0;}#sk-be74f4e4-70d8-49e5-b7ef-e7f1900a6683 div.sk-toggleable {background-color: white;}#sk-be74f4e4-70d8-49e5-b7ef-e7f1900a6683 label.sk-toggleable__label {cursor: pointer;display: block;width: 100%;margin-bottom: 0;padding: 0.3em;box-sizing: border-box;text-align: center;}#sk-be74f4e4-70d8-49e5-b7ef-e7f1900a6683 label.sk-toggleable__label-arrow:before {content: \"▸\";float: left;margin-right: 0.25em;color: #696969;}#sk-be74f4e4-70d8-49e5-b7ef-e7f1900a6683 label.sk-toggleable__label-arrow:hover:before {color: black;}#sk-be74f4e4-70d8-49e5-b7ef-e7f1900a6683 div.sk-estimator:hover label.sk-toggleable__label-arrow:before {color: black;}#sk-be74f4e4-70d8-49e5-b7ef-e7f1900a6683 div.sk-toggleable__content {max-height: 0;max-width: 0;overflow: hidden;text-align: left;background-color: #f0f8ff;}#sk-be74f4e4-70d8-49e5-b7ef-e7f1900a6683 div.sk-toggleable__content pre {margin: 0.2em;color: black;border-radius: 0.25em;background-color: #f0f8ff;}#sk-be74f4e4-70d8-49e5-b7ef-e7f1900a6683 input.sk-toggleable__control:checked~div.sk-toggleable__content {max-height: 200px;max-width: 100%;overflow: auto;}#sk-be74f4e4-70d8-49e5-b7ef-e7f1900a6683 input.sk-toggleable__control:checked~label.sk-toggleable__label-arrow:before {content: \"▾\";}#sk-be74f4e4-70d8-49e5-b7ef-e7f1900a6683 div.sk-estimator input.sk-toggleable__control:checked~label.sk-toggleable__label {background-color: #d4ebff;}#sk-be74f4e4-70d8-49e5-b7ef-e7f1900a6683 div.sk-label input.sk-toggleable__control:checked~label.sk-toggleable__label {background-color: #d4ebff;}#sk-be74f4e4-70d8-49e5-b7ef-e7f1900a6683 input.sk-hidden--visually {border: 0;clip: rect(1px 1px 1px 1px);clip: rect(1px, 1px, 1px, 1px);height: 1px;margin: -1px;overflow: hidden;padding: 0;position: absolute;width: 1px;}#sk-be74f4e4-70d8-49e5-b7ef-e7f1900a6683 div.sk-estimator {font-family: monospace;background-color: #f0f8ff;border: 1px dotted black;border-radius: 0.25em;box-sizing: border-box;margin-bottom: 0.5em;}#sk-be74f4e4-70d8-49e5-b7ef-e7f1900a6683 div.sk-estimator:hover {background-color: #d4ebff;}#sk-be74f4e4-70d8-49e5-b7ef-e7f1900a6683 div.sk-parallel-item::after {content: \"\";width: 100%;border-bottom: 1px solid gray;flex-grow: 1;}#sk-be74f4e4-70d8-49e5-b7ef-e7f1900a6683 div.sk-label:hover label.sk-toggleable__label {background-color: #d4ebff;}#sk-be74f4e4-70d8-49e5-b7ef-e7f1900a6683 div.sk-serial::before {content: \"\";position: absolute;border-left: 1px solid gray;box-sizing: border-box;top: 2em;bottom: 0;left: 50%;}#sk-be74f4e4-70d8-49e5-b7ef-e7f1900a6683 div.sk-serial {display: flex;flex-direction: column;align-items: center;background-color: white;padding-right: 0.2em;padding-left: 0.2em;}#sk-be74f4e4-70d8-49e5-b7ef-e7f1900a6683 div.sk-item {z-index: 1;}#sk-be74f4e4-70d8-49e5-b7ef-e7f1900a6683 div.sk-parallel {display: flex;align-items: stretch;justify-content: center;background-color: white;}#sk-be74f4e4-70d8-49e5-b7ef-e7f1900a6683 div.sk-parallel::before {content: \"\";position: absolute;border-left: 1px solid gray;box-sizing: border-box;top: 2em;bottom: 0;left: 50%;}#sk-be74f4e4-70d8-49e5-b7ef-e7f1900a6683 div.sk-parallel-item {display: flex;flex-direction: column;position: relative;background-color: white;}#sk-be74f4e4-70d8-49e5-b7ef-e7f1900a6683 div.sk-parallel-item:first-child::after {align-self: flex-end;width: 50%;}#sk-be74f4e4-70d8-49e5-b7ef-e7f1900a6683 div.sk-parallel-item:last-child::after {align-self: flex-start;width: 50%;}#sk-be74f4e4-70d8-49e5-b7ef-e7f1900a6683 div.sk-parallel-item:only-child::after {width: 0;}#sk-be74f4e4-70d8-49e5-b7ef-e7f1900a6683 div.sk-dashed-wrapped {border: 1px dashed gray;margin: 0 0.4em 0.5em 0.4em;box-sizing: border-box;padding-bottom: 0.4em;background-color: white;position: relative;}#sk-be74f4e4-70d8-49e5-b7ef-e7f1900a6683 div.sk-label label {font-family: monospace;font-weight: bold;background-color: white;display: inline-block;line-height: 1.2em;}#sk-be74f4e4-70d8-49e5-b7ef-e7f1900a6683 div.sk-label-container {position: relative;z-index: 2;text-align: center;}#sk-be74f4e4-70d8-49e5-b7ef-e7f1900a6683 div.sk-container {/* jupyter's `normalize.less` sets `[hidden] { display: none; }` but bootstrap.min.css set `[hidden] { display: none !important; }` so we also need the `!important` here to be able to override the default hidden behavior on the sphinx rendered scikit-learn.org. See: https://github.com/scikit-learn/scikit-learn/issues/21755 */display: inline-block !important;position: relative;}#sk-be74f4e4-70d8-49e5-b7ef-e7f1900a6683 div.sk-text-repr-fallback {display: none;}</style><div id=\"sk-be74f4e4-70d8-49e5-b7ef-e7f1900a6683\" class=\"sk-top-container\"><div class=\"sk-text-repr-fallback\"><pre>ColumnTransformer(remainder=&#x27;passthrough&#x27;,\n",
              "                  transformers=[(&#x27;pipeline-1&#x27;,\n",
              "                                 Pipeline(steps=[(&#x27;simpleimputer&#x27;,\n",
              "                                                  SimpleImputer()),\n",
              "                                                 (&#x27;standardscaler&#x27;,\n",
              "                                                  StandardScaler())]),\n",
              "                                 &lt;sklearn.compose._column_transformer.make_column_selector object at 0x7f40208a0950&gt;),\n",
              "                                (&#x27;pipeline-2&#x27;,\n",
              "                                 Pipeline(steps=[(&#x27;simpleimputer&#x27;,\n",
              "                                                  SimpleImputer(strategy=&#x27;most_frequent&#x27;)),\n",
              "                                                 (&#x27;onehotencoder&#x27;,\n",
              "                                                  OneHotEncoder(handle_unknown=&#x27;ignore&#x27;,\n",
              "                                                                sparse=False))]),\n",
              "                                 &lt;sklearn.compose._column_transformer.make_column_selector object at 0x7f4020858710&gt;)])</pre><b>Please rerun this cell to show the HTML repr or trust the notebook.</b></div><div class=\"sk-container\" hidden><div class=\"sk-item sk-dashed-wrapped\"><div class=\"sk-label-container\"><div class=\"sk-label sk-toggleable\"><input class=\"sk-toggleable__control sk-hidden--visually\" id=\"6380cea2-a534-4742-8be5-5855df7db621\" type=\"checkbox\" ><label for=\"6380cea2-a534-4742-8be5-5855df7db621\" class=\"sk-toggleable__label sk-toggleable__label-arrow\">ColumnTransformer</label><div class=\"sk-toggleable__content\"><pre>ColumnTransformer(remainder=&#x27;passthrough&#x27;,\n",
              "                  transformers=[(&#x27;pipeline-1&#x27;,\n",
              "                                 Pipeline(steps=[(&#x27;simpleimputer&#x27;,\n",
              "                                                  SimpleImputer()),\n",
              "                                                 (&#x27;standardscaler&#x27;,\n",
              "                                                  StandardScaler())]),\n",
              "                                 &lt;sklearn.compose._column_transformer.make_column_selector object at 0x7f40208a0950&gt;),\n",
              "                                (&#x27;pipeline-2&#x27;,\n",
              "                                 Pipeline(steps=[(&#x27;simpleimputer&#x27;,\n",
              "                                                  SimpleImputer(strategy=&#x27;most_frequent&#x27;)),\n",
              "                                                 (&#x27;onehotencoder&#x27;,\n",
              "                                                  OneHotEncoder(handle_unknown=&#x27;ignore&#x27;,\n",
              "                                                                sparse=False))]),\n",
              "                                 &lt;sklearn.compose._column_transformer.make_column_selector object at 0x7f4020858710&gt;)])</pre></div></div></div><div class=\"sk-parallel\"><div class=\"sk-parallel-item\"><div class=\"sk-item\"><div class=\"sk-label-container\"><div class=\"sk-label sk-toggleable\"><input class=\"sk-toggleable__control sk-hidden--visually\" id=\"95c7ceae-9909-4337-b42c-a989657c7e95\" type=\"checkbox\" ><label for=\"95c7ceae-9909-4337-b42c-a989657c7e95\" class=\"sk-toggleable__label sk-toggleable__label-arrow\">pipeline-1</label><div class=\"sk-toggleable__content\"><pre>&lt;sklearn.compose._column_transformer.make_column_selector object at 0x7f40208a0950&gt;</pre></div></div></div><div class=\"sk-serial\"><div class=\"sk-item\"><div class=\"sk-serial\"><div class=\"sk-item\"><div class=\"sk-estimator sk-toggleable\"><input class=\"sk-toggleable__control sk-hidden--visually\" id=\"f56aa405-85c1-4dca-bb01-42f942b07e6d\" type=\"checkbox\" ><label for=\"f56aa405-85c1-4dca-bb01-42f942b07e6d\" class=\"sk-toggleable__label sk-toggleable__label-arrow\">SimpleImputer</label><div class=\"sk-toggleable__content\"><pre>SimpleImputer()</pre></div></div></div><div class=\"sk-item\"><div class=\"sk-estimator sk-toggleable\"><input class=\"sk-toggleable__control sk-hidden--visually\" id=\"fdd11733-a3af-41c8-8115-3a3b4e0f8557\" type=\"checkbox\" ><label for=\"fdd11733-a3af-41c8-8115-3a3b4e0f8557\" class=\"sk-toggleable__label sk-toggleable__label-arrow\">StandardScaler</label><div class=\"sk-toggleable__content\"><pre>StandardScaler()</pre></div></div></div></div></div></div></div></div><div class=\"sk-parallel-item\"><div class=\"sk-item\"><div class=\"sk-label-container\"><div class=\"sk-label sk-toggleable\"><input class=\"sk-toggleable__control sk-hidden--visually\" id=\"53021563-06bf-4b60-8e63-d1f346454127\" type=\"checkbox\" ><label for=\"53021563-06bf-4b60-8e63-d1f346454127\" class=\"sk-toggleable__label sk-toggleable__label-arrow\">pipeline-2</label><div class=\"sk-toggleable__content\"><pre>&lt;sklearn.compose._column_transformer.make_column_selector object at 0x7f4020858710&gt;</pre></div></div></div><div class=\"sk-serial\"><div class=\"sk-item\"><div class=\"sk-serial\"><div class=\"sk-item\"><div class=\"sk-estimator sk-toggleable\"><input class=\"sk-toggleable__control sk-hidden--visually\" id=\"1367640c-8f84-4af8-b2b9-a948e777b099\" type=\"checkbox\" ><label for=\"1367640c-8f84-4af8-b2b9-a948e777b099\" class=\"sk-toggleable__label sk-toggleable__label-arrow\">SimpleImputer</label><div class=\"sk-toggleable__content\"><pre>SimpleImputer(strategy=&#x27;most_frequent&#x27;)</pre></div></div></div><div class=\"sk-item\"><div class=\"sk-estimator sk-toggleable\"><input class=\"sk-toggleable__control sk-hidden--visually\" id=\"6d9eb94e-18a5-40e2-a072-8b148f37b592\" type=\"checkbox\" ><label for=\"6d9eb94e-18a5-40e2-a072-8b148f37b592\" class=\"sk-toggleable__label sk-toggleable__label-arrow\">OneHotEncoder</label><div class=\"sk-toggleable__content\"><pre>OneHotEncoder(handle_unknown=&#x27;ignore&#x27;, sparse=False)</pre></div></div></div></div></div></div></div></div><div class=\"sk-parallel-item\"><div class=\"sk-item\"><div class=\"sk-label-container\"><div class=\"sk-label sk-toggleable\"><input class=\"sk-toggleable__control sk-hidden--visually\" id=\"357c5b26-7145-47d7-bd69-91830f6d67d3\" type=\"checkbox\" ><label for=\"357c5b26-7145-47d7-bd69-91830f6d67d3\" class=\"sk-toggleable__label sk-toggleable__label-arrow\">remainder</label><div class=\"sk-toggleable__content\"><pre>[]</pre></div></div></div><div class=\"sk-serial\"><div class=\"sk-item\"><div class=\"sk-estimator sk-toggleable\"><input class=\"sk-toggleable__control sk-hidden--visually\" id=\"411fddd7-4738-46cb-89fc-49253e610941\" type=\"checkbox\" ><label for=\"411fddd7-4738-46cb-89fc-49253e610941\" class=\"sk-toggleable__label sk-toggleable__label-arrow\">passthrough</label><div class=\"sk-toggleable__content\"><pre>passthrough</pre></div></div></div></div></div></div></div></div></div></div>"
            ]
          },
          "metadata": {},
          "execution_count": 34
        }
      ]
    },
    {
      "cell_type": "markdown",
      "source": [
        "**TRANSFORMAR los datos de entrenamiento y los de prueba**"
      ],
      "metadata": {
        "id": "N2cs-vN7K4Ri"
      }
    },
    {
      "cell_type": "code",
      "source": [
        "X_train_processed = preprocessed.transform(X_train)\n",
        "X_train_processed"
      ],
      "metadata": {
        "colab": {
          "base_uri": "https://localhost:8080/"
        },
        "id": "y6aZcBjkK5-r",
        "outputId": "0c490dd7-a612-4dc5-85a7-2df312be502a"
      },
      "execution_count": 35,
      "outputs": [
        {
          "output_type": "execute_result",
          "data": {
            "text/plain": [
              "array([[-1.30301442, -0.97467943,  0.56162348, ...,  0.        ,\n",
              "         1.        ,  0.        ],\n",
              "       [ 0.40438378,  0.        ,  0.68120871, ...,  0.        ,\n",
              "         1.        ,  0.        ],\n",
              "       [ 0.40438378, -0.97467943,  1.99664622, ...,  0.        ,\n",
              "         1.        ,  0.        ],\n",
              "       ...,\n",
              "       [ 1.25808288,  1.94935887, -0.03630266, ...,  1.        ,\n",
              "         1.        ,  0.        ],\n",
              "       [ 0.40438378,  0.97467943, -0.15588789, ...,  0.        ,\n",
              "         1.        ,  0.        ],\n",
              "       [ 0.40438378,  0.        ,  0.08328257, ...,  0.        ,\n",
              "         1.        ,  0.        ]])"
            ]
          },
          "metadata": {},
          "execution_count": 35
        }
      ]
    },
    {
      "cell_type": "code",
      "source": [
        "X_test_processed = preprocessed.transform(X_test)\n",
        "X_test_processed"
      ],
      "metadata": {
        "colab": {
          "base_uri": "https://localhost:8080/"
        },
        "id": "CoXoiiV4L80j",
        "outputId": "399c1fe0-f7ed-4378-d38b-85aeee9ef4dc"
      },
      "execution_count": 36,
      "outputs": [
        {
          "output_type": "execute_result",
          "data": {
            "text/plain": [
              "array([[ 0.40438378,  0.97467943, -0.15588789, ...,  0.        ,\n",
              "         1.        ,  0.        ],\n",
              "       [ 0.40438378,  0.97467943, -0.03630266, ...,  0.        ,\n",
              "         1.        ,  0.        ],\n",
              "       [-0.44931532,  0.        ,  1.27913485, ...,  0.        ,\n",
              "         1.        ,  0.        ],\n",
              "       ...,\n",
              "       [-1.30301442,  0.        ,  0.32245303, ...,  0.        ,\n",
              "         1.        ,  0.        ],\n",
              "       [ 0.40438378,  0.        ,  0.2028678 , ...,  0.        ,\n",
              "         1.        ,  0.        ],\n",
              "       [ 1.25808288,  0.        ,  1.27913485, ...,  0.        ,\n",
              "         1.        ,  0.        ]])"
            ]
          },
          "metadata": {},
          "execution_count": 36
        }
      ]
    },
    {
      "cell_type": "markdown",
      "source": [
        "####**9) Inspeccionar el resultado**"
      ],
      "metadata": {
        "id": "DaaluDSqMSz_"
      }
    },
    {
      "cell_type": "code",
      "source": [
        "print(np.isnan(X_train_processed).sum().sum(), 'Cantidad de datos faltante en matriz de características de entrenamiento')\n",
        "print(np.isnan(X_test_processed).sum().sum(), 'Cantidad de datos faltantes en la matriz de características de prueba')\n",
        "print('--------------------------------------------------------------')\n",
        "print('Todos los datos en el conjunto X_train_processed son del tipo:' , X_train_processed.dtype)\n",
        "print('Todos los datos en el conjunto X_test_processed son del tipo:', X_test_processed.dtype)\n",
        "print('--------------------------------------------------------------')\n",
        "print('La forma de los datos de entrenamiento es: ', X_train_processed.shape)\n",
        "print('La forma de los datos de prueba es: ', X_test_processed.shape)"
      ],
      "metadata": {
        "colab": {
          "base_uri": "https://localhost:8080/"
        },
        "id": "_bxlomh-MUNp",
        "outputId": "d9f1c656-cea8-4d1b-86d5-2b03de6b2b7a"
      },
      "execution_count": 37,
      "outputs": [
        {
          "output_type": "stream",
          "name": "stdout",
          "text": [
            "0 Cantidad de datos faltante en matriz de características de entrenamiento\n",
            "0 Cantidad de datos faltantes en la matriz de características de prueba\n",
            "--------------------------------------------------------------\n",
            "Todos los datos en el conjunto X_train_processed son del tipo: float64\n",
            "Todos los datos en el conjunto X_test_processed son del tipo: float64\n",
            "--------------------------------------------------------------\n",
            "La forma de los datos de entrenamiento es:  (57, 77)\n",
            "La forma de los datos de prueba es:  (20, 77)\n"
          ]
        }
      ]
    }
  ]
}