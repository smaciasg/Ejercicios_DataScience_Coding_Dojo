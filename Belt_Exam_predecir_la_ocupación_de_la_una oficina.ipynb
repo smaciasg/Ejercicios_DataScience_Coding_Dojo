{
  "nbformat": 4,
  "nbformat_minor": 0,
  "metadata": {
    "colab": {
      "provenance": [],
      "collapsed_sections": [
        "YO5e99iQA04V",
        "4Xak7VydBgPp",
        "SiLfhRGAdf5M",
        "4dZvkDkmeBlU",
        "3rLUQyrFeXZ9",
        "upm67NqaegHS",
        "Ebl566hGelgc",
        "I-dmXaIqigfY",
        "Q5bVT7ymqM72"
      ],
      "mount_file_id": "1ba_P38IeD9reTTZ8WuoJPxhtKTb_iI_9",
      "authorship_tag": "ABX9TyPsN5iTGsni+xonwDGDJH6w",
      "include_colab_link": true
    },
    "kernelspec": {
      "name": "python3",
      "display_name": "Python 3"
    },
    "language_info": {
      "name": "python"
    }
  },
  "cells": [
    {
      "cell_type": "markdown",
      "metadata": {
        "id": "view-in-github",
        "colab_type": "text"
      },
      "source": [
        "<a href=\"https://colab.research.google.com/github/smaciasg/Ejercicios_DataScience_Coding_Dojo/blob/main/Belt_Exam_predecir_la_ocupaci%C3%B3n_de_la_una%20oficina.ipynb\" target=\"_parent\"><img src=\"https://colab.research.google.com/assets/colab-badge.svg\" alt=\"Open In Colab\"/></a>"
      ]
    },
    {
      "cell_type": "markdown",
      "source": [
        "Detección de ocupación\n",
        "Requisitos:\n",
        "Tu tarea es predecir si una sala de oficina está desocupada o no, basándote en ciertas medidas incluidas en el conjunto de datos.\n",
        "\n",
        "Asegúrate de:\n",
        "\n",
        "* Limpiar los datos.\n",
        "* Explorar los datos (debes incluir al menos 2 visualizaciones)\n",
        "* Crear un modelo para predecir si una sala de oficina está ocupada (1) o no (0)\n",
        "* Debes construir el modelo más preciso que puedas. Asegúrate de validar tu modelo utilizando un conjunto de prueba y entrenamiento.\n",
        "* Debes poder justificar por qué elegiste el modelo que utilizaste.\n",
        "* Esto puede implicar probar varios modelos y determinar el mejor, o ser capaz de explicar y justificar racionalmente tu elección.\n",
        "\n",
        "**Diccionario de datos:**\n",
        "\n",
        "**Nombre columna\tTipo de dato\tDescripción**\n",
        "\n",
        "Occupancy\tInt\tOcupación de la habitación (0 = no ocupada, 1 = ocupada) (objetivo)\n",
        "\n",
        "date\tObjeto\tFecha hora (año-mes-día hora:minuto:segundo)\n",
        "\n",
        "Temperature\tFlotante\tTemperatura ambiente en grados Celsius\n",
        "\n",
        "Humidity\tFlotante\tHumedad relativa %\n",
        "\n",
        "Light\tFlotante\tLuz en Lux\n",
        "\n",
        "CO2\tFlotante\tCO2 en ppm\n",
        "\n",
        "HumidityRatio\tFlotante\tCantidad derivada de la temperatura y la humedad relativa en kg agua-vapor/kg-aire\n"
      ],
      "metadata": {
        "id": "HV4uJ2aWA6x-"
      }
    },
    {
      "cell_type": "markdown",
      "source": [
        "###**1) Importar las librerías necesarias**"
      ],
      "metadata": {
        "id": "YO5e99iQA04V"
      }
    },
    {
      "cell_type": "markdown",
      "source": [
        "Dado que es un problema de clasificación, se importan los modelos para tal tipo de caso"
      ],
      "metadata": {
        "id": "kliBQpnsDDtW"
      }
    },
    {
      "cell_type": "code",
      "execution_count": 375,
      "metadata": {
        "id": "Xcd7JTdfAbil"
      },
      "outputs": [],
      "source": [
        "import pandas as pd\n",
        "import numpy as np\n",
        "import matplotlib.pyplot as plt\n",
        "#Librerías para preprocesamiento\n",
        "import sklearn\n",
        "from sklearn.preprocessing import StandardScaler, OneHotEncoder\n",
        "from sklearn.pipeline import make_pipeline\n",
        "#Librerías para modelos de selección\n",
        "from sklearn.model_selection import train_test_split\n",
        "#Librería para el modelos\n",
        "from sklearn.tree import DecisionTreeClassifier\n",
        "from sklearn.neighbors import KNeighborsClassifier\n",
        "from sklearn.linear_model import LogisticRegression\n",
        "from sklearn.ensemble import RandomForestClassifier\n",
        "#Librería para las métricas\n",
        "from sklearn.metrics import accuracy_score, recall_score, precision_score,roc_auc_score,RocCurveDisplay\n",
        "from sklearn.metrics import classification_report, plot_confusion_matrix\n",
        "#Para optimizar\n",
        "from sklearn.model_selection import GridSearchCV"
      ]
    },
    {
      "cell_type": "markdown",
      "source": [
        "###**2) Cargar datos y explorar**"
      ],
      "metadata": {
        "id": "4Xak7VydBgPp"
      }
    },
    {
      "cell_type": "code",
      "source": [
        "df_ocupacion = pd.read_csv('/content/drive/MyDrive/CODING DOJO/DATA SCIENCE/BELT EXAM 2/occupancy.csv')\n",
        "df_ocupacion.head()"
      ],
      "metadata": {
        "colab": {
          "base_uri": "https://localhost:8080/",
          "height": 206
        },
        "id": "7Zb5RZVABhD4",
        "outputId": "fd0446a1-5818-4656-ba11-0276aacbcfe8"
      },
      "execution_count": 376,
      "outputs": [
        {
          "output_type": "execute_result",
          "data": {
            "text/plain": [
              "                  date  Temperature  Humidity  Light     CO2  HumidityRatio  \\\n",
              "0  2015-02-04 17:51:00        23.18   27.2720  426.0  721.25       0.004793   \n",
              "1  2015-02-04 17:51:59        23.15   27.2675  429.5  714.00       0.004783   \n",
              "2  2015-02-04 17:53:00        23.15   27.2450  426.0  713.50       0.004779   \n",
              "3  2015-02-04 17:54:00        23.15   27.2000  426.0  708.25       0.004772   \n",
              "4  2015-02-04 17:55:00        23.10   27.2000  426.0  704.50       0.004757   \n",
              "\n",
              "   Occupancy  \n",
              "0          1  \n",
              "1          1  \n",
              "2          1  \n",
              "3          1  \n",
              "4          1  "
            ],
            "text/html": [
              "\n",
              "  <div id=\"df-c5bd8bd6-83d4-47c9-a246-7ae8e4f3d4d1\">\n",
              "    <div class=\"colab-df-container\">\n",
              "      <div>\n",
              "<style scoped>\n",
              "    .dataframe tbody tr th:only-of-type {\n",
              "        vertical-align: middle;\n",
              "    }\n",
              "\n",
              "    .dataframe tbody tr th {\n",
              "        vertical-align: top;\n",
              "    }\n",
              "\n",
              "    .dataframe thead th {\n",
              "        text-align: right;\n",
              "    }\n",
              "</style>\n",
              "<table border=\"1\" class=\"dataframe\">\n",
              "  <thead>\n",
              "    <tr style=\"text-align: right;\">\n",
              "      <th></th>\n",
              "      <th>date</th>\n",
              "      <th>Temperature</th>\n",
              "      <th>Humidity</th>\n",
              "      <th>Light</th>\n",
              "      <th>CO2</th>\n",
              "      <th>HumidityRatio</th>\n",
              "      <th>Occupancy</th>\n",
              "    </tr>\n",
              "  </thead>\n",
              "  <tbody>\n",
              "    <tr>\n",
              "      <th>0</th>\n",
              "      <td>2015-02-04 17:51:00</td>\n",
              "      <td>23.18</td>\n",
              "      <td>27.2720</td>\n",
              "      <td>426.0</td>\n",
              "      <td>721.25</td>\n",
              "      <td>0.004793</td>\n",
              "      <td>1</td>\n",
              "    </tr>\n",
              "    <tr>\n",
              "      <th>1</th>\n",
              "      <td>2015-02-04 17:51:59</td>\n",
              "      <td>23.15</td>\n",
              "      <td>27.2675</td>\n",
              "      <td>429.5</td>\n",
              "      <td>714.00</td>\n",
              "      <td>0.004783</td>\n",
              "      <td>1</td>\n",
              "    </tr>\n",
              "    <tr>\n",
              "      <th>2</th>\n",
              "      <td>2015-02-04 17:53:00</td>\n",
              "      <td>23.15</td>\n",
              "      <td>27.2450</td>\n",
              "      <td>426.0</td>\n",
              "      <td>713.50</td>\n",
              "      <td>0.004779</td>\n",
              "      <td>1</td>\n",
              "    </tr>\n",
              "    <tr>\n",
              "      <th>3</th>\n",
              "      <td>2015-02-04 17:54:00</td>\n",
              "      <td>23.15</td>\n",
              "      <td>27.2000</td>\n",
              "      <td>426.0</td>\n",
              "      <td>708.25</td>\n",
              "      <td>0.004772</td>\n",
              "      <td>1</td>\n",
              "    </tr>\n",
              "    <tr>\n",
              "      <th>4</th>\n",
              "      <td>2015-02-04 17:55:00</td>\n",
              "      <td>23.10</td>\n",
              "      <td>27.2000</td>\n",
              "      <td>426.0</td>\n",
              "      <td>704.50</td>\n",
              "      <td>0.004757</td>\n",
              "      <td>1</td>\n",
              "    </tr>\n",
              "  </tbody>\n",
              "</table>\n",
              "</div>\n",
              "      <button class=\"colab-df-convert\" onclick=\"convertToInteractive('df-c5bd8bd6-83d4-47c9-a246-7ae8e4f3d4d1')\"\n",
              "              title=\"Convert this dataframe to an interactive table.\"\n",
              "              style=\"display:none;\">\n",
              "        \n",
              "  <svg xmlns=\"http://www.w3.org/2000/svg\" height=\"24px\"viewBox=\"0 0 24 24\"\n",
              "       width=\"24px\">\n",
              "    <path d=\"M0 0h24v24H0V0z\" fill=\"none\"/>\n",
              "    <path d=\"M18.56 5.44l.94 2.06.94-2.06 2.06-.94-2.06-.94-.94-2.06-.94 2.06-2.06.94zm-11 1L8.5 8.5l.94-2.06 2.06-.94-2.06-.94L8.5 2.5l-.94 2.06-2.06.94zm10 10l.94 2.06.94-2.06 2.06-.94-2.06-.94-.94-2.06-.94 2.06-2.06.94z\"/><path d=\"M17.41 7.96l-1.37-1.37c-.4-.4-.92-.59-1.43-.59-.52 0-1.04.2-1.43.59L10.3 9.45l-7.72 7.72c-.78.78-.78 2.05 0 2.83L4 21.41c.39.39.9.59 1.41.59.51 0 1.02-.2 1.41-.59l7.78-7.78 2.81-2.81c.8-.78.8-2.07 0-2.86zM5.41 20L4 18.59l7.72-7.72 1.47 1.35L5.41 20z\"/>\n",
              "  </svg>\n",
              "      </button>\n",
              "      \n",
              "  <style>\n",
              "    .colab-df-container {\n",
              "      display:flex;\n",
              "      flex-wrap:wrap;\n",
              "      gap: 12px;\n",
              "    }\n",
              "\n",
              "    .colab-df-convert {\n",
              "      background-color: #E8F0FE;\n",
              "      border: none;\n",
              "      border-radius: 50%;\n",
              "      cursor: pointer;\n",
              "      display: none;\n",
              "      fill: #1967D2;\n",
              "      height: 32px;\n",
              "      padding: 0 0 0 0;\n",
              "      width: 32px;\n",
              "    }\n",
              "\n",
              "    .colab-df-convert:hover {\n",
              "      background-color: #E2EBFA;\n",
              "      box-shadow: 0px 1px 2px rgba(60, 64, 67, 0.3), 0px 1px 3px 1px rgba(60, 64, 67, 0.15);\n",
              "      fill: #174EA6;\n",
              "    }\n",
              "\n",
              "    [theme=dark] .colab-df-convert {\n",
              "      background-color: #3B4455;\n",
              "      fill: #D2E3FC;\n",
              "    }\n",
              "\n",
              "    [theme=dark] .colab-df-convert:hover {\n",
              "      background-color: #434B5C;\n",
              "      box-shadow: 0px 1px 3px 1px rgba(0, 0, 0, 0.15);\n",
              "      filter: drop-shadow(0px 1px 2px rgba(0, 0, 0, 0.3));\n",
              "      fill: #FFFFFF;\n",
              "    }\n",
              "  </style>\n",
              "\n",
              "      <script>\n",
              "        const buttonEl =\n",
              "          document.querySelector('#df-c5bd8bd6-83d4-47c9-a246-7ae8e4f3d4d1 button.colab-df-convert');\n",
              "        buttonEl.style.display =\n",
              "          google.colab.kernel.accessAllowed ? 'block' : 'none';\n",
              "\n",
              "        async function convertToInteractive(key) {\n",
              "          const element = document.querySelector('#df-c5bd8bd6-83d4-47c9-a246-7ae8e4f3d4d1');\n",
              "          const dataTable =\n",
              "            await google.colab.kernel.invokeFunction('convertToInteractive',\n",
              "                                                     [key], {});\n",
              "          if (!dataTable) return;\n",
              "\n",
              "          const docLinkHtml = 'Like what you see? Visit the ' +\n",
              "            '<a target=\"_blank\" href=https://colab.research.google.com/notebooks/data_table.ipynb>data table notebook</a>'\n",
              "            + ' to learn more about interactive tables.';\n",
              "          element.innerHTML = '';\n",
              "          dataTable['output_type'] = 'display_data';\n",
              "          await google.colab.output.renderOutput(dataTable, element);\n",
              "          const docLink = document.createElement('div');\n",
              "          docLink.innerHTML = docLinkHtml;\n",
              "          element.appendChild(docLink);\n",
              "        }\n",
              "      </script>\n",
              "    </div>\n",
              "  </div>\n",
              "  "
            ]
          },
          "metadata": {},
          "execution_count": 376
        }
      ]
    },
    {
      "cell_type": "markdown",
      "source": [
        "**Explorar los datos**"
      ],
      "metadata": {
        "id": "bcpuoB7YBt__"
      }
    },
    {
      "cell_type": "code",
      "source": [
        "df_ocupacion.info()\n",
        "#Se observa que no hay datos faltantes, la fecha es un tipo objeto y la columna objetivo que es la Occupancy ya es tipo numérico"
      ],
      "metadata": {
        "colab": {
          "base_uri": "https://localhost:8080/"
        },
        "id": "Ha78u-zlBvhg",
        "outputId": "00739c62-bcf7-43bc-8f3b-86aed66ee4f8"
      },
      "execution_count": 377,
      "outputs": [
        {
          "output_type": "stream",
          "name": "stdout",
          "text": [
            "<class 'pandas.core.frame.DataFrame'>\n",
            "RangeIndex: 8143 entries, 0 to 8142\n",
            "Data columns (total 7 columns):\n",
            " #   Column         Non-Null Count  Dtype  \n",
            "---  ------         --------------  -----  \n",
            " 0   date           8143 non-null   object \n",
            " 1   Temperature    8143 non-null   float64\n",
            " 2   Humidity       8143 non-null   float64\n",
            " 3   Light          8143 non-null   float64\n",
            " 4   CO2            8143 non-null   float64\n",
            " 5   HumidityRatio  8143 non-null   float64\n",
            " 6   Occupancy      8143 non-null   int64  \n",
            "dtypes: float64(5), int64(1), object(1)\n",
            "memory usage: 445.4+ KB\n"
          ]
        }
      ]
    },
    {
      "cell_type": "code",
      "source": [
        "df_ocupacion['Occupancy'].value_counts(normalize=True)\n",
        "#Se observa que hay un desbalance en el conjunto de datos; por tanto, sería viable usar una regresión logística y validar el parámetro del peso de cada uno de los \n",
        "# datos con el fin de mejorar las métricas al menos reducir los negativos."
      ],
      "metadata": {
        "colab": {
          "base_uri": "https://localhost:8080/"
        },
        "id": "Z1JdmjTlCIqR",
        "outputId": "f8bcda29-693e-4fa2-e433-0fa7c016702e"
      },
      "execution_count": 378,
      "outputs": [
        {
          "output_type": "execute_result",
          "data": {
            "text/plain": [
              "0    0.78767\n",
              "1    0.21233\n",
              "Name: Occupancy, dtype: float64"
            ]
          },
          "metadata": {},
          "execution_count": 378
        }
      ]
    },
    {
      "cell_type": "code",
      "source": [
        "#Vamos a identificar si hay algún tipo de dato anormal\n",
        "df_ocupacion.describe()"
      ],
      "metadata": {
        "colab": {
          "base_uri": "https://localhost:8080/",
          "height": 300
        },
        "id": "iPYyS2pfC45K",
        "outputId": "5a1b5ecd-669d-43d0-e2ca-648cff4556e3"
      },
      "execution_count": 379,
      "outputs": [
        {
          "output_type": "execute_result",
          "data": {
            "text/plain": [
              "       Temperature     Humidity        Light          CO2  HumidityRatio  \\\n",
              "count  8143.000000  8143.000000  8143.000000  8143.000000    8143.000000   \n",
              "mean     20.619084    25.731507   119.519375   606.546243       0.003863   \n",
              "std       1.016916     5.531211   194.755805   314.320877       0.000852   \n",
              "min      19.000000    16.745000     0.000000   412.750000       0.002674   \n",
              "25%      19.700000    20.200000     0.000000   439.000000       0.003078   \n",
              "50%      20.390000    26.222500     0.000000   453.500000       0.003801   \n",
              "75%      21.390000    30.533333   256.375000   638.833333       0.004352   \n",
              "max      23.180000    39.117500  1546.333333  2028.500000       0.006476   \n",
              "\n",
              "         Occupancy  \n",
              "count  8143.000000  \n",
              "mean      0.212330  \n",
              "std       0.408982  \n",
              "min       0.000000  \n",
              "25%       0.000000  \n",
              "50%       0.000000  \n",
              "75%       0.000000  \n",
              "max       1.000000  "
            ],
            "text/html": [
              "\n",
              "  <div id=\"df-57e50143-af93-4581-9641-d72fd1725699\">\n",
              "    <div class=\"colab-df-container\">\n",
              "      <div>\n",
              "<style scoped>\n",
              "    .dataframe tbody tr th:only-of-type {\n",
              "        vertical-align: middle;\n",
              "    }\n",
              "\n",
              "    .dataframe tbody tr th {\n",
              "        vertical-align: top;\n",
              "    }\n",
              "\n",
              "    .dataframe thead th {\n",
              "        text-align: right;\n",
              "    }\n",
              "</style>\n",
              "<table border=\"1\" class=\"dataframe\">\n",
              "  <thead>\n",
              "    <tr style=\"text-align: right;\">\n",
              "      <th></th>\n",
              "      <th>Temperature</th>\n",
              "      <th>Humidity</th>\n",
              "      <th>Light</th>\n",
              "      <th>CO2</th>\n",
              "      <th>HumidityRatio</th>\n",
              "      <th>Occupancy</th>\n",
              "    </tr>\n",
              "  </thead>\n",
              "  <tbody>\n",
              "    <tr>\n",
              "      <th>count</th>\n",
              "      <td>8143.000000</td>\n",
              "      <td>8143.000000</td>\n",
              "      <td>8143.000000</td>\n",
              "      <td>8143.000000</td>\n",
              "      <td>8143.000000</td>\n",
              "      <td>8143.000000</td>\n",
              "    </tr>\n",
              "    <tr>\n",
              "      <th>mean</th>\n",
              "      <td>20.619084</td>\n",
              "      <td>25.731507</td>\n",
              "      <td>119.519375</td>\n",
              "      <td>606.546243</td>\n",
              "      <td>0.003863</td>\n",
              "      <td>0.212330</td>\n",
              "    </tr>\n",
              "    <tr>\n",
              "      <th>std</th>\n",
              "      <td>1.016916</td>\n",
              "      <td>5.531211</td>\n",
              "      <td>194.755805</td>\n",
              "      <td>314.320877</td>\n",
              "      <td>0.000852</td>\n",
              "      <td>0.408982</td>\n",
              "    </tr>\n",
              "    <tr>\n",
              "      <th>min</th>\n",
              "      <td>19.000000</td>\n",
              "      <td>16.745000</td>\n",
              "      <td>0.000000</td>\n",
              "      <td>412.750000</td>\n",
              "      <td>0.002674</td>\n",
              "      <td>0.000000</td>\n",
              "    </tr>\n",
              "    <tr>\n",
              "      <th>25%</th>\n",
              "      <td>19.700000</td>\n",
              "      <td>20.200000</td>\n",
              "      <td>0.000000</td>\n",
              "      <td>439.000000</td>\n",
              "      <td>0.003078</td>\n",
              "      <td>0.000000</td>\n",
              "    </tr>\n",
              "    <tr>\n",
              "      <th>50%</th>\n",
              "      <td>20.390000</td>\n",
              "      <td>26.222500</td>\n",
              "      <td>0.000000</td>\n",
              "      <td>453.500000</td>\n",
              "      <td>0.003801</td>\n",
              "      <td>0.000000</td>\n",
              "    </tr>\n",
              "    <tr>\n",
              "      <th>75%</th>\n",
              "      <td>21.390000</td>\n",
              "      <td>30.533333</td>\n",
              "      <td>256.375000</td>\n",
              "      <td>638.833333</td>\n",
              "      <td>0.004352</td>\n",
              "      <td>0.000000</td>\n",
              "    </tr>\n",
              "    <tr>\n",
              "      <th>max</th>\n",
              "      <td>23.180000</td>\n",
              "      <td>39.117500</td>\n",
              "      <td>1546.333333</td>\n",
              "      <td>2028.500000</td>\n",
              "      <td>0.006476</td>\n",
              "      <td>1.000000</td>\n",
              "    </tr>\n",
              "  </tbody>\n",
              "</table>\n",
              "</div>\n",
              "      <button class=\"colab-df-convert\" onclick=\"convertToInteractive('df-57e50143-af93-4581-9641-d72fd1725699')\"\n",
              "              title=\"Convert this dataframe to an interactive table.\"\n",
              "              style=\"display:none;\">\n",
              "        \n",
              "  <svg xmlns=\"http://www.w3.org/2000/svg\" height=\"24px\"viewBox=\"0 0 24 24\"\n",
              "       width=\"24px\">\n",
              "    <path d=\"M0 0h24v24H0V0z\" fill=\"none\"/>\n",
              "    <path d=\"M18.56 5.44l.94 2.06.94-2.06 2.06-.94-2.06-.94-.94-2.06-.94 2.06-2.06.94zm-11 1L8.5 8.5l.94-2.06 2.06-.94-2.06-.94L8.5 2.5l-.94 2.06-2.06.94zm10 10l.94 2.06.94-2.06 2.06-.94-2.06-.94-.94-2.06-.94 2.06-2.06.94z\"/><path d=\"M17.41 7.96l-1.37-1.37c-.4-.4-.92-.59-1.43-.59-.52 0-1.04.2-1.43.59L10.3 9.45l-7.72 7.72c-.78.78-.78 2.05 0 2.83L4 21.41c.39.39.9.59 1.41.59.51 0 1.02-.2 1.41-.59l7.78-7.78 2.81-2.81c.8-.78.8-2.07 0-2.86zM5.41 20L4 18.59l7.72-7.72 1.47 1.35L5.41 20z\"/>\n",
              "  </svg>\n",
              "      </button>\n",
              "      \n",
              "  <style>\n",
              "    .colab-df-container {\n",
              "      display:flex;\n",
              "      flex-wrap:wrap;\n",
              "      gap: 12px;\n",
              "    }\n",
              "\n",
              "    .colab-df-convert {\n",
              "      background-color: #E8F0FE;\n",
              "      border: none;\n",
              "      border-radius: 50%;\n",
              "      cursor: pointer;\n",
              "      display: none;\n",
              "      fill: #1967D2;\n",
              "      height: 32px;\n",
              "      padding: 0 0 0 0;\n",
              "      width: 32px;\n",
              "    }\n",
              "\n",
              "    .colab-df-convert:hover {\n",
              "      background-color: #E2EBFA;\n",
              "      box-shadow: 0px 1px 2px rgba(60, 64, 67, 0.3), 0px 1px 3px 1px rgba(60, 64, 67, 0.15);\n",
              "      fill: #174EA6;\n",
              "    }\n",
              "\n",
              "    [theme=dark] .colab-df-convert {\n",
              "      background-color: #3B4455;\n",
              "      fill: #D2E3FC;\n",
              "    }\n",
              "\n",
              "    [theme=dark] .colab-df-convert:hover {\n",
              "      background-color: #434B5C;\n",
              "      box-shadow: 0px 1px 3px 1px rgba(0, 0, 0, 0.15);\n",
              "      filter: drop-shadow(0px 1px 2px rgba(0, 0, 0, 0.3));\n",
              "      fill: #FFFFFF;\n",
              "    }\n",
              "  </style>\n",
              "\n",
              "      <script>\n",
              "        const buttonEl =\n",
              "          document.querySelector('#df-57e50143-af93-4581-9641-d72fd1725699 button.colab-df-convert');\n",
              "        buttonEl.style.display =\n",
              "          google.colab.kernel.accessAllowed ? 'block' : 'none';\n",
              "\n",
              "        async function convertToInteractive(key) {\n",
              "          const element = document.querySelector('#df-57e50143-af93-4581-9641-d72fd1725699');\n",
              "          const dataTable =\n",
              "            await google.colab.kernel.invokeFunction('convertToInteractive',\n",
              "                                                     [key], {});\n",
              "          if (!dataTable) return;\n",
              "\n",
              "          const docLinkHtml = 'Like what you see? Visit the ' +\n",
              "            '<a target=\"_blank\" href=https://colab.research.google.com/notebooks/data_table.ipynb>data table notebook</a>'\n",
              "            + ' to learn more about interactive tables.';\n",
              "          element.innerHTML = '';\n",
              "          dataTable['output_type'] = 'display_data';\n",
              "          await google.colab.output.renderOutput(dataTable, element);\n",
              "          const docLink = document.createElement('div');\n",
              "          docLink.innerHTML = docLinkHtml;\n",
              "          element.appendChild(docLink);\n",
              "        }\n",
              "      </script>\n",
              "    </div>\n",
              "  </div>\n",
              "  "
            ]
          },
          "metadata": {},
          "execution_count": 379
        }
      ]
    },
    {
      "cell_type": "markdown",
      "source": [
        "**Hallazgos:**\n",
        "\n",
        "1. La temperatura está dentro de rango adecuados.\n",
        "\n",
        "2. La humedad podría llegar al 60%, siendo lo agradable, entre 40% y 60%, así que se puede considerar normal\n",
        "\n",
        "La carencia de humedad (<40%) puede provocar sequedad de ojos, piel y mucosas. Además, aumenta el riesgo de contagio por infecciones respiratorias como el catarro, la gripe o la bronquiolitis (https://www.fisiorespiracion.es/blog/humedad-ideal-en-casa/#:~:text=Hay%20dos%20vías%20para%20mantener,Humidificar%20el%20ambiente.).\n",
        "\n",
        "Parece ser que hay una relación directa entre la humedad relativa y el bienestar sicológico de los humanos. La humedad relativa a la que mejor nos encontramos los humanos es a un 40% o más. (https://www.lenntech.es/calculadoras/humedad/humedad-relativa.htm)\n",
        "\n",
        "Esto da a pensar que hay un problema con la humedad de la locación o la medida o definitivamente es un lugar muy seco, por que muchos datos se concentran un porcentajes cercanos al 26%, así que es una oficina que podría afectar a quien la ocupa, podría ser causal que sea ocupada tan poco, pero se podría validar, así que sería necesario un humidificador.\n",
        "\n",
        "Para oficnas la humedad relativa debería estar cerca al 50% para evitar problemas eléctricos. (https://www.quironprevencion.com/blogs/es/prevenidos/temperatura-oficina-ideal#:~:text=Humedad%20del%20aire%20ideal,aparición%20de%20este%20molesto%20fenómeno.)\n",
        "\n",
        "3. La luz presenta valores que se deben revisar dado que se encuentra que para una oficia los lux conforatables sería 500lux-750lux y vemos que la mayoría de los datos son cero y hay otros muy elevados, que podrían indicar que la luz natural ilumina directamente el lugar y en esas horas del día se hace la medición. (https://www.philips.es/c-f/XC000002361/¿qué-es-un-lux#:~:text=Una%20vela%20a%201%20metro,lux%20en%20un%20día%20soleado.) , (https://espaciosolar.com/luz-natural/#:~:text=De%20acuerdo%20a%20la%20Norma,de%20baño%2C%20garajes%20y%20almacenes.)\n",
        ", (https://faro.es/es/blog/una-correcta-iluminacion-en-la-oficina/#:~:text=Cantidad%20de%20luz,-Además%2C%20de%20la&text=Según%20la%20normativa%20vigente%2C%20las,diario%20de%20una%20forma%20cómoda.)\n",
        "\n",
        "Podría ser que las lux son tan bajas porque hay problemas eléctricos frecuentes debido a la humedad no adecuada del lugar, podría ser un aire acondicionado mal regulado.\n",
        "\n",
        "4. La concentración de CO2 aceptable está entre 600-800 ppm, hasta los 1000 ppm es aceptable, en un lugar de trabajo el límite máximo serían de 5000 ppm. Así que la oficina en la mayoría de los casos está con concentraciones de CO2 adecuadas, siendo la mediana 453 ppm un valor mur cercano al CO2 exterior, lo que refuerza la idea que la habitación no es muy frecuentada o por pocas personas . (https://www.solerpalau.com/es-es/blog/sensor-co2/)"
      ],
      "metadata": {
        "id": "ERi1KaKnEUc_"
      }
    },
    {
      "cell_type": "markdown",
      "source": [
        "**Creación de nuevas columnas**\n",
        "\n",
        "Con el fin de ver la incidencia del tiempo en días, meses, años y horas del día se crean las columnas: Año, mes, día, hora"
      ],
      "metadata": {
        "id": "eWDOBHXdKmbw"
      }
    },
    {
      "cell_type": "code",
      "source": [
        "df_ocupacion['date_data'] = pd.to_datetime(df_ocupacion['date'])"
      ],
      "metadata": {
        "id": "Z5g_PvfwK5Ss"
      },
      "execution_count": 380,
      "outputs": []
    },
    {
      "cell_type": "code",
      "source": [
        "#Ahora vamos a crear una variable numérica para los días y las horas\n",
        "from datetime import datetime\n",
        "import time\n",
        "lista_date_numerico = []\n",
        "for data in range(len(df_ocupacion)):\n",
        "  dt = df_ocupacion['date_data'][data]\n",
        "  timestamp = time. mktime(dt. timetuple()) + dt.microsecond/1e6\n",
        "  lista_date_numerico.append(timestamp)\n",
        "\n",
        "df_ocupacion['data_numero'] = lista_date_numerico"
      ],
      "metadata": {
        "id": "3cYBvQftLyZK"
      },
      "execution_count": 381,
      "outputs": []
    },
    {
      "cell_type": "code",
      "source": [
        "#Obtenemos las horas del día\n",
        "lista_horas = []\n",
        "lista_horas_min_militar = []\n",
        "lista_mes = []\n",
        "lista_dia = []\n",
        "lista_anio = []\n",
        "for horas in range(len(df_ocupacion)):\n",
        "  lista_horas.append(df_ocupacion['date_data'][horas].hour)\n",
        "  lista_horas_min_militar.append(((df_ocupacion['date_data'][horas].hour)*60)+(df_ocupacion['date_data'][horas].minute))\n",
        "  lista_dia.append(df_ocupacion['date_data'][horas].day)\n",
        "  lista_mes.append(df_ocupacion['date_data'][horas].month)\n",
        "  lista_anio.append(df_ocupacion['date_data'][horas].year)\n",
        "\n",
        "\n",
        "df_ocupacion['hora_dia'] = lista_horas\n",
        "df_ocupacion['hora_min_militar'] = lista_horas_min_militar\n",
        "df_ocupacion['mes'] = lista_mes\n",
        "df_ocupacion['dia'] = lista_dia\n",
        "df_ocupacion['anio'] = lista_anio"
      ],
      "metadata": {
        "id": "EFPrjqDVOmJL"
      },
      "execution_count": 382,
      "outputs": []
    },
    {
      "cell_type": "code",
      "source": [
        "df_ocupacion.info()"
      ],
      "metadata": {
        "colab": {
          "base_uri": "https://localhost:8080/"
        },
        "id": "r_LFSakeLfUQ",
        "outputId": "a3622520-ee92-4635-bc72-fc7c1ca15aea"
      },
      "execution_count": 383,
      "outputs": [
        {
          "output_type": "stream",
          "name": "stdout",
          "text": [
            "<class 'pandas.core.frame.DataFrame'>\n",
            "RangeIndex: 8143 entries, 0 to 8142\n",
            "Data columns (total 14 columns):\n",
            " #   Column            Non-Null Count  Dtype         \n",
            "---  ------            --------------  -----         \n",
            " 0   date              8143 non-null   object        \n",
            " 1   Temperature       8143 non-null   float64       \n",
            " 2   Humidity          8143 non-null   float64       \n",
            " 3   Light             8143 non-null   float64       \n",
            " 4   CO2               8143 non-null   float64       \n",
            " 5   HumidityRatio     8143 non-null   float64       \n",
            " 6   Occupancy         8143 non-null   int64         \n",
            " 7   date_data         8143 non-null   datetime64[ns]\n",
            " 8   data_numero       8143 non-null   float64       \n",
            " 9   hora_dia          8143 non-null   int64         \n",
            " 10  hora_min_militar  8143 non-null   int64         \n",
            " 11  mes               8143 non-null   int64         \n",
            " 12  dia               8143 non-null   int64         \n",
            " 13  anio              8143 non-null   int64         \n",
            "dtypes: datetime64[ns](1), float64(6), int64(6), object(1)\n",
            "memory usage: 890.8+ KB\n"
          ]
        }
      ]
    },
    {
      "cell_type": "code",
      "source": [
        "df_ocupacion.describe()"
      ],
      "metadata": {
        "colab": {
          "base_uri": "https://localhost:8080/",
          "height": 300
        },
        "id": "ejyo9Ik6U2Ns",
        "outputId": "860c0b43-4159-4847-f6cf-0ccf2ec2865e"
      },
      "execution_count": 384,
      "outputs": [
        {
          "output_type": "execute_result",
          "data": {
            "text/plain": [
              "       Temperature     Humidity        Light          CO2  HumidityRatio  \\\n",
              "count  8143.000000  8143.000000  8143.000000  8143.000000    8143.000000   \n",
              "mean     20.619084    25.731507   119.519375   606.546243       0.003863   \n",
              "std       1.016916     5.531211   194.755805   314.320877       0.000852   \n",
              "min      19.000000    16.745000     0.000000   412.750000       0.002674   \n",
              "25%      19.700000    20.200000     0.000000   439.000000       0.003078   \n",
              "50%      20.390000    26.222500     0.000000   453.500000       0.003801   \n",
              "75%      21.390000    30.533333   256.375000   638.833333       0.004352   \n",
              "max      23.180000    39.117500  1546.333333  2028.500000       0.006476   \n",
              "\n",
              "         Occupancy   data_numero     hora_dia  hora_min_militar     mes  \\\n",
              "count  8143.000000  8.143000e+03  8143.000000       8143.000000  8143.0   \n",
              "mean      0.212330  1.423317e+09    11.390642        712.932826     2.0   \n",
              "std       0.408982  1.410496e+05     7.092195        425.946623     0.0   \n",
              "min       0.000000  1.423072e+09     0.000000          0.000000     2.0   \n",
              "25%       0.000000  1.423194e+09     5.000000        338.000000     2.0   \n",
              "50%       0.000000  1.423317e+09    11.000000        698.000000     2.0   \n",
              "75%       0.000000  1.423439e+09    18.000000       1100.000000     2.0   \n",
              "max       1.000000  1.423561e+09    23.000000       1438.000000     2.0   \n",
              "\n",
              "               dia    anio  \n",
              "count  8143.000000  8143.0  \n",
              "mean      7.075525  2015.0  \n",
              "std       1.674896     0.0  \n",
              "min       4.000000  2015.0  \n",
              "25%       6.000000  2015.0  \n",
              "50%       7.000000  2015.0  \n",
              "75%       8.000000  2015.0  \n",
              "max      10.000000  2015.0  "
            ],
            "text/html": [
              "\n",
              "  <div id=\"df-f89ee50a-355d-46ed-b074-21889cad19b4\">\n",
              "    <div class=\"colab-df-container\">\n",
              "      <div>\n",
              "<style scoped>\n",
              "    .dataframe tbody tr th:only-of-type {\n",
              "        vertical-align: middle;\n",
              "    }\n",
              "\n",
              "    .dataframe tbody tr th {\n",
              "        vertical-align: top;\n",
              "    }\n",
              "\n",
              "    .dataframe thead th {\n",
              "        text-align: right;\n",
              "    }\n",
              "</style>\n",
              "<table border=\"1\" class=\"dataframe\">\n",
              "  <thead>\n",
              "    <tr style=\"text-align: right;\">\n",
              "      <th></th>\n",
              "      <th>Temperature</th>\n",
              "      <th>Humidity</th>\n",
              "      <th>Light</th>\n",
              "      <th>CO2</th>\n",
              "      <th>HumidityRatio</th>\n",
              "      <th>Occupancy</th>\n",
              "      <th>data_numero</th>\n",
              "      <th>hora_dia</th>\n",
              "      <th>hora_min_militar</th>\n",
              "      <th>mes</th>\n",
              "      <th>dia</th>\n",
              "      <th>anio</th>\n",
              "    </tr>\n",
              "  </thead>\n",
              "  <tbody>\n",
              "    <tr>\n",
              "      <th>count</th>\n",
              "      <td>8143.000000</td>\n",
              "      <td>8143.000000</td>\n",
              "      <td>8143.000000</td>\n",
              "      <td>8143.000000</td>\n",
              "      <td>8143.000000</td>\n",
              "      <td>8143.000000</td>\n",
              "      <td>8.143000e+03</td>\n",
              "      <td>8143.000000</td>\n",
              "      <td>8143.000000</td>\n",
              "      <td>8143.0</td>\n",
              "      <td>8143.000000</td>\n",
              "      <td>8143.0</td>\n",
              "    </tr>\n",
              "    <tr>\n",
              "      <th>mean</th>\n",
              "      <td>20.619084</td>\n",
              "      <td>25.731507</td>\n",
              "      <td>119.519375</td>\n",
              "      <td>606.546243</td>\n",
              "      <td>0.003863</td>\n",
              "      <td>0.212330</td>\n",
              "      <td>1.423317e+09</td>\n",
              "      <td>11.390642</td>\n",
              "      <td>712.932826</td>\n",
              "      <td>2.0</td>\n",
              "      <td>7.075525</td>\n",
              "      <td>2015.0</td>\n",
              "    </tr>\n",
              "    <tr>\n",
              "      <th>std</th>\n",
              "      <td>1.016916</td>\n",
              "      <td>5.531211</td>\n",
              "      <td>194.755805</td>\n",
              "      <td>314.320877</td>\n",
              "      <td>0.000852</td>\n",
              "      <td>0.408982</td>\n",
              "      <td>1.410496e+05</td>\n",
              "      <td>7.092195</td>\n",
              "      <td>425.946623</td>\n",
              "      <td>0.0</td>\n",
              "      <td>1.674896</td>\n",
              "      <td>0.0</td>\n",
              "    </tr>\n",
              "    <tr>\n",
              "      <th>min</th>\n",
              "      <td>19.000000</td>\n",
              "      <td>16.745000</td>\n",
              "      <td>0.000000</td>\n",
              "      <td>412.750000</td>\n",
              "      <td>0.002674</td>\n",
              "      <td>0.000000</td>\n",
              "      <td>1.423072e+09</td>\n",
              "      <td>0.000000</td>\n",
              "      <td>0.000000</td>\n",
              "      <td>2.0</td>\n",
              "      <td>4.000000</td>\n",
              "      <td>2015.0</td>\n",
              "    </tr>\n",
              "    <tr>\n",
              "      <th>25%</th>\n",
              "      <td>19.700000</td>\n",
              "      <td>20.200000</td>\n",
              "      <td>0.000000</td>\n",
              "      <td>439.000000</td>\n",
              "      <td>0.003078</td>\n",
              "      <td>0.000000</td>\n",
              "      <td>1.423194e+09</td>\n",
              "      <td>5.000000</td>\n",
              "      <td>338.000000</td>\n",
              "      <td>2.0</td>\n",
              "      <td>6.000000</td>\n",
              "      <td>2015.0</td>\n",
              "    </tr>\n",
              "    <tr>\n",
              "      <th>50%</th>\n",
              "      <td>20.390000</td>\n",
              "      <td>26.222500</td>\n",
              "      <td>0.000000</td>\n",
              "      <td>453.500000</td>\n",
              "      <td>0.003801</td>\n",
              "      <td>0.000000</td>\n",
              "      <td>1.423317e+09</td>\n",
              "      <td>11.000000</td>\n",
              "      <td>698.000000</td>\n",
              "      <td>2.0</td>\n",
              "      <td>7.000000</td>\n",
              "      <td>2015.0</td>\n",
              "    </tr>\n",
              "    <tr>\n",
              "      <th>75%</th>\n",
              "      <td>21.390000</td>\n",
              "      <td>30.533333</td>\n",
              "      <td>256.375000</td>\n",
              "      <td>638.833333</td>\n",
              "      <td>0.004352</td>\n",
              "      <td>0.000000</td>\n",
              "      <td>1.423439e+09</td>\n",
              "      <td>18.000000</td>\n",
              "      <td>1100.000000</td>\n",
              "      <td>2.0</td>\n",
              "      <td>8.000000</td>\n",
              "      <td>2015.0</td>\n",
              "    </tr>\n",
              "    <tr>\n",
              "      <th>max</th>\n",
              "      <td>23.180000</td>\n",
              "      <td>39.117500</td>\n",
              "      <td>1546.333333</td>\n",
              "      <td>2028.500000</td>\n",
              "      <td>0.006476</td>\n",
              "      <td>1.000000</td>\n",
              "      <td>1.423561e+09</td>\n",
              "      <td>23.000000</td>\n",
              "      <td>1438.000000</td>\n",
              "      <td>2.0</td>\n",
              "      <td>10.000000</td>\n",
              "      <td>2015.0</td>\n",
              "    </tr>\n",
              "  </tbody>\n",
              "</table>\n",
              "</div>\n",
              "      <button class=\"colab-df-convert\" onclick=\"convertToInteractive('df-f89ee50a-355d-46ed-b074-21889cad19b4')\"\n",
              "              title=\"Convert this dataframe to an interactive table.\"\n",
              "              style=\"display:none;\">\n",
              "        \n",
              "  <svg xmlns=\"http://www.w3.org/2000/svg\" height=\"24px\"viewBox=\"0 0 24 24\"\n",
              "       width=\"24px\">\n",
              "    <path d=\"M0 0h24v24H0V0z\" fill=\"none\"/>\n",
              "    <path d=\"M18.56 5.44l.94 2.06.94-2.06 2.06-.94-2.06-.94-.94-2.06-.94 2.06-2.06.94zm-11 1L8.5 8.5l.94-2.06 2.06-.94-2.06-.94L8.5 2.5l-.94 2.06-2.06.94zm10 10l.94 2.06.94-2.06 2.06-.94-2.06-.94-.94-2.06-.94 2.06-2.06.94z\"/><path d=\"M17.41 7.96l-1.37-1.37c-.4-.4-.92-.59-1.43-.59-.52 0-1.04.2-1.43.59L10.3 9.45l-7.72 7.72c-.78.78-.78 2.05 0 2.83L4 21.41c.39.39.9.59 1.41.59.51 0 1.02-.2 1.41-.59l7.78-7.78 2.81-2.81c.8-.78.8-2.07 0-2.86zM5.41 20L4 18.59l7.72-7.72 1.47 1.35L5.41 20z\"/>\n",
              "  </svg>\n",
              "      </button>\n",
              "      \n",
              "  <style>\n",
              "    .colab-df-container {\n",
              "      display:flex;\n",
              "      flex-wrap:wrap;\n",
              "      gap: 12px;\n",
              "    }\n",
              "\n",
              "    .colab-df-convert {\n",
              "      background-color: #E8F0FE;\n",
              "      border: none;\n",
              "      border-radius: 50%;\n",
              "      cursor: pointer;\n",
              "      display: none;\n",
              "      fill: #1967D2;\n",
              "      height: 32px;\n",
              "      padding: 0 0 0 0;\n",
              "      width: 32px;\n",
              "    }\n",
              "\n",
              "    .colab-df-convert:hover {\n",
              "      background-color: #E2EBFA;\n",
              "      box-shadow: 0px 1px 2px rgba(60, 64, 67, 0.3), 0px 1px 3px 1px rgba(60, 64, 67, 0.15);\n",
              "      fill: #174EA6;\n",
              "    }\n",
              "\n",
              "    [theme=dark] .colab-df-convert {\n",
              "      background-color: #3B4455;\n",
              "      fill: #D2E3FC;\n",
              "    }\n",
              "\n",
              "    [theme=dark] .colab-df-convert:hover {\n",
              "      background-color: #434B5C;\n",
              "      box-shadow: 0px 1px 3px 1px rgba(0, 0, 0, 0.15);\n",
              "      filter: drop-shadow(0px 1px 2px rgba(0, 0, 0, 0.3));\n",
              "      fill: #FFFFFF;\n",
              "    }\n",
              "  </style>\n",
              "\n",
              "      <script>\n",
              "        const buttonEl =\n",
              "          document.querySelector('#df-f89ee50a-355d-46ed-b074-21889cad19b4 button.colab-df-convert');\n",
              "        buttonEl.style.display =\n",
              "          google.colab.kernel.accessAllowed ? 'block' : 'none';\n",
              "\n",
              "        async function convertToInteractive(key) {\n",
              "          const element = document.querySelector('#df-f89ee50a-355d-46ed-b074-21889cad19b4');\n",
              "          const dataTable =\n",
              "            await google.colab.kernel.invokeFunction('convertToInteractive',\n",
              "                                                     [key], {});\n",
              "          if (!dataTable) return;\n",
              "\n",
              "          const docLinkHtml = 'Like what you see? Visit the ' +\n",
              "            '<a target=\"_blank\" href=https://colab.research.google.com/notebooks/data_table.ipynb>data table notebook</a>'\n",
              "            + ' to learn more about interactive tables.';\n",
              "          element.innerHTML = '';\n",
              "          dataTable['output_type'] = 'display_data';\n",
              "          await google.colab.output.renderOutput(dataTable, element);\n",
              "          const docLink = document.createElement('div');\n",
              "          docLink.innerHTML = docLinkHtml;\n",
              "          element.appendChild(docLink);\n",
              "        }\n",
              "      </script>\n",
              "    </div>\n",
              "  </div>\n",
              "  "
            ]
          },
          "metadata": {},
          "execution_count": 384
        }
      ]
    },
    {
      "cell_type": "markdown",
      "source": [
        "En vista de lo anterior:\n",
        "\n",
        "1. Se va a borrar la columna de date tipo objeto.\n",
        "2. Se borra la columna de año\n",
        "3. Se borra la columna de mes\n",
        "4. Se deja la de data_numero, hora_dia y hora_min_militar"
      ],
      "metadata": {
        "id": "5HBpMDrjVr3G"
      }
    },
    {
      "cell_type": "code",
      "source": [
        "df_ocupacion = df_ocupacion.drop(columns=['anio','mes'])"
      ],
      "metadata": {
        "id": "CIDAVOE2bvaH"
      },
      "execution_count": 385,
      "outputs": []
    },
    {
      "cell_type": "code",
      "source": [
        "df_ocupacion.columns"
      ],
      "metadata": {
        "colab": {
          "base_uri": "https://localhost:8080/"
        },
        "id": "nB1IrKMMXYtO",
        "outputId": "3a3638ad-c541-4017-83e4-aef2934cd255"
      },
      "execution_count": 386,
      "outputs": [
        {
          "output_type": "execute_result",
          "data": {
            "text/plain": [
              "Index(['date', 'Temperature', 'Humidity', 'Light', 'CO2', 'HumidityRatio',\n",
              "       'Occupancy', 'date_data', 'data_numero', 'hora_dia', 'hora_min_militar',\n",
              "       'dia'],\n",
              "      dtype='object')"
            ]
          },
          "metadata": {},
          "execution_count": 386
        }
      ]
    },
    {
      "cell_type": "code",
      "source": [
        "df_ocupacion2 = df_ocupacion[['Temperature', 'Humidity', 'Light', 'CO2', 'HumidityRatio','Occupancy','hora_dia', 'dia']].copy()"
      ],
      "metadata": {
        "id": "5I80SOdsWC5Z"
      },
      "execution_count": 387,
      "outputs": []
    },
    {
      "cell_type": "code",
      "source": [
        "import seaborn as sns\n",
        "df_ocupacion2[df_ocupacion2['Occupancy']==1].hist(figsize=(15,15), xrot = 30)\n",
        "plt.show()"
      ],
      "metadata": {
        "colab": {
          "base_uri": "https://localhost:8080/",
          "height": 884
        },
        "id": "p5WNOyWPX06C",
        "outputId": "bf18d713-f640-40d4-a531-ffe59852c8ef"
      },
      "execution_count": 388,
      "outputs": [
        {
          "output_type": "display_data",
          "data": {
            "text/plain": [
              "<Figure size 1080x1080 with 9 Axes>"
            ],
            "image/png": "[encoded data removed]"
          },
          "metadata": {
            "needs_background": "light"
          }
        }
      ]
    },
    {
      "cell_type": "markdown",
      "source": [
        "**Mapa de calor para identificar la correlación entre variables**"
      ],
      "metadata": {
        "id": "5Ptg1MLzalFS"
      }
    },
    {
      "cell_type": "code",
      "source": [
        "var_corr = df_ocupacion.corr()"
      ],
      "metadata": {
        "id": "TA4duTo8ap6G"
      },
      "execution_count": 389,
      "outputs": []
    },
    {
      "cell_type": "code",
      "source": [
        "plt.figure(dpi = 100, figsize=(6,5))\n",
        "sns.heatmap(var_corr,annot=True,annot_kws={\"size\": 6 })"
      ],
      "metadata": {
        "colab": {
          "base_uri": "https://localhost:8080/",
          "height": 564
        },
        "id": "g9tHtUIva0is",
        "outputId": "63b27f46-1efe-4df0-9aae-f4272dd69bf5"
      },
      "execution_count": 390,
      "outputs": [
        {
          "output_type": "execute_result",
          "data": {
            "text/plain": [
              "<matplotlib.axes._subplots.AxesSubplot at 0x7fb3d6509e50>"
            ]
          },
          "metadata": {},
          "execution_count": 390
        },
        {
          "output_type": "display_data",
          "data": {
            "text/plain": [
              "<Figure size 600x500 with 2 Axes>"
            ],
            "image/png": "[encoded data removed]"
          },
          "metadata": {
            "needs_background": "light"
          }
        }
      ]
    },
    {
      "cell_type": "markdown",
      "source": [
        "* Se observa que, si bien no hay una relación altamente fuerte entre las variables características, si hay cierta relación por ejemplo de la temperatura con la luz y el CO2 y en cieta medida con el día.\n",
        "* La humedad guarda cierta relación con el día y el CO2.\n",
        "* Las columnas creadas podrían no llegar a aportar al modelo, dada la baja relación observada entre la variable objetivo y estas características."
      ],
      "metadata": {
        "id": "9Qhb-HMHchhp"
      }
    },
    {
      "cell_type": "code",
      "source": [
        "df_ocupacion.info()"
      ],
      "metadata": {
        "colab": {
          "base_uri": "https://localhost:8080/"
        },
        "id": "cIucG5wKdWJg",
        "outputId": "78aa4953-1ddb-4136-80c3-9ac1fd9c77df"
      },
      "execution_count": 391,
      "outputs": [
        {
          "output_type": "stream",
          "name": "stdout",
          "text": [
            "<class 'pandas.core.frame.DataFrame'>\n",
            "RangeIndex: 8143 entries, 0 to 8142\n",
            "Data columns (total 12 columns):\n",
            " #   Column            Non-Null Count  Dtype         \n",
            "---  ------            --------------  -----         \n",
            " 0   date              8143 non-null   object        \n",
            " 1   Temperature       8143 non-null   float64       \n",
            " 2   Humidity          8143 non-null   float64       \n",
            " 3   Light             8143 non-null   float64       \n",
            " 4   CO2               8143 non-null   float64       \n",
            " 5   HumidityRatio     8143 non-null   float64       \n",
            " 6   Occupancy         8143 non-null   int64         \n",
            " 7   date_data         8143 non-null   datetime64[ns]\n",
            " 8   data_numero       8143 non-null   float64       \n",
            " 9   hora_dia          8143 non-null   int64         \n",
            " 10  hora_min_militar  8143 non-null   int64         \n",
            " 11  dia               8143 non-null   int64         \n",
            "dtypes: datetime64[ns](1), float64(6), int64(4), object(1)\n",
            "memory usage: 763.5+ KB\n"
          ]
        }
      ]
    },
    {
      "cell_type": "markdown",
      "source": [
        "###**3) Crear matriz de características y vector objetivo**"
      ],
      "metadata": {
        "id": "SiLfhRGAdf5M"
      }
    },
    {
      "cell_type": "code",
      "source": [
        "X = df_ocupacion.drop(columns=['date','date_data','Occupancy'])\n",
        "y = df_ocupacion['Occupancy']\n",
        "X_train, X_test, y_train, y_test = train_test_split(X,y,random_state=42)"
      ],
      "metadata": {
        "id": "__R2fTACdozS"
      },
      "execution_count": 392,
      "outputs": []
    },
    {
      "cell_type": "markdown",
      "source": [
        "###**4) Instanciar el transformador, modelo (regresión logística inicialmente), pipeline**"
      ],
      "metadata": {
        "id": "4dZvkDkmeBlU"
      }
    },
    {
      "cell_type": "markdown",
      "source": [
        "**Instancia para el escalador**"
      ],
      "metadata": {
        "id": "JxNSaK8eeFBr"
      }
    },
    {
      "cell_type": "code",
      "source": [
        "scaler = StandardScaler()"
      ],
      "metadata": {
        "id": "GoT1g-RreBCA"
      },
      "execution_count": 393,
      "outputs": []
    },
    {
      "cell_type": "markdown",
      "source": [
        "**Instancia para el modelo de regresión logística**"
      ],
      "metadata": {
        "id": "NvL_LH-XeHsf"
      }
    },
    {
      "cell_type": "code",
      "source": [
        "log_reg_ocupacion = LogisticRegression(random_state=42)"
      ],
      "metadata": {
        "id": "nGtBt_7beLCe"
      },
      "execution_count": 394,
      "outputs": []
    },
    {
      "cell_type": "markdown",
      "source": [
        "**Instancia para pipeline**"
      ],
      "metadata": {
        "id": "_ui7HeVNeNec"
      }
    },
    {
      "cell_type": "code",
      "source": [
        "log_reg_pipe = make_pipeline(scaler,log_reg_ocupacion)"
      ],
      "metadata": {
        "id": "d1_e3lGneP44"
      },
      "execution_count": 395,
      "outputs": []
    },
    {
      "cell_type": "markdown",
      "source": [
        "###**5) Ajustar modelo a los datos de entrenamiento**"
      ],
      "metadata": {
        "id": "3rLUQyrFeXZ9"
      }
    },
    {
      "cell_type": "code",
      "source": [
        "log_reg_pipe.fit(X_train, y_train)"
      ],
      "metadata": {
        "colab": {
          "base_uri": "https://localhost:8080/"
        },
        "id": "FvziFPnjeYR6",
        "outputId": "a2a625b9-4040-4197-c526-01abe9ad384b"
      },
      "execution_count": 396,
      "outputs": [
        {
          "output_type": "execute_result",
          "data": {
            "text/plain": [
              "Pipeline(steps=[('standardscaler', StandardScaler()),\n",
              "                ('logisticregression', LogisticRegression(random_state=42))])"
            ]
          },
          "metadata": {},
          "execution_count": 396
        }
      ]
    },
    {
      "cell_type": "markdown",
      "source": [
        "###**6) Calcular las predicciones**"
      ],
      "metadata": {
        "id": "upm67NqaegHS"
      }
    },
    {
      "cell_type": "code",
      "source": [
        "log_reg_predic = log_reg_pipe.predict(X_test)\n",
        "log_reg_predic"
      ],
      "metadata": {
        "colab": {
          "base_uri": "https://localhost:8080/"
        },
        "id": "ScyzcsVPeg6W",
        "outputId": "a68f078d-a105-453e-80fc-fbaa4355cb54"
      },
      "execution_count": 397,
      "outputs": [
        {
          "output_type": "execute_result",
          "data": {
            "text/plain": [
              "array([0, 0, 0, ..., 0, 0, 0])"
            ]
          },
          "metadata": {},
          "execution_count": 397
        }
      ]
    },
    {
      "cell_type": "markdown",
      "source": [
        "###**7) Métricas para el modelo**"
      ],
      "metadata": {
        "id": "Ebl566hGelgc"
      }
    },
    {
      "cell_type": "markdown",
      "source": [
        "**Exactitud - Accuracy**"
      ],
      "metadata": {
        "id": "Iy0k-ZL-eoYl"
      }
    },
    {
      "cell_type": "code",
      "source": [
        "accuracy_train_logreg = log_reg_pipe.score(X_train,y_train)\n",
        "accuracy_test_log_reg = log_reg_pipe.score(X_test,y_test)\n",
        "print(f'El accuracy de entrenamiento es: {accuracy_train_logreg}\\nEl accuracy de prueba es: {accuracy_test_log_reg}')"
      ],
      "metadata": {
        "colab": {
          "base_uri": "https://localhost:8080/"
        },
        "id": "bKLAeST6ekom",
        "outputId": "44512862-4123-4944-a8dc-fff716edfe3c"
      },
      "execution_count": 398,
      "outputs": [
        {
          "output_type": "stream",
          "name": "stdout",
          "text": [
            "El accuracy de entrenamiento es: 0.9862452922875389\n",
            "El accuracy de prueba es: 0.9852652259332023\n"
          ]
        }
      ]
    },
    {
      "cell_type": "markdown",
      "source": [
        "**Matriz de confusión**"
      ],
      "metadata": {
        "id": "wonexWKvfp50"
      }
    },
    {
      "cell_type": "code",
      "source": [
        "plot_confusion_matrix(log_reg_pipe,X_test,y_test)"
      ],
      "metadata": {
        "colab": {
          "base_uri": "https://localhost:8080/",
          "height": 0
        },
        "id": "UpKrgysCfpSt",
        "outputId": "1629a68d-8ddb-4fe7-8f89-2e86d1e86147"
      },
      "execution_count": 399,
      "outputs": [
        {
          "output_type": "stream",
          "name": "stderr",
          "text": [
            "/usr/local/lib/python3.7/dist-packages/sklearn/utils/deprecation.py:87: FutureWarning: Function plot_confusion_matrix is deprecated; Function `plot_confusion_matrix` is deprecated in 1.0 and will be removed in 1.2. Use one of the class methods: ConfusionMatrixDisplay.from_predictions or ConfusionMatrixDisplay.from_estimator.\n",
            "  warnings.warn(msg, category=FutureWarning)\n"
          ]
        },
        {
          "output_type": "execute_result",
          "data": {
            "text/plain": [
              "<sklearn.metrics._plot.confusion_matrix.ConfusionMatrixDisplay at 0x7fb3d5d51b10>"
            ]
          },
          "metadata": {},
          "execution_count": 399
        },
        {
          "output_type": "display_data",
          "data": {
            "text/plain": [
              "<Figure size 432x288 with 2 Axes>"
            ],
            "image/png": "[encoded data removed]"
          },
          "metadata": {
            "needs_background": "light"
          }
        }
      ]
    },
    {
      "cell_type": "markdown",
      "source": [
        "**Otras métricas**"
      ],
      "metadata": {
        "id": "7Lqee09KfGEk"
      }
    },
    {
      "cell_type": "code",
      "source": [
        "print(classification_report(y_test,log_reg_predic))"
      ],
      "metadata": {
        "colab": {
          "base_uri": "https://localhost:8080/"
        },
        "id": "iLtAe_oyfFX7",
        "outputId": "ddc628ce-8c1a-4eb6-97a9-670d819790c5"
      },
      "execution_count": 400,
      "outputs": [
        {
          "output_type": "stream",
          "name": "stdout",
          "text": [
            "              precision    recall  f1-score   support\n",
            "\n",
            "           0       1.00      0.98      0.99      1607\n",
            "           1       0.94      0.99      0.97       429\n",
            "\n",
            "    accuracy                           0.99      2036\n",
            "   macro avg       0.97      0.99      0.98      2036\n",
            "weighted avg       0.99      0.99      0.99      2036\n",
            "\n"
          ]
        }
      ]
    },
    {
      "cell_type": "markdown",
      "source": [
        "**AUC ROC**"
      ],
      "metadata": {
        "id": "fylbxNUnfRj3"
      }
    },
    {
      "cell_type": "code",
      "source": [
        "print(f'AUC entrenamiento: {roc_auc_score(y_train, log_reg_pipe.predict_proba(X_train)[:,1])}')\n",
        "print(f'AUC pruebas: {roc_auc_score(y_test, log_reg_pipe.predict_proba(X_test)[:,1])}')"
      ],
      "metadata": {
        "colab": {
          "base_uri": "https://localhost:8080/"
        },
        "id": "qgVv4kzlfQ1D",
        "outputId": "f1ff19ea-9f85-402e-abe4-bae0bb33a0ad"
      },
      "execution_count": 401,
      "outputs": [
        {
          "output_type": "stream",
          "name": "stdout",
          "text": [
            "AUC entrenamiento: 0.9943049399113473\n",
            "AUC pruebas: 0.994295063990148\n"
          ]
        }
      ]
    },
    {
      "cell_type": "markdown",
      "source": [
        "**Curva AUC_ROC**"
      ],
      "metadata": {
        "id": "G4IXiivUfdK6"
      }
    },
    {
      "cell_type": "code",
      "source": [
        "RocCurveDisplay.from_estimator(log_reg_pipe,X_train,y_train)\n",
        "plt.plot([0,1],[0,1],ls='--', label='Línea base (AUC=0.5)')\n",
        "plt.legend()"
      ],
      "metadata": {
        "colab": {
          "base_uri": "https://localhost:8080/",
          "height": 0
        },
        "id": "Z0U1ZLcYfcdJ",
        "outputId": "b073c5ac-21a8-4e52-d575-148099875365"
      },
      "execution_count": 402,
      "outputs": [
        {
          "output_type": "execute_result",
          "data": {
            "text/plain": [
              "<matplotlib.legend.Legend at 0x7fb3ceba0950>"
            ]
          },
          "metadata": {},
          "execution_count": 402
        },
        {
          "output_type": "display_data",
          "data": {
            "text/plain": [
              "<Figure size 432x288 with 1 Axes>"
            ],
            "image/png": "[encoded data removed]"
          },
          "metadata": {
            "needs_background": "light"
          }
        }
      ]
    },
    {
      "cell_type": "markdown",
      "source": [
        "##**PRUEBAS DE OTROS MODELOS**"
      ],
      "metadata": {
        "id": "I-dmXaIqigfY"
      }
    },
    {
      "cell_type": "markdown",
      "source": [
        "###**MODELO: Bosque aleatorio**"
      ],
      "metadata": {
        "id": "0XK3CK5qikbU"
      }
    },
    {
      "cell_type": "code",
      "source": [
        "#**Instanciar el modelo de bosque aleatorio sin ningún hiperparámnetro**\n",
        "arbol_aleatorio = RandomForestClassifier(random_state=42)\n",
        "#**Crear pipeline**\n",
        "arbol_aleatorio_pipe = make_pipeline(scaler,arbol_aleatorio)\n",
        "#**Ajustar modelo a los datos de entrenamiento**\n",
        "arbol_aleatorio_pipe.fit(X_train,y_train)\n",
        "#**Predecir valores**\n",
        "tree_precitiones = arbol_aleatorio_pipe.predict(X_test)"
      ],
      "metadata": {
        "id": "aqY53aWZinaH"
      },
      "execution_count": 403,
      "outputs": []
    },
    {
      "cell_type": "markdown",
      "source": [
        "**Exactitud - Accuracy**"
      ],
      "metadata": {
        "id": "w0tH3U0JjbCR"
      }
    },
    {
      "cell_type": "code",
      "source": [
        "accuracy_train_tree = arbol_aleatorio_pipe.score(X_train,y_train)\n",
        "accuracy_test_tree = arbol_aleatorio_pipe.score(X_test,y_test)\n",
        "print(f'El accuracy de entrenamiento es: {accuracy_train_tree}\\nEl accuracy de prueba es: {accuracy_test_tree}')"
      ],
      "metadata": {
        "colab": {
          "base_uri": "https://localhost:8080/"
        },
        "id": "Wvwu0qhqjZBo",
        "outputId": "9e539a7f-26c7-4d0e-c8a5-2acba93f96d2"
      },
      "execution_count": 404,
      "outputs": [
        {
          "output_type": "stream",
          "name": "stdout",
          "text": [
            "El accuracy de entrenamiento es: 1.0\n",
            "El accuracy de prueba es: 0.9980353634577603\n"
          ]
        }
      ]
    },
    {
      "cell_type": "markdown",
      "source": [
        "**Matriz de confusión**"
      ],
      "metadata": {
        "id": "S76Ibl73j3RI"
      }
    },
    {
      "cell_type": "code",
      "source": [
        "plot_confusion_matrix(arbol_aleatorio_pipe,X_test,y_test)"
      ],
      "metadata": {
        "colab": {
          "base_uri": "https://localhost:8080/",
          "height": 0
        },
        "id": "-ZCoWHvbj4DN",
        "outputId": "6a564a86-64b4-4dd1-99cd-f323b9594e0e"
      },
      "execution_count": 405,
      "outputs": [
        {
          "output_type": "stream",
          "name": "stderr",
          "text": [
            "/usr/local/lib/python3.7/dist-packages/sklearn/utils/deprecation.py:87: FutureWarning: Function plot_confusion_matrix is deprecated; Function `plot_confusion_matrix` is deprecated in 1.0 and will be removed in 1.2. Use one of the class methods: ConfusionMatrixDisplay.from_predictions or ConfusionMatrixDisplay.from_estimator.\n",
            "  warnings.warn(msg, category=FutureWarning)\n"
          ]
        },
        {
          "output_type": "execute_result",
          "data": {
            "text/plain": [
              "<sklearn.metrics._plot.confusion_matrix.ConfusionMatrixDisplay at 0x7fb3d4c6a9d0>"
            ]
          },
          "metadata": {},
          "execution_count": 405
        },
        {
          "output_type": "display_data",
          "data": {
            "text/plain": [
              "<Figure size 432x288 with 2 Axes>"
            ],
            "image/png": "[encoded data removed]"
          },
          "metadata": {
            "needs_background": "light"
          }
        }
      ]
    },
    {
      "cell_type": "markdown",
      "source": [
        "**Otras métricas**"
      ],
      "metadata": {
        "id": "EP9ppx9vkFZU"
      }
    },
    {
      "cell_type": "code",
      "source": [
        "print(classification_report(y_test,tree_precitiones))"
      ],
      "metadata": {
        "colab": {
          "base_uri": "https://localhost:8080/"
        },
        "id": "C_YQb1EikEf9",
        "outputId": "c8db2be1-7676-416c-bfc6-d550f558b308"
      },
      "execution_count": 406,
      "outputs": [
        {
          "output_type": "stream",
          "name": "stdout",
          "text": [
            "              precision    recall  f1-score   support\n",
            "\n",
            "           0       1.00      1.00      1.00      1607\n",
            "           1       1.00      1.00      1.00       429\n",
            "\n",
            "    accuracy                           1.00      2036\n",
            "   macro avg       1.00      1.00      1.00      2036\n",
            "weighted avg       1.00      1.00      1.00      2036\n",
            "\n"
          ]
        }
      ]
    },
    {
      "cell_type": "markdown",
      "source": [
        "**AUC ROC**"
      ],
      "metadata": {
        "id": "n3ONnzz4m76I"
      }
    },
    {
      "cell_type": "code",
      "source": [
        "print(f'AUC entrenamiento: {roc_auc_score(y_train, arbol_aleatorio_pipe.predict_proba(X_train)[:,1])}')\n",
        "print(f'AUC pruebas: {roc_auc_score(y_test, arbol_aleatorio_pipe.predict_proba(X_test)[:,1])}')"
      ],
      "metadata": {
        "colab": {
          "base_uri": "https://localhost:8080/"
        },
        "id": "RtaipxuRm7KS",
        "outputId": "21b47935-a021-4a45-c72c-b8cc04d24194"
      },
      "execution_count": 407,
      "outputs": [
        {
          "output_type": "stream",
          "name": "stdout",
          "text": [
            "AUC entrenamiento: 1.0\n",
            "AUC pruebas: 0.999953583027634\n"
          ]
        }
      ]
    },
    {
      "cell_type": "markdown",
      "source": [
        "###**MODELO: KNN**"
      ],
      "metadata": {
        "id": "F5YIrl_XkZzT"
      }
    },
    {
      "cell_type": "code",
      "source": [
        "#**Instanciar el modelo de bosque aleatorio sin ningún hiperparámnetro**\n",
        "knn_ocupa = KNeighborsClassifier()\n",
        "#**Crear pipeline**\n",
        "ocupacion_knn_pipe = make_pipeline(scaler,knn_ocupa)\n",
        "#**Ajustar modelo a los datos de entrenamiento**\n",
        "ocupacion_knn_pipe.fit(X_train,y_train)\n",
        "#**Predecir valores**\n",
        "knn_precitiones = ocupacion_knn_pipe.predict(X_test)"
      ],
      "metadata": {
        "id": "PeRefFigkfvK"
      },
      "execution_count": 408,
      "outputs": []
    },
    {
      "cell_type": "markdown",
      "source": [
        "**Exactitud - Accuracy**"
      ],
      "metadata": {
        "id": "KNOH9qedmRbx"
      }
    },
    {
      "cell_type": "code",
      "source": [
        "accuracy_train_knn = ocupacion_knn_pipe.score(X_train,y_train)\n",
        "accuracy_test_knn = ocupacion_knn_pipe.score(X_test,y_test)\n",
        "print(f'El accuracy de entrenamiento es: {accuracy_train_knn}\\nEl accuracy de prueba es: {accuracy_test_knn}')"
      ],
      "metadata": {
        "colab": {
          "base_uri": "https://localhost:8080/"
        },
        "id": "-g5I91bYmR-s",
        "outputId": "f872265b-33ee-4077-90ab-c1b1a8c4c91c"
      },
      "execution_count": 409,
      "outputs": [
        {
          "output_type": "stream",
          "name": "stdout",
          "text": [
            "El accuracy de entrenamiento es: 0.9952513509087932\n",
            "El accuracy de prueba es: 0.9950884086444007\n"
          ]
        }
      ]
    },
    {
      "cell_type": "markdown",
      "source": [
        "**Matriz de confusión**"
      ],
      "metadata": {
        "id": "tKuR0wBHmkaT"
      }
    },
    {
      "cell_type": "code",
      "source": [
        "plot_confusion_matrix(ocupacion_knn_pipe,X_test,y_test)"
      ],
      "metadata": {
        "colab": {
          "base_uri": "https://localhost:8080/",
          "height": 0
        },
        "id": "wzH9eyxtmjvC",
        "outputId": "b1f3facf-69fa-4e68-b144-76288c87a05b"
      },
      "execution_count": 410,
      "outputs": [
        {
          "output_type": "stream",
          "name": "stderr",
          "text": [
            "/usr/local/lib/python3.7/dist-packages/sklearn/utils/deprecation.py:87: FutureWarning: Function plot_confusion_matrix is deprecated; Function `plot_confusion_matrix` is deprecated in 1.0 and will be removed in 1.2. Use one of the class methods: ConfusionMatrixDisplay.from_predictions or ConfusionMatrixDisplay.from_estimator.\n",
            "  warnings.warn(msg, category=FutureWarning)\n"
          ]
        },
        {
          "output_type": "execute_result",
          "data": {
            "text/plain": [
              "<sklearn.metrics._plot.confusion_matrix.ConfusionMatrixDisplay at 0x7fb3d529fd50>"
            ]
          },
          "metadata": {},
          "execution_count": 410
        },
        {
          "output_type": "display_data",
          "data": {
            "text/plain": [
              "<Figure size 432x288 with 2 Axes>"
            ],
            "image/png": "[encoded data removed]"
          },
          "metadata": {
            "needs_background": "light"
          }
        }
      ]
    },
    {
      "cell_type": "markdown",
      "source": [
        "**Otras métricas**"
      ],
      "metadata": {
        "id": "PDtyPktrmwxw"
      }
    },
    {
      "cell_type": "code",
      "source": [
        "print(classification_report(y_test,knn_precitiones))"
      ],
      "metadata": {
        "colab": {
          "base_uri": "https://localhost:8080/"
        },
        "id": "1l04nDvpmzpU",
        "outputId": "f9600a75-716a-4656-de63-1b72abb452ee"
      },
      "execution_count": 411,
      "outputs": [
        {
          "output_type": "stream",
          "name": "stdout",
          "text": [
            "              precision    recall  f1-score   support\n",
            "\n",
            "           0       1.00      1.00      1.00      1607\n",
            "           1       0.99      0.99      0.99       429\n",
            "\n",
            "    accuracy                           1.00      2036\n",
            "   macro avg       0.99      0.99      0.99      2036\n",
            "weighted avg       1.00      1.00      1.00      2036\n",
            "\n"
          ]
        }
      ]
    },
    {
      "cell_type": "markdown",
      "source": [
        "**AUC ROC**"
      ],
      "metadata": {
        "id": "fpyj4_CvnJwD"
      }
    },
    {
      "cell_type": "code",
      "source": [
        "print(f'AUC entrenamiento: {roc_auc_score(y_train, ocupacion_knn_pipe.predict_proba(X_train)[:,1])}')\n",
        "print(f'AUC pruebas: {roc_auc_score(y_test, ocupacion_knn_pipe.predict_proba(X_test)[:,1])}')"
      ],
      "metadata": {
        "colab": {
          "base_uri": "https://localhost:8080/"
        },
        "id": "AydjMICbnMCo",
        "outputId": "5305e209-cd94-4b2e-fc3c-89d2fff60a69"
      },
      "execution_count": 412,
      "outputs": [
        {
          "output_type": "stream",
          "name": "stdout",
          "text": [
            "AUC entrenamiento: 0.99991174729161\n",
            "AUC pruebas: 0.9998991881381427\n"
          ]
        }
      ]
    },
    {
      "cell_type": "code",
      "source": [
        "RocCurveDisplay.from_estimator(ocupacion_knn_pipe,X_train,y_train)\n",
        "plt.plot([0,1],[0,1],ls='--', label='Línea base (AUC=0.5)')\n",
        "plt.legend()"
      ],
      "metadata": {
        "colab": {
          "base_uri": "https://localhost:8080/",
          "height": 0
        },
        "id": "9vnaTVsLnw6D",
        "outputId": "81ac1819-4734-418f-9644-4655a06e6c5a"
      },
      "execution_count": 413,
      "outputs": [
        {
          "output_type": "execute_result",
          "data": {
            "text/plain": [
              "<matplotlib.legend.Legend at 0x7fb3ce52dd90>"
            ]
          },
          "metadata": {},
          "execution_count": 413
        },
        {
          "output_type": "display_data",
          "data": {
            "text/plain": [
              "<Figure size 432x288 with 1 Axes>"
            ],
            "image/png": "[encoded data removed]"
          },
          "metadata": {
            "needs_background": "light"
          }
        }
      ]
    },
    {
      "cell_type": "markdown",
      "source": [
        "##**PRUEBA SIN LIMPIEZA DE DATOS**"
      ],
      "metadata": {
        "id": "Q5bVT7ymqM72"
      }
    },
    {
      "cell_type": "markdown",
      "source": [
        "Tal como se indicó antes las columnas creadas para representación numérica de la fecha, la hora, el día no tenían una alta correlación con el objetivo, decidí repetir el análisis para validar esta idea."
      ],
      "metadata": {
        "id": "YbaQDM4yvpV0"
      }
    },
    {
      "cell_type": "code",
      "source": [
        "df_ocupacion3 = pd.read_csv('/content/drive/MyDrive/CODING DOJO/DATA SCIENCE/BELT EXAM 2/occupancy.csv')\n",
        "df_ocupacion3.head()"
      ],
      "metadata": {
        "colab": {
          "base_uri": "https://localhost:8080/",
          "height": 206
        },
        "id": "B9xxy3xnqMPV",
        "outputId": "48a5615d-0d41-4f35-9011-999b83bd94f4"
      },
      "execution_count": 414,
      "outputs": [
        {
          "output_type": "execute_result",
          "data": {
            "text/plain": [
              "                  date  Temperature  Humidity  Light     CO2  HumidityRatio  \\\n",
              "0  2015-02-04 17:51:00        23.18   27.2720  426.0  721.25       0.004793   \n",
              "1  2015-02-04 17:51:59        23.15   27.2675  429.5  714.00       0.004783   \n",
              "2  2015-02-04 17:53:00        23.15   27.2450  426.0  713.50       0.004779   \n",
              "3  2015-02-04 17:54:00        23.15   27.2000  426.0  708.25       0.004772   \n",
              "4  2015-02-04 17:55:00        23.10   27.2000  426.0  704.50       0.004757   \n",
              "\n",
              "   Occupancy  \n",
              "0          1  \n",
              "1          1  \n",
              "2          1  \n",
              "3          1  \n",
              "4          1  "
            ],
            "text/html": [
              "\n",
              "  <div id=\"df-494fc2cb-38b2-46bf-9cf6-811b18ed3b60\">\n",
              "    <div class=\"colab-df-container\">\n",
              "      <div>\n",
              "<style scoped>\n",
              "    .dataframe tbody tr th:only-of-type {\n",
              "        vertical-align: middle;\n",
              "    }\n",
              "\n",
              "    .dataframe tbody tr th {\n",
              "        vertical-align: top;\n",
              "    }\n",
              "\n",
              "    .dataframe thead th {\n",
              "        text-align: right;\n",
              "    }\n",
              "</style>\n",
              "<table border=\"1\" class=\"dataframe\">\n",
              "  <thead>\n",
              "    <tr style=\"text-align: right;\">\n",
              "      <th></th>\n",
              "      <th>date</th>\n",
              "      <th>Temperature</th>\n",
              "      <th>Humidity</th>\n",
              "      <th>Light</th>\n",
              "      <th>CO2</th>\n",
              "      <th>HumidityRatio</th>\n",
              "      <th>Occupancy</th>\n",
              "    </tr>\n",
              "  </thead>\n",
              "  <tbody>\n",
              "    <tr>\n",
              "      <th>0</th>\n",
              "      <td>2015-02-04 17:51:00</td>\n",
              "      <td>23.18</td>\n",
              "      <td>27.2720</td>\n",
              "      <td>426.0</td>\n",
              "      <td>721.25</td>\n",
              "      <td>0.004793</td>\n",
              "      <td>1</td>\n",
              "    </tr>\n",
              "    <tr>\n",
              "      <th>1</th>\n",
              "      <td>2015-02-04 17:51:59</td>\n",
              "      <td>23.15</td>\n",
              "      <td>27.2675</td>\n",
              "      <td>429.5</td>\n",
              "      <td>714.00</td>\n",
              "      <td>0.004783</td>\n",
              "      <td>1</td>\n",
              "    </tr>\n",
              "    <tr>\n",
              "      <th>2</th>\n",
              "      <td>2015-02-04 17:53:00</td>\n",
              "      <td>23.15</td>\n",
              "      <td>27.2450</td>\n",
              "      <td>426.0</td>\n",
              "      <td>713.50</td>\n",
              "      <td>0.004779</td>\n",
              "      <td>1</td>\n",
              "    </tr>\n",
              "    <tr>\n",
              "      <th>3</th>\n",
              "      <td>2015-02-04 17:54:00</td>\n",
              "      <td>23.15</td>\n",
              "      <td>27.2000</td>\n",
              "      <td>426.0</td>\n",
              "      <td>708.25</td>\n",
              "      <td>0.004772</td>\n",
              "      <td>1</td>\n",
              "    </tr>\n",
              "    <tr>\n",
              "      <th>4</th>\n",
              "      <td>2015-02-04 17:55:00</td>\n",
              "      <td>23.10</td>\n",
              "      <td>27.2000</td>\n",
              "      <td>426.0</td>\n",
              "      <td>704.50</td>\n",
              "      <td>0.004757</td>\n",
              "      <td>1</td>\n",
              "    </tr>\n",
              "  </tbody>\n",
              "</table>\n",
              "</div>\n",
              "      <button class=\"colab-df-convert\" onclick=\"convertToInteractive('df-494fc2cb-38b2-46bf-9cf6-811b18ed3b60')\"\n",
              "              title=\"Convert this dataframe to an interactive table.\"\n",
              "              style=\"display:none;\">\n",
              "        \n",
              "  <svg xmlns=\"http://www.w3.org/2000/svg\" height=\"24px\"viewBox=\"0 0 24 24\"\n",
              "       width=\"24px\">\n",
              "    <path d=\"M0 0h24v24H0V0z\" fill=\"none\"/>\n",
              "    <path d=\"M18.56 5.44l.94 2.06.94-2.06 2.06-.94-2.06-.94-.94-2.06-.94 2.06-2.06.94zm-11 1L8.5 8.5l.94-2.06 2.06-.94-2.06-.94L8.5 2.5l-.94 2.06-2.06.94zm10 10l.94 2.06.94-2.06 2.06-.94-2.06-.94-.94-2.06-.94 2.06-2.06.94z\"/><path d=\"M17.41 7.96l-1.37-1.37c-.4-.4-.92-.59-1.43-.59-.52 0-1.04.2-1.43.59L10.3 9.45l-7.72 7.72c-.78.78-.78 2.05 0 2.83L4 21.41c.39.39.9.59 1.41.59.51 0 1.02-.2 1.41-.59l7.78-7.78 2.81-2.81c.8-.78.8-2.07 0-2.86zM5.41 20L4 18.59l7.72-7.72 1.47 1.35L5.41 20z\"/>\n",
              "  </svg>\n",
              "      </button>\n",
              "      \n",
              "  <style>\n",
              "    .colab-df-container {\n",
              "      display:flex;\n",
              "      flex-wrap:wrap;\n",
              "      gap: 12px;\n",
              "    }\n",
              "\n",
              "    .colab-df-convert {\n",
              "      background-color: #E8F0FE;\n",
              "      border: none;\n",
              "      border-radius: 50%;\n",
              "      cursor: pointer;\n",
              "      display: none;\n",
              "      fill: #1967D2;\n",
              "      height: 32px;\n",
              "      padding: 0 0 0 0;\n",
              "      width: 32px;\n",
              "    }\n",
              "\n",
              "    .colab-df-convert:hover {\n",
              "      background-color: #E2EBFA;\n",
              "      box-shadow: 0px 1px 2px rgba(60, 64, 67, 0.3), 0px 1px 3px 1px rgba(60, 64, 67, 0.15);\n",
              "      fill: #174EA6;\n",
              "    }\n",
              "\n",
              "    [theme=dark] .colab-df-convert {\n",
              "      background-color: #3B4455;\n",
              "      fill: #D2E3FC;\n",
              "    }\n",
              "\n",
              "    [theme=dark] .colab-df-convert:hover {\n",
              "      background-color: #434B5C;\n",
              "      box-shadow: 0px 1px 3px 1px rgba(0, 0, 0, 0.15);\n",
              "      filter: drop-shadow(0px 1px 2px rgba(0, 0, 0, 0.3));\n",
              "      fill: #FFFFFF;\n",
              "    }\n",
              "  </style>\n",
              "\n",
              "      <script>\n",
              "        const buttonEl =\n",
              "          document.querySelector('#df-494fc2cb-38b2-46bf-9cf6-811b18ed3b60 button.colab-df-convert');\n",
              "        buttonEl.style.display =\n",
              "          google.colab.kernel.accessAllowed ? 'block' : 'none';\n",
              "\n",
              "        async function convertToInteractive(key) {\n",
              "          const element = document.querySelector('#df-494fc2cb-38b2-46bf-9cf6-811b18ed3b60');\n",
              "          const dataTable =\n",
              "            await google.colab.kernel.invokeFunction('convertToInteractive',\n",
              "                                                     [key], {});\n",
              "          if (!dataTable) return;\n",
              "\n",
              "          const docLinkHtml = 'Like what you see? Visit the ' +\n",
              "            '<a target=\"_blank\" href=https://colab.research.google.com/notebooks/data_table.ipynb>data table notebook</a>'\n",
              "            + ' to learn more about interactive tables.';\n",
              "          element.innerHTML = '';\n",
              "          dataTable['output_type'] = 'display_data';\n",
              "          await google.colab.output.renderOutput(dataTable, element);\n",
              "          const docLink = document.createElement('div');\n",
              "          docLink.innerHTML = docLinkHtml;\n",
              "          element.appendChild(docLink);\n",
              "        }\n",
              "      </script>\n",
              "    </div>\n",
              "  </div>\n",
              "  "
            ]
          },
          "metadata": {},
          "execution_count": 414
        }
      ]
    },
    {
      "cell_type": "code",
      "source": [
        "#**Crear la matriz de caracteríticas y el vector objetivo**\n",
        "X1 = df_ocupacion3.drop(columns=['date','Occupancy'])\n",
        "y1 = df_ocupacion3['Occupancy']\n",
        "X_train1, X_test1, y_train1, y_test1 = train_test_split(X1,y1,random_state=42)"
      ],
      "metadata": {
        "id": "YpUR7HPXqhN5"
      },
      "execution_count": 415,
      "outputs": []
    },
    {
      "cell_type": "markdown",
      "source": [
        "**MODELO KNN**"
      ],
      "metadata": {
        "id": "Zwq3TPE8q5ry"
      }
    },
    {
      "cell_type": "code",
      "source": [
        "#**Instanciar el modelo de bosque aleatorio sin ningún hiperparámnetro**\n",
        "knn_ocupa1 = KNeighborsClassifier()\n",
        "#**Crear pipeline**\n",
        "ocupacion_knn_pipe1 = make_pipeline(scaler,knn_ocupa1)\n",
        "#**Ajustar modelo a los datos de entrenamiento**\n",
        "ocupacion_knn_pipe1.fit(X_train1,y_train1)\n",
        "#**Predecir valores**\n",
        "knn_precitiones1 = ocupacion_knn_pipe1.predict(X_test1)\n",
        "#Accuracy\n",
        "accuracy_train_knn1 = ocupacion_knn_pipe1.score(X_train1,y_train1)\n",
        "accuracy_test_knn1 = ocupacion_knn_pipe1.score(X_test1,y_test1)\n",
        "print(f'El accuracy de entrenamiento es: {accuracy_train_knn1}\\nEl accuracy de prueba es: {accuracy_test_knn1}')"
      ],
      "metadata": {
        "colab": {
          "base_uri": "https://localhost:8080/"
        },
        "id": "6PMMlJ1Eq7sO",
        "outputId": "5c7338ed-a769-4287-b3d7-c520f42275d1"
      },
      "execution_count": 416,
      "outputs": [
        {
          "output_type": "stream",
          "name": "stdout",
          "text": [
            "El accuracy de entrenamiento es: 0.9949238578680203\n",
            "El accuracy de prueba es: 0.9950884086444007\n"
          ]
        }
      ]
    },
    {
      "cell_type": "code",
      "source": [
        "print(f'AUC entrenamiento: {roc_auc_score(y_train1, ocupacion_knn_pipe1.predict_proba(X_train1)[:,1])}')\n",
        "print(f'AUC pruebas: {roc_auc_score(y_test1, ocupacion_knn_pipe1.predict_proba(X_test1)[:,1])}')"
      ],
      "metadata": {
        "colab": {
          "base_uri": "https://localhost:8080/"
        },
        "id": "myH0RqA_tUQG",
        "outputId": "94afbca8-e8fb-48a3-a5eb-837be6530b43"
      },
      "execution_count": 417,
      "outputs": [
        {
          "output_type": "stream",
          "name": "stdout",
          "text": [
            "AUC entrenamiento: 0.9998937446992366\n",
            "AUC pruebas: 0.9999020891989155\n"
          ]
        }
      ]
    },
    {
      "cell_type": "markdown",
      "source": [
        "**MODELO BOSQUE ALEATORIO PARA CLASIFICACIÓN**"
      ],
      "metadata": {
        "id": "KKPoy0R0rp-W"
      }
    },
    {
      "cell_type": "code",
      "source": [
        "#**Instanciar el modelo de bosque aleatorio sin ningún hiperparámnetro**\n",
        "arbol_aleatorio1 = RandomForestClassifier(random_state=42)\n",
        "#**Crear pipeline**\n",
        "arbol_aleatorio_pipe1 = make_pipeline(scaler,arbol_aleatorio1)\n",
        "#**Ajustar modelo a los datos de entrenamiento**\n",
        "arbol_aleatorio_pipe1.fit(X_train1,y_train1)\n",
        "#**Predecir valores**\n",
        "tree_precitiones1 = arbol_aleatorio_pipe1.predict(X_test1)\n",
        "#Accuracy\n",
        "accuracy_train_tree1 = arbol_aleatorio_pipe1.score(X_train1,y_train1)\n",
        "accuracy_test_tree1 = arbol_aleatorio_pipe1.score(X_test1,y_test1)\n",
        "print(f'El accuracy de entrenamiento es: {accuracy_train_tree1}\\nEl accuracy de prueba es: {accuracy_test_tree1}')"
      ],
      "metadata": {
        "colab": {
          "base_uri": "https://localhost:8080/"
        },
        "id": "hXvEYgz4ruwZ",
        "outputId": "25f0fe0c-51e8-4dc5-b1fa-7a43489e0631"
      },
      "execution_count": 418,
      "outputs": [
        {
          "output_type": "stream",
          "name": "stdout",
          "text": [
            "El accuracy de entrenamiento es: 1.0\n",
            "El accuracy de prueba es: 0.9965618860510805\n"
          ]
        }
      ]
    },
    {
      "cell_type": "code",
      "source": [
        "print(f'AUC entrenamiento: {roc_auc_score(y_train1, arbol_aleatorio_pipe1.predict_proba(X_train1)[:,1])}')\n",
        "print(f'AUC pruebas: {roc_auc_score(y_test1, arbol_aleatorio_pipe1.predict_proba(X_test1)[:,1])}')"
      ],
      "metadata": {
        "colab": {
          "base_uri": "https://localhost:8080/"
        },
        "id": "kdI2tFiptcKj",
        "outputId": "c6300356-0d55-41ce-f98e-34867c0b6ec9"
      },
      "execution_count": 419,
      "outputs": [
        {
          "output_type": "stream",
          "name": "stdout",
          "text": [
            "AUC entrenamiento: 1.0\n",
            "AUC pruebas: 0.9999202208287461\n"
          ]
        }
      ]
    },
    {
      "cell_type": "markdown",
      "source": [
        "**MODELO REGRESIÓN LOGÍSTICA**"
      ],
      "metadata": {
        "id": "oi8g2na0swkP"
      }
    },
    {
      "cell_type": "code",
      "source": [
        "#**Instanciar el modelo de bosque aleatorio sin ningún hiperparámnetro**\n",
        "log_reg_ocupacion1 = LogisticRegression(random_state=42)\n",
        "#**Crear pipeline**\n",
        "log_reg_pipe1 = make_pipeline(scaler,log_reg_ocupacion1)\n",
        "#**Ajustar modelo a los datos de entrenamiento**\n",
        "log_reg_pipe1.fit(X_train1, y_train1)\n",
        "#**Predecir valores**\n",
        "log_reg_predic1 = log_reg_pipe1.predict(X_test1)\n",
        "#Accuracy\n",
        "accuracy_train_logreg1 = log_reg_pipe1.score(X_train1,y_train1)\n",
        "accuracy_test_log_reg1 = log_reg_pipe1.score(X_test1,y_test1)\n",
        "print(f'El accuracy de entrenamiento es: {accuracy_train_logreg1}\\nEl accuracy de prueba es: {accuracy_test_log_reg1}')"
      ],
      "metadata": {
        "colab": {
          "base_uri": "https://localhost:8080/"
        },
        "id": "YM4vl-cVs2xG",
        "outputId": "8e37d7f5-6ec8-447b-bf91-9a75396d230c"
      },
      "execution_count": 420,
      "outputs": [
        {
          "output_type": "stream",
          "name": "stdout",
          "text": [
            "El accuracy de entrenamiento es: 0.9864090388079253\n",
            "El accuracy de prueba es: 0.9852652259332023\n"
          ]
        }
      ]
    },
    {
      "cell_type": "code",
      "source": [
        "print(f'AUC entrenamiento: {roc_auc_score(y_train1, log_reg_pipe1.predict_proba(X_train1)[:,1])}')\n",
        "print(f'AUC pruebas: {roc_auc_score(y_test1, log_reg_pipe1.predict_proba(X_test1)[:,1])}')"
      ],
      "metadata": {
        "colab": {
          "base_uri": "https://localhost:8080/"
        },
        "id": "ECquu3j6tgLu",
        "outputId": "5fdc3d42-2362-413f-9094-7b444e39cb21"
      },
      "execution_count": 421,
      "outputs": [
        {
          "output_type": "stream",
          "name": "stdout",
          "text": [
            "AUC entrenamiento: 0.994402874013858\n",
            "AUC pruebas: 0.9946663997690756\n"
          ]
        }
      ]
    },
    {
      "cell_type": "markdown",
      "source": [
        "#**Conclusiones:**\n",
        "\n",
        "1. Finalmente el desbalance del conjunto de datos parace no afectar la predicción realizada.\n",
        "2. La regresión logística sin ajustes de hiperparámetro y regularización cumple de manera adecuada con el objetivo de la predicción.\n",
        "3. Las métricas son adecuadas, me preocupaban los falsos positivos y negativos, pero el desempeño general fue el adecuado para la necesidad del modelo.\n",
        "4. Luego de probar los modelos KNN y árboles de clasificación, se observa que ambos sin necesidad de ajustar hiperparámetros tiene un muy buen desempeño; aún así, la menor cantidad de falsos negativos y positivos los tiene el árbol de clasificación; por tanto, eligiría cualquiera de los método acá expuestos, la única razón para no aceptar el árbol de clasificación sería que se ajusta el 100% al conjunto de entrenamiento, pero tambíen al de prueba, así que para este caso funciona de forma adecuada.\n",
        "5. Finalmente, deseé probar si los cambios que hice en el dataset realmente afectaban el desempeño de los modelos en especial el AUC ROC, pero es claro que no, solo retirando las fechas es suficiente para que el modelo capture los patrones existentes entre las variables otorgadas originalmente en el dataset, dado que el valor numérico de la fecha tenía una."
      ],
      "metadata": {
        "id": "8qFXHlAZgVWy"
      }
    }
  ]
}