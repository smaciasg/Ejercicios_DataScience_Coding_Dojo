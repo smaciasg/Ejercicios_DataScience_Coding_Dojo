{
  "nbformat": 4,
  "nbformat_minor": 0,
  "metadata": {
    "colab": {
      "provenance": [],
      "collapsed_sections": [],
      "mount_file_id": "1qLscqU-bu1u1BsV3_RXo6GOydDepdr_d",
      "authorship_tag": "ABX9TyP+j81kzRkbaGgB2UyNYMhV",
      "include_colab_link": true
    },
    "kernelspec": {
      "name": "python3",
      "display_name": "Python 3"
    },
    "language_info": {
      "name": "python"
    }
  },
  "cells": [
    {
      "cell_type": "markdown",
      "metadata": {
        "id": "view-in-github",
        "colab_type": "text"
      },
      "source": [
        "<a href=\"https://colab.research.google.com/github/smaciasg/Ejercicios_DataScience_Coding_Dojo/blob/main/Ejercicio_de_pr%C3%A1ctica_sobre_el_%C3%A1rbol_de_clasificaci%C3%B3n_y_matriz_de_confusi%C3%B3n.ipynb\" target=\"_parent\"><img src=\"https://colab.research.google.com/assets/colab-badge.svg\" alt=\"Open In Colab\"/></a>"
      ]
    },
    {
      "cell_type": "markdown",
      "source": [
        "###**1) Importar las librerías necesarias**"
      ],
      "metadata": {
        "id": "rNOgEcEsJyqe"
      }
    },
    {
      "cell_type": "code",
      "execution_count": 3,
      "metadata": {
        "id": "e3llZI3DJgQ8"
      },
      "outputs": [],
      "source": [
        "import pandas as pd\n",
        "import numpy as np\n",
        "import matplotlib.pyplot as plt\n",
        "import sklearn\n",
        "#Librerías para el procesamiento\n",
        "from sklearn.preprocessing import OrdinalEncoder, StandardScaler\n",
        "from sklearn.model_selection import train_test_split\n",
        "from sklearn.compose import make_column_selector, make_column_transformer\n",
        "#Librerías de modelos\n",
        "from sklearn.tree import DecisionTreeClassifier\n",
        "from sklearn.ensemble import BaggingClassifier\n",
        "from sklearn.ensemble import RandomForestClassifier\n",
        "#Matriz de confusión\n",
        "from sklearn.metrics import plot_confusion_matrix"
      ]
    },
    {
      "cell_type": "markdown",
      "source": [
        "###**2) Cargar datos y explorarlos**"
      ],
      "metadata": {
        "id": "o3nhgcK9LAkG"
      }
    },
    {
      "cell_type": "code",
      "source": [
        "cancer = pd.read_csv('/content/drive/MyDrive/CODING DOJO/DATA SCIENCE/ACTIVIDADES SEMANA 7 - MODELOS DE PREDICCIÓN CLASIFICACIÓN/cancer.csv')\n",
        "cancer.head()"
      ],
      "metadata": {
        "colab": {
          "base_uri": "https://localhost:8080/",
          "height": 317
        },
        "id": "fRAva1WgLD9D",
        "outputId": "5473c99c-6deb-4c83-b20f-1c0c01dac10d"
      },
      "execution_count": 4,
      "outputs": [
        {
          "output_type": "execute_result",
          "data": {
            "text/plain": [
              "         id diagnosis  radius_mean  texture_mean  perimeter_mean  area_mean  \\\n",
              "0    842302         M        17.99         10.38          122.80     1001.0   \n",
              "1    842517         M        20.57         17.77          132.90     1326.0   \n",
              "2  84300903         M        19.69         21.25          130.00     1203.0   \n",
              "3  84348301         M        11.42         20.38           77.58      386.1   \n",
              "4  84358402         M        20.29         14.34          135.10     1297.0   \n",
              "\n",
              "   smoothness_mean  compactness_mean  concavity_mean  concave points_mean  \\\n",
              "0          0.11840           0.27760          0.3001              0.14710   \n",
              "1          0.08474           0.07864          0.0869              0.07017   \n",
              "2          0.10960           0.15990          0.1974              0.12790   \n",
              "3          0.14250           0.28390          0.2414              0.10520   \n",
              "4          0.10030           0.13280          0.1980              0.10430   \n",
              "\n",
              "   ...  radius_worst  texture_worst  perimeter_worst  area_worst  \\\n",
              "0  ...         25.38          17.33           184.60      2019.0   \n",
              "1  ...         24.99          23.41           158.80      1956.0   \n",
              "2  ...         23.57          25.53           152.50      1709.0   \n",
              "3  ...         14.91          26.50            98.87       567.7   \n",
              "4  ...         22.54          16.67           152.20      1575.0   \n",
              "\n",
              "   smoothness_worst  compactness_worst  concavity_worst  concave points_worst  \\\n",
              "0            0.1622             0.6656           0.7119                0.2654   \n",
              "1            0.1238             0.1866           0.2416                0.1860   \n",
              "2            0.1444             0.4245           0.4504                0.2430   \n",
              "3            0.2098             0.8663           0.6869                0.2575   \n",
              "4            0.1374             0.2050           0.4000                0.1625   \n",
              "\n",
              "   symmetry_worst  fractal_dimension_worst  \n",
              "0          0.4601                  0.11890  \n",
              "1          0.2750                  0.08902  \n",
              "2          0.3613                  0.08758  \n",
              "3          0.6638                  0.17300  \n",
              "4          0.2364                  0.07678  \n",
              "\n",
              "[5 rows x 32 columns]"
            ],
            "text/html": [
              "\n",
              "  <div id=\"df-e667494e-6e04-4150-89e3-c7fbe8a5fff4\">\n",
              "    <div class=\"colab-df-container\">\n",
              "      <div>\n",
              "<style scoped>\n",
              "    .dataframe tbody tr th:only-of-type {\n",
              "        vertical-align: middle;\n",
              "    }\n",
              "\n",
              "    .dataframe tbody tr th {\n",
              "        vertical-align: top;\n",
              "    }\n",
              "\n",
              "    .dataframe thead th {\n",
              "        text-align: right;\n",
              "    }\n",
              "</style>\n",
              "<table border=\"1\" class=\"dataframe\">\n",
              "  <thead>\n",
              "    <tr style=\"text-align: right;\">\n",
              "      <th></th>\n",
              "      <th>id</th>\n",
              "      <th>diagnosis</th>\n",
              "      <th>radius_mean</th>\n",
              "      <th>texture_mean</th>\n",
              "      <th>perimeter_mean</th>\n",
              "      <th>area_mean</th>\n",
              "      <th>smoothness_mean</th>\n",
              "      <th>compactness_mean</th>\n",
              "      <th>concavity_mean</th>\n",
              "      <th>concave points_mean</th>\n",
              "      <th>...</th>\n",
              "      <th>radius_worst</th>\n",
              "      <th>texture_worst</th>\n",
              "      <th>perimeter_worst</th>\n",
              "      <th>area_worst</th>\n",
              "      <th>smoothness_worst</th>\n",
              "      <th>compactness_worst</th>\n",
              "      <th>concavity_worst</th>\n",
              "      <th>concave points_worst</th>\n",
              "      <th>symmetry_worst</th>\n",
              "      <th>fractal_dimension_worst</th>\n",
              "    </tr>\n",
              "  </thead>\n",
              "  <tbody>\n",
              "    <tr>\n",
              "      <th>0</th>\n",
              "      <td>842302</td>\n",
              "      <td>M</td>\n",
              "      <td>17.99</td>\n",
              "      <td>10.38</td>\n",
              "      <td>122.80</td>\n",
              "      <td>1001.0</td>\n",
              "      <td>0.11840</td>\n",
              "      <td>0.27760</td>\n",
              "      <td>0.3001</td>\n",
              "      <td>0.14710</td>\n",
              "      <td>...</td>\n",
              "      <td>25.38</td>\n",
              "      <td>17.33</td>\n",
              "      <td>184.60</td>\n",
              "      <td>2019.0</td>\n",
              "      <td>0.1622</td>\n",
              "      <td>0.6656</td>\n",
              "      <td>0.7119</td>\n",
              "      <td>0.2654</td>\n",
              "      <td>0.4601</td>\n",
              "      <td>0.11890</td>\n",
              "    </tr>\n",
              "    <tr>\n",
              "      <th>1</th>\n",
              "      <td>842517</td>\n",
              "      <td>M</td>\n",
              "      <td>20.57</td>\n",
              "      <td>17.77</td>\n",
              "      <td>132.90</td>\n",
              "      <td>1326.0</td>\n",
              "      <td>0.08474</td>\n",
              "      <td>0.07864</td>\n",
              "      <td>0.0869</td>\n",
              "      <td>0.07017</td>\n",
              "      <td>...</td>\n",
              "      <td>24.99</td>\n",
              "      <td>23.41</td>\n",
              "      <td>158.80</td>\n",
              "      <td>1956.0</td>\n",
              "      <td>0.1238</td>\n",
              "      <td>0.1866</td>\n",
              "      <td>0.2416</td>\n",
              "      <td>0.1860</td>\n",
              "      <td>0.2750</td>\n",
              "      <td>0.08902</td>\n",
              "    </tr>\n",
              "    <tr>\n",
              "      <th>2</th>\n",
              "      <td>84300903</td>\n",
              "      <td>M</td>\n",
              "      <td>19.69</td>\n",
              "      <td>21.25</td>\n",
              "      <td>130.00</td>\n",
              "      <td>1203.0</td>\n",
              "      <td>0.10960</td>\n",
              "      <td>0.15990</td>\n",
              "      <td>0.1974</td>\n",
              "      <td>0.12790</td>\n",
              "      <td>...</td>\n",
              "      <td>23.57</td>\n",
              "      <td>25.53</td>\n",
              "      <td>152.50</td>\n",
              "      <td>1709.0</td>\n",
              "      <td>0.1444</td>\n",
              "      <td>0.4245</td>\n",
              "      <td>0.4504</td>\n",
              "      <td>0.2430</td>\n",
              "      <td>0.3613</td>\n",
              "      <td>0.08758</td>\n",
              "    </tr>\n",
              "    <tr>\n",
              "      <th>3</th>\n",
              "      <td>84348301</td>\n",
              "      <td>M</td>\n",
              "      <td>11.42</td>\n",
              "      <td>20.38</td>\n",
              "      <td>77.58</td>\n",
              "      <td>386.1</td>\n",
              "      <td>0.14250</td>\n",
              "      <td>0.28390</td>\n",
              "      <td>0.2414</td>\n",
              "      <td>0.10520</td>\n",
              "      <td>...</td>\n",
              "      <td>14.91</td>\n",
              "      <td>26.50</td>\n",
              "      <td>98.87</td>\n",
              "      <td>567.7</td>\n",
              "      <td>0.2098</td>\n",
              "      <td>0.8663</td>\n",
              "      <td>0.6869</td>\n",
              "      <td>0.2575</td>\n",
              "      <td>0.6638</td>\n",
              "      <td>0.17300</td>\n",
              "    </tr>\n",
              "    <tr>\n",
              "      <th>4</th>\n",
              "      <td>84358402</td>\n",
              "      <td>M</td>\n",
              "      <td>20.29</td>\n",
              "      <td>14.34</td>\n",
              "      <td>135.10</td>\n",
              "      <td>1297.0</td>\n",
              "      <td>0.10030</td>\n",
              "      <td>0.13280</td>\n",
              "      <td>0.1980</td>\n",
              "      <td>0.10430</td>\n",
              "      <td>...</td>\n",
              "      <td>22.54</td>\n",
              "      <td>16.67</td>\n",
              "      <td>152.20</td>\n",
              "      <td>1575.0</td>\n",
              "      <td>0.1374</td>\n",
              "      <td>0.2050</td>\n",
              "      <td>0.4000</td>\n",
              "      <td>0.1625</td>\n",
              "      <td>0.2364</td>\n",
              "      <td>0.07678</td>\n",
              "    </tr>\n",
              "  </tbody>\n",
              "</table>\n",
              "<p>5 rows × 32 columns</p>\n",
              "</div>\n",
              "      <button class=\"colab-df-convert\" onclick=\"convertToInteractive('df-e667494e-6e04-4150-89e3-c7fbe8a5fff4')\"\n",
              "              title=\"Convert this dataframe to an interactive table.\"\n",
              "              style=\"display:none;\">\n",
              "        \n",
              "  <svg xmlns=\"http://www.w3.org/2000/svg\" height=\"24px\"viewBox=\"0 0 24 24\"\n",
              "       width=\"24px\">\n",
              "    <path d=\"M0 0h24v24H0V0z\" fill=\"none\"/>\n",
              "    <path d=\"M18.56 5.44l.94 2.06.94-2.06 2.06-.94-2.06-.94-.94-2.06-.94 2.06-2.06.94zm-11 1L8.5 8.5l.94-2.06 2.06-.94-2.06-.94L8.5 2.5l-.94 2.06-2.06.94zm10 10l.94 2.06.94-2.06 2.06-.94-2.06-.94-.94-2.06-.94 2.06-2.06.94z\"/><path d=\"M17.41 7.96l-1.37-1.37c-.4-.4-.92-.59-1.43-.59-.52 0-1.04.2-1.43.59L10.3 9.45l-7.72 7.72c-.78.78-.78 2.05 0 2.83L4 21.41c.39.39.9.59 1.41.59.51 0 1.02-.2 1.41-.59l7.78-7.78 2.81-2.81c.8-.78.8-2.07 0-2.86zM5.41 20L4 18.59l7.72-7.72 1.47 1.35L5.41 20z\"/>\n",
              "  </svg>\n",
              "      </button>\n",
              "      \n",
              "  <style>\n",
              "    .colab-df-container {\n",
              "      display:flex;\n",
              "      flex-wrap:wrap;\n",
              "      gap: 12px;\n",
              "    }\n",
              "\n",
              "    .colab-df-convert {\n",
              "      background-color: #E8F0FE;\n",
              "      border: none;\n",
              "      border-radius: 50%;\n",
              "      cursor: pointer;\n",
              "      display: none;\n",
              "      fill: #1967D2;\n",
              "      height: 32px;\n",
              "      padding: 0 0 0 0;\n",
              "      width: 32px;\n",
              "    }\n",
              "\n",
              "    .colab-df-convert:hover {\n",
              "      background-color: #E2EBFA;\n",
              "      box-shadow: 0px 1px 2px rgba(60, 64, 67, 0.3), 0px 1px 3px 1px rgba(60, 64, 67, 0.15);\n",
              "      fill: #174EA6;\n",
              "    }\n",
              "\n",
              "    [theme=dark] .colab-df-convert {\n",
              "      background-color: #3B4455;\n",
              "      fill: #D2E3FC;\n",
              "    }\n",
              "\n",
              "    [theme=dark] .colab-df-convert:hover {\n",
              "      background-color: #434B5C;\n",
              "      box-shadow: 0px 1px 3px 1px rgba(0, 0, 0, 0.15);\n",
              "      filter: drop-shadow(0px 1px 2px rgba(0, 0, 0, 0.3));\n",
              "      fill: #FFFFFF;\n",
              "    }\n",
              "  </style>\n",
              "\n",
              "      <script>\n",
              "        const buttonEl =\n",
              "          document.querySelector('#df-e667494e-6e04-4150-89e3-c7fbe8a5fff4 button.colab-df-convert');\n",
              "        buttonEl.style.display =\n",
              "          google.colab.kernel.accessAllowed ? 'block' : 'none';\n",
              "\n",
              "        async function convertToInteractive(key) {\n",
              "          const element = document.querySelector('#df-e667494e-6e04-4150-89e3-c7fbe8a5fff4');\n",
              "          const dataTable =\n",
              "            await google.colab.kernel.invokeFunction('convertToInteractive',\n",
              "                                                     [key], {});\n",
              "          if (!dataTable) return;\n",
              "\n",
              "          const docLinkHtml = 'Like what you see? Visit the ' +\n",
              "            '<a target=\"_blank\" href=https://colab.research.google.com/notebooks/data_table.ipynb>data table notebook</a>'\n",
              "            + ' to learn more about interactive tables.';\n",
              "          element.innerHTML = '';\n",
              "          dataTable['output_type'] = 'display_data';\n",
              "          await google.colab.output.renderOutput(dataTable, element);\n",
              "          const docLink = document.createElement('div');\n",
              "          docLink.innerHTML = docLinkHtml;\n",
              "          element.appendChild(docLink);\n",
              "        }\n",
              "      </script>\n",
              "    </div>\n",
              "  </div>\n",
              "  "
            ]
          },
          "metadata": {},
          "execution_count": 4
        }
      ]
    },
    {
      "cell_type": "code",
      "source": [
        "cancer.info()\n",
        "#Solo hay una columna tipo objeto que es la columna categórica que se desea predecir que es dignosis, se va a transformar en una columna numérica entre 0 y 1 para 0:BENIGNO / 1:MALIGNO\n",
        "# El resto de columnas son float y no hay datos nulos, en este caso lo recomedable es escalar los datos numéricos."
      ],
      "metadata": {
        "colab": {
          "base_uri": "https://localhost:8080/"
        },
        "id": "__1iCAk4LPfJ",
        "outputId": "cb57cef6-61fc-4cca-fb7e-fb253be499b1"
      },
      "execution_count": 5,
      "outputs": [
        {
          "output_type": "stream",
          "name": "stdout",
          "text": [
            "<class 'pandas.core.frame.DataFrame'>\n",
            "RangeIndex: 569 entries, 0 to 568\n",
            "Data columns (total 32 columns):\n",
            " #   Column                   Non-Null Count  Dtype  \n",
            "---  ------                   --------------  -----  \n",
            " 0   id                       569 non-null    int64  \n",
            " 1   diagnosis                569 non-null    object \n",
            " 2   radius_mean              569 non-null    float64\n",
            " 3   texture_mean             569 non-null    float64\n",
            " 4   perimeter_mean           569 non-null    float64\n",
            " 5   area_mean                569 non-null    float64\n",
            " 6   smoothness_mean          569 non-null    float64\n",
            " 7   compactness_mean         569 non-null    float64\n",
            " 8   concavity_mean           569 non-null    float64\n",
            " 9   concave points_mean      569 non-null    float64\n",
            " 10  symmetry_mean            569 non-null    float64\n",
            " 11  fractal_dimension_mean   569 non-null    float64\n",
            " 12  radius_se                569 non-null    float64\n",
            " 13  texture_se               569 non-null    float64\n",
            " 14  perimeter_se             569 non-null    float64\n",
            " 15  area_se                  569 non-null    float64\n",
            " 16  smoothness_se            569 non-null    float64\n",
            " 17  compactness_se           569 non-null    float64\n",
            " 18  concavity_se             569 non-null    float64\n",
            " 19  concave points_se        569 non-null    float64\n",
            " 20  symmetry_se              569 non-null    float64\n",
            " 21  fractal_dimension_se     569 non-null    float64\n",
            " 22  radius_worst             569 non-null    float64\n",
            " 23  texture_worst            569 non-null    float64\n",
            " 24  perimeter_worst          569 non-null    float64\n",
            " 25  area_worst               569 non-null    float64\n",
            " 26  smoothness_worst         569 non-null    float64\n",
            " 27  compactness_worst        569 non-null    float64\n",
            " 28  concavity_worst          569 non-null    float64\n",
            " 29  concave points_worst     569 non-null    float64\n",
            " 30  symmetry_worst           569 non-null    float64\n",
            " 31  fractal_dimension_worst  569 non-null    float64\n",
            "dtypes: float64(30), int64(1), object(1)\n",
            "memory usage: 142.4+ KB\n"
          ]
        }
      ]
    },
    {
      "cell_type": "code",
      "source": [
        "cancer['diagnosis'].value_counts()"
      ],
      "metadata": {
        "colab": {
          "base_uri": "https://localhost:8080/"
        },
        "id": "MrDTro5YLz7v",
        "outputId": "8fb7d8f4-7acf-474f-f858-a260a6ac3f95"
      },
      "execution_count": 6,
      "outputs": [
        {
          "output_type": "execute_result",
          "data": {
            "text/plain": [
              "B    357\n",
              "M    212\n",
              "Name: diagnosis, dtype: int64"
            ]
          },
          "metadata": {},
          "execution_count": 6
        }
      ]
    },
    {
      "cell_type": "markdown",
      "source": [
        "###**3) Creación del modelo de validación, la matriz de características y el vector obejtivo**"
      ],
      "metadata": {
        "id": "oG0MR3B7L8uN"
      }
    },
    {
      "cell_type": "markdown",
      "source": [
        "**Transformación de las categorías de la columna diagnosis a valores**"
      ],
      "metadata": {
        "id": "Iz6FUMugMGgE"
      }
    },
    {
      "cell_type": "code",
      "source": [
        "cancer['diagnosis'] = cancer['diagnosis'].replace({'M':1, 'B':0})"
      ],
      "metadata": {
        "id": "9jJ_oBfDME5c"
      },
      "execution_count": 7,
      "outputs": []
    },
    {
      "cell_type": "code",
      "source": [
        "cancer['diagnosis'].value_counts()"
      ],
      "metadata": {
        "colab": {
          "base_uri": "https://localhost:8080/"
        },
        "id": "Ays2lZlBMVXt",
        "outputId": "7b1f40ec-b991-4203-9a26-137d90b91a09"
      },
      "execution_count": 8,
      "outputs": [
        {
          "output_type": "execute_result",
          "data": {
            "text/plain": [
              "0    357\n",
              "1    212\n",
              "Name: diagnosis, dtype: int64"
            ]
          },
          "metadata": {},
          "execution_count": 8
        }
      ]
    },
    {
      "cell_type": "markdown",
      "source": [
        "**Creación de la matriz de características y el vector objetivo**"
      ],
      "metadata": {
        "id": "FsfaQS6XMbJs"
      }
    },
    {
      "cell_type": "code",
      "source": [
        "#Dado que la columna ID es un valor único para cada caso se procede al retiro del mismo\n",
        "X = cancer.drop(columns=['diagnosis', 'id'])\n",
        "y = cancer['diagnosis']\n",
        "X_train, X_test, y_train, y_test = train_test_split(X,y,random_state=42)"
      ],
      "metadata": {
        "id": "1F9I1eqCMaTK"
      },
      "execution_count": 9,
      "outputs": []
    },
    {
      "cell_type": "markdown",
      "source": [
        "###**4) Transformación de los datos**"
      ],
      "metadata": {
        "id": "C7B-ugtaMv88"
      }
    },
    {
      "cell_type": "markdown",
      "source": [
        "**Instanciamos el transformador**"
      ],
      "metadata": {
        "id": "EEZJS5m0M98R"
      }
    },
    {
      "cell_type": "code",
      "source": [
        "#Dado que toda la matriz de características es numérica no es necesario usar un selector de columnas\n",
        "scaler = StandardScaler()"
      ],
      "metadata": {
        "id": "h4Zhz-zcMzpC"
      },
      "execution_count": 10,
      "outputs": []
    },
    {
      "cell_type": "markdown",
      "source": [
        "**Ajustado  entrenamiento del modelo con los datos de entranemiento**"
      ],
      "metadata": {
        "id": "WnIPeCGlNEyC"
      }
    },
    {
      "cell_type": "code",
      "source": [
        "scaler.fit(X_train)"
      ],
      "metadata": {
        "colab": {
          "base_uri": "https://localhost:8080/"
        },
        "id": "X-BC78vVNPZ8",
        "outputId": "32b69097-c945-4d40-f68d-06adb215ecc6"
      },
      "execution_count": 11,
      "outputs": [
        {
          "output_type": "execute_result",
          "data": {
            "text/plain": [
              "StandardScaler()"
            ]
          },
          "metadata": {},
          "execution_count": 11
        }
      ]
    },
    {
      "cell_type": "markdown",
      "source": [
        "**Tranformación de las matrices de entranmiento y prueba**"
      ],
      "metadata": {
        "id": "Uyt6tD6aNTIy"
      }
    },
    {
      "cell_type": "code",
      "source": [
        "train_scaler = scaler.transform(X_train)\n",
        "test_scaler = scaler.transform(X_test)"
      ],
      "metadata": {
        "id": "5eJYfmDgNYau"
      },
      "execution_count": 12,
      "outputs": []
    },
    {
      "cell_type": "code",
      "source": [
        "train_scaler"
      ],
      "metadata": {
        "colab": {
          "base_uri": "https://localhost:8080/"
        },
        "id": "Gq6FqxWJNh4S",
        "outputId": "7fed7745-9ed4-4f4f-b99c-043e3a07e9c6"
      },
      "execution_count": 13,
      "outputs": [
        {
          "output_type": "execute_result",
          "data": {
            "text/plain": [
              "array([[-0.34913849, -1.43851335, -0.41172595, ..., -0.91671059,\n",
              "        -0.92508585, -0.80841115],\n",
              "       [-0.20468665,  0.31264011, -0.13367256, ...,  1.43655962,\n",
              "         1.14955889,  1.56911143],\n",
              "       [-0.32931176, -0.21507235, -0.31739376, ..., -0.7237126 ,\n",
              "         0.53496977, -0.61934827],\n",
              "       ...,\n",
              "       [ 0.04739597, -0.56293662, -0.06529202, ..., -1.23262438,\n",
              "        -0.68282718, -1.261137  ],\n",
              "       [-0.04040808,  0.09966199, -0.03151368, ...,  1.08847951,\n",
              "         0.48944465,  1.26159953],\n",
              "       [-0.5502381 ,  0.31264011, -0.6040977 , ..., -0.59582424,\n",
              "        -0.29911546, -0.82948141]])"
            ]
          },
          "metadata": {},
          "execution_count": 13
        }
      ]
    },
    {
      "cell_type": "code",
      "source": [
        "test_scaler"
      ],
      "metadata": {
        "colab": {
          "base_uri": "https://localhost:8080/"
        },
        "id": "EyIipNKUNju8",
        "outputId": "52a43c8a-394b-405b-ce1b-7c9a477700fc"
      },
      "execution_count": 14,
      "outputs": [
        {
          "output_type": "execute_result",
          "data": {
            "text/plain": [
              "array([[-0.46809882, -0.14171322, -0.44468042, ..., -0.17331092,\n",
              "         0.22117163,  0.23655985],\n",
              "       [ 1.36445686,  0.49958757,  1.30643802, ...,  1.0294302 ,\n",
              "        -0.53161875, -0.99405722],\n",
              "       [ 0.37878549,  0.06653205,  0.40430925, ...,  0.6020997 ,\n",
              "        -0.06661217, -0.17972015],\n",
              "       ...,\n",
              "       [-0.87313045, -0.5605702 , -0.86361419, ..., -0.59582424,\n",
              "         0.19515727, -0.25830652],\n",
              "       [ 1.6108747 ,  0.69836715,  1.57007383, ...,  1.96023373,\n",
              "        -0.17879907, -0.40978461],\n",
              "       [-1.09405679, -1.65149148, -1.07658249, ..., -0.71003802,\n",
              "         0.09597755, -0.34885169]])"
            ]
          },
          "metadata": {},
          "execution_count": 14
        }
      ]
    },
    {
      "cell_type": "code",
      "source": [
        "X_test_df = pd.DataFrame(test_scaler,columns=X_test.columns)\n",
        "X_test_df"
      ],
      "metadata": {
        "colab": {
          "base_uri": "https://localhost:8080/",
          "height": 505
        },
        "id": "1F6x0yrONtqc",
        "outputId": "dc5d2d74-5301-46a4-daf0-b82a05448f9c"
      },
      "execution_count": 15,
      "outputs": [
        {
          "output_type": "execute_result",
          "data": {
            "text/plain": [
              "     radius_mean  texture_mean  perimeter_mean  area_mean  smoothness_mean  \\\n",
              "0      -0.468099     -0.141713       -0.444680  -0.485979         0.293371   \n",
              "1       1.364457      0.499588        1.306438   1.334411        -0.391720   \n",
              "2       0.378785      0.066532        0.404309   0.263973         0.977745   \n",
              "3      -0.487926     -0.359424       -0.429027  -0.525583         0.705429   \n",
              "4      -0.731511     -1.126145       -0.709964  -0.707875         0.306987   \n",
              "..           ...           ...             ...        ...              ...   \n",
              "138     0.146530     -0.936832        0.160034  -0.008481         1.264394   \n",
              "139     0.092714      0.241647        0.107307  -0.034322         0.226725   \n",
              "140    -0.873130     -0.560570       -0.863614  -0.791297         0.870252   \n",
              "141     1.610875      0.698367        1.570074   1.699557         0.197344   \n",
              "142    -1.094057     -1.651491       -1.076582  -0.936231         0.315586   \n",
              "\n",
              "     compactness_mean  concavity_mean  concave points_mean  symmetry_mean  \\\n",
              "0            0.064062       -0.094503            -0.252114       0.465735   \n",
              "1            0.007650        0.261460             0.840001      -0.814742   \n",
              "2            0.385023        0.753059             0.875964       0.488134   \n",
              "3            0.565928       -0.128126            -0.522366       0.040153   \n",
              "4            0.184665       -0.255992            -0.576575       0.066286   \n",
              "..                ...             ...                  ...            ...   \n",
              "138          0.610668        0.155244             0.605447       1.178770   \n",
              "139          0.351954        0.388817             0.318800       0.559064   \n",
              "140         -0.475931       -0.726068            -0.606721      -0.321964   \n",
              "141          0.003760        0.769615             1.249081      -0.814742   \n",
              "142         -0.526896       -0.869090            -0.742111      -0.000911   \n",
              "\n",
              "     fractal_dimension_mean  ...  radius_worst  texture_worst  \\\n",
              "0                  0.155596  ...     -0.260021      -0.144002   \n",
              "1                 -1.107774  ...      1.810752       0.178262   \n",
              "2                 -0.643707  ...      0.638221       0.081915   \n",
              "3                  1.165461  ...     -0.697626      -0.431382   \n",
              "4                  0.722173  ...     -0.827442      -0.967936   \n",
              "..                      ...  ...           ...            ...   \n",
              "138                0.118194  ...      0.026830      -1.207142   \n",
              "139                0.284427  ...      0.443497       0.766312   \n",
              "140                0.109882  ...     -0.796035       0.155006   \n",
              "141               -1.199202  ...      2.325828       0.892560   \n",
              "142                0.427110  ...     -1.011697      -1.637382   \n",
              "\n",
              "     perimeter_worst  area_worst  smoothness_worst  compactness_worst  \\\n",
              "0          -0.328029   -0.346843          0.491380          -0.066543   \n",
              "1           1.786327    1.757553         -0.513093          -0.094689   \n",
              "2           0.545259    0.499981          1.008706          -0.055820   \n",
              "3          -0.522967   -0.633959          0.594845           0.101666   \n",
              "4          -0.850791   -0.736690          0.142186          -0.240782   \n",
              "..               ...         ...               ...                ...   \n",
              "138         0.076075   -0.124200         -0.150966           0.409936   \n",
              "139         0.333370    0.301603          1.034572           1.057973   \n",
              "140        -0.815981   -0.712601          0.245651          -0.666999   \n",
              "141         2.418969    2.699846          0.862130           0.450815   \n",
              "142        -1.018789   -0.848809          0.133563          -0.554413   \n",
              "\n",
              "     concavity_worst  concave points_worst  symmetry_worst  \\\n",
              "0          -0.003007             -0.173311        0.221172   \n",
              "1           0.005044              1.029430       -0.531619   \n",
              "2           0.560546              0.602100       -0.066612   \n",
              "3          -0.137857             -0.605303       -0.523489   \n",
              "4          -0.442779             -0.675541       -0.892568   \n",
              "..               ...                   ...             ...   \n",
              "138        -0.036719              0.420290        0.443920   \n",
              "139         1.152276              1.105573        3.048607   \n",
              "140        -0.810095             -0.595824        0.195157   \n",
              "141         1.356061              1.960234       -0.178799   \n",
              "142        -0.913496             -0.710038        0.095978   \n",
              "\n",
              "     fractal_dimension_worst  \n",
              "0                   0.236560  \n",
              "1                  -0.994057  \n",
              "2                  -0.179720  \n",
              "3                   0.583365  \n",
              "4                  -0.114232  \n",
              "..                       ...  \n",
              "138                 0.078818  \n",
              "139                 1.022424  \n",
              "140                -0.258307  \n",
              "141                -0.409785  \n",
              "142                -0.348852  \n",
              "\n",
              "[143 rows x 30 columns]"
            ],
            "text/html": [
              "\n",
              "  <div id=\"df-f47bce71-fdff-49d9-b0d7-991e0233c3c1\">\n",
              "    <div class=\"colab-df-container\">\n",
              "      <div>\n",
              "<style scoped>\n",
              "    .dataframe tbody tr th:only-of-type {\n",
              "        vertical-align: middle;\n",
              "    }\n",
              "\n",
              "    .dataframe tbody tr th {\n",
              "        vertical-align: top;\n",
              "    }\n",
              "\n",
              "    .dataframe thead th {\n",
              "        text-align: right;\n",
              "    }\n",
              "</style>\n",
              "<table border=\"1\" class=\"dataframe\">\n",
              "  <thead>\n",
              "    <tr style=\"text-align: right;\">\n",
              "      <th></th>\n",
              "      <th>radius_mean</th>\n",
              "      <th>texture_mean</th>\n",
              "      <th>perimeter_mean</th>\n",
              "      <th>area_mean</th>\n",
              "      <th>smoothness_mean</th>\n",
              "      <th>compactness_mean</th>\n",
              "      <th>concavity_mean</th>\n",
              "      <th>concave points_mean</th>\n",
              "      <th>symmetry_mean</th>\n",
              "      <th>fractal_dimension_mean</th>\n",
              "      <th>...</th>\n",
              "      <th>radius_worst</th>\n",
              "      <th>texture_worst</th>\n",
              "      <th>perimeter_worst</th>\n",
              "      <th>area_worst</th>\n",
              "      <th>smoothness_worst</th>\n",
              "      <th>compactness_worst</th>\n",
              "      <th>concavity_worst</th>\n",
              "      <th>concave points_worst</th>\n",
              "      <th>symmetry_worst</th>\n",
              "      <th>fractal_dimension_worst</th>\n",
              "    </tr>\n",
              "  </thead>\n",
              "  <tbody>\n",
              "    <tr>\n",
              "      <th>0</th>\n",
              "      <td>-0.468099</td>\n",
              "      <td>-0.141713</td>\n",
              "      <td>-0.444680</td>\n",
              "      <td>-0.485979</td>\n",
              "      <td>0.293371</td>\n",
              "      <td>0.064062</td>\n",
              "      <td>-0.094503</td>\n",
              "      <td>-0.252114</td>\n",
              "      <td>0.465735</td>\n",
              "      <td>0.155596</td>\n",
              "      <td>...</td>\n",
              "      <td>-0.260021</td>\n",
              "      <td>-0.144002</td>\n",
              "      <td>-0.328029</td>\n",
              "      <td>-0.346843</td>\n",
              "      <td>0.491380</td>\n",
              "      <td>-0.066543</td>\n",
              "      <td>-0.003007</td>\n",
              "      <td>-0.173311</td>\n",
              "      <td>0.221172</td>\n",
              "      <td>0.236560</td>\n",
              "    </tr>\n",
              "    <tr>\n",
              "      <th>1</th>\n",
              "      <td>1.364457</td>\n",
              "      <td>0.499588</td>\n",
              "      <td>1.306438</td>\n",
              "      <td>1.334411</td>\n",
              "      <td>-0.391720</td>\n",
              "      <td>0.007650</td>\n",
              "      <td>0.261460</td>\n",
              "      <td>0.840001</td>\n",
              "      <td>-0.814742</td>\n",
              "      <td>-1.107774</td>\n",
              "      <td>...</td>\n",
              "      <td>1.810752</td>\n",
              "      <td>0.178262</td>\n",
              "      <td>1.786327</td>\n",
              "      <td>1.757553</td>\n",
              "      <td>-0.513093</td>\n",
              "      <td>-0.094689</td>\n",
              "      <td>0.005044</td>\n",
              "      <td>1.029430</td>\n",
              "      <td>-0.531619</td>\n",
              "      <td>-0.994057</td>\n",
              "    </tr>\n",
              "    <tr>\n",
              "      <th>2</th>\n",
              "      <td>0.378785</td>\n",
              "      <td>0.066532</td>\n",
              "      <td>0.404309</td>\n",
              "      <td>0.263973</td>\n",
              "      <td>0.977745</td>\n",
              "      <td>0.385023</td>\n",
              "      <td>0.753059</td>\n",
              "      <td>0.875964</td>\n",
              "      <td>0.488134</td>\n",
              "      <td>-0.643707</td>\n",
              "      <td>...</td>\n",
              "      <td>0.638221</td>\n",
              "      <td>0.081915</td>\n",
              "      <td>0.545259</td>\n",
              "      <td>0.499981</td>\n",
              "      <td>1.008706</td>\n",
              "      <td>-0.055820</td>\n",
              "      <td>0.560546</td>\n",
              "      <td>0.602100</td>\n",
              "      <td>-0.066612</td>\n",
              "      <td>-0.179720</td>\n",
              "    </tr>\n",
              "    <tr>\n",
              "      <th>3</th>\n",
              "      <td>-0.487926</td>\n",
              "      <td>-0.359424</td>\n",
              "      <td>-0.429027</td>\n",
              "      <td>-0.525583</td>\n",
              "      <td>0.705429</td>\n",
              "      <td>0.565928</td>\n",
              "      <td>-0.128126</td>\n",
              "      <td>-0.522366</td>\n",
              "      <td>0.040153</td>\n",
              "      <td>1.165461</td>\n",
              "      <td>...</td>\n",
              "      <td>-0.697626</td>\n",
              "      <td>-0.431382</td>\n",
              "      <td>-0.522967</td>\n",
              "      <td>-0.633959</td>\n",
              "      <td>0.594845</td>\n",
              "      <td>0.101666</td>\n",
              "      <td>-0.137857</td>\n",
              "      <td>-0.605303</td>\n",
              "      <td>-0.523489</td>\n",
              "      <td>0.583365</td>\n",
              "    </tr>\n",
              "    <tr>\n",
              "      <th>4</th>\n",
              "      <td>-0.731511</td>\n",
              "      <td>-1.126145</td>\n",
              "      <td>-0.709964</td>\n",
              "      <td>-0.707875</td>\n",
              "      <td>0.306987</td>\n",
              "      <td>0.184665</td>\n",
              "      <td>-0.255992</td>\n",
              "      <td>-0.576575</td>\n",
              "      <td>0.066286</td>\n",
              "      <td>0.722173</td>\n",
              "      <td>...</td>\n",
              "      <td>-0.827442</td>\n",
              "      <td>-0.967936</td>\n",
              "      <td>-0.850791</td>\n",
              "      <td>-0.736690</td>\n",
              "      <td>0.142186</td>\n",
              "      <td>-0.240782</td>\n",
              "      <td>-0.442779</td>\n",
              "      <td>-0.675541</td>\n",
              "      <td>-0.892568</td>\n",
              "      <td>-0.114232</td>\n",
              "    </tr>\n",
              "    <tr>\n",
              "      <th>...</th>\n",
              "      <td>...</td>\n",
              "      <td>...</td>\n",
              "      <td>...</td>\n",
              "      <td>...</td>\n",
              "      <td>...</td>\n",
              "      <td>...</td>\n",
              "      <td>...</td>\n",
              "      <td>...</td>\n",
              "      <td>...</td>\n",
              "      <td>...</td>\n",
              "      <td>...</td>\n",
              "      <td>...</td>\n",
              "      <td>...</td>\n",
              "      <td>...</td>\n",
              "      <td>...</td>\n",
              "      <td>...</td>\n",
              "      <td>...</td>\n",
              "      <td>...</td>\n",
              "      <td>...</td>\n",
              "      <td>...</td>\n",
              "      <td>...</td>\n",
              "    </tr>\n",
              "    <tr>\n",
              "      <th>138</th>\n",
              "      <td>0.146530</td>\n",
              "      <td>-0.936832</td>\n",
              "      <td>0.160034</td>\n",
              "      <td>-0.008481</td>\n",
              "      <td>1.264394</td>\n",
              "      <td>0.610668</td>\n",
              "      <td>0.155244</td>\n",
              "      <td>0.605447</td>\n",
              "      <td>1.178770</td>\n",
              "      <td>0.118194</td>\n",
              "      <td>...</td>\n",
              "      <td>0.026830</td>\n",
              "      <td>-1.207142</td>\n",
              "      <td>0.076075</td>\n",
              "      <td>-0.124200</td>\n",
              "      <td>-0.150966</td>\n",
              "      <td>0.409936</td>\n",
              "      <td>-0.036719</td>\n",
              "      <td>0.420290</td>\n",
              "      <td>0.443920</td>\n",
              "      <td>0.078818</td>\n",
              "    </tr>\n",
              "    <tr>\n",
              "      <th>139</th>\n",
              "      <td>0.092714</td>\n",
              "      <td>0.241647</td>\n",
              "      <td>0.107307</td>\n",
              "      <td>-0.034322</td>\n",
              "      <td>0.226725</td>\n",
              "      <td>0.351954</td>\n",
              "      <td>0.388817</td>\n",
              "      <td>0.318800</td>\n",
              "      <td>0.559064</td>\n",
              "      <td>0.284427</td>\n",
              "      <td>...</td>\n",
              "      <td>0.443497</td>\n",
              "      <td>0.766312</td>\n",
              "      <td>0.333370</td>\n",
              "      <td>0.301603</td>\n",
              "      <td>1.034572</td>\n",
              "      <td>1.057973</td>\n",
              "      <td>1.152276</td>\n",
              "      <td>1.105573</td>\n",
              "      <td>3.048607</td>\n",
              "      <td>1.022424</td>\n",
              "    </tr>\n",
              "    <tr>\n",
              "      <th>140</th>\n",
              "      <td>-0.873130</td>\n",
              "      <td>-0.560570</td>\n",
              "      <td>-0.863614</td>\n",
              "      <td>-0.791297</td>\n",
              "      <td>0.870252</td>\n",
              "      <td>-0.475931</td>\n",
              "      <td>-0.726068</td>\n",
              "      <td>-0.606721</td>\n",
              "      <td>-0.321964</td>\n",
              "      <td>0.109882</td>\n",
              "      <td>...</td>\n",
              "      <td>-0.796035</td>\n",
              "      <td>0.155006</td>\n",
              "      <td>-0.815981</td>\n",
              "      <td>-0.712601</td>\n",
              "      <td>0.245651</td>\n",
              "      <td>-0.666999</td>\n",
              "      <td>-0.810095</td>\n",
              "      <td>-0.595824</td>\n",
              "      <td>0.195157</td>\n",
              "      <td>-0.258307</td>\n",
              "    </tr>\n",
              "    <tr>\n",
              "      <th>141</th>\n",
              "      <td>1.610875</td>\n",
              "      <td>0.698367</td>\n",
              "      <td>1.570074</td>\n",
              "      <td>1.699557</td>\n",
              "      <td>0.197344</td>\n",
              "      <td>0.003760</td>\n",
              "      <td>0.769615</td>\n",
              "      <td>1.249081</td>\n",
              "      <td>-0.814742</td>\n",
              "      <td>-1.199202</td>\n",
              "      <td>...</td>\n",
              "      <td>2.325828</td>\n",
              "      <td>0.892560</td>\n",
              "      <td>2.418969</td>\n",
              "      <td>2.699846</td>\n",
              "      <td>0.862130</td>\n",
              "      <td>0.450815</td>\n",
              "      <td>1.356061</td>\n",
              "      <td>1.960234</td>\n",
              "      <td>-0.178799</td>\n",
              "      <td>-0.409785</td>\n",
              "    </tr>\n",
              "    <tr>\n",
              "      <th>142</th>\n",
              "      <td>-1.094057</td>\n",
              "      <td>-1.651491</td>\n",
              "      <td>-1.076582</td>\n",
              "      <td>-0.936231</td>\n",
              "      <td>0.315586</td>\n",
              "      <td>-0.526896</td>\n",
              "      <td>-0.869090</td>\n",
              "      <td>-0.742111</td>\n",
              "      <td>-0.000911</td>\n",
              "      <td>0.427110</td>\n",
              "      <td>...</td>\n",
              "      <td>-1.011697</td>\n",
              "      <td>-1.637382</td>\n",
              "      <td>-1.018789</td>\n",
              "      <td>-0.848809</td>\n",
              "      <td>0.133563</td>\n",
              "      <td>-0.554413</td>\n",
              "      <td>-0.913496</td>\n",
              "      <td>-0.710038</td>\n",
              "      <td>0.095978</td>\n",
              "      <td>-0.348852</td>\n",
              "    </tr>\n",
              "  </tbody>\n",
              "</table>\n",
              "<p>143 rows × 30 columns</p>\n",
              "</div>\n",
              "      <button class=\"colab-df-convert\" onclick=\"convertToInteractive('df-f47bce71-fdff-49d9-b0d7-991e0233c3c1')\"\n",
              "              title=\"Convert this dataframe to an interactive table.\"\n",
              "              style=\"display:none;\">\n",
              "        \n",
              "  <svg xmlns=\"http://www.w3.org/2000/svg\" height=\"24px\"viewBox=\"0 0 24 24\"\n",
              "       width=\"24px\">\n",
              "    <path d=\"M0 0h24v24H0V0z\" fill=\"none\"/>\n",
              "    <path d=\"M18.56 5.44l.94 2.06.94-2.06 2.06-.94-2.06-.94-.94-2.06-.94 2.06-2.06.94zm-11 1L8.5 8.5l.94-2.06 2.06-.94-2.06-.94L8.5 2.5l-.94 2.06-2.06.94zm10 10l.94 2.06.94-2.06 2.06-.94-2.06-.94-.94-2.06-.94 2.06-2.06.94z\"/><path d=\"M17.41 7.96l-1.37-1.37c-.4-.4-.92-.59-1.43-.59-.52 0-1.04.2-1.43.59L10.3 9.45l-7.72 7.72c-.78.78-.78 2.05 0 2.83L4 21.41c.39.39.9.59 1.41.59.51 0 1.02-.2 1.41-.59l7.78-7.78 2.81-2.81c.8-.78.8-2.07 0-2.86zM5.41 20L4 18.59l7.72-7.72 1.47 1.35L5.41 20z\"/>\n",
              "  </svg>\n",
              "      </button>\n",
              "      \n",
              "  <style>\n",
              "    .colab-df-container {\n",
              "      display:flex;\n",
              "      flex-wrap:wrap;\n",
              "      gap: 12px;\n",
              "    }\n",
              "\n",
              "    .colab-df-convert {\n",
              "      background-color: #E8F0FE;\n",
              "      border: none;\n",
              "      border-radius: 50%;\n",
              "      cursor: pointer;\n",
              "      display: none;\n",
              "      fill: #1967D2;\n",
              "      height: 32px;\n",
              "      padding: 0 0 0 0;\n",
              "      width: 32px;\n",
              "    }\n",
              "\n",
              "    .colab-df-convert:hover {\n",
              "      background-color: #E2EBFA;\n",
              "      box-shadow: 0px 1px 2px rgba(60, 64, 67, 0.3), 0px 1px 3px 1px rgba(60, 64, 67, 0.15);\n",
              "      fill: #174EA6;\n",
              "    }\n",
              "\n",
              "    [theme=dark] .colab-df-convert {\n",
              "      background-color: #3B4455;\n",
              "      fill: #D2E3FC;\n",
              "    }\n",
              "\n",
              "    [theme=dark] .colab-df-convert:hover {\n",
              "      background-color: #434B5C;\n",
              "      box-shadow: 0px 1px 3px 1px rgba(0, 0, 0, 0.15);\n",
              "      filter: drop-shadow(0px 1px 2px rgba(0, 0, 0, 0.3));\n",
              "      fill: #FFFFFF;\n",
              "    }\n",
              "  </style>\n",
              "\n",
              "      <script>\n",
              "        const buttonEl =\n",
              "          document.querySelector('#df-f47bce71-fdff-49d9-b0d7-991e0233c3c1 button.colab-df-convert');\n",
              "        buttonEl.style.display =\n",
              "          google.colab.kernel.accessAllowed ? 'block' : 'none';\n",
              "\n",
              "        async function convertToInteractive(key) {\n",
              "          const element = document.querySelector('#df-f47bce71-fdff-49d9-b0d7-991e0233c3c1');\n",
              "          const dataTable =\n",
              "            await google.colab.kernel.invokeFunction('convertToInteractive',\n",
              "                                                     [key], {});\n",
              "          if (!dataTable) return;\n",
              "\n",
              "          const docLinkHtml = 'Like what you see? Visit the ' +\n",
              "            '<a target=\"_blank\" href=https://colab.research.google.com/notebooks/data_table.ipynb>data table notebook</a>'\n",
              "            + ' to learn more about interactive tables.';\n",
              "          element.innerHTML = '';\n",
              "          dataTable['output_type'] = 'display_data';\n",
              "          await google.colab.output.renderOutput(dataTable, element);\n",
              "          const docLink = document.createElement('div');\n",
              "          docLink.innerHTML = docLinkHtml;\n",
              "          element.appendChild(docLink);\n",
              "        }\n",
              "      </script>\n",
              "    </div>\n",
              "  </div>\n",
              "  "
            ]
          },
          "metadata": {},
          "execution_count": 15
        }
      ]
    },
    {
      "cell_type": "markdown",
      "source": [
        "##**MODELO ÁRBOL DE DECISIONES PARA CLASIFICACIÓN**"
      ],
      "metadata": {
        "id": "4FMPBTMxOTtP"
      }
    },
    {
      "cell_type": "markdown",
      "source": [
        "###**1) Instanciamos el modelo**"
      ],
      "metadata": {
        "id": "XKc1QS2-OeuD"
      }
    },
    {
      "cell_type": "code",
      "source": [
        "arbol_clasificador = DecisionTreeClassifier(random_state=42)\n",
        "#Vamos a correr para ver si se sobreajusta y en tal caso se optimiza"
      ],
      "metadata": {
        "id": "w60kUm2HOaYn"
      },
      "execution_count": 16,
      "outputs": []
    },
    {
      "cell_type": "markdown",
      "source": [
        "###**2) Entrenar el modelo con los datos de entrenamiento**"
      ],
      "metadata": {
        "id": "xQG31nMMO6EH"
      }
    },
    {
      "cell_type": "code",
      "source": [
        "arbol_clasificador.fit(train_scaler, y_train)"
      ],
      "metadata": {
        "colab": {
          "base_uri": "https://localhost:8080/"
        },
        "id": "rqMQFx18PAaP",
        "outputId": "c2329ba8-6b2e-432a-f80d-bb0abd053143"
      },
      "execution_count": 17,
      "outputs": [
        {
          "output_type": "execute_result",
          "data": {
            "text/plain": [
              "DecisionTreeClassifier(random_state=42)"
            ]
          },
          "metadata": {},
          "execution_count": 17
        }
      ]
    },
    {
      "cell_type": "markdown",
      "source": [
        "###**3) Predecir las etiquetas del conjunto de pruebas**"
      ],
      "metadata": {
        "id": "5nIvfyG7PGfv"
      }
    },
    {
      "cell_type": "code",
      "source": [
        "arbol_clasificador.predict(test_scaler)"
      ],
      "metadata": {
        "colab": {
          "base_uri": "https://localhost:8080/"
        },
        "id": "LW1WOkcMPK9Q",
        "outputId": "9baef5f6-c95a-4025-a5a6-285334d407ad"
      },
      "execution_count": 18,
      "outputs": [
        {
          "output_type": "execute_result",
          "data": {
            "text/plain": [
              "array([0, 1, 1, 0, 0, 1, 1, 1, 0, 0, 0, 1, 0, 1, 0, 1, 0, 0, 0, 1, 0, 0,\n",
              "       1, 0, 0, 0, 0, 0, 0, 1, 0, 0, 0, 0, 0, 0, 1, 0, 1, 0, 0, 1, 0, 0,\n",
              "       0, 0, 1, 0, 0, 0, 1, 1, 0, 0, 0, 0, 0, 1, 1, 0, 0, 1, 1, 0, 0, 0,\n",
              "       1, 1, 0, 0, 1, 1, 0, 1, 0, 0, 0, 1, 0, 0, 1, 0, 0, 1, 1, 1, 1, 1,\n",
              "       0, 0, 0, 0, 1, 0, 0, 0, 1, 1, 0, 1, 1, 0, 1, 1, 0, 0, 0, 1, 0, 0,\n",
              "       1, 0, 0, 1, 0, 1, 0, 0, 0, 1, 1, 0, 0, 1, 0, 1, 1, 0, 0, 1, 1, 1,\n",
              "       0, 0, 0, 0, 1, 0, 0, 1, 0, 1, 0])"
            ]
          },
          "metadata": {},
          "execution_count": 18
        }
      ]
    },
    {
      "cell_type": "markdown",
      "source": [
        "###**4) Evaluar el rendimiento del modelo**"
      ],
      "metadata": {
        "id": "ldr4SNdHPPmn"
      }
    },
    {
      "cell_type": "code",
      "source": [
        "train_score = arbol_clasificador.score(train_scaler,y_train)\n",
        "test_score = arbol_clasificador.score(test_scaler,y_test)\n",
        "print(f'El score de cojunto de entrenamiento es: {train_score}\\nEL escore del conjunto de pruebas es: {test_score}')"
      ],
      "metadata": {
        "colab": {
          "base_uri": "https://localhost:8080/"
        },
        "id": "-SUjVpvqPTxk",
        "outputId": "0d22483a-1eaf-4d59-bccb-075364215806"
      },
      "execution_count": 19,
      "outputs": [
        {
          "output_type": "stream",
          "name": "stdout",
          "text": [
            "El score de cojunto de entrenamiento es: 1.0\n",
            "EL escore del conjunto de pruebas es: 0.951048951048951\n"
          ]
        }
      ]
    },
    {
      "cell_type": "code",
      "source": [
        "#El modelo se puede estar sobre ajustando vamos a intentar optimizarlo\n",
        "arbol_clasificador.get_depth()"
      ],
      "metadata": {
        "colab": {
          "base_uri": "https://localhost:8080/"
        },
        "id": "xgZAexbjPsp6",
        "outputId": "9cfebda4-19b3-482e-dd9e-e63c00322cd7"
      },
      "execution_count": 20,
      "outputs": [
        {
          "output_type": "execute_result",
          "data": {
            "text/plain": [
              "7"
            ]
          },
          "metadata": {},
          "execution_count": 20
        }
      ]
    },
    {
      "cell_type": "markdown",
      "source": [
        "**Función para optimización**"
      ],
      "metadata": {
        "id": "mY5vii1IP2eb"
      }
    },
    {
      "cell_type": "code",
      "source": [
        "# Lista de valores a probar para max_depth:\n",
        "max_depth_range = list(range(2, arbol_clasificador.get_depth()))# will try every value between 2 and 36\n",
        "# Lista para almacenar la puntuación para cada valor de max_depth:\n",
        "score_optimo = []\n",
        "depth_optimo = {}\n",
        "for depth in max_depth_range:\n",
        "    dec_tree = DecisionTreeClassifier(max_depth = depth, \n",
        "                             random_state = 42)\n",
        "    dec_tree.fit(X_train, y_train)\n",
        "    score = dec_tree.score(X_test, y_test)\n",
        "    score_optimo.append(score)\n",
        "    depth_optimo[score] = depth"
      ],
      "metadata": {
        "id": "wq1ta_33P5O1"
      },
      "execution_count": 21,
      "outputs": []
    },
    {
      "cell_type": "code",
      "source": [
        "#Valor óptimo de la profundidad es\n",
        "val_depth_optimo = depth_optimo.get(max(score_optimo))\n",
        "val_depth_optimo"
      ],
      "metadata": {
        "colab": {
          "base_uri": "https://localhost:8080/"
        },
        "id": "PrDgnHnKQKAG",
        "outputId": "c469258f-2c8f-4f1c-ac58-f89df252e6f4"
      },
      "execution_count": 22,
      "outputs": [
        {
          "output_type": "execute_result",
          "data": {
            "text/plain": [
              "5"
            ]
          },
          "metadata": {},
          "execution_count": 22
        }
      ]
    },
    {
      "cell_type": "markdown",
      "source": [
        "###**5) Optimizar modelo**"
      ],
      "metadata": {
        "id": "Se4NgGn1QUYr"
      }
    },
    {
      "cell_type": "code",
      "source": [
        "#Árbol ajustado con la profundidad óptima encontrada\n",
        "arbol_clasificador = DecisionTreeClassifier(random_state=42, max_depth=val_depth_optimo)\n",
        "#Entranmiento del modelo con los datos de entrenamiento\n",
        "arbol_clasificador.fit(train_scaler, y_train)\n",
        "#Predicción de clases del conjunto de prueba\n",
        "arbol_clasificador.predict(X_test)\n",
        "#Obteción del score de entrenamiento y de prueba\n",
        "train_score = arbol_clasificador.score(train_scaler,y_train)\n",
        "test_score = arbol_clasificador.score(test_scaler,y_test)\n",
        "print(f'El score de cojunto de entrenamiento es: {train_score}\\nEL escore del conjunto de pruebas es: {test_score}')"
      ],
      "metadata": {
        "colab": {
          "base_uri": "https://localhost:8080/"
        },
        "id": "GHktQg4YQZhN",
        "outputId": "cc221c80-b2a1-4f11-80ef-4c75030c7ca9"
      },
      "execution_count": 23,
      "outputs": [
        {
          "output_type": "stream",
          "name": "stdout",
          "text": [
            "El score de cojunto de entrenamiento es: 0.9953051643192489\n",
            "EL escore del conjunto de pruebas es: 0.958041958041958\n"
          ]
        },
        {
          "output_type": "stream",
          "name": "stderr",
          "text": [
            "/usr/local/lib/python3.7/dist-packages/sklearn/base.py:444: UserWarning: X has feature names, but DecisionTreeClassifier was fitted without feature names\n",
            "  f\"X has feature names, but {self.__class__.__name__} was fitted without\"\n"
          ]
        }
      ]
    },
    {
      "cell_type": "markdown",
      "source": [
        "Si bien no se observa procentualmente hablando una mejoría en gran medida del modelo, al menos ya no está totalmente sobrejustado."
      ],
      "metadata": {
        "id": "IhFlnBX-Q4pa"
      }
    },
    {
      "cell_type": "markdown",
      "source": [
        "###**MATRIZ DE CONFUSIÓN**"
      ],
      "metadata": {
        "id": "rMTM_zzL2wF4"
      }
    },
    {
      "cell_type": "code",
      "source": [
        "plot_confusion_matrix(arbol_clasificador,test_scaler,y_test)\n",
        "plt.show()"
      ],
      "metadata": {
        "colab": {
          "base_uri": "https://localhost:8080/",
          "height": 335
        },
        "id": "lrtQqART20Jh",
        "outputId": "3fdbfed3-e127-4bfc-bace-808970a8e549"
      },
      "execution_count": 41,
      "outputs": [
        {
          "output_type": "stream",
          "name": "stderr",
          "text": [
            "/usr/local/lib/python3.7/dist-packages/sklearn/utils/deprecation.py:87: FutureWarning: Function plot_confusion_matrix is deprecated; Function `plot_confusion_matrix` is deprecated in 1.0 and will be removed in 1.2. Use one of the class methods: ConfusionMatrixDisplay.from_predictions or ConfusionMatrixDisplay.from_estimator.\n",
            "  warnings.warn(msg, category=FutureWarning)\n"
          ]
        },
        {
          "output_type": "display_data",
          "data": {
            "text/plain": [
              "<Figure size 432x288 with 2 Axes>"
            ],
            "image/png": "[encoded data removed]"
          },
          "metadata": {
            "needs_background": "light"
          }
        }
      ]
    },
    {
      "cell_type": "markdown",
      "source": [
        "1. ¿Qué condición (maligno o benigno) se considera la clase positiva en este conjunto de datos?\n",
        "\n",
        "R/ Positivo se considera maligno y negativo benigno\n",
        "\n",
        "2. ¿Cuántos falsos positivos había? \n",
        "\n",
        "R/ 4\n",
        "\n",
        "3.  ¿Cuántos falsos negativos había?\n",
        "\n",
        "R/ 2\n",
        "\n",
        "4. Para el conjunto de datos de cáncer de mama, ¿cuál creen que sea el más problemático: los falsos positivos o los falsos negativos? Expliquen.  \n",
        "\n",
        "R/ Depende, si el tratamiento se asigna solo con esta clasificación, es grava el falso positivo, pues se podría llegar a aplicar un tratamiento agresivo a alguien que no lo requiere, aparte de los gastos que implica para el sistema de salud y una posible demanda. Si se tiene un falso negativo, la persona podría morir. Ambos casos son complejos."
      ],
      "metadata": {
        "id": "JHtdl2g531AL"
      }
    },
    {
      "cell_type": "markdown",
      "source": [],
      "metadata": {
        "id": "rxEze_-l3y6u"
      }
    },
    {
      "cell_type": "markdown",
      "source": [
        "##**MODELO BAGGED TREES**"
      ],
      "metadata": {
        "id": "hfDWeaGPRCQ1"
      }
    },
    {
      "cell_type": "markdown",
      "source": [
        "###**1) Instanciar el modelo**"
      ],
      "metadata": {
        "id": "vBm49oS8RLHE"
      }
    },
    {
      "cell_type": "code",
      "source": [
        "bagreg = BaggingClassifier(DecisionTreeClassifier(), n_estimators=10 ,random_state=42, bootstrap=True)"
      ],
      "metadata": {
        "id": "JWCD_fIyUx2B"
      },
      "execution_count": 25,
      "outputs": []
    },
    {
      "cell_type": "markdown",
      "source": [
        "###**2) Entrenar el modelo con los datos de entrenamiento**"
      ],
      "metadata": {
        "id": "PUr15y0EU-2N"
      }
    },
    {
      "cell_type": "code",
      "source": [
        "bagreg.fit(train_scaler,y_train)"
      ],
      "metadata": {
        "colab": {
          "base_uri": "https://localhost:8080/"
        },
        "id": "wCXft1ICU0W3",
        "outputId": "cc2ecba7-3a97-4e40-ca55-a5311c1baeb3"
      },
      "execution_count": 26,
      "outputs": [
        {
          "output_type": "execute_result",
          "data": {
            "text/plain": [
              "BaggingClassifier(base_estimator=DecisionTreeClassifier(), random_state=42)"
            ]
          },
          "metadata": {},
          "execution_count": 26
        }
      ]
    },
    {
      "cell_type": "markdown",
      "source": [
        "###**3) Predecir los valores para y desde el conjunto de pruebas**"
      ],
      "metadata": {
        "id": "Ke0ujFAeVNgd"
      }
    },
    {
      "cell_type": "code",
      "source": [
        "bagreg.predict(test_scaler)"
      ],
      "metadata": {
        "colab": {
          "base_uri": "https://localhost:8080/"
        },
        "id": "1D4u0qf3VS4S",
        "outputId": "8d9622a0-2128-4c0d-efdd-a3535794d173"
      },
      "execution_count": 27,
      "outputs": [
        {
          "output_type": "execute_result",
          "data": {
            "text/plain": [
              "array([0, 1, 1, 0, 0, 1, 1, 1, 1, 0, 0, 1, 0, 1, 0, 1, 0, 0, 0, 1, 0, 0,\n",
              "       1, 0, 0, 0, 0, 0, 0, 1, 0, 0, 0, 0, 0, 0, 1, 0, 1, 0, 0, 1, 0, 0,\n",
              "       0, 0, 0, 0, 0, 0, 1, 1, 0, 0, 0, 0, 0, 1, 1, 0, 0, 1, 1, 0, 0, 0,\n",
              "       1, 1, 0, 0, 1, 1, 0, 1, 0, 0, 0, 0, 0, 0, 1, 0, 0, 1, 1, 1, 1, 1,\n",
              "       0, 0, 0, 0, 0, 0, 0, 0, 1, 1, 0, 1, 1, 0, 1, 1, 0, 0, 0, 1, 1, 0,\n",
              "       1, 0, 0, 1, 0, 1, 0, 0, 0, 1, 1, 0, 0, 1, 0, 1, 1, 0, 0, 1, 1, 1,\n",
              "       0, 0, 0, 1, 1, 0, 0, 1, 0, 1, 0])"
            ]
          },
          "metadata": {},
          "execution_count": 27
        }
      ]
    },
    {
      "cell_type": "markdown",
      "source": [
        "###**4) Evaluar el rendimiento del modelo**"
      ],
      "metadata": {
        "id": "PB5i9wGgVacB"
      }
    },
    {
      "cell_type": "code",
      "source": [
        "train_score_ba = bagreg.score(train_scaler,y_train)\n",
        "test_score_ba = bagreg.score(test_scaler,y_test)\n",
        "print(f'El score de cojunto de entrenamiento es: {train_score_ba}\\nEL escore del conjunto de pruebas es: {test_score_ba}')"
      ],
      "metadata": {
        "colab": {
          "base_uri": "https://localhost:8080/"
        },
        "id": "P4i_pgeFVllf",
        "outputId": "534ba1ff-bc28-4af9-9aa6-782597d2166f"
      },
      "execution_count": 28,
      "outputs": [
        {
          "output_type": "stream",
          "name": "stdout",
          "text": [
            "El score de cojunto de entrenamiento es: 0.9929577464788732\n",
            "EL escore del conjunto de pruebas es: 0.951048951048951\n"
          ]
        }
      ]
    },
    {
      "cell_type": "markdown",
      "source": [
        "Al evaluar el modelo con bootstrap = False, el score de entrenamiento se vuelve 1, lo que indica que el modelo se estaría sobreajustando."
      ],
      "metadata": {
        "id": "l8CkNHLXWLTt"
      }
    },
    {
      "cell_type": "markdown",
      "source": [
        "###**MATRIZ DE CONFUSIÓN**"
      ],
      "metadata": {
        "id": "RfhPmugT52Fl"
      }
    },
    {
      "cell_type": "code",
      "source": [
        "plot_confusion_matrix(bagreg,test_scaler,y_test)\n",
        "plt.show()"
      ],
      "metadata": {
        "colab": {
          "base_uri": "https://localhost:8080/",
          "height": 335
        },
        "id": "2g2k1EGv5tr_",
        "outputId": "9f93fe2f-2016-4b54-bfce-7280bac59f9d"
      },
      "execution_count": 40,
      "outputs": [
        {
          "output_type": "stream",
          "name": "stderr",
          "text": [
            "/usr/local/lib/python3.7/dist-packages/sklearn/utils/deprecation.py:87: FutureWarning: Function plot_confusion_matrix is deprecated; Function `plot_confusion_matrix` is deprecated in 1.0 and will be removed in 1.2. Use one of the class methods: ConfusionMatrixDisplay.from_predictions or ConfusionMatrixDisplay.from_estimator.\n",
            "  warnings.warn(msg, category=FutureWarning)\n"
          ]
        },
        {
          "output_type": "display_data",
          "data": {
            "text/plain": [
              "<Figure size 432x288 with 2 Axes>"
            ],
            "image/png": "[encoded data removed]"
          },
          "metadata": {
            "needs_background": "light"
          }
        }
      ]
    },
    {
      "cell_type": "markdown",
      "source": [
        "##**MODELO BOSQUES ALEATORIOS PARA CLASIFICACIÓN**"
      ],
      "metadata": {
        "id": "DwAIDJIRWc4S"
      }
    },
    {
      "cell_type": "markdown",
      "source": [
        "###**1) Instanciar el modelo**"
      ],
      "metadata": {
        "id": "a8czsa1jWlIf"
      }
    },
    {
      "cell_type": "code",
      "source": [
        "rf_clasificador = RandomForestClassifier(random_state=42)\n",
        "#Por ahora no se optimiza, se espera el resultado de los scores de entrenamiento y de prueba"
      ],
      "metadata": {
        "id": "HMsheHxXWiFf"
      },
      "execution_count": 29,
      "outputs": []
    },
    {
      "cell_type": "markdown",
      "source": [
        "###**2) Entrenar el modelo con los datos de entrenamiento**"
      ],
      "metadata": {
        "id": "64BXoJwuW8g5"
      }
    },
    {
      "cell_type": "code",
      "source": [
        "rf_clasificador.fit(train_scaler,y_train)"
      ],
      "metadata": {
        "colab": {
          "base_uri": "https://localhost:8080/"
        },
        "id": "Fk84zflJXBuc",
        "outputId": "f318466f-98d2-4114-a685-22c73f4319d1"
      },
      "execution_count": 30,
      "outputs": [
        {
          "output_type": "execute_result",
          "data": {
            "text/plain": [
              "RandomForestClassifier(random_state=42)"
            ]
          },
          "metadata": {},
          "execution_count": 30
        }
      ]
    },
    {
      "cell_type": "markdown",
      "source": [
        "###**3) Predecir las etiquetas con el conjunto de pruebas**"
      ],
      "metadata": {
        "id": "5PLLv6bEXY5z"
      }
    },
    {
      "cell_type": "code",
      "source": [
        "rf_clasificador.predict(test_scaler)"
      ],
      "metadata": {
        "colab": {
          "base_uri": "https://localhost:8080/"
        },
        "id": "wS8AepZvXeiT",
        "outputId": "f62d8c22-c49a-4806-8a00-7499cb1c67c5"
      },
      "execution_count": 31,
      "outputs": [
        {
          "output_type": "execute_result",
          "data": {
            "text/plain": [
              "array([0, 1, 1, 0, 0, 1, 1, 1, 1, 0, 0, 1, 0, 1, 0, 1, 0, 0, 0, 1, 0, 0,\n",
              "       1, 0, 0, 0, 0, 0, 0, 1, 0, 0, 0, 0, 0, 0, 1, 0, 1, 0, 0, 1, 0, 0,\n",
              "       0, 0, 0, 0, 0, 0, 1, 1, 0, 0, 0, 0, 0, 1, 1, 0, 0, 1, 1, 0, 0, 0,\n",
              "       1, 1, 0, 0, 1, 1, 0, 1, 0, 0, 0, 0, 0, 0, 1, 0, 0, 1, 1, 1, 1, 1,\n",
              "       0, 0, 0, 0, 0, 0, 0, 0, 1, 1, 0, 1, 1, 0, 1, 1, 0, 0, 0, 1, 1, 0,\n",
              "       1, 0, 0, 1, 0, 1, 0, 0, 0, 1, 0, 0, 0, 1, 0, 1, 1, 0, 0, 1, 1, 1,\n",
              "       0, 0, 0, 1, 0, 0, 0, 1, 0, 1, 0])"
            ]
          },
          "metadata": {},
          "execution_count": 31
        }
      ]
    },
    {
      "cell_type": "markdown",
      "source": [
        "###**4) Evaluar el rendimiento del modelo**"
      ],
      "metadata": {
        "id": "QfFo1q_YYA65"
      }
    },
    {
      "cell_type": "code",
      "source": [
        "train_score_rf = rf_clasificador.score(train_scaler,y_train)\n",
        "test_score_rf = rf_clasificador.score(test_scaler,y_test)\n",
        "print(f'El score de cojunto de entrenamiento es: {train_score_rf}\\nEL escore del conjunto de pruebas es: {test_score_rf}')"
      ],
      "metadata": {
        "colab": {
          "base_uri": "https://localhost:8080/"
        },
        "id": "2KC8tL0GYJwU",
        "outputId": "05fc0400-0022-497d-85ef-5fbb7c7bd3ce"
      },
      "execution_count": 32,
      "outputs": [
        {
          "output_type": "stream",
          "name": "stdout",
          "text": [
            "El score de cojunto de entrenamiento es: 1.0\n",
            "EL escore del conjunto de pruebas es: 0.965034965034965\n"
          ]
        }
      ]
    },
    {
      "cell_type": "markdown",
      "source": [
        "Se observa un modelo sobreajustado, por lo que se recomienda el cambio de algún hiperparámetro, a pesar de esto el score del cojunto de pruebas es igualmente alto."
      ],
      "metadata": {
        "id": "VCHQXEX0YUX5"
      }
    },
    {
      "cell_type": "code",
      "source": [
        "rf_clasificador.get_params()"
      ],
      "metadata": {
        "colab": {
          "base_uri": "https://localhost:8080/"
        },
        "id": "QBdHyKEAYeWY",
        "outputId": "d133ac69-a1a2-4abf-9b31-362da839d5ec"
      },
      "execution_count": 33,
      "outputs": [
        {
          "output_type": "execute_result",
          "data": {
            "text/plain": [
              "{'bootstrap': True,\n",
              " 'ccp_alpha': 0.0,\n",
              " 'class_weight': None,\n",
              " 'criterion': 'gini',\n",
              " 'max_depth': None,\n",
              " 'max_features': 'auto',\n",
              " 'max_leaf_nodes': None,\n",
              " 'max_samples': None,\n",
              " 'min_impurity_decrease': 0.0,\n",
              " 'min_samples_leaf': 1,\n",
              " 'min_samples_split': 2,\n",
              " 'min_weight_fraction_leaf': 0.0,\n",
              " 'n_estimators': 100,\n",
              " 'n_jobs': None,\n",
              " 'oob_score': False,\n",
              " 'random_state': 42,\n",
              " 'verbose': 0,\n",
              " 'warm_start': False}"
            ]
          },
          "metadata": {},
          "execution_count": 33
        }
      ]
    },
    {
      "cell_type": "markdown",
      "source": [
        "**Optimizar el bosque aleatorio**\n",
        "\n",
        "Para ello vamos a comenzar cambiando la profundidad a 3, para ver si esto podría funcionar"
      ],
      "metadata": {
        "id": "pvW12YwGYs9Q"
      }
    },
    {
      "cell_type": "code",
      "source": [
        "from sklearn.model_selection import GridSearchCV"
      ],
      "metadata": {
        "id": "ugO1PZH-Y6kx"
      },
      "execution_count": 34,
      "outputs": []
    },
    {
      "cell_type": "code",
      "source": [
        "grip_params = {\n",
        "    'max_depth': [5,10,15],\n",
        "    'n_estimators': [10,50,100]\n",
        "}\n",
        "\n",
        "grid = GridSearchCV(rf_clasificador, grip_params, cv=5)\n",
        "grid.fit(train_scaler,y_train)"
      ],
      "metadata": {
        "colab": {
          "base_uri": "https://localhost:8080/"
        },
        "id": "vLW-1JJyZGcf",
        "outputId": "d2c156ad-fac0-4333-d207-be7263cf026b"
      },
      "execution_count": 35,
      "outputs": [
        {
          "output_type": "execute_result",
          "data": {
            "text/plain": [
              "GridSearchCV(cv=5, estimator=RandomForestClassifier(random_state=42),\n",
              "             param_grid={'max_depth': [5, 10, 15],\n",
              "                         'n_estimators': [10, 50, 100]})"
            ]
          },
          "metadata": {},
          "execution_count": 35
        }
      ]
    },
    {
      "cell_type": "code",
      "source": [
        "grid.best_params_"
      ],
      "metadata": {
        "colab": {
          "base_uri": "https://localhost:8080/"
        },
        "id": "OxLW4F_IZ7C3",
        "outputId": "7685746b-bd1f-4bc8-c989-56eb4d06ed48"
      },
      "execution_count": 36,
      "outputs": [
        {
          "output_type": "execute_result",
          "data": {
            "text/plain": [
              "{'max_depth': 5, 'n_estimators': 50}"
            ]
          },
          "metadata": {},
          "execution_count": 36
        }
      ]
    },
    {
      "cell_type": "code",
      "source": [
        "rf_clasificador = RandomForestClassifier(random_state=42, max_depth=5, n_estimators=50)\n",
        "rf_clasificador.fit(train_scaler,y_train)\n",
        "rf_clasificador.predict(test_scaler)\n",
        "train_score_rf = rf_clasificador.score(train_scaler,y_train)\n",
        "test_score_rf = rf_clasificador.score(test_scaler,y_test)\n",
        "print(f'El score de cojunto de entrenamiento es: {train_score_rf}\\nEL escore del conjunto de pruebas es: {test_score_rf}')"
      ],
      "metadata": {
        "colab": {
          "base_uri": "https://localhost:8080/"
        },
        "id": "eCtrIXa8aLTj",
        "outputId": "542a7124-9e38-4d92-cea7-440ffcd536a5"
      },
      "execution_count": 37,
      "outputs": [
        {
          "output_type": "stream",
          "name": "stdout",
          "text": [
            "El score de cojunto de entrenamiento es: 0.9929577464788732\n",
            "EL escore del conjunto de pruebas es: 0.972027972027972\n"
          ]
        }
      ]
    },
    {
      "cell_type": "markdown",
      "source": [
        "La mejor opción, al menos de las probadas es un boque aleatorio con una produndidad de 5 y 50 estimadores"
      ],
      "metadata": {
        "id": "9n78Rk5HbBib"
      }
    },
    {
      "cell_type": "markdown",
      "source": [
        "###**MATRIZ DE CONFUSIÓN**"
      ],
      "metadata": {
        "id": "xbK6iERc57B3"
      }
    },
    {
      "cell_type": "code",
      "source": [
        "plot_confusion_matrix(rf_clasificador,test_scaler,y_test)\n",
        "plt.show()"
      ],
      "metadata": {
        "colab": {
          "base_uri": "https://localhost:8080/",
          "height": 335
        },
        "id": "BNn6waQ559Af",
        "outputId": "f794b924-f2f6-4709-8213-a90e46a2e440"
      },
      "execution_count": 43,
      "outputs": [
        {
          "output_type": "stream",
          "name": "stderr",
          "text": [
            "/usr/local/lib/python3.7/dist-packages/sklearn/utils/deprecation.py:87: FutureWarning: Function plot_confusion_matrix is deprecated; Function `plot_confusion_matrix` is deprecated in 1.0 and will be removed in 1.2. Use one of the class methods: ConfusionMatrixDisplay.from_predictions or ConfusionMatrixDisplay.from_estimator.\n",
            "  warnings.warn(msg, category=FutureWarning)\n"
          ]
        },
        {
          "output_type": "display_data",
          "data": {
            "text/plain": [
              "<Figure size 432x288 with 2 Axes>"
            ],
            "image/png": "[encoded data removed]"
          },
          "metadata": {
            "needs_background": "light"
          }
        }
      ]
    }
  ]
}