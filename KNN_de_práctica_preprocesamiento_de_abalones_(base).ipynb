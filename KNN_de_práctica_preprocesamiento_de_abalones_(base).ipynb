{
  "nbformat": 4,
  "nbformat_minor": 0,
  "metadata": {
    "colab": {
      "provenance": [],
      "collapsed_sections": [],
      "mount_file_id": "1GN2-g5ByuGNZNoxUjagMF4g_o5ct86YO",
      "authorship_tag": "ABX9TyMuG/NxxbK/EGE8RgjBYi9e",
      "include_colab_link": true
    },
    "kernelspec": {
      "name": "python3",
      "display_name": "Python 3"
    },
    "language_info": {
      "name": "python"
    }
  },
  "cells": [
    {
      "cell_type": "markdown",
      "metadata": {
        "id": "view-in-github",
        "colab_type": "text"
      },
      "source": [
        "<a href=\"https://colab.research.google.com/github/smaciasg/Ejercicios_DataScience_Coding_Dojo/blob/main/KNN_de_pr%C3%A1ctica_preprocesamiento_de_abalones_(base).ipynb\" target=\"_parent\"><img src=\"https://colab.research.google.com/assets/colab-badge.svg\" alt=\"Open In Colab\"/></a>"
      ]
    },
    {
      "cell_type": "markdown",
      "source": [
        "**DESCRIPCIÓN EJERCICIO**\n",
        "\n",
        "Utilicen el conjunto de datos de abalón para predecir el sexo a partir de sus características usando KNN\n",
        "\n"
      ],
      "metadata": {
        "id": "_PiAGVL-rH2g"
      }
    },
    {
      "cell_type": "markdown",
      "source": [
        "#**TAREA**"
      ],
      "metadata": {
        "id": "n5m-o52lrSF1"
      }
    },
    {
      "cell_type": "markdown",
      "source": [
        "1) ¿Esto es un conjunto de datos balanceado?\n",
        "\n",
        "2) Asegúrense de escalar los datos (intenten usar el pipeline)\n",
        "\n",
        "3) ¿Cuál es la exactitud del modelo por defecto?\n",
        "\n",
        "4) ¿Cuál es la exactitud óptima que pueden alcanzar al ajustar el valor k usando KNN?\n",
        "\n",
        "5) Creen una matriz de confusión para el modelo KNN óptimo."
      ],
      "metadata": {
        "id": "1WyLQ9Y7rWTY"
      }
    },
    {
      "cell_type": "markdown",
      "source": [
        "####**1) Llamar las librerías necesarias**"
      ],
      "metadata": {
        "id": "9mM1pQN8ndNS"
      }
    },
    {
      "cell_type": "code",
      "execution_count": 59,
      "metadata": {
        "id": "ObHduX-CmyDW"
      },
      "outputs": [],
      "source": [
        "import pandas as pd\n",
        "import numpy as np\n",
        "#Librerías para preprocesamiento\n",
        "import sklearn\n",
        "from sklearn.model_selection import train_test_split\n",
        "from sklearn.compose import make_column_selector, make_column_transformer\n",
        "from sklearn.preprocessing import StandardScaler, OneHotEncoder\n",
        "from sklearn.pipeline import make_pipeline\n",
        "#Librería para el modelo KNN\n",
        "from sklearn.neighbors import KNeighborsClassifier\n",
        "#Librería para las métricas\n",
        "from sklearn.metrics import accuracy_score\n",
        "from sklearn.metrics import classification_report\n",
        "#Para optimizar\n",
        "from sklearn.model_selection import GridSearchCV"
      ]
    },
    {
      "cell_type": "markdown",
      "source": [
        "####**2) Importar los datos y explorarlos**"
      ],
      "metadata": {
        "id": "FRN7ShUsnhO0"
      }
    },
    {
      "cell_type": "code",
      "source": [
        "data_abalones = pd.read_csv('/content/drive/MyDrive/CODING DOJO/DATA SCIENCE/ACTIVIDADES SEMANA 5 - INTRO APRENDIZAJE AUTOMÁTICO ML/abalone.data', names=['Sex','Length','Diameter','Height','Whole weight','Shucked weight','Viscera weight','Shell weight','Rings'])\n",
        "data_abalones"
      ],
      "metadata": {
        "colab": {
          "base_uri": "https://localhost:8080/",
          "height": 424
        },
        "id": "S_Rd9Gdfnj-Q",
        "outputId": "5e421a8f-b430-4514-954f-1af85ab154b4"
      },
      "execution_count": 29,
      "outputs": [
        {
          "output_type": "execute_result",
          "data": {
            "text/plain": [
              "     Sex  Length  Diameter  Height  Whole weight  Shucked weight  \\\n",
              "0      M   0.455     0.365   0.095        0.5140          0.2245   \n",
              "1      M   0.350     0.265   0.090        0.2255          0.0995   \n",
              "2      F   0.530     0.420   0.135        0.6770          0.2565   \n",
              "3      M   0.440     0.365   0.125        0.5160          0.2155   \n",
              "4      I   0.330     0.255   0.080        0.2050          0.0895   \n",
              "...   ..     ...       ...     ...           ...             ...   \n",
              "4172   F   0.565     0.450   0.165        0.8870          0.3700   \n",
              "4173   M   0.590     0.440   0.135        0.9660          0.4390   \n",
              "4174   M   0.600     0.475   0.205        1.1760          0.5255   \n",
              "4175   F   0.625     0.485   0.150        1.0945          0.5310   \n",
              "4176   M   0.710     0.555   0.195        1.9485          0.9455   \n",
              "\n",
              "      Viscera weight  Shell weight  Rings  \n",
              "0             0.1010        0.1500     15  \n",
              "1             0.0485        0.0700      7  \n",
              "2             0.1415        0.2100      9  \n",
              "3             0.1140        0.1550     10  \n",
              "4             0.0395        0.0550      7  \n",
              "...              ...           ...    ...  \n",
              "4172          0.2390        0.2490     11  \n",
              "4173          0.2145        0.2605     10  \n",
              "4174          0.2875        0.3080      9  \n",
              "4175          0.2610        0.2960     10  \n",
              "4176          0.3765        0.4950     12  \n",
              "\n",
              "[4177 rows x 9 columns]"
            ],
            "text/html": [
              "\n",
              "  <div id=\"df-a192130f-eb85-4d1e-8829-fe7d32db2d47\">\n",
              "    <div class=\"colab-df-container\">\n",
              "      <div>\n",
              "<style scoped>\n",
              "    .dataframe tbody tr th:only-of-type {\n",
              "        vertical-align: middle;\n",
              "    }\n",
              "\n",
              "    .dataframe tbody tr th {\n",
              "        vertical-align: top;\n",
              "    }\n",
              "\n",
              "    .dataframe thead th {\n",
              "        text-align: right;\n",
              "    }\n",
              "</style>\n",
              "<table border=\"1\" class=\"dataframe\">\n",
              "  <thead>\n",
              "    <tr style=\"text-align: right;\">\n",
              "      <th></th>\n",
              "      <th>Sex</th>\n",
              "      <th>Length</th>\n",
              "      <th>Diameter</th>\n",
              "      <th>Height</th>\n",
              "      <th>Whole weight</th>\n",
              "      <th>Shucked weight</th>\n",
              "      <th>Viscera weight</th>\n",
              "      <th>Shell weight</th>\n",
              "      <th>Rings</th>\n",
              "    </tr>\n",
              "  </thead>\n",
              "  <tbody>\n",
              "    <tr>\n",
              "      <th>0</th>\n",
              "      <td>M</td>\n",
              "      <td>0.455</td>\n",
              "      <td>0.365</td>\n",
              "      <td>0.095</td>\n",
              "      <td>0.5140</td>\n",
              "      <td>0.2245</td>\n",
              "      <td>0.1010</td>\n",
              "      <td>0.1500</td>\n",
              "      <td>15</td>\n",
              "    </tr>\n",
              "    <tr>\n",
              "      <th>1</th>\n",
              "      <td>M</td>\n",
              "      <td>0.350</td>\n",
              "      <td>0.265</td>\n",
              "      <td>0.090</td>\n",
              "      <td>0.2255</td>\n",
              "      <td>0.0995</td>\n",
              "      <td>0.0485</td>\n",
              "      <td>0.0700</td>\n",
              "      <td>7</td>\n",
              "    </tr>\n",
              "    <tr>\n",
              "      <th>2</th>\n",
              "      <td>F</td>\n",
              "      <td>0.530</td>\n",
              "      <td>0.420</td>\n",
              "      <td>0.135</td>\n",
              "      <td>0.6770</td>\n",
              "      <td>0.2565</td>\n",
              "      <td>0.1415</td>\n",
              "      <td>0.2100</td>\n",
              "      <td>9</td>\n",
              "    </tr>\n",
              "    <tr>\n",
              "      <th>3</th>\n",
              "      <td>M</td>\n",
              "      <td>0.440</td>\n",
              "      <td>0.365</td>\n",
              "      <td>0.125</td>\n",
              "      <td>0.5160</td>\n",
              "      <td>0.2155</td>\n",
              "      <td>0.1140</td>\n",
              "      <td>0.1550</td>\n",
              "      <td>10</td>\n",
              "    </tr>\n",
              "    <tr>\n",
              "      <th>4</th>\n",
              "      <td>I</td>\n",
              "      <td>0.330</td>\n",
              "      <td>0.255</td>\n",
              "      <td>0.080</td>\n",
              "      <td>0.2050</td>\n",
              "      <td>0.0895</td>\n",
              "      <td>0.0395</td>\n",
              "      <td>0.0550</td>\n",
              "      <td>7</td>\n",
              "    </tr>\n",
              "    <tr>\n",
              "      <th>...</th>\n",
              "      <td>...</td>\n",
              "      <td>...</td>\n",
              "      <td>...</td>\n",
              "      <td>...</td>\n",
              "      <td>...</td>\n",
              "      <td>...</td>\n",
              "      <td>...</td>\n",
              "      <td>...</td>\n",
              "      <td>...</td>\n",
              "    </tr>\n",
              "    <tr>\n",
              "      <th>4172</th>\n",
              "      <td>F</td>\n",
              "      <td>0.565</td>\n",
              "      <td>0.450</td>\n",
              "      <td>0.165</td>\n",
              "      <td>0.8870</td>\n",
              "      <td>0.3700</td>\n",
              "      <td>0.2390</td>\n",
              "      <td>0.2490</td>\n",
              "      <td>11</td>\n",
              "    </tr>\n",
              "    <tr>\n",
              "      <th>4173</th>\n",
              "      <td>M</td>\n",
              "      <td>0.590</td>\n",
              "      <td>0.440</td>\n",
              "      <td>0.135</td>\n",
              "      <td>0.9660</td>\n",
              "      <td>0.4390</td>\n",
              "      <td>0.2145</td>\n",
              "      <td>0.2605</td>\n",
              "      <td>10</td>\n",
              "    </tr>\n",
              "    <tr>\n",
              "      <th>4174</th>\n",
              "      <td>M</td>\n",
              "      <td>0.600</td>\n",
              "      <td>0.475</td>\n",
              "      <td>0.205</td>\n",
              "      <td>1.1760</td>\n",
              "      <td>0.5255</td>\n",
              "      <td>0.2875</td>\n",
              "      <td>0.3080</td>\n",
              "      <td>9</td>\n",
              "    </tr>\n",
              "    <tr>\n",
              "      <th>4175</th>\n",
              "      <td>F</td>\n",
              "      <td>0.625</td>\n",
              "      <td>0.485</td>\n",
              "      <td>0.150</td>\n",
              "      <td>1.0945</td>\n",
              "      <td>0.5310</td>\n",
              "      <td>0.2610</td>\n",
              "      <td>0.2960</td>\n",
              "      <td>10</td>\n",
              "    </tr>\n",
              "    <tr>\n",
              "      <th>4176</th>\n",
              "      <td>M</td>\n",
              "      <td>0.710</td>\n",
              "      <td>0.555</td>\n",
              "      <td>0.195</td>\n",
              "      <td>1.9485</td>\n",
              "      <td>0.9455</td>\n",
              "      <td>0.3765</td>\n",
              "      <td>0.4950</td>\n",
              "      <td>12</td>\n",
              "    </tr>\n",
              "  </tbody>\n",
              "</table>\n",
              "<p>4177 rows × 9 columns</p>\n",
              "</div>\n",
              "      <button class=\"colab-df-convert\" onclick=\"convertToInteractive('df-a192130f-eb85-4d1e-8829-fe7d32db2d47')\"\n",
              "              title=\"Convert this dataframe to an interactive table.\"\n",
              "              style=\"display:none;\">\n",
              "        \n",
              "  <svg xmlns=\"http://www.w3.org/2000/svg\" height=\"24px\"viewBox=\"0 0 24 24\"\n",
              "       width=\"24px\">\n",
              "    <path d=\"M0 0h24v24H0V0z\" fill=\"none\"/>\n",
              "    <path d=\"M18.56 5.44l.94 2.06.94-2.06 2.06-.94-2.06-.94-.94-2.06-.94 2.06-2.06.94zm-11 1L8.5 8.5l.94-2.06 2.06-.94-2.06-.94L8.5 2.5l-.94 2.06-2.06.94zm10 10l.94 2.06.94-2.06 2.06-.94-2.06-.94-.94-2.06-.94 2.06-2.06.94z\"/><path d=\"M17.41 7.96l-1.37-1.37c-.4-.4-.92-.59-1.43-.59-.52 0-1.04.2-1.43.59L10.3 9.45l-7.72 7.72c-.78.78-.78 2.05 0 2.83L4 21.41c.39.39.9.59 1.41.59.51 0 1.02-.2 1.41-.59l7.78-7.78 2.81-2.81c.8-.78.8-2.07 0-2.86zM5.41 20L4 18.59l7.72-7.72 1.47 1.35L5.41 20z\"/>\n",
              "  </svg>\n",
              "      </button>\n",
              "      \n",
              "  <style>\n",
              "    .colab-df-container {\n",
              "      display:flex;\n",
              "      flex-wrap:wrap;\n",
              "      gap: 12px;\n",
              "    }\n",
              "\n",
              "    .colab-df-convert {\n",
              "      background-color: #E8F0FE;\n",
              "      border: none;\n",
              "      border-radius: 50%;\n",
              "      cursor: pointer;\n",
              "      display: none;\n",
              "      fill: #1967D2;\n",
              "      height: 32px;\n",
              "      padding: 0 0 0 0;\n",
              "      width: 32px;\n",
              "    }\n",
              "\n",
              "    .colab-df-convert:hover {\n",
              "      background-color: #E2EBFA;\n",
              "      box-shadow: 0px 1px 2px rgba(60, 64, 67, 0.3), 0px 1px 3px 1px rgba(60, 64, 67, 0.15);\n",
              "      fill: #174EA6;\n",
              "    }\n",
              "\n",
              "    [theme=dark] .colab-df-convert {\n",
              "      background-color: #3B4455;\n",
              "      fill: #D2E3FC;\n",
              "    }\n",
              "\n",
              "    [theme=dark] .colab-df-convert:hover {\n",
              "      background-color: #434B5C;\n",
              "      box-shadow: 0px 1px 3px 1px rgba(0, 0, 0, 0.15);\n",
              "      filter: drop-shadow(0px 1px 2px rgba(0, 0, 0, 0.3));\n",
              "      fill: #FFFFFF;\n",
              "    }\n",
              "  </style>\n",
              "\n",
              "      <script>\n",
              "        const buttonEl =\n",
              "          document.querySelector('#df-a192130f-eb85-4d1e-8829-fe7d32db2d47 button.colab-df-convert');\n",
              "        buttonEl.style.display =\n",
              "          google.colab.kernel.accessAllowed ? 'block' : 'none';\n",
              "\n",
              "        async function convertToInteractive(key) {\n",
              "          const element = document.querySelector('#df-a192130f-eb85-4d1e-8829-fe7d32db2d47');\n",
              "          const dataTable =\n",
              "            await google.colab.kernel.invokeFunction('convertToInteractive',\n",
              "                                                     [key], {});\n",
              "          if (!dataTable) return;\n",
              "\n",
              "          const docLinkHtml = 'Like what you see? Visit the ' +\n",
              "            '<a target=\"_blank\" href=https://colab.research.google.com/notebooks/data_table.ipynb>data table notebook</a>'\n",
              "            + ' to learn more about interactive tables.';\n",
              "          element.innerHTML = '';\n",
              "          dataTable['output_type'] = 'display_data';\n",
              "          await google.colab.output.renderOutput(dataTable, element);\n",
              "          const docLink = document.createElement('div');\n",
              "          docLink.innerHTML = docLinkHtml;\n",
              "          element.appendChild(docLink);\n",
              "        }\n",
              "      </script>\n",
              "    </div>\n",
              "  </div>\n",
              "  "
            ]
          },
          "metadata": {},
          "execution_count": 29
        }
      ]
    },
    {
      "cell_type": "code",
      "source": [
        "data_abalones.info()\n",
        "#No hay datos faltantes que imputar y solo sería necesario escalar los datos y transformar la columna de sexo a valores enteros, pues es la columna objetivo"
      ],
      "metadata": {
        "colab": {
          "base_uri": "https://localhost:8080/"
        },
        "id": "ArGL7nmhn09B",
        "outputId": "5ec3510d-fca5-44ba-e666-d5a0299cddeb"
      },
      "execution_count": 30,
      "outputs": [
        {
          "output_type": "stream",
          "name": "stdout",
          "text": [
            "<class 'pandas.core.frame.DataFrame'>\n",
            "RangeIndex: 4177 entries, 0 to 4176\n",
            "Data columns (total 9 columns):\n",
            " #   Column          Non-Null Count  Dtype  \n",
            "---  ------          --------------  -----  \n",
            " 0   Sex             4177 non-null   object \n",
            " 1   Length          4177 non-null   float64\n",
            " 2   Diameter        4177 non-null   float64\n",
            " 3   Height          4177 non-null   float64\n",
            " 4   Whole weight    4177 non-null   float64\n",
            " 5   Shucked weight  4177 non-null   float64\n",
            " 6   Viscera weight  4177 non-null   float64\n",
            " 7   Shell weight    4177 non-null   float64\n",
            " 8   Rings           4177 non-null   int64  \n",
            "dtypes: float64(7), int64(1), object(1)\n",
            "memory usage: 293.8+ KB\n"
          ]
        }
      ]
    },
    {
      "cell_type": "code",
      "source": [
        "data_abalones.columns"
      ],
      "metadata": {
        "colab": {
          "base_uri": "https://localhost:8080/"
        },
        "id": "r0hTDYvTpimU",
        "outputId": "1de3fccc-1a27-48e1-d2ef-00fb03e2eaa3"
      },
      "execution_count": 31,
      "outputs": [
        {
          "output_type": "execute_result",
          "data": {
            "text/plain": [
              "Index(['Sex', 'Length', 'Diameter', 'Height', 'Whole weight', 'Shucked weight',\n",
              "       'Viscera weight', 'Shell weight', 'Rings'],\n",
              "      dtype='object')"
            ]
          },
          "metadata": {},
          "execution_count": 31
        }
      ]
    },
    {
      "cell_type": "markdown",
      "source": [
        "####**3) Crear matriz de características y vector objetivo**"
      ],
      "metadata": {
        "id": "lBlJ1IePrmRW"
      }
    },
    {
      "cell_type": "markdown",
      "source": [
        "Dado que la columna objetivo es el sexo y de acuerdo a la descripción del dataset se sabe que M, F, and I (infant), se procede a clasificar cada una de las categorías así:\n",
        "M: 0\n",
        "F: 1\n",
        "I: 2"
      ],
      "metadata": {
        "id": "llwdoFu0-SYY"
      }
    },
    {
      "cell_type": "code",
      "source": [
        "#Cambio de las categorías de las columna de sexo antes de la segmentación del dataframe\n",
        "data_abalones['Sex'] = data_abalones['Sex'].replace({'M':0,'F':1,'I':2})"
      ],
      "metadata": {
        "id": "7A9jYbNH_AV1"
      },
      "execution_count": 32,
      "outputs": []
    },
    {
      "cell_type": "code",
      "source": [
        "X = data_abalones.drop(columns = 'Sex')\n",
        "y = data_abalones['Sex']\n",
        "X_train, X_test, y_train, y_test = train_test_split(X,y, random_state=42)"
      ],
      "metadata": {
        "id": "9_eytJYXpa18"
      },
      "execution_count": 33,
      "outputs": []
    },
    {
      "cell_type": "code",
      "source": [
        "y.value_counts(normalize=True)"
      ],
      "metadata": {
        "colab": {
          "base_uri": "https://localhost:8080/"
        },
        "id": "EAwpCgLE_VEB",
        "outputId": "ce0250ae-7b52-4263-e693-319987ee3a09"
      },
      "execution_count": 34,
      "outputs": [
        {
          "output_type": "execute_result",
          "data": {
            "text/plain": [
              "0    0.365813\n",
              "2    0.321283\n",
              "1    0.312904\n",
              "Name: Sex, dtype: float64"
            ]
          },
          "metadata": {},
          "execution_count": 34
        }
      ]
    },
    {
      "cell_type": "markdown",
      "source": [
        "***PREGUNTA***:\n",
        "\n",
        "1) ¿Esto es un conjunto de datos balanceado?\n",
        "\n",
        "R/ Sí, se observa que para cada una de las categorías de sexo el % de datos es similar, pocentualmente no supera el6 % la diferencia entre los datos del masculino y el femenino"
      ],
      "metadata": {
        "id": "v75_BGOf_-hE"
      }
    },
    {
      "cell_type": "markdown",
      "source": [
        "####**4) Instanciar los transformadores numéricos y el modelo**"
      ],
      "metadata": {
        "id": "xqLJn7s-rz3F"
      }
    },
    {
      "cell_type": "code",
      "source": [
        "# Transformador numérico\n",
        "scaler = StandardScaler()\n",
        "knn_abalones = KNeighborsClassifier() #Se usa el modelo por defecto para calcular su exactitud"
      ],
      "metadata": {
        "id": "NsNJpZsKr2Cv"
      },
      "execution_count": 35,
      "outputs": []
    },
    {
      "cell_type": "markdown",
      "source": [
        "####**5) Instanciar el pipeline**"
      ],
      "metadata": {
        "id": "nuDjBqBJr5Wr"
      }
    },
    {
      "cell_type": "code",
      "source": [
        "#El pipeline recibirá los transformadores y el modelo, es importante el orden, primero los transformadores y luego el modelo\n",
        "knn_pipe = make_pipeline(scaler,knn_abalones)\n",
        "knn_pipe"
      ],
      "metadata": {
        "id": "0iCnR7g8r7Ab",
        "colab": {
          "base_uri": "https://localhost:8080/"
        },
        "outputId": "cba40ce7-dd62-4b42-e78f-426a5669d1cb"
      },
      "execution_count": 36,
      "outputs": [
        {
          "output_type": "execute_result",
          "data": {
            "text/plain": [
              "Pipeline(steps=[('standardscaler', StandardScaler()),\n",
              "                ('kneighborsclassifier', KNeighborsClassifier())])"
            ]
          },
          "metadata": {},
          "execution_count": 36
        }
      ]
    },
    {
      "cell_type": "markdown",
      "source": [
        "####**6) Ajustar el modelo a los datos de entrenamiento**"
      ],
      "metadata": {
        "id": "7QxLzksor9w5"
      }
    },
    {
      "cell_type": "code",
      "source": [
        "knn_pipe.fit(X_train,y_train)"
      ],
      "metadata": {
        "id": "K0guJKoVr_Qj",
        "colab": {
          "base_uri": "https://localhost:8080/"
        },
        "outputId": "1f5de3b1-7eb1-48ed-a327-15b6e8553f31"
      },
      "execution_count": 37,
      "outputs": [
        {
          "output_type": "execute_result",
          "data": {
            "text/plain": [
              "Pipeline(steps=[('standardscaler', StandardScaler()),\n",
              "                ('kneighborsclassifier', KNeighborsClassifier())])"
            ]
          },
          "metadata": {},
          "execution_count": 37
        }
      ]
    },
    {
      "cell_type": "markdown",
      "source": [
        "####**7) Predecir los valores**"
      ],
      "metadata": {
        "id": "OHLStToAsDVs"
      }
    },
    {
      "cell_type": "code",
      "source": [
        "knn_abalones_pred = knn_pipe.predict(X_test)\n",
        "knn_abalones_pred"
      ],
      "metadata": {
        "colab": {
          "base_uri": "https://localhost:8080/"
        },
        "id": "caFVsV6OsFv7",
        "outputId": "e4365313-aaa9-4f3c-f782-05a15ecc62be"
      },
      "execution_count": 56,
      "outputs": [
        {
          "output_type": "execute_result",
          "data": {
            "text/plain": [
              "array([1, 0, 0, ..., 1, 2, 2])"
            ]
          },
          "metadata": {},
          "execution_count": 56
        }
      ]
    },
    {
      "cell_type": "markdown",
      "source": [
        "####**8) Evaluar la exactitud del modelo**"
      ],
      "metadata": {
        "id": "u067ZqobsIYV"
      }
    },
    {
      "cell_type": "markdown",
      "source": [
        "***PREGUNTA**:\n",
        "\n",
        "3) ¿Cuál es la exactitud del modelo por defecto?"
      ],
      "metadata": {
        "id": "oT_aNMDpGnRE"
      }
    },
    {
      "cell_type": "code",
      "source": [
        "score_knn = knn_pipe.score(X_test,y_test)\n",
        "score_knn"
      ],
      "metadata": {
        "colab": {
          "base_uri": "https://localhost:8080/"
        },
        "id": "i9MXkvAVC-Rk",
        "outputId": "5969dc58-b214-460a-e0c2-6e41d4d98ef4"
      },
      "execution_count": 45,
      "outputs": [
        {
          "output_type": "execute_result",
          "data": {
            "text/plain": [
              "0.5444976076555024"
            ]
          },
          "metadata": {},
          "execution_count": 45
        }
      ]
    },
    {
      "cell_type": "code",
      "source": [
        "print(classification_report(y_test,knn_abalones_pred))"
      ],
      "metadata": {
        "id": "qBCXAWDAsKMx",
        "colab": {
          "base_uri": "https://localhost:8080/"
        },
        "outputId": "dc0bfa2e-0060-45db-ec41-24e4f9cee082"
      },
      "execution_count": 44,
      "outputs": [
        {
          "output_type": "stream",
          "name": "stdout",
          "text": [
            "              precision    recall  f1-score   support\n",
            "\n",
            "           0       0.48      0.54      0.51       379\n",
            "           1       0.41      0.38      0.40       316\n",
            "           2       0.75      0.69      0.72       350\n",
            "\n",
            "    accuracy                           0.54      1045\n",
            "   macro avg       0.55      0.54      0.54      1045\n",
            "weighted avg       0.55      0.54      0.55      1045\n",
            "\n"
          ]
        }
      ]
    },
    {
      "cell_type": "markdown",
      "source": [
        "###**9) ¿Cuál es la exactitud óptima que pueden alcanzar al ajustar el valor k usando KNN?**"
      ],
      "metadata": {
        "id": "hIw3oktBGvMO"
      }
    },
    {
      "cell_type": "code",
      "source": [
        "knn_abalones.get_params()"
      ],
      "metadata": {
        "colab": {
          "base_uri": "https://localhost:8080/"
        },
        "id": "Q3hW3JDoHR4I",
        "outputId": "4a16341f-c150-42fd-a40d-74996b24cdea"
      },
      "execution_count": 60,
      "outputs": [
        {
          "output_type": "execute_result",
          "data": {
            "text/plain": [
              "{'algorithm': 'auto',\n",
              " 'leaf_size': 30,\n",
              " 'metric': 'minkowski',\n",
              " 'metric_params': None,\n",
              " 'n_jobs': None,\n",
              " 'n_neighbors': 5,\n",
              " 'p': 2,\n",
              " 'weights': 'uniform'}"
            ]
          },
          "metadata": {},
          "execution_count": 60
        }
      ]
    },
    {
      "cell_type": "code",
      "source": [
        "grid_param_knn = {'n_neighbors':[1,10,100]}\n",
        "grid_knn = GridSearchCV(knn_abalones,grid_param_knn, cv=5)\n",
        "grid_knn.fit(X_train,y_train)\n",
        "grid_knn.best_params_"
      ],
      "metadata": {
        "colab": {
          "base_uri": "https://localhost:8080/"
        },
        "id": "AhStxycVGzX_",
        "outputId": "89a7a7a8-34c7-4608-b834-fd840fec62ff"
      },
      "execution_count": 136,
      "outputs": [
        {
          "output_type": "execute_result",
          "data": {
            "text/plain": [
              "{'n_neighbors': 10}"
            ]
          },
          "metadata": {},
          "execution_count": 136
        }
      ]
    },
    {
      "cell_type": "code",
      "source": [
        "grid_param_knn = {'n_neighbors':[10,50,90]}\n",
        "grid_knn = GridSearchCV(knn_abalones,grid_param_knn, cv=5)\n",
        "grid_knn.fit(X_train,y_train)\n",
        "grid_knn.best_params_"
      ],
      "metadata": {
        "colab": {
          "base_uri": "https://localhost:8080/"
        },
        "id": "EqY0Iii_IjSv",
        "outputId": "f80cb36b-e919-40b8-b28d-3347fd43ec3a"
      },
      "execution_count": 137,
      "outputs": [
        {
          "output_type": "execute_result",
          "data": {
            "text/plain": [
              "{'n_neighbors': 50}"
            ]
          },
          "metadata": {},
          "execution_count": 137
        }
      ]
    },
    {
      "cell_type": "code",
      "source": [
        "grid_param_knn = {'n_neighbors':[40,50,60]}\n",
        "grid_knn = GridSearchCV(knn_abalones,grid_param_knn, cv=5)\n",
        "grid_knn.fit(X_train,y_train)\n",
        "grid_knn.best_params_"
      ],
      "metadata": {
        "colab": {
          "base_uri": "https://localhost:8080/"
        },
        "id": "IsUgAuG5Iq7A",
        "outputId": "6640cf48-b1e9-460b-f839-6e033200e670"
      },
      "execution_count": 138,
      "outputs": [
        {
          "output_type": "execute_result",
          "data": {
            "text/plain": [
              "{'n_neighbors': 40}"
            ]
          },
          "metadata": {},
          "execution_count": 138
        }
      ]
    },
    {
      "cell_type": "code",
      "source": [
        "grid_param_knn = {'n_neighbors':[30,40,50]}\n",
        "grid_knn = GridSearchCV(knn_abalones,grid_param_knn, cv=5)\n",
        "grid_knn.fit(X_train,y_train)\n",
        "grid_knn.best_params_"
      ],
      "metadata": {
        "colab": {
          "base_uri": "https://localhost:8080/"
        },
        "id": "M16w9VRaJAE-",
        "outputId": "a5370a62-352b-4498-fe13-8d0b2b6d57c8"
      },
      "execution_count": 139,
      "outputs": [
        {
          "output_type": "execute_result",
          "data": {
            "text/plain": [
              "{'n_neighbors': 30}"
            ]
          },
          "metadata": {},
          "execution_count": 139
        }
      ]
    },
    {
      "cell_type": "code",
      "source": [
        "grid_param_knn = {'n_neighbors':[20,30,40]}\n",
        "grid_knn = GridSearchCV(knn_abalones,grid_param_knn, cv=5)\n",
        "grid_knn.fit(X_train,y_train)\n",
        "grid_knn.best_params_"
      ],
      "metadata": {
        "colab": {
          "base_uri": "https://localhost:8080/"
        },
        "id": "A9kqlqmmJL5h",
        "outputId": "ccfd98eb-1bdc-41a9-aea8-baa810cc40f9"
      },
      "execution_count": 140,
      "outputs": [
        {
          "output_type": "execute_result",
          "data": {
            "text/plain": [
              "{'n_neighbors': 30}"
            ]
          },
          "metadata": {},
          "execution_count": 140
        }
      ]
    },
    {
      "cell_type": "code",
      "source": [
        "grid_param_knn = {'n_neighbors':[25,30,35]}\n",
        "grid_knn = GridSearchCV(knn_abalones,grid_param_knn, cv=5)\n",
        "grid_knn.fit(X_train,y_train)\n",
        "grid_knn.best_params_\n",
        "grid_knn.best_estimator_"
      ],
      "metadata": {
        "colab": {
          "base_uri": "https://localhost:8080/"
        },
        "id": "6h6PaCuLJiXq",
        "outputId": "ca8f0cd3-f06e-4139-aa5b-7e65ebcbe27a"
      },
      "execution_count": 141,
      "outputs": [
        {
          "output_type": "execute_result",
          "data": {
            "text/plain": [
              "KNeighborsClassifier(n_neighbors=25)"
            ]
          },
          "metadata": {},
          "execution_count": 141
        }
      ]
    },
    {
      "cell_type": "code",
      "source": [
        "grid_param_knn = {'n_neighbors':[15,25,30,40,50]}\n",
        "grid_knn = GridSearchCV(knn_abalones,grid_param_knn, cv=5)\n",
        "grid_knn.fit(X_train,y_train)\n",
        "grid_knn.best_params_\n",
        "grid_knn.best_estimator_"
      ],
      "metadata": {
        "colab": {
          "base_uri": "https://localhost:8080/"
        },
        "id": "XGMO-BN4JySq",
        "outputId": "b4bfa985-d6e6-492b-fd89-b5e771ef228f"
      },
      "execution_count": 142,
      "outputs": [
        {
          "output_type": "execute_result",
          "data": {
            "text/plain": [
              "KNeighborsClassifier(n_neighbors=25)"
            ]
          },
          "metadata": {},
          "execution_count": 142
        }
      ]
    },
    {
      "cell_type": "markdown",
      "source": [
        "**Correr modelo con k entre 25 y 50**"
      ],
      "metadata": {
        "id": "AhxB6kHzJ-kR"
      }
    },
    {
      "cell_type": "code",
      "source": [
        "mejor_score = []\n",
        "lista_optimo = {}\n",
        "for k_param in range(25,51):\n",
        "  scaler = StandardScaler()\n",
        "  knn_abalones = KNeighborsClassifier(n_neighbors=k_param)\n",
        "  knn_pipe = make_pipeline(scaler,knn_abalones)\n",
        "  knn_pipe.fit(X_train,y_train)\n",
        "  knn_abalones_pred = knn_pipe.predict(X_test)\n",
        "  score_knn = knn_pipe.score(X_test,y_test)\n",
        "  mejor_score.append(score_knn)\n",
        "  lista_optimo[score_knn] = k_param"
      ],
      "metadata": {
        "id": "lr-9D3MmKCMX"
      },
      "execution_count": 162,
      "outputs": []
    },
    {
      "cell_type": "code",
      "source": [
        "#Valor óptimo de la vecinos es\n",
        "val_kn_optimo = lista_optimo.get(max(mejor_score))\n",
        "val_kn_optimo"
      ],
      "metadata": {
        "colab": {
          "base_uri": "https://localhost:8080/"
        },
        "id": "ez4rBpQ0OAlP",
        "outputId": "1e9abafe-99fb-41f5-84e9-1586602b68cb"
      },
      "execution_count": 163,
      "outputs": [
        {
          "output_type": "execute_result",
          "data": {
            "text/plain": [
              "34"
            ]
          },
          "metadata": {},
          "execution_count": 163
        }
      ]
    },
    {
      "cell_type": "code",
      "source": [
        "scaler = StandardScaler()\n",
        "knn_abalones = KNeighborsClassifier(n_neighbors=val_kn_optimo)\n",
        "knn_pipe = make_pipeline(scaler,knn_abalones)\n",
        "knn_pipe.fit(X_train,y_train)\n",
        "knn_abalones_pred = knn_pipe.predict(X_test)\n",
        "score_knn = knn_pipe.score(X_test,y_test)\n",
        "score_knn"
      ],
      "metadata": {
        "colab": {
          "base_uri": "https://localhost:8080/"
        },
        "id": "gFnHGmIMPki9",
        "outputId": "b42c6cd8-066c-449f-de2f-d5432d16e11a"
      },
      "execution_count": 164,
      "outputs": [
        {
          "output_type": "execute_result",
          "data": {
            "text/plain": [
              "0.5770334928229665"
            ]
          },
          "metadata": {},
          "execution_count": 164
        }
      ]
    },
    {
      "cell_type": "markdown",
      "source": [
        "###**10) Creen una matriz de confusión para el modelo KNN óptimo.**"
      ],
      "metadata": {
        "id": "Dgumh7ywQQJO"
      }
    },
    {
      "cell_type": "code",
      "source": [
        "from sklearn.metrics._plot.confusion_matrix import plot_confusion_matrix\n",
        "plot_confusion_matrix(knn_pipe,X_test,y_test)"
      ],
      "metadata": {
        "colab": {
          "base_uri": "https://localhost:8080/",
          "height": 353
        },
        "id": "7LxDGCZ1QT4L",
        "outputId": "a0982995-5f1e-4ac4-e2f0-40ff7b909e3c"
      },
      "execution_count": 165,
      "outputs": [
        {
          "output_type": "stream",
          "name": "stderr",
          "text": [
            "/usr/local/lib/python3.7/dist-packages/sklearn/utils/deprecation.py:87: FutureWarning: Function plot_confusion_matrix is deprecated; Function `plot_confusion_matrix` is deprecated in 1.0 and will be removed in 1.2. Use one of the class methods: ConfusionMatrixDisplay.from_predictions or ConfusionMatrixDisplay.from_estimator.\n",
            "  warnings.warn(msg, category=FutureWarning)\n"
          ]
        },
        {
          "output_type": "execute_result",
          "data": {
            "text/plain": [
              "<sklearn.metrics._plot.confusion_matrix.ConfusionMatrixDisplay at 0x7f7567d60650>"
            ]
          },
          "metadata": {},
          "execution_count": 165
        },
        {
          "output_type": "display_data",
          "data": {
            "text/plain": [
              "<Figure size 432x288 with 2 Axes>"
            ],
            "image/png": "[encoded data removed]"
          },
          "metadata": {
            "needs_background": "light"
          }
        }
      ]
    }
  ]
}