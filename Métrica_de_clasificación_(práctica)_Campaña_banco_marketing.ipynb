{
  "nbformat": 4,
  "nbformat_minor": 0,
  "metadata": {
    "colab": {
      "provenance": [],
      "collapsed_sections": [],
      "mount_file_id": "1SoKOmJGaR4e6rQjR40XNfwLkOx62XuI9",
      "authorship_tag": "ABX9TyMHUx6m6OHgeeMt6JgqICnS",
      "include_colab_link": true
    },
    "kernelspec": {
      "name": "python3",
      "display_name": "Python 3"
    },
    "language_info": {
      "name": "python"
    }
  },
  "cells": [
    {
      "cell_type": "markdown",
      "metadata": {
        "id": "view-in-github",
        "colab_type": "text"
      },
      "source": [
        "<a href=\"https://colab.research.google.com/github/smaciasg/Ejercicios_DataScience_Coding_Dojo/blob/main/M%C3%A9trica_de_clasificaci%C3%B3n_(pr%C3%A1ctica)_Campa%C3%B1a_banco_marketing.ipynb\" target=\"_parent\"><img src=\"https://colab.research.google.com/assets/colab-badge.svg\" alt=\"Open In Colab\"/></a>"
      ]
    },
    {
      "cell_type": "markdown",
      "source": [
        "Utilizaremos este conjunto de datos. Los datos, que se modificaron de este recurso, tienen información sobre las campañas de marketing directo de una institución bancaria portuguesa. Las campañas de marketing se basaron en llamadas telefónicas. El objetivo es predecir si el cliente se suscribirá (sí: 1 o no: 0) a un depósito a plazo (la columna objetivo se llama “y_yes” en este CSV).\n",
        "\n",
        "La tarea es crear un modelo de regresión logística para predecir si el cliente se suscribirá o no. Afinen los hiperparámetros para obtener el mejor modelo posible. Luego, calculen la siguiente métrica de clasificación:\n",
        "\n",
        "Métrica a calcular:\n",
        "\n",
        "1.Exactitud\n",
        "\n",
        "2.Sensibilidad\n",
        "\n",
        "3.Especificidad\n",
        "\n",
        "4.AUC ROC\n",
        "\n",
        "5.Además, tracen el ROC.\n",
        "\n",
        "**Preguntas para pensar y responder**\n",
        "\n",
        "1.Después de terminar la tarea, respondan las siguientes preguntas:\n",
        "\n",
        "2.¿Qué métrica va a ser la mejor para evaluar el modelo de clasificación para este conjunto de datos y por qué? Pista: piensen en lo que cada métrica significa en este caso específico. ¿Cuál métrica ayudará más al banco?\n",
        "Comparen la exactitud del modelo con el modelo de referencia. ¿Ven algún problema?\n",
        "\n",
        "3.¿De qué otras formas se puede mejorar este modelo?"
      ],
      "metadata": {
        "id": "hzT7OU2q9vWy"
      }
    },
    {
      "cell_type": "markdown",
      "source": [
        "##**1) Importar las librerías necesarias**"
      ],
      "metadata": {
        "id": "LWuj6b6_8vih"
      }
    },
    {
      "cell_type": "code",
      "execution_count": 83,
      "metadata": {
        "id": "Y7osc6hw8faV"
      },
      "outputs": [],
      "source": [
        "import pandas as pd\n",
        "import numpy as np\n",
        "import matplotlib.pyplot as plt\n",
        "#Librerías para preprocesamiento\n",
        "import sklearn\n",
        "from sklearn.compose import make_column_selector, make_column_transformer\n",
        "from sklearn.preprocessing import StandardScaler, OneHotEncoder\n",
        "from sklearn.pipeline import make_pipeline\n",
        "#Librerías para modelos de selección\n",
        "from sklearn.model_selection import train_test_split\n",
        "#Librería para el modelos\n",
        "from sklearn.tree import DecisionTreeClassifier\n",
        "from sklearn.neighbors import KNeighborsClassifier\n",
        "from sklearn.linear_model import LinearRegression, LogisticRegression\n",
        "from sklearn.ensemble import RandomForestClassifier\n",
        "#Librería para las métricas\n",
        "from sklearn.metrics import accuracy_score, recall_score, precision_score,roc_auc_score,RocCurveDisplay\n",
        "from sklearn.metrics import classification_report, plot_confusion_matrix\n",
        "#Para optimizar\n",
        "from sklearn.model_selection import GridSearchCV"
      ]
    },
    {
      "cell_type": "markdown",
      "source": [
        "###**2) Cargar datos y explorar**"
      ],
      "metadata": {
        "id": "N08K12jr9G-s"
      }
    },
    {
      "cell_type": "code",
      "source": [
        "bank = pd.read_csv('/content/drive/MyDrive/CODING DOJO/DATA SCIENCE/ACTIVIDADES SEMANA 7 - MODELOS DE PREDICCIÓN CLASIFICACIÓN/bank_modified.csv')\n",
        "bank.head()"
      ],
      "metadata": {
        "colab": {
          "base_uri": "https://localhost:8080/",
          "height": 317
        },
        "id": "QdqFH8Ki9KNu",
        "outputId": "3ace018f-4bbf-4c94-dc07-8f114168f833"
      },
      "execution_count": 84,
      "outputs": [
        {
          "output_type": "execute_result",
          "data": {
            "text/plain": [
              "   age  balance  duration  campaign  pdays  previous  job_blue-collar  \\\n",
              "0   30     1787        79         1     -1         0                0   \n",
              "1   33     4789       220         1    339         4                0   \n",
              "2   35     1350       185         1    330         1                0   \n",
              "3   30     1476       199         4     -1         0                0   \n",
              "4   59        0       226         1     -1         0                1   \n",
              "\n",
              "   job_entrepreneur  job_housemaid  job_management  ...  job_unknown  \\\n",
              "0                 0              0               0  ...            0   \n",
              "1                 0              0               0  ...            0   \n",
              "2                 0              0               1  ...            0   \n",
              "3                 0              0               1  ...            0   \n",
              "4                 0              0               0  ...            0   \n",
              "\n",
              "   marital_married  marital_single  education_secondary  education_tertiary  \\\n",
              "0                1               0                    0                   0   \n",
              "1                1               0                    1                   0   \n",
              "2                0               1                    0                   1   \n",
              "3                1               0                    0                   1   \n",
              "4                1               0                    1                   0   \n",
              "\n",
              "   education_unknown  default_yes  housing_yes  loan_yes  y_yes  \n",
              "0                  0            0            0         0      0  \n",
              "1                  0            0            1         1      0  \n",
              "2                  0            0            1         0      0  \n",
              "3                  0            0            1         1      0  \n",
              "4                  0            0            1         0      0  \n",
              "\n",
              "[5 rows x 26 columns]"
            ],
            "text/html": [
              "\n",
              "  <div id=\"df-2a1d72c0-ac76-40dc-81f8-297697050413\">\n",
              "    <div class=\"colab-df-container\">\n",
              "      <div>\n",
              "<style scoped>\n",
              "    .dataframe tbody tr th:only-of-type {\n",
              "        vertical-align: middle;\n",
              "    }\n",
              "\n",
              "    .dataframe tbody tr th {\n",
              "        vertical-align: top;\n",
              "    }\n",
              "\n",
              "    .dataframe thead th {\n",
              "        text-align: right;\n",
              "    }\n",
              "</style>\n",
              "<table border=\"1\" class=\"dataframe\">\n",
              "  <thead>\n",
              "    <tr style=\"text-align: right;\">\n",
              "      <th></th>\n",
              "      <th>age</th>\n",
              "      <th>balance</th>\n",
              "      <th>duration</th>\n",
              "      <th>campaign</th>\n",
              "      <th>pdays</th>\n",
              "      <th>previous</th>\n",
              "      <th>job_blue-collar</th>\n",
              "      <th>job_entrepreneur</th>\n",
              "      <th>job_housemaid</th>\n",
              "      <th>job_management</th>\n",
              "      <th>...</th>\n",
              "      <th>job_unknown</th>\n",
              "      <th>marital_married</th>\n",
              "      <th>marital_single</th>\n",
              "      <th>education_secondary</th>\n",
              "      <th>education_tertiary</th>\n",
              "      <th>education_unknown</th>\n",
              "      <th>default_yes</th>\n",
              "      <th>housing_yes</th>\n",
              "      <th>loan_yes</th>\n",
              "      <th>y_yes</th>\n",
              "    </tr>\n",
              "  </thead>\n",
              "  <tbody>\n",
              "    <tr>\n",
              "      <th>0</th>\n",
              "      <td>30</td>\n",
              "      <td>1787</td>\n",
              "      <td>79</td>\n",
              "      <td>1</td>\n",
              "      <td>-1</td>\n",
              "      <td>0</td>\n",
              "      <td>0</td>\n",
              "      <td>0</td>\n",
              "      <td>0</td>\n",
              "      <td>0</td>\n",
              "      <td>...</td>\n",
              "      <td>0</td>\n",
              "      <td>1</td>\n",
              "      <td>0</td>\n",
              "      <td>0</td>\n",
              "      <td>0</td>\n",
              "      <td>0</td>\n",
              "      <td>0</td>\n",
              "      <td>0</td>\n",
              "      <td>0</td>\n",
              "      <td>0</td>\n",
              "    </tr>\n",
              "    <tr>\n",
              "      <th>1</th>\n",
              "      <td>33</td>\n",
              "      <td>4789</td>\n",
              "      <td>220</td>\n",
              "      <td>1</td>\n",
              "      <td>339</td>\n",
              "      <td>4</td>\n",
              "      <td>0</td>\n",
              "      <td>0</td>\n",
              "      <td>0</td>\n",
              "      <td>0</td>\n",
              "      <td>...</td>\n",
              "      <td>0</td>\n",
              "      <td>1</td>\n",
              "      <td>0</td>\n",
              "      <td>1</td>\n",
              "      <td>0</td>\n",
              "      <td>0</td>\n",
              "      <td>0</td>\n",
              "      <td>1</td>\n",
              "      <td>1</td>\n",
              "      <td>0</td>\n",
              "    </tr>\n",
              "    <tr>\n",
              "      <th>2</th>\n",
              "      <td>35</td>\n",
              "      <td>1350</td>\n",
              "      <td>185</td>\n",
              "      <td>1</td>\n",
              "      <td>330</td>\n",
              "      <td>1</td>\n",
              "      <td>0</td>\n",
              "      <td>0</td>\n",
              "      <td>0</td>\n",
              "      <td>1</td>\n",
              "      <td>...</td>\n",
              "      <td>0</td>\n",
              "      <td>0</td>\n",
              "      <td>1</td>\n",
              "      <td>0</td>\n",
              "      <td>1</td>\n",
              "      <td>0</td>\n",
              "      <td>0</td>\n",
              "      <td>1</td>\n",
              "      <td>0</td>\n",
              "      <td>0</td>\n",
              "    </tr>\n",
              "    <tr>\n",
              "      <th>3</th>\n",
              "      <td>30</td>\n",
              "      <td>1476</td>\n",
              "      <td>199</td>\n",
              "      <td>4</td>\n",
              "      <td>-1</td>\n",
              "      <td>0</td>\n",
              "      <td>0</td>\n",
              "      <td>0</td>\n",
              "      <td>0</td>\n",
              "      <td>1</td>\n",
              "      <td>...</td>\n",
              "      <td>0</td>\n",
              "      <td>1</td>\n",
              "      <td>0</td>\n",
              "      <td>0</td>\n",
              "      <td>1</td>\n",
              "      <td>0</td>\n",
              "      <td>0</td>\n",
              "      <td>1</td>\n",
              "      <td>1</td>\n",
              "      <td>0</td>\n",
              "    </tr>\n",
              "    <tr>\n",
              "      <th>4</th>\n",
              "      <td>59</td>\n",
              "      <td>0</td>\n",
              "      <td>226</td>\n",
              "      <td>1</td>\n",
              "      <td>-1</td>\n",
              "      <td>0</td>\n",
              "      <td>1</td>\n",
              "      <td>0</td>\n",
              "      <td>0</td>\n",
              "      <td>0</td>\n",
              "      <td>...</td>\n",
              "      <td>0</td>\n",
              "      <td>1</td>\n",
              "      <td>0</td>\n",
              "      <td>1</td>\n",
              "      <td>0</td>\n",
              "      <td>0</td>\n",
              "      <td>0</td>\n",
              "      <td>1</td>\n",
              "      <td>0</td>\n",
              "      <td>0</td>\n",
              "    </tr>\n",
              "  </tbody>\n",
              "</table>\n",
              "<p>5 rows × 26 columns</p>\n",
              "</div>\n",
              "      <button class=\"colab-df-convert\" onclick=\"convertToInteractive('df-2a1d72c0-ac76-40dc-81f8-297697050413')\"\n",
              "              title=\"Convert this dataframe to an interactive table.\"\n",
              "              style=\"display:none;\">\n",
              "        \n",
              "  <svg xmlns=\"http://www.w3.org/2000/svg\" height=\"24px\"viewBox=\"0 0 24 24\"\n",
              "       width=\"24px\">\n",
              "    <path d=\"M0 0h24v24H0V0z\" fill=\"none\"/>\n",
              "    <path d=\"M18.56 5.44l.94 2.06.94-2.06 2.06-.94-2.06-.94-.94-2.06-.94 2.06-2.06.94zm-11 1L8.5 8.5l.94-2.06 2.06-.94-2.06-.94L8.5 2.5l-.94 2.06-2.06.94zm10 10l.94 2.06.94-2.06 2.06-.94-2.06-.94-.94-2.06-.94 2.06-2.06.94z\"/><path d=\"M17.41 7.96l-1.37-1.37c-.4-.4-.92-.59-1.43-.59-.52 0-1.04.2-1.43.59L10.3 9.45l-7.72 7.72c-.78.78-.78 2.05 0 2.83L4 21.41c.39.39.9.59 1.41.59.51 0 1.02-.2 1.41-.59l7.78-7.78 2.81-2.81c.8-.78.8-2.07 0-2.86zM5.41 20L4 18.59l7.72-7.72 1.47 1.35L5.41 20z\"/>\n",
              "  </svg>\n",
              "      </button>\n",
              "      \n",
              "  <style>\n",
              "    .colab-df-container {\n",
              "      display:flex;\n",
              "      flex-wrap:wrap;\n",
              "      gap: 12px;\n",
              "    }\n",
              "\n",
              "    .colab-df-convert {\n",
              "      background-color: #E8F0FE;\n",
              "      border: none;\n",
              "      border-radius: 50%;\n",
              "      cursor: pointer;\n",
              "      display: none;\n",
              "      fill: #1967D2;\n",
              "      height: 32px;\n",
              "      padding: 0 0 0 0;\n",
              "      width: 32px;\n",
              "    }\n",
              "\n",
              "    .colab-df-convert:hover {\n",
              "      background-color: #E2EBFA;\n",
              "      box-shadow: 0px 1px 2px rgba(60, 64, 67, 0.3), 0px 1px 3px 1px rgba(60, 64, 67, 0.15);\n",
              "      fill: #174EA6;\n",
              "    }\n",
              "\n",
              "    [theme=dark] .colab-df-convert {\n",
              "      background-color: #3B4455;\n",
              "      fill: #D2E3FC;\n",
              "    }\n",
              "\n",
              "    [theme=dark] .colab-df-convert:hover {\n",
              "      background-color: #434B5C;\n",
              "      box-shadow: 0px 1px 3px 1px rgba(0, 0, 0, 0.15);\n",
              "      filter: drop-shadow(0px 1px 2px rgba(0, 0, 0, 0.3));\n",
              "      fill: #FFFFFF;\n",
              "    }\n",
              "  </style>\n",
              "\n",
              "      <script>\n",
              "        const buttonEl =\n",
              "          document.querySelector('#df-2a1d72c0-ac76-40dc-81f8-297697050413 button.colab-df-convert');\n",
              "        buttonEl.style.display =\n",
              "          google.colab.kernel.accessAllowed ? 'block' : 'none';\n",
              "\n",
              "        async function convertToInteractive(key) {\n",
              "          const element = document.querySelector('#df-2a1d72c0-ac76-40dc-81f8-297697050413');\n",
              "          const dataTable =\n",
              "            await google.colab.kernel.invokeFunction('convertToInteractive',\n",
              "                                                     [key], {});\n",
              "          if (!dataTable) return;\n",
              "\n",
              "          const docLinkHtml = 'Like what you see? Visit the ' +\n",
              "            '<a target=\"_blank\" href=https://colab.research.google.com/notebooks/data_table.ipynb>data table notebook</a>'\n",
              "            + ' to learn more about interactive tables.';\n",
              "          element.innerHTML = '';\n",
              "          dataTable['output_type'] = 'display_data';\n",
              "          await google.colab.output.renderOutput(dataTable, element);\n",
              "          const docLink = document.createElement('div');\n",
              "          docLink.innerHTML = docLinkHtml;\n",
              "          element.appendChild(docLink);\n",
              "        }\n",
              "      </script>\n",
              "    </div>\n",
              "  </div>\n",
              "  "
            ]
          },
          "metadata": {},
          "execution_count": 84
        }
      ]
    },
    {
      "cell_type": "code",
      "source": [
        "bank.info()\n",
        "#Ninguna columna con datos nulos.\n",
        "#Todas las columnas son del mismo tipo.\n",
        "#Se deben escalar los valores"
      ],
      "metadata": {
        "colab": {
          "base_uri": "https://localhost:8080/"
        },
        "id": "yKQF5KBF9hqY",
        "outputId": "7896342b-8421-4fba-97b6-67075bfb6b00"
      },
      "execution_count": 85,
      "outputs": [
        {
          "output_type": "stream",
          "name": "stdout",
          "text": [
            "<class 'pandas.core.frame.DataFrame'>\n",
            "RangeIndex: 4521 entries, 0 to 4520\n",
            "Data columns (total 26 columns):\n",
            " #   Column               Non-Null Count  Dtype\n",
            "---  ------               --------------  -----\n",
            " 0   age                  4521 non-null   int64\n",
            " 1   balance              4521 non-null   int64\n",
            " 2   duration             4521 non-null   int64\n",
            " 3   campaign             4521 non-null   int64\n",
            " 4   pdays                4521 non-null   int64\n",
            " 5   previous             4521 non-null   int64\n",
            " 6   job_blue-collar      4521 non-null   int64\n",
            " 7   job_entrepreneur     4521 non-null   int64\n",
            " 8   job_housemaid        4521 non-null   int64\n",
            " 9   job_management       4521 non-null   int64\n",
            " 10  job_retired          4521 non-null   int64\n",
            " 11  job_self-employed    4521 non-null   int64\n",
            " 12  job_services         4521 non-null   int64\n",
            " 13  job_student          4521 non-null   int64\n",
            " 14  job_technician       4521 non-null   int64\n",
            " 15  job_unemployed       4521 non-null   int64\n",
            " 16  job_unknown          4521 non-null   int64\n",
            " 17  marital_married      4521 non-null   int64\n",
            " 18  marital_single       4521 non-null   int64\n",
            " 19  education_secondary  4521 non-null   int64\n",
            " 20  education_tertiary   4521 non-null   int64\n",
            " 21  education_unknown    4521 non-null   int64\n",
            " 22  default_yes          4521 non-null   int64\n",
            " 23  housing_yes          4521 non-null   int64\n",
            " 24  loan_yes             4521 non-null   int64\n",
            " 25  y_yes                4521 non-null   int64\n",
            "dtypes: int64(26)\n",
            "memory usage: 918.5 KB\n"
          ]
        }
      ]
    },
    {
      "cell_type": "markdown",
      "source": [
        "###**3) Crear matriz de características y vector objetivo**"
      ],
      "metadata": {
        "id": "s3sIyWDa-CNh"
      }
    },
    {
      "cell_type": "code",
      "source": [
        "X = bank.drop(columns='y_yes')\n",
        "y = bank['y_yes']\n",
        "X_train, X_test, y_train, y_test = train_test_split(X,y,random_state=42)"
      ],
      "metadata": {
        "id": "jm9YpE9s-JHN"
      },
      "execution_count": 86,
      "outputs": []
    },
    {
      "cell_type": "code",
      "source": [
        "y.value_counts()\n",
        "#Se va a tratar de una clasificación mbinaria pero está muy desbalanceada por lo que es probable que el modelo tenga un buen rendimiento en el conjunto de pruebas"
      ],
      "metadata": {
        "colab": {
          "base_uri": "https://localhost:8080/"
        },
        "id": "fo3gmHQK-WuP",
        "outputId": "9c92b694-3d73-49ed-c898-a6a882bc24d5"
      },
      "execution_count": 87,
      "outputs": [
        {
          "output_type": "execute_result",
          "data": {
            "text/plain": [
              "0    4000\n",
              "1     521\n",
              "Name: y_yes, dtype: int64"
            ]
          },
          "metadata": {},
          "execution_count": 87
        }
      ]
    },
    {
      "cell_type": "markdown",
      "source": [
        "###**4) Instanciar el transformador, modelo, pipeline**"
      ],
      "metadata": {
        "id": "6T1U1Sim-lQi"
      }
    },
    {
      "cell_type": "markdown",
      "source": [
        "**Instancia para el escalador**"
      ],
      "metadata": {
        "id": "fLyFrUMF-uqS"
      }
    },
    {
      "cell_type": "code",
      "source": [
        "scaler = StandardScaler()"
      ],
      "metadata": {
        "id": "K-B11CjG-wuq"
      },
      "execution_count": 88,
      "outputs": []
    },
    {
      "cell_type": "markdown",
      "source": [
        "**Instancia para el modelo re regresión logística**"
      ],
      "metadata": {
        "id": "wYDYlceR-zXf"
      }
    },
    {
      "cell_type": "code",
      "source": [
        "log_reg_bank = LogisticRegression(random_state=42)"
      ],
      "metadata": {
        "id": "eo-mkTKp-3MD"
      },
      "execution_count": 89,
      "outputs": []
    },
    {
      "cell_type": "markdown",
      "source": [
        "**Instancia para pipeline**"
      ],
      "metadata": {
        "id": "AKpL-j6c-9a3"
      }
    },
    {
      "cell_type": "code",
      "source": [
        "log_reg_pipe = make_pipeline(scaler,log_reg_bank)"
      ],
      "metadata": {
        "id": "GKYu2pJD_Do2"
      },
      "execution_count": 90,
      "outputs": []
    },
    {
      "cell_type": "markdown",
      "source": [
        "###**5) Ajustar modelo a los datos de entrenamiento**"
      ],
      "metadata": {
        "id": "VvjMGKb1_LHq"
      }
    },
    {
      "cell_type": "code",
      "source": [
        "log_reg_pipe.fit(X_train, y_train)"
      ],
      "metadata": {
        "colab": {
          "base_uri": "https://localhost:8080/"
        },
        "id": "frUqpiyk_PbB",
        "outputId": "3c7beb6c-f774-421f-fbe5-695eb8e98916"
      },
      "execution_count": 91,
      "outputs": [
        {
          "output_type": "execute_result",
          "data": {
            "text/plain": [
              "Pipeline(steps=[('standardscaler', StandardScaler()),\n",
              "                ('logisticregression', LogisticRegression(random_state=42))])"
            ]
          },
          "metadata": {},
          "execution_count": 91
        }
      ]
    },
    {
      "cell_type": "markdown",
      "source": [
        "###**6) Calcular las predicciones**"
      ],
      "metadata": {
        "id": "uG21gReD_Udc"
      }
    },
    {
      "cell_type": "code",
      "source": [
        "log_reg_predic = log_reg_pipe.predict(X_test)\n",
        "log_reg_predic"
      ],
      "metadata": {
        "colab": {
          "base_uri": "https://localhost:8080/"
        },
        "id": "vgvtQkEo_ZB6",
        "outputId": "70269eff-1ccb-47dd-f907-9c8604fd12ac"
      },
      "execution_count": 92,
      "outputs": [
        {
          "output_type": "execute_result",
          "data": {
            "text/plain": [
              "array([0, 0, 0, ..., 0, 0, 0])"
            ]
          },
          "metadata": {},
          "execution_count": 92
        }
      ]
    },
    {
      "cell_type": "markdown",
      "source": [
        "###**7) Métricas para el modelo**"
      ],
      "metadata": {
        "id": "LnTvzqRy_ie9"
      }
    },
    {
      "cell_type": "markdown",
      "source": [
        "**Exactitud - Accuracy**"
      ],
      "metadata": {
        "id": "omxy6RyU_opZ"
      }
    },
    {
      "cell_type": "code",
      "source": [
        "accuracy = log_reg_pipe.score(X_test,y_test)\n",
        "accuracy"
      ],
      "metadata": {
        "colab": {
          "base_uri": "https://localhost:8080/"
        },
        "id": "WGw67-DR_nyv",
        "outputId": "c68bf551-282d-46c1-8e57-c8b5a0a38f08"
      },
      "execution_count": 93,
      "outputs": [
        {
          "output_type": "execute_result",
          "data": {
            "text/plain": [
              "0.8992042440318302"
            ]
          },
          "metadata": {},
          "execution_count": 93
        }
      ]
    },
    {
      "cell_type": "markdown",
      "source": [
        "**Otras métricas**"
      ],
      "metadata": {
        "id": "sESjrWc__6B1"
      }
    },
    {
      "cell_type": "code",
      "source": [
        "print(f'recall = {recall_score(y_test,log_reg_predic)}')\n",
        "print(f'precision = {precision_score(y_test,log_reg_predic)}')"
      ],
      "metadata": {
        "colab": {
          "base_uri": "https://localhost:8080/"
        },
        "id": "hXA6wxINA2Wd",
        "outputId": "e831c513-4b69-49c3-d26f-2f13f81ad139"
      },
      "execution_count": 94,
      "outputs": [
        {
          "output_type": "stream",
          "name": "stdout",
          "text": [
            "recall = 0.272\n",
            "precision = 0.5964912280701754\n"
          ]
        }
      ]
    },
    {
      "cell_type": "code",
      "source": [
        "print(classification_report(y_test,log_reg_predic))"
      ],
      "metadata": {
        "colab": {
          "base_uri": "https://localhost:8080/"
        },
        "id": "xuH8V-QEAR3S",
        "outputId": "9eef2df7-547b-45ad-e8f9-9acc8c426705"
      },
      "execution_count": 95,
      "outputs": [
        {
          "output_type": "stream",
          "name": "stdout",
          "text": [
            "              precision    recall  f1-score   support\n",
            "\n",
            "           0       0.92      0.98      0.95      1006\n",
            "           1       0.60      0.27      0.37       125\n",
            "\n",
            "    accuracy                           0.90      1131\n",
            "   macro avg       0.76      0.62      0.66      1131\n",
            "weighted avg       0.88      0.90      0.88      1131\n",
            "\n"
          ]
        }
      ]
    },
    {
      "cell_type": "markdown",
      "source": [
        "**AUC ROC**"
      ],
      "metadata": {
        "id": "fo3VJp_tWXs0"
      }
    },
    {
      "cell_type": "code",
      "source": [
        "# Calculate AUC for both training and testing sets\n",
        "print(f'Training AUC: {roc_auc_score(y_train, log_reg_pipe.predict_proba(X_train)[:,1])}')\n",
        "print(f'Testing AUC: {roc_auc_score(y_test, log_reg_pipe.predict_proba(X_test)[:,1])}')"
      ],
      "metadata": {
        "colab": {
          "base_uri": "https://localhost:8080/"
        },
        "id": "pK9K9t78WW6S",
        "outputId": "260b003e-6e08-4da7-92ab-a785dd404843"
      },
      "execution_count": 96,
      "outputs": [
        {
          "output_type": "stream",
          "name": "stdout",
          "text": [
            "Training AUC: 0.8615859665458865\n",
            "Testing AUC: 0.8588548707753478\n"
          ]
        }
      ]
    },
    {
      "cell_type": "markdown",
      "source": [
        "**Curva AUC_ROC**"
      ],
      "metadata": {
        "id": "sZEhNcZ1W2md"
      }
    },
    {
      "cell_type": "code",
      "source": [
        "RocCurveDisplay.from_estimator(log_reg_pipe,X_train,y_train)\n",
        "plt.plot([0,1],[0,1],ls='--', label='Baseline (AUC=0.5)')\n",
        "plt.legend()"
      ],
      "metadata": {
        "colab": {
          "base_uri": "https://localhost:8080/",
          "height": 297
        },
        "id": "5pR1skk6W6H5",
        "outputId": "2e8d8388-cee7-419f-d0c2-3d095b5ffae7"
      },
      "execution_count": 109,
      "outputs": [
        {
          "output_type": "execute_result",
          "data": {
            "text/plain": [
              "<matplotlib.legend.Legend at 0x7f720a2dc5d0>"
            ]
          },
          "metadata": {},
          "execution_count": 109
        },
        {
          "output_type": "display_data",
          "data": {
            "text/plain": [
              "<Figure size 432x288 with 1 Axes>"
            ],
            "image/png": "[encoded data removed]"
          },
          "metadata": {
            "needs_background": "light"
          }
        }
      ]
    },
    {
      "cell_type": "markdown",
      "source": [
        "**Matriz de confusión**"
      ],
      "metadata": {
        "id": "fLfL-Hy9PPpK"
      }
    },
    {
      "cell_type": "code",
      "source": [
        "plot_confusion_matrix(log_reg_pipe,X_test,y_test)"
      ],
      "metadata": {
        "colab": {
          "base_uri": "https://localhost:8080/",
          "height": 353
        },
        "id": "G6SM6X8JPO73",
        "outputId": "d1672ff5-fd9c-49fd-aa45-fd1bf547cd4a"
      },
      "execution_count": 97,
      "outputs": [
        {
          "output_type": "stream",
          "name": "stderr",
          "text": [
            "/usr/local/lib/python3.7/dist-packages/sklearn/utils/deprecation.py:87: FutureWarning: Function plot_confusion_matrix is deprecated; Function `plot_confusion_matrix` is deprecated in 1.0 and will be removed in 1.2. Use one of the class methods: ConfusionMatrixDisplay.from_predictions or ConfusionMatrixDisplay.from_estimator.\n",
            "  warnings.warn(msg, category=FutureWarning)\n"
          ]
        },
        {
          "output_type": "execute_result",
          "data": {
            "text/plain": [
              "<sklearn.metrics._plot.confusion_matrix.ConfusionMatrixDisplay at 0x7f7209c0bb10>"
            ]
          },
          "metadata": {},
          "execution_count": 97
        },
        {
          "output_type": "display_data",
          "data": {
            "text/plain": [
              "<Figure size 432x288 with 2 Axes>"
            ],
            "image/png": "[encoded data removed]"
          },
          "metadata": {
            "needs_background": "light"
          }
        }
      ]
    },
    {
      "cell_type": "markdown",
      "source": [
        "Dado que nuestro objetivo es poder clasificar el 1 lo mejor posible, se observa que hay gran error tipo 2 ya que se está prediciendo 0 cuando deberías ser 1, un falso negativo, así que para reducir el falso negativo, queremos que el recall sea el máximo"
      ],
      "metadata": {
        "id": "NuItZ8NOP3Sh"
      }
    },
    {
      "cell_type": "markdown",
      "source": [
        "###**8) Optimización parámetro C**"
      ],
      "metadata": {
        "id": "ym-FeO7bMWZ4"
      }
    },
    {
      "cell_type": "markdown",
      "source": [
        "**Usando regularización l1**"
      ],
      "metadata": {
        "id": "Hrmhr-kXMi0l"
      }
    },
    {
      "cell_type": "code",
      "source": [
        "#Crear lista de posibles valores c\n",
        "lista_c = [0.0001, 0.001, 0.01, 0.1, 1, 10, 100,1000]\n",
        "lista_test_score = []\n",
        "for c in lista_c: \n",
        "  log_reg_opti = LogisticRegression(C=c, solver='liblinear', max_iter=1000, penalty='l1', random_state=42)\n",
        "  log_reg_opti_pipe = make_pipeline(scaler,log_reg_opti)\n",
        "  log_reg_opti_pipe.fit(X_train, y_train)\n",
        "  log_reg_opti_pred = log_reg_opti_pipe.predict(X_test)\n",
        "  lista_test_score.append(recall_score(y_test,log_reg_opti_pred))\n",
        "\n",
        "dic_l1={score:c for c,score in zip(lista_c,lista_test_score)}"
      ],
      "metadata": {
        "id": "C8oGLqhAMbBL"
      },
      "execution_count": 98,
      "outputs": []
    },
    {
      "cell_type": "code",
      "source": [
        "{c:score for c,score in zip(lista_c,lista_test_score)}"
      ],
      "metadata": {
        "colab": {
          "base_uri": "https://localhost:8080/"
        },
        "id": "uiUbZhKHMtaw",
        "outputId": "b2d0d1d7-1a62-4c5f-cfdb-80b806faebb4"
      },
      "execution_count": 99,
      "outputs": [
        {
          "output_type": "execute_result",
          "data": {
            "text/plain": [
              "{0.0001: 0.0,\n",
              " 0.001: 0.0,\n",
              " 0.01: 0.112,\n",
              " 0.1: 0.224,\n",
              " 1: 0.264,\n",
              " 10: 0.272,\n",
              " 100: 0.272,\n",
              " 1000: 0.272}"
            ]
          },
          "metadata": {},
          "execution_count": 99
        }
      ]
    },
    {
      "cell_type": "markdown",
      "source": [
        "**Usando regularización l2**"
      ],
      "metadata": {
        "id": "B8oF8jtSOiAv"
      }
    },
    {
      "cell_type": "code",
      "source": [
        "#Crear lista de posibles valores c\n",
        "lista_c = [0.0001, 0.001, 0.01, 0.1, 1, 10, 100,1000]\n",
        "lista_train_score = []\n",
        "lista_test_score = []\n",
        "for c in lista_c: \n",
        "  log_reg_opti = LogisticRegression(C=c, solver='liblinear', max_iter=1000, penalty='l2', random_state=42)\n",
        "  log_reg_opti_pipe = make_pipeline(scaler,log_reg_opti)\n",
        "  log_reg_opti_pipe.fit(X_train, y_train)\n",
        "  lista_train_score.append(log_reg_opti_pipe.score(X_train,y_train))\n",
        "  lista_test_score.append(log_reg_opti_pipe.score(X_test,y_test))\n",
        "\n",
        "dic_l2={score:c for c,score in zip(lista_c,lista_test_score)}"
      ],
      "metadata": {
        "id": "hoJTsaKTOjT6"
      },
      "execution_count": 100,
      "outputs": []
    },
    {
      "cell_type": "code",
      "source": [
        "dic_l2.get(max(lista_test_score))"
      ],
      "metadata": {
        "colab": {
          "base_uri": "https://localhost:8080/"
        },
        "id": "NqISt_ghOpXW",
        "outputId": "4f37ccc6-56e4-41ec-b7ea-acddb3e96e06"
      },
      "execution_count": 101,
      "outputs": [
        {
          "output_type": "execute_result",
          "data": {
            "text/plain": [
              "1"
            ]
          },
          "metadata": {},
          "execution_count": 101
        }
      ]
    },
    {
      "cell_type": "code",
      "source": [
        "#Diccionario para ver los valores de c y los score\n",
        "{c:score for c,score in zip(lista_c,lista_test_score)}"
      ],
      "metadata": {
        "colab": {
          "base_uri": "https://localhost:8080/"
        },
        "id": "Qt4D_TbkOvK_",
        "outputId": "c73124dc-9be8-48cb-fd9f-5f47f93fb7bc"
      },
      "execution_count": 102,
      "outputs": [
        {
          "output_type": "execute_result",
          "data": {
            "text/plain": [
              "{0.0001: 0.8956675508399646,\n",
              " 0.001: 0.8947833775419982,\n",
              " 0.01: 0.8956675508399646,\n",
              " 0.1: 0.8983200707338639,\n",
              " 1: 0.8992042440318302,\n",
              " 10: 0.8983200707338639,\n",
              " 100: 0.8983200707338639,\n",
              " 1000: 0.8983200707338639}"
            ]
          },
          "metadata": {},
          "execution_count": 102
        }
      ]
    },
    {
      "cell_type": "markdown",
      "source": [
        "**Cambio de los pesos**\n",
        "\n",
        "Dado que el dataset está desbalanceado se espera que se puedan ajustar los pesos en un proporción contraria a la que representan"
      ],
      "metadata": {
        "id": "DMgul3SJR-X2"
      }
    },
    {
      "cell_type": "code",
      "source": [
        "y.value_counts(normalize=True)"
      ],
      "metadata": {
        "colab": {
          "base_uri": "https://localhost:8080/"
        },
        "id": "VOyeZVVhSIdg",
        "outputId": "094e32f0-632a-48b6-c9a9-49db3489beca"
      },
      "execution_count": 103,
      "outputs": [
        {
          "output_type": "execute_result",
          "data": {
            "text/plain": [
              "0    0.88476\n",
              "1    0.11524\n",
              "Name: y_yes, dtype: float64"
            ]
          },
          "metadata": {},
          "execution_count": 103
        }
      ]
    },
    {
      "cell_type": "markdown",
      "source": [
        "**Usar Grid para optimizar**"
      ],
      "metadata": {
        "id": "MN5gSWxvUWgr"
      }
    },
    {
      "cell_type": "code",
      "source": [
        "w = [{0:10,1:100},{0:10,1:99}, {0:10,1:90}, \n",
        "     {0:20,1:80}, {0:20,1:100}, {0:5,1:100}, {0:5,1:95}, \n",
        "     {0:12,1:88}, {0:15,1:85}, {0:12,1:100}, {0:11,1:90}]\n",
        "\n",
        "hyperparam_grid = {\"class_weight\": w }"
      ],
      "metadata": {
        "id": "7NASDZAiUamv"
      },
      "execution_count": 141,
      "outputs": []
    },
    {
      "cell_type": "markdown",
      "source": [
        "**Se usa GridSearch y se asigna el score que se pretende mejorar que es roc_auc**"
      ],
      "metadata": {
        "id": "JYFV8XXuVTPa"
      }
    },
    {
      "cell_type": "code",
      "source": [
        "# define model\n",
        "lg3 = LogisticRegression(random_state=42)\n",
        "# define evaluation procedure\n",
        "grid = GridSearchCV(lg3,hyperparam_grid,scoring=\"roc_auc\", cv=100, n_jobs=-1, refit=True)\n",
        "grid.fit(X_train,y_train)\n",
        "print(f'Best score: {grid.best_score_} with param: {grid.best_params_}')"
      ],
      "metadata": {
        "colab": {
          "base_uri": "https://localhost:8080/"
        },
        "id": "U_wlR1xPUlMT",
        "outputId": "aa33bc99-ef29-44a5-f38a-01f6e9f23658"
      },
      "execution_count": 142,
      "outputs": [
        {
          "output_type": "stream",
          "name": "stdout",
          "text": [
            "Best score: 0.8508314176245212 with param: {'class_weight': {0: 10, 1: 90}}\n"
          ]
        },
        {
          "output_type": "stream",
          "name": "stderr",
          "text": [
            "/usr/local/lib/python3.7/dist-packages/sklearn/linear_model/_logistic.py:818: ConvergenceWarning: lbfgs failed to converge (status=1):\n",
            "STOP: TOTAL NO. of ITERATIONS REACHED LIMIT.\n",
            "\n",
            "Increase the number of iterations (max_iter) or scale the data as shown in:\n",
            "    https://scikit-learn.org/stable/modules/preprocessing.html\n",
            "Please also refer to the documentation for alternative solver options:\n",
            "    https://scikit-learn.org/stable/modules/linear_model.html#logistic-regression\n",
            "  extra_warning_msg=_LOGISTIC_SOLVER_CONVERGENCE_MSG,\n"
          ]
        }
      ]
    },
    {
      "cell_type": "code",
      "source": [
        "#Los pesos quedarán así\n",
        "#Se prueba con 'class_weight': {0: 10, 1:90} y el accuracy baja al 78%, y el auc_roc no varía en unidades porcentuales, en la centécimas, así que para no penalizar mucho los \n",
        "# demás indicadores se toma un w según la distribución del data set observada \n",
        "w = {0:12,1:88}\n",
        "log_reg_opti = LogisticRegression(class_weight=w, random_state=42, max_iter=1000, solver='liblinear', C=1, penalty='l2')\n",
        "log_reg_opti_pipe = make_pipeline(scaler,log_reg_opti)\n",
        "log_reg_opti_pipe.fit(X_train, y_train)\n",
        "log_reg_opti_pred = log_reg_opti_pipe.predict(X_test)\n",
        "recall = recall_score(y_test,log_reg_opti_pred)\n",
        "recall"
      ],
      "metadata": {
        "colab": {
          "base_uri": "https://localhost:8080/"
        },
        "id": "-vmHee46SNi5",
        "outputId": "775361f8-2a80-4525-cdfa-265169bd8d45"
      },
      "execution_count": 165,
      "outputs": [
        {
          "output_type": "execute_result",
          "data": {
            "text/plain": [
              "0.72"
            ]
          },
          "metadata": {},
          "execution_count": 165
        }
      ]
    },
    {
      "cell_type": "code",
      "source": [
        "plot_confusion_matrix(log_reg_opti_pipe,X_test,y_test)"
      ],
      "metadata": {
        "colab": {
          "base_uri": "https://localhost:8080/",
          "height": 353
        },
        "id": "9s1DdP8NTDKy",
        "outputId": "e5438951-8b69-435b-bc43-17a0b3a5f272"
      },
      "execution_count": 166,
      "outputs": [
        {
          "output_type": "stream",
          "name": "stderr",
          "text": [
            "/usr/local/lib/python3.7/dist-packages/sklearn/utils/deprecation.py:87: FutureWarning: Function plot_confusion_matrix is deprecated; Function `plot_confusion_matrix` is deprecated in 1.0 and will be removed in 1.2. Use one of the class methods: ConfusionMatrixDisplay.from_predictions or ConfusionMatrixDisplay.from_estimator.\n",
            "  warnings.warn(msg, category=FutureWarning)\n"
          ]
        },
        {
          "output_type": "execute_result",
          "data": {
            "text/plain": [
              "<sklearn.metrics._plot.confusion_matrix.ConfusionMatrixDisplay at 0x7f7207da7ad0>"
            ]
          },
          "metadata": {},
          "execution_count": 166
        },
        {
          "output_type": "display_data",
          "data": {
            "text/plain": [
              "<Figure size 432x288 with 2 Axes>"
            ],
            "image/png": "[encoded data removed]"
          },
          "metadata": {
            "needs_background": "light"
          }
        }
      ]
    },
    {
      "cell_type": "code",
      "source": [
        "print(classification_report(y_test,log_reg_opti_pred))"
      ],
      "metadata": {
        "colab": {
          "base_uri": "https://localhost:8080/"
        },
        "id": "6yCepnGWTVKx",
        "outputId": "31df72ba-47ef-4bc8-b766-64fe558c0698"
      },
      "execution_count": 167,
      "outputs": [
        {
          "output_type": "stream",
          "name": "stdout",
          "text": [
            "              precision    recall  f1-score   support\n",
            "\n",
            "           0       0.96      0.82      0.88      1006\n",
            "           1       0.33      0.72      0.45       125\n",
            "\n",
            "    accuracy                           0.81      1131\n",
            "   macro avg       0.64      0.77      0.67      1131\n",
            "weighted avg       0.89      0.81      0.84      1131\n",
            "\n"
          ]
        }
      ]
    },
    {
      "cell_type": "code",
      "source": [
        "# Calculate AUC for both training and testing sets\n",
        "print(f'Training AUC: {roc_auc_score(y_train, log_reg_opti_pipe.predict_proba(X_train)[:,1])}')\n",
        "print(f'Testing AUC: {roc_auc_score(y_test, log_reg_opti_pipe.predict_proba(X_test)[:,1])}')"
      ],
      "metadata": {
        "colab": {
          "base_uri": "https://localhost:8080/"
        },
        "id": "fXA4bQsybEXU",
        "outputId": "15ecdeb8-b69b-4f93-c1c9-b31e403f53be"
      },
      "execution_count": 168,
      "outputs": [
        {
          "output_type": "stream",
          "name": "stdout",
          "text": [
            "Training AUC: 0.8659963023690479\n",
            "Testing AUC: 0.8631013916500994\n"
          ]
        }
      ]
    },
    {
      "cell_type": "code",
      "source": [
        "RocCurveDisplay.from_estimator(log_reg_opti_pipe,X_train,y_train)\n",
        "plt.plot([0,1],[0,1],ls='--', label='Baseline (AUC=0.5)')\n",
        "plt.legend()"
      ],
      "metadata": {
        "colab": {
          "base_uri": "https://localhost:8080/",
          "height": 297
        },
        "id": "2dgcWaKjbPn6",
        "outputId": "23f17dd4-6e7b-482b-d7cd-e556abb84972"
      },
      "execution_count": 169,
      "outputs": [
        {
          "output_type": "execute_result",
          "data": {
            "text/plain": [
              "<matplotlib.legend.Legend at 0x7f7207cef850>"
            ]
          },
          "metadata": {},
          "execution_count": 169
        },
        {
          "output_type": "display_data",
          "data": {
            "text/plain": [
              "<Figure size 432x288 with 1 Axes>"
            ],
            "image/png": "[encoded data removed]"
          },
          "metadata": {
            "needs_background": "light"
          }
        }
      ]
    }
  ]
}