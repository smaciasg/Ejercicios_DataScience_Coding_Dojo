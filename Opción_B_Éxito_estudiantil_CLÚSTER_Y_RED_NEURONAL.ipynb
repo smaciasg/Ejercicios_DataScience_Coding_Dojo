{
  "nbformat": 4,
  "nbformat_minor": 0,
  "metadata": {
    "colab": {
      "provenance": [],
      "collapsed_sections": [
        "ZwDjax49bqYZ"
      ],
      "mount_file_id": "16hKS1wYu3VrRQZp7XE79KF70seX2ns-A",
      "authorship_tag": "ABX9TyPJw/I1UXEUtimae/jmgJBm",
      "include_colab_link": true
    },
    "kernelspec": {
      "name": "python3",
      "display_name": "Python 3"
    },
    "language_info": {
      "name": "python"
    },
    "accelerator": "GPU",
    "gpuClass": "standard"
  },
  "cells": [
    {
      "cell_type": "markdown",
      "metadata": {
        "id": "view-in-github",
        "colab_type": "text"
      },
      "source": [
        "<a href=\"https://colab.research.google.com/github/smaciasg/Ejercicios_DataScience_Coding_Dojo/blob/main/Opci%C3%B3n_B_%C3%89xito_estudiantil_CL%C3%9ASTER_Y_RED_NEURONAL.ipynb\" target=\"_parent\"><img src=\"https://colab.research.google.com/assets/colab-badge.svg\" alt=\"Open In Colab\"/></a>"
      ]
    },
    {
      "cell_type": "markdown",
      "source": [
        "**The Problem**\n",
        "\n",
        "An online school would like to better understand their students and predict which ones will pass the course and which will fail.  You have been provided with information about the students themselves as well as their performance in the course in order to \n",
        "\n",
        "1. Cluster students into groups and describe those groups and \n",
        "2. Create a predictive model that will predict which students will fail the course.\n",
        "\n",
        "**Data notes:**\n",
        "\n",
        "IMD stands for ‘Index of Multiple Deprivation’ and is a combination of several measures of socioeconomic deprivation in the neighborhood that the student is coming from.  A higher number means less deprivation and a lower number means the neighborhood is more deprived.\n",
        "\n",
        "**Part 1: Clustering Instructions:**\n",
        "\n",
        "An online school would like to segment their students into groups to see how different kinds of students differ.  They have asked you to do this and report back on how the groups are different and any important insights about kinds of students that come from this clustering.\n",
        "\n",
        "**Load this dataset for clustering**\n",
        "\n",
        "1. Explore the data and clean as needed\n",
        "2. Prepare the data for modeling\n",
        "3. Use a KMeans model to cluster the students into an optimal number of clusters. \n",
        "4. Use an elbow plot and silhouette score to find the optimal number of clusters.\n",
        "5. There must be between 2 and 10 clusters.\n",
        "6. Explain your choice of number of clusters\n",
        "7. Analyze and report on the clusters.\n",
        "8. Create 2 report quality explanatory visualizations showing important differences between the clusters.\n",
        "9. Interpret and explain each visualization.\n",
        "\n",
        "**Part 2: Modeling Instructions**\n",
        "\n",
        "The online school has provided new data about the daily activities of each student on their learning platform, how early or late they completed each assessment, and which courses they were taking.  However, this has caused the data table to have over 900 columns.\n",
        "\n",
        "*They would now like you to use this data to predict which students will pass the course and which will fail :* **passed_course is your target variable**\n",
        "\n",
        "1. Load this dataset for modeling  **This is a different data set than used for part 1!**\n",
        "2. The file is large, make sure to wait for it to fully upload before loading it into your dataframe\n",
        "3. This dataset is pre-cleaned, but may need to be processed before modeling.  \n",
        "4. Use random_state = 42 for your train_test_split\n",
        "5. Apply PCA to reduce the number of features.\n",
        "6. Compare how many columns are present before and after PCA\n",
        "7. Do not leak data.\n",
        "8. Use a deep learning model to predict which students will pass and which will fail\n",
        "9. Create 3 different versions of a sequential model.\n",
        "10. Each new model should be an iteration on the previous model.\n",
        "11. Justify in writing why you changed what you did for each new model. (For example, why did you add layers, regularization, nodes, etc)\n",
        "12. Use some form of regularization with at least one model.\n",
        "13. Evaluate each model with multiple appropriate metrics.\n",
        "14. Choose a final model and justify your choice.\n",
        "15. Evaluate your final model with multiple metrics\n",
        "16. Based on those metrics, explain in writing how well your model will solve the business problem.\n"
      ],
      "metadata": {
        "id": "qgCpRHatZiOR"
      }
    },
    {
      "cell_type": "markdown",
      "source": [
        "#**PARTE 1: CLÚSTERS**"
      ],
      "metadata": {
        "id": "ZwDjax49bqYZ"
      }
    },
    {
      "cell_type": "markdown",
      "source": [
        "###**1) Importar librerías**"
      ],
      "metadata": {
        "id": "7tt_bfiNdNXv"
      }
    },
    {
      "cell_type": "code",
      "execution_count": 1,
      "metadata": {
        "id": "nfm_uvbNZgME"
      },
      "outputs": [],
      "source": [
        "import numpy as np\n",
        "import pandas as pd\n",
        "import matplotlib.pyplot as plt\n",
        "from sklearn.preprocessing import StandardScaler\n",
        "from sklearn.cluster import KMeans\n",
        "from sklearn.metrics import silhouette_score\n",
        "import seaborn as sns"
      ]
    },
    {
      "cell_type": "markdown",
      "source": [
        "###**2) Cargar datos y explorar**"
      ],
      "metadata": {
        "id": "0bjQqh8hcehY"
      }
    },
    {
      "cell_type": "code",
      "source": [
        "df_cluster_estudiantes = pd.read_csv('/content/drive/MyDrive/CODING DOJO/DATA SCIENCE/BELT EXAM 3/Option_B_clustering - Option_B_clustering.csv')\n",
        "df_cluster_estudiantes.head()"
      ],
      "metadata": {
        "colab": {
          "base_uri": "https://localhost:8080/",
          "height": 270
        },
        "id": "7QrTMtRccj6V",
        "outputId": "f439f60e-e92b-451a-ad6f-f172056a42d6"
      },
      "execution_count": 2,
      "outputs": [
        {
          "output_type": "execute_result",
          "data": {
            "text/plain": [
              "   gender  highest_education  imd_band  age_band  num_of_prev_attempts  \\\n",
              "0       1                  2         9         2                     0   \n",
              "1       0                  2         2         1                     0   \n",
              "2       0                  3         5         1                     0   \n",
              "3       0                  1         5         0                     0   \n",
              "4       1                  2         3         0                     0   \n",
              "\n",
              "   studied_credits  disability  passed_course  assess_score_1  assess_score_2  \\\n",
              "0              240           0              1              78              85   \n",
              "1               60           0              1              70              68   \n",
              "2               60           0              1              72              71   \n",
              "3               60           0              1              69              30   \n",
              "4               60           0              1              70              65   \n",
              "\n",
              "   assess_score_3  assess_score_4  assess_score_5  \n",
              "0              80              85              82  \n",
              "1              70              64              60  \n",
              "2              74              88              75  \n",
              "3              63              35              75  \n",
              "4              62              75              68  "
            ],
            "text/html": [
              "\n",
              "  <div id=\"df-d32edd02-3869-466c-87bd-1de3cf90940a\">\n",
              "    <div class=\"colab-df-container\">\n",
              "      <div>\n",
              "<style scoped>\n",
              "    .dataframe tbody tr th:only-of-type {\n",
              "        vertical-align: middle;\n",
              "    }\n",
              "\n",
              "    .dataframe tbody tr th {\n",
              "        vertical-align: top;\n",
              "    }\n",
              "\n",
              "    .dataframe thead th {\n",
              "        text-align: right;\n",
              "    }\n",
              "</style>\n",
              "<table border=\"1\" class=\"dataframe\">\n",
              "  <thead>\n",
              "    <tr style=\"text-align: right;\">\n",
              "      <th></th>\n",
              "      <th>gender</th>\n",
              "      <th>highest_education</th>\n",
              "      <th>imd_band</th>\n",
              "      <th>age_band</th>\n",
              "      <th>num_of_prev_attempts</th>\n",
              "      <th>studied_credits</th>\n",
              "      <th>disability</th>\n",
              "      <th>passed_course</th>\n",
              "      <th>assess_score_1</th>\n",
              "      <th>assess_score_2</th>\n",
              "      <th>assess_score_3</th>\n",
              "      <th>assess_score_4</th>\n",
              "      <th>assess_score_5</th>\n",
              "    </tr>\n",
              "  </thead>\n",
              "  <tbody>\n",
              "    <tr>\n",
              "      <th>0</th>\n",
              "      <td>1</td>\n",
              "      <td>2</td>\n",
              "      <td>9</td>\n",
              "      <td>2</td>\n",
              "      <td>0</td>\n",
              "      <td>240</td>\n",
              "      <td>0</td>\n",
              "      <td>1</td>\n",
              "      <td>78</td>\n",
              "      <td>85</td>\n",
              "      <td>80</td>\n",
              "      <td>85</td>\n",
              "      <td>82</td>\n",
              "    </tr>\n",
              "    <tr>\n",
              "      <th>1</th>\n",
              "      <td>0</td>\n",
              "      <td>2</td>\n",
              "      <td>2</td>\n",
              "      <td>1</td>\n",
              "      <td>0</td>\n",
              "      <td>60</td>\n",
              "      <td>0</td>\n",
              "      <td>1</td>\n",
              "      <td>70</td>\n",
              "      <td>68</td>\n",
              "      <td>70</td>\n",
              "      <td>64</td>\n",
              "      <td>60</td>\n",
              "    </tr>\n",
              "    <tr>\n",
              "      <th>2</th>\n",
              "      <td>0</td>\n",
              "      <td>3</td>\n",
              "      <td>5</td>\n",
              "      <td>1</td>\n",
              "      <td>0</td>\n",
              "      <td>60</td>\n",
              "      <td>0</td>\n",
              "      <td>1</td>\n",
              "      <td>72</td>\n",
              "      <td>71</td>\n",
              "      <td>74</td>\n",
              "      <td>88</td>\n",
              "      <td>75</td>\n",
              "    </tr>\n",
              "    <tr>\n",
              "      <th>3</th>\n",
              "      <td>0</td>\n",
              "      <td>1</td>\n",
              "      <td>5</td>\n",
              "      <td>0</td>\n",
              "      <td>0</td>\n",
              "      <td>60</td>\n",
              "      <td>0</td>\n",
              "      <td>1</td>\n",
              "      <td>69</td>\n",
              "      <td>30</td>\n",
              "      <td>63</td>\n",
              "      <td>35</td>\n",
              "      <td>75</td>\n",
              "    </tr>\n",
              "    <tr>\n",
              "      <th>4</th>\n",
              "      <td>1</td>\n",
              "      <td>2</td>\n",
              "      <td>3</td>\n",
              "      <td>0</td>\n",
              "      <td>0</td>\n",
              "      <td>60</td>\n",
              "      <td>0</td>\n",
              "      <td>1</td>\n",
              "      <td>70</td>\n",
              "      <td>65</td>\n",
              "      <td>62</td>\n",
              "      <td>75</td>\n",
              "      <td>68</td>\n",
              "    </tr>\n",
              "  </tbody>\n",
              "</table>\n",
              "</div>\n",
              "      <button class=\"colab-df-convert\" onclick=\"convertToInteractive('df-d32edd02-3869-466c-87bd-1de3cf90940a')\"\n",
              "              title=\"Convert this dataframe to an interactive table.\"\n",
              "              style=\"display:none;\">\n",
              "        \n",
              "  <svg xmlns=\"http://www.w3.org/2000/svg\" height=\"24px\"viewBox=\"0 0 24 24\"\n",
              "       width=\"24px\">\n",
              "    <path d=\"M0 0h24v24H0V0z\" fill=\"none\"/>\n",
              "    <path d=\"M18.56 5.44l.94 2.06.94-2.06 2.06-.94-2.06-.94-.94-2.06-.94 2.06-2.06.94zm-11 1L8.5 8.5l.94-2.06 2.06-.94-2.06-.94L8.5 2.5l-.94 2.06-2.06.94zm10 10l.94 2.06.94-2.06 2.06-.94-2.06-.94-.94-2.06-.94 2.06-2.06.94z\"/><path d=\"M17.41 7.96l-1.37-1.37c-.4-.4-.92-.59-1.43-.59-.52 0-1.04.2-1.43.59L10.3 9.45l-7.72 7.72c-.78.78-.78 2.05 0 2.83L4 21.41c.39.39.9.59 1.41.59.51 0 1.02-.2 1.41-.59l7.78-7.78 2.81-2.81c.8-.78.8-2.07 0-2.86zM5.41 20L4 18.59l7.72-7.72 1.47 1.35L5.41 20z\"/>\n",
              "  </svg>\n",
              "      </button>\n",
              "      \n",
              "  <style>\n",
              "    .colab-df-container {\n",
              "      display:flex;\n",
              "      flex-wrap:wrap;\n",
              "      gap: 12px;\n",
              "    }\n",
              "\n",
              "    .colab-df-convert {\n",
              "      background-color: #E8F0FE;\n",
              "      border: none;\n",
              "      border-radius: 50%;\n",
              "      cursor: pointer;\n",
              "      display: none;\n",
              "      fill: #1967D2;\n",
              "      height: 32px;\n",
              "      padding: 0 0 0 0;\n",
              "      width: 32px;\n",
              "    }\n",
              "\n",
              "    .colab-df-convert:hover {\n",
              "      background-color: #E2EBFA;\n",
              "      box-shadow: 0px 1px 2px rgba(60, 64, 67, 0.3), 0px 1px 3px 1px rgba(60, 64, 67, 0.15);\n",
              "      fill: #174EA6;\n",
              "    }\n",
              "\n",
              "    [theme=dark] .colab-df-convert {\n",
              "      background-color: #3B4455;\n",
              "      fill: #D2E3FC;\n",
              "    }\n",
              "\n",
              "    [theme=dark] .colab-df-convert:hover {\n",
              "      background-color: #434B5C;\n",
              "      box-shadow: 0px 1px 3px 1px rgba(0, 0, 0, 0.15);\n",
              "      filter: drop-shadow(0px 1px 2px rgba(0, 0, 0, 0.3));\n",
              "      fill: #FFFFFF;\n",
              "    }\n",
              "  </style>\n",
              "\n",
              "      <script>\n",
              "        const buttonEl =\n",
              "          document.querySelector('#df-d32edd02-3869-466c-87bd-1de3cf90940a button.colab-df-convert');\n",
              "        buttonEl.style.display =\n",
              "          google.colab.kernel.accessAllowed ? 'block' : 'none';\n",
              "\n",
              "        async function convertToInteractive(key) {\n",
              "          const element = document.querySelector('#df-d32edd02-3869-466c-87bd-1de3cf90940a');\n",
              "          const dataTable =\n",
              "            await google.colab.kernel.invokeFunction('convertToInteractive',\n",
              "                                                     [key], {});\n",
              "          if (!dataTable) return;\n",
              "\n",
              "          const docLinkHtml = 'Like what you see? Visit the ' +\n",
              "            '<a target=\"_blank\" href=https://colab.research.google.com/notebooks/data_table.ipynb>data table notebook</a>'\n",
              "            + ' to learn more about interactive tables.';\n",
              "          element.innerHTML = '';\n",
              "          dataTable['output_type'] = 'display_data';\n",
              "          await google.colab.output.renderOutput(dataTable, element);\n",
              "          const docLink = document.createElement('div');\n",
              "          docLink.innerHTML = docLinkHtml;\n",
              "          element.appendChild(docLink);\n",
              "        }\n",
              "      </script>\n",
              "    </div>\n",
              "  </div>\n",
              "  "
            ]
          },
          "metadata": {},
          "execution_count": 2
        }
      ]
    },
    {
      "cell_type": "code",
      "source": [
        "#Exploración básica para saber si hay datos faltantes y el tipo de datos faltantes\n",
        "df_cluster_estudiantes.info()\n",
        "#No se observan datos faltantes en ninguna de las columnas y todos los datos son tienen el mismo tipo entero"
      ],
      "metadata": {
        "colab": {
          "base_uri": "https://localhost:8080/"
        },
        "id": "opY2IKpjds6w",
        "outputId": "93fb2a4b-97fd-4127-f115-384a78fcfb30"
      },
      "execution_count": 3,
      "outputs": [
        {
          "output_type": "stream",
          "name": "stdout",
          "text": [
            "<class 'pandas.core.frame.DataFrame'>\n",
            "RangeIndex: 12737 entries, 0 to 12736\n",
            "Data columns (total 13 columns):\n",
            " #   Column                Non-Null Count  Dtype\n",
            "---  ------                --------------  -----\n",
            " 0   gender                12737 non-null  int64\n",
            " 1   highest_education     12737 non-null  int64\n",
            " 2   imd_band              12737 non-null  int64\n",
            " 3   age_band              12737 non-null  int64\n",
            " 4   num_of_prev_attempts  12737 non-null  int64\n",
            " 5   studied_credits       12737 non-null  int64\n",
            " 6   disability            12737 non-null  int64\n",
            " 7   passed_course         12737 non-null  int64\n",
            " 8   assess_score_1        12737 non-null  int64\n",
            " 9   assess_score_2        12737 non-null  int64\n",
            " 10  assess_score_3        12737 non-null  int64\n",
            " 11  assess_score_4        12737 non-null  int64\n",
            " 12  assess_score_5        12737 non-null  int64\n",
            "dtypes: int64(13)\n",
            "memory usage: 1.3 MB\n"
          ]
        }
      ]
    },
    {
      "cell_type": "markdown",
      "source": [
        "1. **Highest education**:\tThe latest level that students have before registering for the course\n",
        "2. **IMD band**:\tIMD stands for ‘Index of Multiple Deprivation’ and is a combination of several measures of socioeconomic deprivation in the neighborhood that the student is coming from.  A higher number means less deprivation and a lower number means the neighborhood is more deprived.\n",
        "3. **Age band**:\tThe interval of student’s age\n",
        "4. **Num of prev attempts**:\tThe number that students register for the course before\n",
        "5. **Studied credits**:\tThe total credit hours of the courses for each student\n",
        "6. **Disability**:\tDisability for each student"
      ],
      "metadata": {
        "id": "ROhJMUopfoHT"
      }
    },
    {
      "cell_type": "code",
      "source": [
        "#Vamos aa revisar si hay datos duplicados\n",
        "df_cluster_estudiantes.duplicated().sum()"
      ],
      "metadata": {
        "colab": {
          "base_uri": "https://localhost:8080/"
        },
        "id": "LqG23dF3eEud",
        "outputId": "4d2f646d-37c2-4b39-fc8a-0444994768e5"
      },
      "execution_count": 4,
      "outputs": [
        {
          "output_type": "execute_result",
          "data": {
            "text/plain": [
              "7"
            ]
          },
          "metadata": {},
          "execution_count": 4
        }
      ]
    },
    {
      "cell_type": "code",
      "source": [
        "#Hay un total de 7 datos duplicados, por lo que se procede a su eliminación completa\n",
        "df_cluster_estudiantes = df_cluster_estudiantes.drop_duplicates()\n",
        "df_cluster_estudiantes.duplicated().sum()"
      ],
      "metadata": {
        "colab": {
          "base_uri": "https://localhost:8080/"
        },
        "id": "QWZpXknSeR2b",
        "outputId": "4197f553-a488-43f7-8a34-cdc5febd4f01"
      },
      "execution_count": 5,
      "outputs": [
        {
          "output_type": "execute_result",
          "data": {
            "text/plain": [
              "0"
            ]
          },
          "metadata": {},
          "execution_count": 5
        }
      ]
    },
    {
      "cell_type": "code",
      "source": [
        "#Vamos a mirar si hay datos anormales en las columnas\n",
        "df_cluster_estudiantes.describe()"
      ],
      "metadata": {
        "colab": {
          "base_uri": "https://localhost:8080/",
          "height": 364
        },
        "id": "ReUVjSAiedEn",
        "outputId": "b26fdc18-a381-4ab3-f21f-49ee39bda4b1"
      },
      "execution_count": 6,
      "outputs": [
        {
          "output_type": "execute_result",
          "data": {
            "text/plain": [
              "             gender  highest_education      imd_band      age_band  \\\n",
              "count  12730.000000       12730.000000  12730.000000  12730.000000   \n",
              "mean       0.446819           2.090102      4.407070      0.339199   \n",
              "std        0.497183           0.940932      2.806379      0.488965   \n",
              "min        0.000000           0.000000      0.000000      0.000000   \n",
              "25%        0.000000           1.000000      2.000000      0.000000   \n",
              "50%        0.000000           2.000000      4.000000      0.000000   \n",
              "75%        1.000000           3.000000      7.000000      1.000000   \n",
              "max        1.000000           4.000000      9.000000      2.000000   \n",
              "\n",
              "       num_of_prev_attempts  studied_credits    disability  passed_course  \\\n",
              "count          12730.000000     12730.000000  12730.000000   12730.000000   \n",
              "mean               0.107463        74.773763      0.091909       0.763001   \n",
              "std                0.389890        37.459380      0.288909       0.425259   \n",
              "min                0.000000        30.000000      0.000000       0.000000   \n",
              "25%                0.000000        60.000000      0.000000       1.000000   \n",
              "50%                0.000000        60.000000      0.000000       1.000000   \n",
              "75%                0.000000        90.000000      0.000000       1.000000   \n",
              "max                6.000000       630.000000      1.000000       1.000000   \n",
              "\n",
              "       assess_score_1  assess_score_2  assess_score_3  assess_score_4  \\\n",
              "count    12730.000000    12730.000000    12730.000000    12730.000000   \n",
              "mean        73.987274       74.915240       79.734328       75.661822   \n",
              "std         19.166495       14.654117       17.653542       17.967908   \n",
              "min          0.000000        0.000000        0.000000        0.000000   \n",
              "25%         66.000000       66.000000       69.000000       65.000000   \n",
              "50%         77.000000       76.000000       81.000000       79.000000   \n",
              "75%         86.000000       86.000000       95.000000       89.000000   \n",
              "max        100.000000      100.000000      100.000000      100.000000   \n",
              "\n",
              "       assess_score_5  \n",
              "count    12730.000000  \n",
              "mean        78.106127  \n",
              "std         19.529946  \n",
              "min          0.000000  \n",
              "25%         67.000000  \n",
              "50%         80.000000  \n",
              "75%         96.000000  \n",
              "max        100.000000  "
            ],
            "text/html": [
              "\n",
              "  <div id=\"df-0795fae6-7b28-4b27-98ac-471bfa5eaf72\">\n",
              "    <div class=\"colab-df-container\">\n",
              "      <div>\n",
              "<style scoped>\n",
              "    .dataframe tbody tr th:only-of-type {\n",
              "        vertical-align: middle;\n",
              "    }\n",
              "\n",
              "    .dataframe tbody tr th {\n",
              "        vertical-align: top;\n",
              "    }\n",
              "\n",
              "    .dataframe thead th {\n",
              "        text-align: right;\n",
              "    }\n",
              "</style>\n",
              "<table border=\"1\" class=\"dataframe\">\n",
              "  <thead>\n",
              "    <tr style=\"text-align: right;\">\n",
              "      <th></th>\n",
              "      <th>gender</th>\n",
              "      <th>highest_education</th>\n",
              "      <th>imd_band</th>\n",
              "      <th>age_band</th>\n",
              "      <th>num_of_prev_attempts</th>\n",
              "      <th>studied_credits</th>\n",
              "      <th>disability</th>\n",
              "      <th>passed_course</th>\n",
              "      <th>assess_score_1</th>\n",
              "      <th>assess_score_2</th>\n",
              "      <th>assess_score_3</th>\n",
              "      <th>assess_score_4</th>\n",
              "      <th>assess_score_5</th>\n",
              "    </tr>\n",
              "  </thead>\n",
              "  <tbody>\n",
              "    <tr>\n",
              "      <th>count</th>\n",
              "      <td>12730.000000</td>\n",
              "      <td>12730.000000</td>\n",
              "      <td>12730.000000</td>\n",
              "      <td>12730.000000</td>\n",
              "      <td>12730.000000</td>\n",
              "      <td>12730.000000</td>\n",
              "      <td>12730.000000</td>\n",
              "      <td>12730.000000</td>\n",
              "      <td>12730.000000</td>\n",
              "      <td>12730.000000</td>\n",
              "      <td>12730.000000</td>\n",
              "      <td>12730.000000</td>\n",
              "      <td>12730.000000</td>\n",
              "    </tr>\n",
              "    <tr>\n",
              "      <th>mean</th>\n",
              "      <td>0.446819</td>\n",
              "      <td>2.090102</td>\n",
              "      <td>4.407070</td>\n",
              "      <td>0.339199</td>\n",
              "      <td>0.107463</td>\n",
              "      <td>74.773763</td>\n",
              "      <td>0.091909</td>\n",
              "      <td>0.763001</td>\n",
              "      <td>73.987274</td>\n",
              "      <td>74.915240</td>\n",
              "      <td>79.734328</td>\n",
              "      <td>75.661822</td>\n",
              "      <td>78.106127</td>\n",
              "    </tr>\n",
              "    <tr>\n",
              "      <th>std</th>\n",
              "      <td>0.497183</td>\n",
              "      <td>0.940932</td>\n",
              "      <td>2.806379</td>\n",
              "      <td>0.488965</td>\n",
              "      <td>0.389890</td>\n",
              "      <td>37.459380</td>\n",
              "      <td>0.288909</td>\n",
              "      <td>0.425259</td>\n",
              "      <td>19.166495</td>\n",
              "      <td>14.654117</td>\n",
              "      <td>17.653542</td>\n",
              "      <td>17.967908</td>\n",
              "      <td>19.529946</td>\n",
              "    </tr>\n",
              "    <tr>\n",
              "      <th>min</th>\n",
              "      <td>0.000000</td>\n",
              "      <td>0.000000</td>\n",
              "      <td>0.000000</td>\n",
              "      <td>0.000000</td>\n",
              "      <td>0.000000</td>\n",
              "      <td>30.000000</td>\n",
              "      <td>0.000000</td>\n",
              "      <td>0.000000</td>\n",
              "      <td>0.000000</td>\n",
              "      <td>0.000000</td>\n",
              "      <td>0.000000</td>\n",
              "      <td>0.000000</td>\n",
              "      <td>0.000000</td>\n",
              "    </tr>\n",
              "    <tr>\n",
              "      <th>25%</th>\n",
              "      <td>0.000000</td>\n",
              "      <td>1.000000</td>\n",
              "      <td>2.000000</td>\n",
              "      <td>0.000000</td>\n",
              "      <td>0.000000</td>\n",
              "      <td>60.000000</td>\n",
              "      <td>0.000000</td>\n",
              "      <td>1.000000</td>\n",
              "      <td>66.000000</td>\n",
              "      <td>66.000000</td>\n",
              "      <td>69.000000</td>\n",
              "      <td>65.000000</td>\n",
              "      <td>67.000000</td>\n",
              "    </tr>\n",
              "    <tr>\n",
              "      <th>50%</th>\n",
              "      <td>0.000000</td>\n",
              "      <td>2.000000</td>\n",
              "      <td>4.000000</td>\n",
              "      <td>0.000000</td>\n",
              "      <td>0.000000</td>\n",
              "      <td>60.000000</td>\n",
              "      <td>0.000000</td>\n",
              "      <td>1.000000</td>\n",
              "      <td>77.000000</td>\n",
              "      <td>76.000000</td>\n",
              "      <td>81.000000</td>\n",
              "      <td>79.000000</td>\n",
              "      <td>80.000000</td>\n",
              "    </tr>\n",
              "    <tr>\n",
              "      <th>75%</th>\n",
              "      <td>1.000000</td>\n",
              "      <td>3.000000</td>\n",
              "      <td>7.000000</td>\n",
              "      <td>1.000000</td>\n",
              "      <td>0.000000</td>\n",
              "      <td>90.000000</td>\n",
              "      <td>0.000000</td>\n",
              "      <td>1.000000</td>\n",
              "      <td>86.000000</td>\n",
              "      <td>86.000000</td>\n",
              "      <td>95.000000</td>\n",
              "      <td>89.000000</td>\n",
              "      <td>96.000000</td>\n",
              "    </tr>\n",
              "    <tr>\n",
              "      <th>max</th>\n",
              "      <td>1.000000</td>\n",
              "      <td>4.000000</td>\n",
              "      <td>9.000000</td>\n",
              "      <td>2.000000</td>\n",
              "      <td>6.000000</td>\n",
              "      <td>630.000000</td>\n",
              "      <td>1.000000</td>\n",
              "      <td>1.000000</td>\n",
              "      <td>100.000000</td>\n",
              "      <td>100.000000</td>\n",
              "      <td>100.000000</td>\n",
              "      <td>100.000000</td>\n",
              "      <td>100.000000</td>\n",
              "    </tr>\n",
              "  </tbody>\n",
              "</table>\n",
              "</div>\n",
              "      <button class=\"colab-df-convert\" onclick=\"convertToInteractive('df-0795fae6-7b28-4b27-98ac-471bfa5eaf72')\"\n",
              "              title=\"Convert this dataframe to an interactive table.\"\n",
              "              style=\"display:none;\">\n",
              "        \n",
              "  <svg xmlns=\"http://www.w3.org/2000/svg\" height=\"24px\"viewBox=\"0 0 24 24\"\n",
              "       width=\"24px\">\n",
              "    <path d=\"M0 0h24v24H0V0z\" fill=\"none\"/>\n",
              "    <path d=\"M18.56 5.44l.94 2.06.94-2.06 2.06-.94-2.06-.94-.94-2.06-.94 2.06-2.06.94zm-11 1L8.5 8.5l.94-2.06 2.06-.94-2.06-.94L8.5 2.5l-.94 2.06-2.06.94zm10 10l.94 2.06.94-2.06 2.06-.94-2.06-.94-.94-2.06-.94 2.06-2.06.94z\"/><path d=\"M17.41 7.96l-1.37-1.37c-.4-.4-.92-.59-1.43-.59-.52 0-1.04.2-1.43.59L10.3 9.45l-7.72 7.72c-.78.78-.78 2.05 0 2.83L4 21.41c.39.39.9.59 1.41.59.51 0 1.02-.2 1.41-.59l7.78-7.78 2.81-2.81c.8-.78.8-2.07 0-2.86zM5.41 20L4 18.59l7.72-7.72 1.47 1.35L5.41 20z\"/>\n",
              "  </svg>\n",
              "      </button>\n",
              "      \n",
              "  <style>\n",
              "    .colab-df-container {\n",
              "      display:flex;\n",
              "      flex-wrap:wrap;\n",
              "      gap: 12px;\n",
              "    }\n",
              "\n",
              "    .colab-df-convert {\n",
              "      background-color: #E8F0FE;\n",
              "      border: none;\n",
              "      border-radius: 50%;\n",
              "      cursor: pointer;\n",
              "      display: none;\n",
              "      fill: #1967D2;\n",
              "      height: 32px;\n",
              "      padding: 0 0 0 0;\n",
              "      width: 32px;\n",
              "    }\n",
              "\n",
              "    .colab-df-convert:hover {\n",
              "      background-color: #E2EBFA;\n",
              "      box-shadow: 0px 1px 2px rgba(60, 64, 67, 0.3), 0px 1px 3px 1px rgba(60, 64, 67, 0.15);\n",
              "      fill: #174EA6;\n",
              "    }\n",
              "\n",
              "    [theme=dark] .colab-df-convert {\n",
              "      background-color: #3B4455;\n",
              "      fill: #D2E3FC;\n",
              "    }\n",
              "\n",
              "    [theme=dark] .colab-df-convert:hover {\n",
              "      background-color: #434B5C;\n",
              "      box-shadow: 0px 1px 3px 1px rgba(0, 0, 0, 0.15);\n",
              "      filter: drop-shadow(0px 1px 2px rgba(0, 0, 0, 0.3));\n",
              "      fill: #FFFFFF;\n",
              "    }\n",
              "  </style>\n",
              "\n",
              "      <script>\n",
              "        const buttonEl =\n",
              "          document.querySelector('#df-0795fae6-7b28-4b27-98ac-471bfa5eaf72 button.colab-df-convert');\n",
              "        buttonEl.style.display =\n",
              "          google.colab.kernel.accessAllowed ? 'block' : 'none';\n",
              "\n",
              "        async function convertToInteractive(key) {\n",
              "          const element = document.querySelector('#df-0795fae6-7b28-4b27-98ac-471bfa5eaf72');\n",
              "          const dataTable =\n",
              "            await google.colab.kernel.invokeFunction('convertToInteractive',\n",
              "                                                     [key], {});\n",
              "          if (!dataTable) return;\n",
              "\n",
              "          const docLinkHtml = 'Like what you see? Visit the ' +\n",
              "            '<a target=\"_blank\" href=https://colab.research.google.com/notebooks/data_table.ipynb>data table notebook</a>'\n",
              "            + ' to learn more about interactive tables.';\n",
              "          element.innerHTML = '';\n",
              "          dataTable['output_type'] = 'display_data';\n",
              "          await google.colab.output.renderOutput(dataTable, element);\n",
              "          const docLink = document.createElement('div');\n",
              "          docLink.innerHTML = docLinkHtml;\n",
              "          element.appendChild(docLink);\n",
              "        }\n",
              "      </script>\n",
              "    </div>\n",
              "  </div>\n",
              "  "
            ]
          },
          "metadata": {},
          "execution_count": 6
        }
      ]
    },
    {
      "cell_type": "code",
      "source": [
        "df_cluster_estudiantes.hist(figsize=(15,15))\n",
        "plt.show();"
      ],
      "metadata": {
        "colab": {
          "base_uri": "https://localhost:8080/",
          "height": 879
        },
        "id": "ShxBqB9hgpsC",
        "outputId": "812c0931-f0e5-48ec-e3c6-df3d2903a67f"
      },
      "execution_count": 7,
      "outputs": [
        {
          "output_type": "display_data",
          "data": {
            "text/plain": [
              "<Figure size 1080x1080 with 16 Axes>"
            ],
            "image/png": "[encoded data removed]"
          },
          "metadata": {
            "needs_background": "light"
          }
        }
      ]
    },
    {
      "cell_type": "code",
      "source": [
        "df_cluster_estudiantes[['studied_credits']].value_counts()"
      ],
      "metadata": {
        "colab": {
          "base_uri": "https://localhost:8080/"
        },
        "id": "-tLSNjxdhwUu",
        "outputId": "8feedf78-4ac5-4d77-e4ac-fa3be5e632aa"
      },
      "execution_count": 8,
      "outputs": [
        {
          "output_type": "execute_result",
          "data": {
            "text/plain": [
              "studied_credits\n",
              "60                 6818\n",
              "120                2250\n",
              "30                 1831\n",
              "90                 1044\n",
              "180                 240\n",
              "150                 226\n",
              "75                   57\n",
              "240                  43\n",
              "70                   41\n",
              "210                  34\n",
              "45                   15\n",
              "100                  15\n",
              "270                  14\n",
              "80                   13\n",
              "130                  12\n",
              "135                  12\n",
              "300                   8\n",
              "40                    7\n",
              "160                   6\n",
              "110                   5\n",
              "105                   5\n",
              "165                   4\n",
              "195                   4\n",
              "170                   3\n",
              "140                   3\n",
              "190                   2\n",
              "200                   2\n",
              "220                   2\n",
              "145                   2\n",
              "250                   2\n",
              "155                   1\n",
              "325                   1\n",
              "430                   1\n",
              "360                   1\n",
              "330                   1\n",
              "235                   1\n",
              "85                    1\n",
              "280                   1\n",
              "95                    1\n",
              "630                   1\n",
              "dtype: int64"
            ]
          },
          "metadata": {},
          "execution_count": 8
        }
      ]
    },
    {
      "cell_type": "code",
      "source": [
        "#Tal como se observa en el histograma, la mayoría de los créditos de los estudiantes se encuentra entre 30 y los 90 créditos, así que tener créditos más allá de 200 podría ser un dato atípico\n",
        "print(len(df_cluster_estudiantes.loc[df_cluster_estudiantes['studied_credits']>200,:]))\n",
        "df_cluster_estudiantes.loc[df_cluster_estudiantes['studied_credits']>200,:]"
      ],
      "metadata": {
        "colab": {
          "base_uri": "https://localhost:8080/",
          "height": 506
        },
        "id": "DtQ_AS2FhKvv",
        "outputId": "d5bd16a1-3cc7-4cf9-92b6-267178d87fe3"
      },
      "execution_count": 9,
      "outputs": [
        {
          "output_type": "stream",
          "name": "stdout",
          "text": [
            "110\n"
          ]
        },
        {
          "output_type": "execute_result",
          "data": {
            "text/plain": [
              "       gender  highest_education  imd_band  age_band  num_of_prev_attempts  \\\n",
              "0           1                  2         9         2                     0   \n",
              "37          1                  3         9         0                     0   \n",
              "53          1                  3         4         1                     0   \n",
              "132         0                  1         4         0                     0   \n",
              "303         0                  2         7         1                     0   \n",
              "...       ...                ...       ...       ...                   ...   \n",
              "9984        1                  1         7         0                     1   \n",
              "10284       1                  3         4         0                     0   \n",
              "10362       1                  3         5         0                     0   \n",
              "11045       0                  3         9         1                     0   \n",
              "11052       0                  1         6         0                     0   \n",
              "\n",
              "       studied_credits  disability  passed_course  assess_score_1  \\\n",
              "0                  240           0              1              78   \n",
              "37                 240           0              0              62   \n",
              "53                 240           0              0              38   \n",
              "132                240           0              1              74   \n",
              "303                240           0              1              81   \n",
              "...                ...         ...            ...             ...   \n",
              "9984               210           0              1              88   \n",
              "10284              430           0              1              92   \n",
              "10362              240           0              1              82   \n",
              "11045              240           0              1              64   \n",
              "11052              210           0              1              88   \n",
              "\n",
              "       assess_score_2  assess_score_3  assess_score_4  assess_score_5  \n",
              "0                  85              80              85              82  \n",
              "37                 30              69              60              61  \n",
              "53                 52              52              54              55  \n",
              "132                76              77              78              81  \n",
              "303                78              80              50             100  \n",
              "...               ...             ...             ...             ...  \n",
              "9984               66              60              66              60  \n",
              "10284              96              70              30              83  \n",
              "10362              84              69              77              83  \n",
              "11045              74              75              62              70  \n",
              "11052              94              92              87              84  \n",
              "\n",
              "[110 rows x 13 columns]"
            ],
            "text/html": [
              "\n",
              "  <div id=\"df-0137fa5a-33f1-4c31-8f3b-a82ef3570a66\">\n",
              "    <div class=\"colab-df-container\">\n",
              "      <div>\n",
              "<style scoped>\n",
              "    .dataframe tbody tr th:only-of-type {\n",
              "        vertical-align: middle;\n",
              "    }\n",
              "\n",
              "    .dataframe tbody tr th {\n",
              "        vertical-align: top;\n",
              "    }\n",
              "\n",
              "    .dataframe thead th {\n",
              "        text-align: right;\n",
              "    }\n",
              "</style>\n",
              "<table border=\"1\" class=\"dataframe\">\n",
              "  <thead>\n",
              "    <tr style=\"text-align: right;\">\n",
              "      <th></th>\n",
              "      <th>gender</th>\n",
              "      <th>highest_education</th>\n",
              "      <th>imd_band</th>\n",
              "      <th>age_band</th>\n",
              "      <th>num_of_prev_attempts</th>\n",
              "      <th>studied_credits</th>\n",
              "      <th>disability</th>\n",
              "      <th>passed_course</th>\n",
              "      <th>assess_score_1</th>\n",
              "      <th>assess_score_2</th>\n",
              "      <th>assess_score_3</th>\n",
              "      <th>assess_score_4</th>\n",
              "      <th>assess_score_5</th>\n",
              "    </tr>\n",
              "  </thead>\n",
              "  <tbody>\n",
              "    <tr>\n",
              "      <th>0</th>\n",
              "      <td>1</td>\n",
              "      <td>2</td>\n",
              "      <td>9</td>\n",
              "      <td>2</td>\n",
              "      <td>0</td>\n",
              "      <td>240</td>\n",
              "      <td>0</td>\n",
              "      <td>1</td>\n",
              "      <td>78</td>\n",
              "      <td>85</td>\n",
              "      <td>80</td>\n",
              "      <td>85</td>\n",
              "      <td>82</td>\n",
              "    </tr>\n",
              "    <tr>\n",
              "      <th>37</th>\n",
              "      <td>1</td>\n",
              "      <td>3</td>\n",
              "      <td>9</td>\n",
              "      <td>0</td>\n",
              "      <td>0</td>\n",
              "      <td>240</td>\n",
              "      <td>0</td>\n",
              "      <td>0</td>\n",
              "      <td>62</td>\n",
              "      <td>30</td>\n",
              "      <td>69</td>\n",
              "      <td>60</td>\n",
              "      <td>61</td>\n",
              "    </tr>\n",
              "    <tr>\n",
              "      <th>53</th>\n",
              "      <td>1</td>\n",
              "      <td>3</td>\n",
              "      <td>4</td>\n",
              "      <td>1</td>\n",
              "      <td>0</td>\n",
              "      <td>240</td>\n",
              "      <td>0</td>\n",
              "      <td>0</td>\n",
              "      <td>38</td>\n",
              "      <td>52</td>\n",
              "      <td>52</td>\n",
              "      <td>54</td>\n",
              "      <td>55</td>\n",
              "    </tr>\n",
              "    <tr>\n",
              "      <th>132</th>\n",
              "      <td>0</td>\n",
              "      <td>1</td>\n",
              "      <td>4</td>\n",
              "      <td>0</td>\n",
              "      <td>0</td>\n",
              "      <td>240</td>\n",
              "      <td>0</td>\n",
              "      <td>1</td>\n",
              "      <td>74</td>\n",
              "      <td>76</td>\n",
              "      <td>77</td>\n",
              "      <td>78</td>\n",
              "      <td>81</td>\n",
              "    </tr>\n",
              "    <tr>\n",
              "      <th>303</th>\n",
              "      <td>0</td>\n",
              "      <td>2</td>\n",
              "      <td>7</td>\n",
              "      <td>1</td>\n",
              "      <td>0</td>\n",
              "      <td>240</td>\n",
              "      <td>0</td>\n",
              "      <td>1</td>\n",
              "      <td>81</td>\n",
              "      <td>78</td>\n",
              "      <td>80</td>\n",
              "      <td>50</td>\n",
              "      <td>100</td>\n",
              "    </tr>\n",
              "    <tr>\n",
              "      <th>...</th>\n",
              "      <td>...</td>\n",
              "      <td>...</td>\n",
              "      <td>...</td>\n",
              "      <td>...</td>\n",
              "      <td>...</td>\n",
              "      <td>...</td>\n",
              "      <td>...</td>\n",
              "      <td>...</td>\n",
              "      <td>...</td>\n",
              "      <td>...</td>\n",
              "      <td>...</td>\n",
              "      <td>...</td>\n",
              "      <td>...</td>\n",
              "    </tr>\n",
              "    <tr>\n",
              "      <th>9984</th>\n",
              "      <td>1</td>\n",
              "      <td>1</td>\n",
              "      <td>7</td>\n",
              "      <td>0</td>\n",
              "      <td>1</td>\n",
              "      <td>210</td>\n",
              "      <td>0</td>\n",
              "      <td>1</td>\n",
              "      <td>88</td>\n",
              "      <td>66</td>\n",
              "      <td>60</td>\n",
              "      <td>66</td>\n",
              "      <td>60</td>\n",
              "    </tr>\n",
              "    <tr>\n",
              "      <th>10284</th>\n",
              "      <td>1</td>\n",
              "      <td>3</td>\n",
              "      <td>4</td>\n",
              "      <td>0</td>\n",
              "      <td>0</td>\n",
              "      <td>430</td>\n",
              "      <td>0</td>\n",
              "      <td>1</td>\n",
              "      <td>92</td>\n",
              "      <td>96</td>\n",
              "      <td>70</td>\n",
              "      <td>30</td>\n",
              "      <td>83</td>\n",
              "    </tr>\n",
              "    <tr>\n",
              "      <th>10362</th>\n",
              "      <td>1</td>\n",
              "      <td>3</td>\n",
              "      <td>5</td>\n",
              "      <td>0</td>\n",
              "      <td>0</td>\n",
              "      <td>240</td>\n",
              "      <td>0</td>\n",
              "      <td>1</td>\n",
              "      <td>82</td>\n",
              "      <td>84</td>\n",
              "      <td>69</td>\n",
              "      <td>77</td>\n",
              "      <td>83</td>\n",
              "    </tr>\n",
              "    <tr>\n",
              "      <th>11045</th>\n",
              "      <td>0</td>\n",
              "      <td>3</td>\n",
              "      <td>9</td>\n",
              "      <td>1</td>\n",
              "      <td>0</td>\n",
              "      <td>240</td>\n",
              "      <td>0</td>\n",
              "      <td>1</td>\n",
              "      <td>64</td>\n",
              "      <td>74</td>\n",
              "      <td>75</td>\n",
              "      <td>62</td>\n",
              "      <td>70</td>\n",
              "    </tr>\n",
              "    <tr>\n",
              "      <th>11052</th>\n",
              "      <td>0</td>\n",
              "      <td>1</td>\n",
              "      <td>6</td>\n",
              "      <td>0</td>\n",
              "      <td>0</td>\n",
              "      <td>210</td>\n",
              "      <td>0</td>\n",
              "      <td>1</td>\n",
              "      <td>88</td>\n",
              "      <td>94</td>\n",
              "      <td>92</td>\n",
              "      <td>87</td>\n",
              "      <td>84</td>\n",
              "    </tr>\n",
              "  </tbody>\n",
              "</table>\n",
              "<p>110 rows × 13 columns</p>\n",
              "</div>\n",
              "      <button class=\"colab-df-convert\" onclick=\"convertToInteractive('df-0137fa5a-33f1-4c31-8f3b-a82ef3570a66')\"\n",
              "              title=\"Convert this dataframe to an interactive table.\"\n",
              "              style=\"display:none;\">\n",
              "        \n",
              "  <svg xmlns=\"http://www.w3.org/2000/svg\" height=\"24px\"viewBox=\"0 0 24 24\"\n",
              "       width=\"24px\">\n",
              "    <path d=\"M0 0h24v24H0V0z\" fill=\"none\"/>\n",
              "    <path d=\"M18.56 5.44l.94 2.06.94-2.06 2.06-.94-2.06-.94-.94-2.06-.94 2.06-2.06.94zm-11 1L8.5 8.5l.94-2.06 2.06-.94-2.06-.94L8.5 2.5l-.94 2.06-2.06.94zm10 10l.94 2.06.94-2.06 2.06-.94-2.06-.94-.94-2.06-.94 2.06-2.06.94z\"/><path d=\"M17.41 7.96l-1.37-1.37c-.4-.4-.92-.59-1.43-.59-.52 0-1.04.2-1.43.59L10.3 9.45l-7.72 7.72c-.78.78-.78 2.05 0 2.83L4 21.41c.39.39.9.59 1.41.59.51 0 1.02-.2 1.41-.59l7.78-7.78 2.81-2.81c.8-.78.8-2.07 0-2.86zM5.41 20L4 18.59l7.72-7.72 1.47 1.35L5.41 20z\"/>\n",
              "  </svg>\n",
              "      </button>\n",
              "      \n",
              "  <style>\n",
              "    .colab-df-container {\n",
              "      display:flex;\n",
              "      flex-wrap:wrap;\n",
              "      gap: 12px;\n",
              "    }\n",
              "\n",
              "    .colab-df-convert {\n",
              "      background-color: #E8F0FE;\n",
              "      border: none;\n",
              "      border-radius: 50%;\n",
              "      cursor: pointer;\n",
              "      display: none;\n",
              "      fill: #1967D2;\n",
              "      height: 32px;\n",
              "      padding: 0 0 0 0;\n",
              "      width: 32px;\n",
              "    }\n",
              "\n",
              "    .colab-df-convert:hover {\n",
              "      background-color: #E2EBFA;\n",
              "      box-shadow: 0px 1px 2px rgba(60, 64, 67, 0.3), 0px 1px 3px 1px rgba(60, 64, 67, 0.15);\n",
              "      fill: #174EA6;\n",
              "    }\n",
              "\n",
              "    [theme=dark] .colab-df-convert {\n",
              "      background-color: #3B4455;\n",
              "      fill: #D2E3FC;\n",
              "    }\n",
              "\n",
              "    [theme=dark] .colab-df-convert:hover {\n",
              "      background-color: #434B5C;\n",
              "      box-shadow: 0px 1px 3px 1px rgba(0, 0, 0, 0.15);\n",
              "      filter: drop-shadow(0px 1px 2px rgba(0, 0, 0, 0.3));\n",
              "      fill: #FFFFFF;\n",
              "    }\n",
              "  </style>\n",
              "\n",
              "      <script>\n",
              "        const buttonEl =\n",
              "          document.querySelector('#df-0137fa5a-33f1-4c31-8f3b-a82ef3570a66 button.colab-df-convert');\n",
              "        buttonEl.style.display =\n",
              "          google.colab.kernel.accessAllowed ? 'block' : 'none';\n",
              "\n",
              "        async function convertToInteractive(key) {\n",
              "          const element = document.querySelector('#df-0137fa5a-33f1-4c31-8f3b-a82ef3570a66');\n",
              "          const dataTable =\n",
              "            await google.colab.kernel.invokeFunction('convertToInteractive',\n",
              "                                                     [key], {});\n",
              "          if (!dataTable) return;\n",
              "\n",
              "          const docLinkHtml = 'Like what you see? Visit the ' +\n",
              "            '<a target=\"_blank\" href=https://colab.research.google.com/notebooks/data_table.ipynb>data table notebook</a>'\n",
              "            + ' to learn more about interactive tables.';\n",
              "          element.innerHTML = '';\n",
              "          dataTable['output_type'] = 'display_data';\n",
              "          await google.colab.output.renderOutput(dataTable, element);\n",
              "          const docLink = document.createElement('div');\n",
              "          docLink.innerHTML = docLinkHtml;\n",
              "          element.appendChild(docLink);\n",
              "        }\n",
              "      </script>\n",
              "    </div>\n",
              "  </div>\n",
              "  "
            ]
          },
          "metadata": {},
          "execution_count": 9
        }
      ]
    },
    {
      "cell_type": "code",
      "source": [
        "#Elegimos un datafram con valores de créditos estudiantiles menores a 200, los que representa menos del 1% de los datos\n",
        "df_cluster_estudiantes= df_cluster_estudiantes.loc[df_cluster_estudiantes['studied_credits']<=200,:]"
      ],
      "metadata": {
        "id": "VLsp-1kCkDtg"
      },
      "execution_count": 10,
      "outputs": []
    },
    {
      "cell_type": "code",
      "source": [
        "df_cluster_estudiantes.hist(figsize=(15,15))\n",
        "plt.show();"
      ],
      "metadata": {
        "colab": {
          "base_uri": "https://localhost:8080/",
          "height": 879
        },
        "id": "Wp3kX5LgkdZi",
        "outputId": "d96f1f6b-0c5d-4777-ca58-32ef2cfc55f0"
      },
      "execution_count": 11,
      "outputs": [
        {
          "output_type": "display_data",
          "data": {
            "text/plain": [
              "<Figure size 1080x1080 with 16 Axes>"
            ],
            "image/png": "[encoded data removed]"
          },
          "metadata": {
            "needs_background": "light"
          }
        }
      ]
    },
    {
      "cell_type": "markdown",
      "source": [
        "###**3) Preparar los datos para modelar**"
      ],
      "metadata": {
        "id": "Dk06RxBxlKme"
      }
    },
    {
      "cell_type": "markdown",
      "source": [
        "**Escalamiento**"
      ],
      "metadata": {
        "id": "JKIQvVHllSkP"
      }
    },
    {
      "cell_type": "code",
      "source": [
        "#Dado que todos los datos son numéricos solo necesitamos un escalador\n",
        "scaler = StandardScaler()\n",
        "#Vamos a \n",
        "X_scaled = pd.DataFrame(scaler.fit_transform(df_cluster_estudiantes), columns=df_cluster_estudiantes.columns)\n",
        "X_scaled.head()"
      ],
      "metadata": {
        "colab": {
          "base_uri": "https://localhost:8080/",
          "height": 270
        },
        "id": "TUGUhW54lNjf",
        "outputId": "d88bfc82-e41c-4f19-8eda-127bffb3b350"
      },
      "execution_count": 12,
      "outputs": [
        {
          "output_type": "execute_result",
          "data": {
            "text/plain": [
              "     gender  highest_education  imd_band  age_band  num_of_prev_attempts  \\\n",
              "0 -0.898325          -0.094734 -0.858495  1.350298             -0.271299   \n",
              "1 -0.898325           0.967968  0.210670  1.350298             -0.271299   \n",
              "2 -0.898325          -1.157436  0.210670 -0.694921             -0.271299   \n",
              "3  1.113183          -0.094734 -0.502106 -0.694921             -0.271299   \n",
              "4 -0.898325           0.967968  1.636223 -0.694921             -0.271299   \n",
              "\n",
              "   studied_credits  disability  passed_course  assess_score_1  assess_score_2  \\\n",
              "0        -0.394526   -0.317549       0.555505       -0.206756       -0.474718   \n",
              "1        -0.394526   -0.317549       0.555505       -0.102567       -0.269626   \n",
              "2        -0.394526   -0.317549       0.555505       -0.258851       -3.072547   \n",
              "3        -0.394526   -0.317549       0.555505       -0.206756       -0.679810   \n",
              "4         1.388967   -0.317549       0.555505       -0.102567       -0.201262   \n",
              "\n",
              "   assess_score_3  assess_score_4  assess_score_5  \n",
              "0       -0.552774       -0.653043       -0.931133  \n",
              "1       -0.326006        0.684241       -0.161813  \n",
              "2       -0.949618       -2.268928       -0.161813  \n",
              "3       -1.006310       -0.040121       -0.520829  \n",
              "4       -0.439390       -0.151562       -0.264389  "
            ],
            "text/html": [
              "\n",
              "  <div id=\"df-1a214f5c-3b28-4916-86bf-60aed2fcc596\">\n",
              "    <div class=\"colab-df-container\">\n",
              "      <div>\n",
              "<style scoped>\n",
              "    .dataframe tbody tr th:only-of-type {\n",
              "        vertical-align: middle;\n",
              "    }\n",
              "\n",
              "    .dataframe tbody tr th {\n",
              "        vertical-align: top;\n",
              "    }\n",
              "\n",
              "    .dataframe thead th {\n",
              "        text-align: right;\n",
              "    }\n",
              "</style>\n",
              "<table border=\"1\" class=\"dataframe\">\n",
              "  <thead>\n",
              "    <tr style=\"text-align: right;\">\n",
              "      <th></th>\n",
              "      <th>gender</th>\n",
              "      <th>highest_education</th>\n",
              "      <th>imd_band</th>\n",
              "      <th>age_band</th>\n",
              "      <th>num_of_prev_attempts</th>\n",
              "      <th>studied_credits</th>\n",
              "      <th>disability</th>\n",
              "      <th>passed_course</th>\n",
              "      <th>assess_score_1</th>\n",
              "      <th>assess_score_2</th>\n",
              "      <th>assess_score_3</th>\n",
              "      <th>assess_score_4</th>\n",
              "      <th>assess_score_5</th>\n",
              "    </tr>\n",
              "  </thead>\n",
              "  <tbody>\n",
              "    <tr>\n",
              "      <th>0</th>\n",
              "      <td>-0.898325</td>\n",
              "      <td>-0.094734</td>\n",
              "      <td>-0.858495</td>\n",
              "      <td>1.350298</td>\n",
              "      <td>-0.271299</td>\n",
              "      <td>-0.394526</td>\n",
              "      <td>-0.317549</td>\n",
              "      <td>0.555505</td>\n",
              "      <td>-0.206756</td>\n",
              "      <td>-0.474718</td>\n",
              "      <td>-0.552774</td>\n",
              "      <td>-0.653043</td>\n",
              "      <td>-0.931133</td>\n",
              "    </tr>\n",
              "    <tr>\n",
              "      <th>1</th>\n",
              "      <td>-0.898325</td>\n",
              "      <td>0.967968</td>\n",
              "      <td>0.210670</td>\n",
              "      <td>1.350298</td>\n",
              "      <td>-0.271299</td>\n",
              "      <td>-0.394526</td>\n",
              "      <td>-0.317549</td>\n",
              "      <td>0.555505</td>\n",
              "      <td>-0.102567</td>\n",
              "      <td>-0.269626</td>\n",
              "      <td>-0.326006</td>\n",
              "      <td>0.684241</td>\n",
              "      <td>-0.161813</td>\n",
              "    </tr>\n",
              "    <tr>\n",
              "      <th>2</th>\n",
              "      <td>-0.898325</td>\n",
              "      <td>-1.157436</td>\n",
              "      <td>0.210670</td>\n",
              "      <td>-0.694921</td>\n",
              "      <td>-0.271299</td>\n",
              "      <td>-0.394526</td>\n",
              "      <td>-0.317549</td>\n",
              "      <td>0.555505</td>\n",
              "      <td>-0.258851</td>\n",
              "      <td>-3.072547</td>\n",
              "      <td>-0.949618</td>\n",
              "      <td>-2.268928</td>\n",
              "      <td>-0.161813</td>\n",
              "    </tr>\n",
              "    <tr>\n",
              "      <th>3</th>\n",
              "      <td>1.113183</td>\n",
              "      <td>-0.094734</td>\n",
              "      <td>-0.502106</td>\n",
              "      <td>-0.694921</td>\n",
              "      <td>-0.271299</td>\n",
              "      <td>-0.394526</td>\n",
              "      <td>-0.317549</td>\n",
              "      <td>0.555505</td>\n",
              "      <td>-0.206756</td>\n",
              "      <td>-0.679810</td>\n",
              "      <td>-1.006310</td>\n",
              "      <td>-0.040121</td>\n",
              "      <td>-0.520829</td>\n",
              "    </tr>\n",
              "    <tr>\n",
              "      <th>4</th>\n",
              "      <td>-0.898325</td>\n",
              "      <td>0.967968</td>\n",
              "      <td>1.636223</td>\n",
              "      <td>-0.694921</td>\n",
              "      <td>-0.271299</td>\n",
              "      <td>1.388967</td>\n",
              "      <td>-0.317549</td>\n",
              "      <td>0.555505</td>\n",
              "      <td>-0.102567</td>\n",
              "      <td>-0.201262</td>\n",
              "      <td>-0.439390</td>\n",
              "      <td>-0.151562</td>\n",
              "      <td>-0.264389</td>\n",
              "    </tr>\n",
              "  </tbody>\n",
              "</table>\n",
              "</div>\n",
              "      <button class=\"colab-df-convert\" onclick=\"convertToInteractive('df-1a214f5c-3b28-4916-86bf-60aed2fcc596')\"\n",
              "              title=\"Convert this dataframe to an interactive table.\"\n",
              "              style=\"display:none;\">\n",
              "        \n",
              "  <svg xmlns=\"http://www.w3.org/2000/svg\" height=\"24px\"viewBox=\"0 0 24 24\"\n",
              "       width=\"24px\">\n",
              "    <path d=\"M0 0h24v24H0V0z\" fill=\"none\"/>\n",
              "    <path d=\"M18.56 5.44l.94 2.06.94-2.06 2.06-.94-2.06-.94-.94-2.06-.94 2.06-2.06.94zm-11 1L8.5 8.5l.94-2.06 2.06-.94-2.06-.94L8.5 2.5l-.94 2.06-2.06.94zm10 10l.94 2.06.94-2.06 2.06-.94-2.06-.94-.94-2.06-.94 2.06-2.06.94z\"/><path d=\"M17.41 7.96l-1.37-1.37c-.4-.4-.92-.59-1.43-.59-.52 0-1.04.2-1.43.59L10.3 9.45l-7.72 7.72c-.78.78-.78 2.05 0 2.83L4 21.41c.39.39.9.59 1.41.59.51 0 1.02-.2 1.41-.59l7.78-7.78 2.81-2.81c.8-.78.8-2.07 0-2.86zM5.41 20L4 18.59l7.72-7.72 1.47 1.35L5.41 20z\"/>\n",
              "  </svg>\n",
              "      </button>\n",
              "      \n",
              "  <style>\n",
              "    .colab-df-container {\n",
              "      display:flex;\n",
              "      flex-wrap:wrap;\n",
              "      gap: 12px;\n",
              "    }\n",
              "\n",
              "    .colab-df-convert {\n",
              "      background-color: #E8F0FE;\n",
              "      border: none;\n",
              "      border-radius: 50%;\n",
              "      cursor: pointer;\n",
              "      display: none;\n",
              "      fill: #1967D2;\n",
              "      height: 32px;\n",
              "      padding: 0 0 0 0;\n",
              "      width: 32px;\n",
              "    }\n",
              "\n",
              "    .colab-df-convert:hover {\n",
              "      background-color: #E2EBFA;\n",
              "      box-shadow: 0px 1px 2px rgba(60, 64, 67, 0.3), 0px 1px 3px 1px rgba(60, 64, 67, 0.15);\n",
              "      fill: #174EA6;\n",
              "    }\n",
              "\n",
              "    [theme=dark] .colab-df-convert {\n",
              "      background-color: #3B4455;\n",
              "      fill: #D2E3FC;\n",
              "    }\n",
              "\n",
              "    [theme=dark] .colab-df-convert:hover {\n",
              "      background-color: #434B5C;\n",
              "      box-shadow: 0px 1px 3px 1px rgba(0, 0, 0, 0.15);\n",
              "      filter: drop-shadow(0px 1px 2px rgba(0, 0, 0, 0.3));\n",
              "      fill: #FFFFFF;\n",
              "    }\n",
              "  </style>\n",
              "\n",
              "      <script>\n",
              "        const buttonEl =\n",
              "          document.querySelector('#df-1a214f5c-3b28-4916-86bf-60aed2fcc596 button.colab-df-convert');\n",
              "        buttonEl.style.display =\n",
              "          google.colab.kernel.accessAllowed ? 'block' : 'none';\n",
              "\n",
              "        async function convertToInteractive(key) {\n",
              "          const element = document.querySelector('#df-1a214f5c-3b28-4916-86bf-60aed2fcc596');\n",
              "          const dataTable =\n",
              "            await google.colab.kernel.invokeFunction('convertToInteractive',\n",
              "                                                     [key], {});\n",
              "          if (!dataTable) return;\n",
              "\n",
              "          const docLinkHtml = 'Like what you see? Visit the ' +\n",
              "            '<a target=\"_blank\" href=https://colab.research.google.com/notebooks/data_table.ipynb>data table notebook</a>'\n",
              "            + ' to learn more about interactive tables.';\n",
              "          element.innerHTML = '';\n",
              "          dataTable['output_type'] = 'display_data';\n",
              "          await google.colab.output.renderOutput(dataTable, element);\n",
              "          const docLink = document.createElement('div');\n",
              "          docLink.innerHTML = docLinkHtml;\n",
              "          element.appendChild(docLink);\n",
              "        }\n",
              "      </script>\n",
              "    </div>\n",
              "  </div>\n",
              "  "
            ]
          },
          "metadata": {},
          "execution_count": 12
        }
      ]
    },
    {
      "cell_type": "markdown",
      "source": [
        "**Identificación de los clúster adecuados**"
      ],
      "metadata": {
        "id": "LK54X2Ndn4wY"
      }
    },
    {
      "cell_type": "code",
      "source": [
        "ks = range(2,20)\n",
        "sils = []\n",
        "inertias = []\n",
        "for k in ks:\n",
        "  kmeans = KMeans(n_clusters=k, random_state=42)\n",
        "  kmeans.fit(X_scaled)\n",
        "  sils.append(silhouette_score(X_scaled, kmeans.labels_))\n",
        "  inertias.append(kmeans.inertia_)\n",
        "#plot inertias and silhouette scores for each number of clusters.\n",
        "fig, axes = plt.subplots(1,2, figsize=(15,5))\n",
        "axes[0].plot(ks, sils)\n",
        "axes[0].set_title('Silhouette Scores')\n",
        "axes[0].set_xticks(ks)\n",
        "axes[1].plot(ks, inertias)\n",
        "axes[1].set_title('Inertia')\n",
        "axes[1].set_xticks(ks);"
      ],
      "metadata": {
        "colab": {
          "base_uri": "https://localhost:8080/",
          "height": 336
        },
        "id": "yPDCJ5fMn7rD",
        "outputId": "354694a7-366b-4ca3-f02b-e1b015b548e3"
      },
      "execution_count": 13,
      "outputs": [
        {
          "output_type": "display_data",
          "data": {
            "text/plain": [
              "<Figure size 1080x360 with 2 Axes>"
            ],
            "image/png": "[encoded data removed]"
          },
          "metadata": {
            "needs_background": "light"
          }
        }
      ]
    },
    {
      "cell_type": "code",
      "source": [
        "for i in range(len(inertias)):\n",
        "  if i < len(inertias)-1:\n",
        "    print(f'C{i+2} - C{i+3}: Decremento: {inertias[i+1]-inertias[i]}')\n"
      ],
      "metadata": {
        "colab": {
          "base_uri": "https://localhost:8080/"
        },
        "id": "uVVx0tzVqeCq",
        "outputId": "0c7c0f12-f557-4a3e-e297-49e18275b3fa"
      },
      "execution_count": 14,
      "outputs": [
        {
          "output_type": "stream",
          "name": "stdout",
          "text": [
            "C2 - C3: Decremento: -10347.529649335134\n",
            "C3 - C4: Decremento: -9017.011352937989\n",
            "C4 - C5: Decremento: -5811.542313705097\n",
            "C5 - C6: Decremento: -6522.73380317878\n",
            "C6 - C7: Decremento: -4871.534995626469\n",
            "C7 - C8: Decremento: -3809.518274377333\n",
            "C8 - C9: Decremento: -3118.0353247941966\n",
            "C9 - C10: Decremento: -3172.158428490773\n",
            "C10 - C11: Decremento: -2407.979869125149\n",
            "C11 - C12: Decremento: -1428.1117732153216\n",
            "C12 - C13: Decremento: -2148.2957054273575\n",
            "C13 - C14: Decremento: -1423.9954052304383\n",
            "C14 - C15: Decremento: -1674.2581882939412\n",
            "C15 - C16: Decremento: -1500.5453921819426\n",
            "C16 - C17: Decremento: -1664.4453988987952\n",
            "C17 - C18: Decremento: -930.5428500813432\n",
            "C18 - C19: Decremento: -1388.649337857496\n"
          ]
        }
      ]
    },
    {
      "cell_type": "markdown",
      "source": [
        "**Elección:**\n",
        "\n",
        "1. De acuerdo con el Silhouette Scores, el mejor número de clústers a elegir es tres.\n",
        "2. Con respecto a la gráfica de inercia, los cambios de pendientes más grandes se dan entre 2 y 8 clúster, donde el decremento es mayor a 3000, luego hasta el clúster 6 se vería una variación significativa, pero siendo las más significatavias hasra el clúster 3 y 4.\n",
        "\n",
        "En resumen elegir entre 3 y 4 clúster podría representar de forma adecuada la población, en nuestro caso elegiremos 3 clúster."
      ],
      "metadata": {
        "id": "C27MMajxpMN_"
      }
    },
    {
      "cell_type": "markdown",
      "source": [
        "###**5) Creación del modelo con los clúster elegidos**"
      ],
      "metadata": {
        "id": "qBtC074FuJgk"
      }
    },
    {
      "cell_type": "code",
      "source": [
        "# Se refina kmeans con los 3 clúster\n",
        "kmeans = KMeans(n_clusters=3, random_state=42)\n",
        "kmeans.fit(X_scaled)\n",
        "# Se añade la columna de la clasificación del clúster al dataframe original\n",
        "df_cluster_estudiantes['cluster'] = kmeans.labels_\n",
        "df_cluster_estudiantes.head()"
      ],
      "metadata": {
        "colab": {
          "base_uri": "https://localhost:8080/",
          "height": 270
        },
        "id": "y6d36xrFtxpM",
        "outputId": "a356379a-f31f-4cdf-eae3-f83157e58253"
      },
      "execution_count": 15,
      "outputs": [
        {
          "output_type": "execute_result",
          "data": {
            "text/plain": [
              "   gender  highest_education  imd_band  age_band  num_of_prev_attempts  \\\n",
              "1       0                  2         2         1                     0   \n",
              "2       0                  3         5         1                     0   \n",
              "3       0                  1         5         0                     0   \n",
              "4       1                  2         3         0                     0   \n",
              "5       0                  3         9         0                     0   \n",
              "\n",
              "   studied_credits  disability  passed_course  assess_score_1  assess_score_2  \\\n",
              "1               60           0              1              70              68   \n",
              "2               60           0              1              72              71   \n",
              "3               60           0              1              69              30   \n",
              "4               60           0              1              70              65   \n",
              "5              120           0              1              72              72   \n",
              "\n",
              "   assess_score_3  assess_score_4  assess_score_5  cluster  \n",
              "1              70              64              60        1  \n",
              "2              74              88              75        0  \n",
              "3              63              35              75        1  \n",
              "4              62              75              68        1  \n",
              "5              72              73              73        0  "
            ],
            "text/html": [
              "\n",
              "  <div id=\"df-7367cbb7-9faf-43bc-a630-d941df0d17af\">\n",
              "    <div class=\"colab-df-container\">\n",
              "      <div>\n",
              "<style scoped>\n",
              "    .dataframe tbody tr th:only-of-type {\n",
              "        vertical-align: middle;\n",
              "    }\n",
              "\n",
              "    .dataframe tbody tr th {\n",
              "        vertical-align: top;\n",
              "    }\n",
              "\n",
              "    .dataframe thead th {\n",
              "        text-align: right;\n",
              "    }\n",
              "</style>\n",
              "<table border=\"1\" class=\"dataframe\">\n",
              "  <thead>\n",
              "    <tr style=\"text-align: right;\">\n",
              "      <th></th>\n",
              "      <th>gender</th>\n",
              "      <th>highest_education</th>\n",
              "      <th>imd_band</th>\n",
              "      <th>age_band</th>\n",
              "      <th>num_of_prev_attempts</th>\n",
              "      <th>studied_credits</th>\n",
              "      <th>disability</th>\n",
              "      <th>passed_course</th>\n",
              "      <th>assess_score_1</th>\n",
              "      <th>assess_score_2</th>\n",
              "      <th>assess_score_3</th>\n",
              "      <th>assess_score_4</th>\n",
              "      <th>assess_score_5</th>\n",
              "      <th>cluster</th>\n",
              "    </tr>\n",
              "  </thead>\n",
              "  <tbody>\n",
              "    <tr>\n",
              "      <th>1</th>\n",
              "      <td>0</td>\n",
              "      <td>2</td>\n",
              "      <td>2</td>\n",
              "      <td>1</td>\n",
              "      <td>0</td>\n",
              "      <td>60</td>\n",
              "      <td>0</td>\n",
              "      <td>1</td>\n",
              "      <td>70</td>\n",
              "      <td>68</td>\n",
              "      <td>70</td>\n",
              "      <td>64</td>\n",
              "      <td>60</td>\n",
              "      <td>1</td>\n",
              "    </tr>\n",
              "    <tr>\n",
              "      <th>2</th>\n",
              "      <td>0</td>\n",
              "      <td>3</td>\n",
              "      <td>5</td>\n",
              "      <td>1</td>\n",
              "      <td>0</td>\n",
              "      <td>60</td>\n",
              "      <td>0</td>\n",
              "      <td>1</td>\n",
              "      <td>72</td>\n",
              "      <td>71</td>\n",
              "      <td>74</td>\n",
              "      <td>88</td>\n",
              "      <td>75</td>\n",
              "      <td>0</td>\n",
              "    </tr>\n",
              "    <tr>\n",
              "      <th>3</th>\n",
              "      <td>0</td>\n",
              "      <td>1</td>\n",
              "      <td>5</td>\n",
              "      <td>0</td>\n",
              "      <td>0</td>\n",
              "      <td>60</td>\n",
              "      <td>0</td>\n",
              "      <td>1</td>\n",
              "      <td>69</td>\n",
              "      <td>30</td>\n",
              "      <td>63</td>\n",
              "      <td>35</td>\n",
              "      <td>75</td>\n",
              "      <td>1</td>\n",
              "    </tr>\n",
              "    <tr>\n",
              "      <th>4</th>\n",
              "      <td>1</td>\n",
              "      <td>2</td>\n",
              "      <td>3</td>\n",
              "      <td>0</td>\n",
              "      <td>0</td>\n",
              "      <td>60</td>\n",
              "      <td>0</td>\n",
              "      <td>1</td>\n",
              "      <td>70</td>\n",
              "      <td>65</td>\n",
              "      <td>62</td>\n",
              "      <td>75</td>\n",
              "      <td>68</td>\n",
              "      <td>1</td>\n",
              "    </tr>\n",
              "    <tr>\n",
              "      <th>5</th>\n",
              "      <td>0</td>\n",
              "      <td>3</td>\n",
              "      <td>9</td>\n",
              "      <td>0</td>\n",
              "      <td>0</td>\n",
              "      <td>120</td>\n",
              "      <td>0</td>\n",
              "      <td>1</td>\n",
              "      <td>72</td>\n",
              "      <td>72</td>\n",
              "      <td>72</td>\n",
              "      <td>73</td>\n",
              "      <td>73</td>\n",
              "      <td>0</td>\n",
              "    </tr>\n",
              "  </tbody>\n",
              "</table>\n",
              "</div>\n",
              "      <button class=\"colab-df-convert\" onclick=\"convertToInteractive('df-7367cbb7-9faf-43bc-a630-d941df0d17af')\"\n",
              "              title=\"Convert this dataframe to an interactive table.\"\n",
              "              style=\"display:none;\">\n",
              "        \n",
              "  <svg xmlns=\"http://www.w3.org/2000/svg\" height=\"24px\"viewBox=\"0 0 24 24\"\n",
              "       width=\"24px\">\n",
              "    <path d=\"M0 0h24v24H0V0z\" fill=\"none\"/>\n",
              "    <path d=\"M18.56 5.44l.94 2.06.94-2.06 2.06-.94-2.06-.94-.94-2.06-.94 2.06-2.06.94zm-11 1L8.5 8.5l.94-2.06 2.06-.94-2.06-.94L8.5 2.5l-.94 2.06-2.06.94zm10 10l.94 2.06.94-2.06 2.06-.94-2.06-.94-.94-2.06-.94 2.06-2.06.94z\"/><path d=\"M17.41 7.96l-1.37-1.37c-.4-.4-.92-.59-1.43-.59-.52 0-1.04.2-1.43.59L10.3 9.45l-7.72 7.72c-.78.78-.78 2.05 0 2.83L4 21.41c.39.39.9.59 1.41.59.51 0 1.02-.2 1.41-.59l7.78-7.78 2.81-2.81c.8-.78.8-2.07 0-2.86zM5.41 20L4 18.59l7.72-7.72 1.47 1.35L5.41 20z\"/>\n",
              "  </svg>\n",
              "      </button>\n",
              "      \n",
              "  <style>\n",
              "    .colab-df-container {\n",
              "      display:flex;\n",
              "      flex-wrap:wrap;\n",
              "      gap: 12px;\n",
              "    }\n",
              "\n",
              "    .colab-df-convert {\n",
              "      background-color: #E8F0FE;\n",
              "      border: none;\n",
              "      border-radius: 50%;\n",
              "      cursor: pointer;\n",
              "      display: none;\n",
              "      fill: #1967D2;\n",
              "      height: 32px;\n",
              "      padding: 0 0 0 0;\n",
              "      width: 32px;\n",
              "    }\n",
              "\n",
              "    .colab-df-convert:hover {\n",
              "      background-color: #E2EBFA;\n",
              "      box-shadow: 0px 1px 2px rgba(60, 64, 67, 0.3), 0px 1px 3px 1px rgba(60, 64, 67, 0.15);\n",
              "      fill: #174EA6;\n",
              "    }\n",
              "\n",
              "    [theme=dark] .colab-df-convert {\n",
              "      background-color: #3B4455;\n",
              "      fill: #D2E3FC;\n",
              "    }\n",
              "\n",
              "    [theme=dark] .colab-df-convert:hover {\n",
              "      background-color: #434B5C;\n",
              "      box-shadow: 0px 1px 3px 1px rgba(0, 0, 0, 0.15);\n",
              "      filter: drop-shadow(0px 1px 2px rgba(0, 0, 0, 0.3));\n",
              "      fill: #FFFFFF;\n",
              "    }\n",
              "  </style>\n",
              "\n",
              "      <script>\n",
              "        const buttonEl =\n",
              "          document.querySelector('#df-7367cbb7-9faf-43bc-a630-d941df0d17af button.colab-df-convert');\n",
              "        buttonEl.style.display =\n",
              "          google.colab.kernel.accessAllowed ? 'block' : 'none';\n",
              "\n",
              "        async function convertToInteractive(key) {\n",
              "          const element = document.querySelector('#df-7367cbb7-9faf-43bc-a630-d941df0d17af');\n",
              "          const dataTable =\n",
              "            await google.colab.kernel.invokeFunction('convertToInteractive',\n",
              "                                                     [key], {});\n",
              "          if (!dataTable) return;\n",
              "\n",
              "          const docLinkHtml = 'Like what you see? Visit the ' +\n",
              "            '<a target=\"_blank\" href=https://colab.research.google.com/notebooks/data_table.ipynb>data table notebook</a>'\n",
              "            + ' to learn more about interactive tables.';\n",
              "          element.innerHTML = '';\n",
              "          dataTable['output_type'] = 'display_data';\n",
              "          await google.colab.output.renderOutput(dataTable, element);\n",
              "          const docLink = document.createElement('div');\n",
              "          docLink.innerHTML = docLinkHtml;\n",
              "          element.appendChild(docLink);\n",
              "        }\n",
              "      </script>\n",
              "    </div>\n",
              "  </div>\n",
              "  "
            ]
          },
          "metadata": {},
          "execution_count": 15
        }
      ]
    },
    {
      "cell_type": "markdown",
      "source": [
        "**Analizar los clústers**"
      ],
      "metadata": {
        "id": "B191pRQuudGd"
      }
    },
    {
      "cell_type": "code",
      "source": [
        "cluster_groups = df_cluster_estudiantes.groupby('cluster', as_index=False).mean()\n",
        "cluster_groups"
      ],
      "metadata": {
        "colab": {
          "base_uri": "https://localhost:8080/",
          "height": 207
        },
        "id": "iJ2F9t3BpLjC",
        "outputId": "d50ad515-096d-4ba9-afe7-7dbb61bb2aa9"
      },
      "execution_count": 16,
      "outputs": [
        {
          "output_type": "execute_result",
          "data": {
            "text/plain": [
              "   cluster    gender  highest_education  imd_band  age_band  \\\n",
              "0        0  0.437288           2.168579  4.745763  0.378357   \n",
              "1        1  0.487696           1.961257  3.874607  0.277487   \n",
              "2        2  0.370796           1.982301  3.928319  0.288496   \n",
              "\n",
              "   num_of_prev_attempts  studied_credits  disability  passed_course  \\\n",
              "0              0.076662        70.835724    0.000000       0.909648   \n",
              "1              0.150000        77.526178    0.006806       0.489791   \n",
              "2              0.142478        75.433628    1.000000       0.704425   \n",
              "\n",
              "   assess_score_1  assess_score_2  assess_score_3  assess_score_4  \\\n",
              "0       79.852021       80.699739       86.781226       83.329596   \n",
              "1       62.476178       63.869634       66.326963       60.564660   \n",
              "2       72.887611       73.313274       77.407080       75.302655   \n",
              "\n",
              "   assess_score_5  \n",
              "0       86.322425  \n",
              "1       62.058115  \n",
              "2       77.133628  "
            ],
            "text/html": [
              "\n",
              "  <div id=\"df-3c579cf4-1232-4596-a271-0786f71b23fb\">\n",
              "    <div class=\"colab-df-container\">\n",
              "      <div>\n",
              "<style scoped>\n",
              "    .dataframe tbody tr th:only-of-type {\n",
              "        vertical-align: middle;\n",
              "    }\n",
              "\n",
              "    .dataframe tbody tr th {\n",
              "        vertical-align: top;\n",
              "    }\n",
              "\n",
              "    .dataframe thead th {\n",
              "        text-align: right;\n",
              "    }\n",
              "</style>\n",
              "<table border=\"1\" class=\"dataframe\">\n",
              "  <thead>\n",
              "    <tr style=\"text-align: right;\">\n",
              "      <th></th>\n",
              "      <th>cluster</th>\n",
              "      <th>gender</th>\n",
              "      <th>highest_education</th>\n",
              "      <th>imd_band</th>\n",
              "      <th>age_band</th>\n",
              "      <th>num_of_prev_attempts</th>\n",
              "      <th>studied_credits</th>\n",
              "      <th>disability</th>\n",
              "      <th>passed_course</th>\n",
              "      <th>assess_score_1</th>\n",
              "      <th>assess_score_2</th>\n",
              "      <th>assess_score_3</th>\n",
              "      <th>assess_score_4</th>\n",
              "      <th>assess_score_5</th>\n",
              "    </tr>\n",
              "  </thead>\n",
              "  <tbody>\n",
              "    <tr>\n",
              "      <th>0</th>\n",
              "      <td>0</td>\n",
              "      <td>0.437288</td>\n",
              "      <td>2.168579</td>\n",
              "      <td>4.745763</td>\n",
              "      <td>0.378357</td>\n",
              "      <td>0.076662</td>\n",
              "      <td>70.835724</td>\n",
              "      <td>0.000000</td>\n",
              "      <td>0.909648</td>\n",
              "      <td>79.852021</td>\n",
              "      <td>80.699739</td>\n",
              "      <td>86.781226</td>\n",
              "      <td>83.329596</td>\n",
              "      <td>86.322425</td>\n",
              "    </tr>\n",
              "    <tr>\n",
              "      <th>1</th>\n",
              "      <td>1</td>\n",
              "      <td>0.487696</td>\n",
              "      <td>1.961257</td>\n",
              "      <td>3.874607</td>\n",
              "      <td>0.277487</td>\n",
              "      <td>0.150000</td>\n",
              "      <td>77.526178</td>\n",
              "      <td>0.006806</td>\n",
              "      <td>0.489791</td>\n",
              "      <td>62.476178</td>\n",
              "      <td>63.869634</td>\n",
              "      <td>66.326963</td>\n",
              "      <td>60.564660</td>\n",
              "      <td>62.058115</td>\n",
              "    </tr>\n",
              "    <tr>\n",
              "      <th>2</th>\n",
              "      <td>2</td>\n",
              "      <td>0.370796</td>\n",
              "      <td>1.982301</td>\n",
              "      <td>3.928319</td>\n",
              "      <td>0.288496</td>\n",
              "      <td>0.142478</td>\n",
              "      <td>75.433628</td>\n",
              "      <td>1.000000</td>\n",
              "      <td>0.704425</td>\n",
              "      <td>72.887611</td>\n",
              "      <td>73.313274</td>\n",
              "      <td>77.407080</td>\n",
              "      <td>75.302655</td>\n",
              "      <td>77.133628</td>\n",
              "    </tr>\n",
              "  </tbody>\n",
              "</table>\n",
              "</div>\n",
              "      <button class=\"colab-df-convert\" onclick=\"convertToInteractive('df-3c579cf4-1232-4596-a271-0786f71b23fb')\"\n",
              "              title=\"Convert this dataframe to an interactive table.\"\n",
              "              style=\"display:none;\">\n",
              "        \n",
              "  <svg xmlns=\"http://www.w3.org/2000/svg\" height=\"24px\"viewBox=\"0 0 24 24\"\n",
              "       width=\"24px\">\n",
              "    <path d=\"M0 0h24v24H0V0z\" fill=\"none\"/>\n",
              "    <path d=\"M18.56 5.44l.94 2.06.94-2.06 2.06-.94-2.06-.94-.94-2.06-.94 2.06-2.06.94zm-11 1L8.5 8.5l.94-2.06 2.06-.94-2.06-.94L8.5 2.5l-.94 2.06-2.06.94zm10 10l.94 2.06.94-2.06 2.06-.94-2.06-.94-.94-2.06-.94 2.06-2.06.94z\"/><path d=\"M17.41 7.96l-1.37-1.37c-.4-.4-.92-.59-1.43-.59-.52 0-1.04.2-1.43.59L10.3 9.45l-7.72 7.72c-.78.78-.78 2.05 0 2.83L4 21.41c.39.39.9.59 1.41.59.51 0 1.02-.2 1.41-.59l7.78-7.78 2.81-2.81c.8-.78.8-2.07 0-2.86zM5.41 20L4 18.59l7.72-7.72 1.47 1.35L5.41 20z\"/>\n",
              "  </svg>\n",
              "      </button>\n",
              "      \n",
              "  <style>\n",
              "    .colab-df-container {\n",
              "      display:flex;\n",
              "      flex-wrap:wrap;\n",
              "      gap: 12px;\n",
              "    }\n",
              "\n",
              "    .colab-df-convert {\n",
              "      background-color: #E8F0FE;\n",
              "      border: none;\n",
              "      border-radius: 50%;\n",
              "      cursor: pointer;\n",
              "      display: none;\n",
              "      fill: #1967D2;\n",
              "      height: 32px;\n",
              "      padding: 0 0 0 0;\n",
              "      width: 32px;\n",
              "    }\n",
              "\n",
              "    .colab-df-convert:hover {\n",
              "      background-color: #E2EBFA;\n",
              "      box-shadow: 0px 1px 2px rgba(60, 64, 67, 0.3), 0px 1px 3px 1px rgba(60, 64, 67, 0.15);\n",
              "      fill: #174EA6;\n",
              "    }\n",
              "\n",
              "    [theme=dark] .colab-df-convert {\n",
              "      background-color: #3B4455;\n",
              "      fill: #D2E3FC;\n",
              "    }\n",
              "\n",
              "    [theme=dark] .colab-df-convert:hover {\n",
              "      background-color: #434B5C;\n",
              "      box-shadow: 0px 1px 3px 1px rgba(0, 0, 0, 0.15);\n",
              "      filter: drop-shadow(0px 1px 2px rgba(0, 0, 0, 0.3));\n",
              "      fill: #FFFFFF;\n",
              "    }\n",
              "  </style>\n",
              "\n",
              "      <script>\n",
              "        const buttonEl =\n",
              "          document.querySelector('#df-3c579cf4-1232-4596-a271-0786f71b23fb button.colab-df-convert');\n",
              "        buttonEl.style.display =\n",
              "          google.colab.kernel.accessAllowed ? 'block' : 'none';\n",
              "\n",
              "        async function convertToInteractive(key) {\n",
              "          const element = document.querySelector('#df-3c579cf4-1232-4596-a271-0786f71b23fb');\n",
              "          const dataTable =\n",
              "            await google.colab.kernel.invokeFunction('convertToInteractive',\n",
              "                                                     [key], {});\n",
              "          if (!dataTable) return;\n",
              "\n",
              "          const docLinkHtml = 'Like what you see? Visit the ' +\n",
              "            '<a target=\"_blank\" href=https://colab.research.google.com/notebooks/data_table.ipynb>data table notebook</a>'\n",
              "            + ' to learn more about interactive tables.';\n",
              "          element.innerHTML = '';\n",
              "          dataTable['output_type'] = 'display_data';\n",
              "          await google.colab.output.renderOutput(dataTable, element);\n",
              "          const docLink = document.createElement('div');\n",
              "          docLink.innerHTML = docLinkHtml;\n",
              "          element.appendChild(docLink);\n",
              "        }\n",
              "      </script>\n",
              "    </div>\n",
              "  </div>\n",
              "  "
            ]
          },
          "metadata": {},
          "execution_count": 16
        }
      ]
    },
    {
      "cell_type": "code",
      "source": [
        "cluster_groups = df_cluster_estudiantes.groupby('cluster', as_index=False).median()\n",
        "cluster_groups"
      ],
      "metadata": {
        "colab": {
          "base_uri": "https://localhost:8080/",
          "height": 207
        },
        "id": "coCaAhXc5yrS",
        "outputId": "8a321bd3-a9d1-4088-ad36-3b833b148a4c"
      },
      "execution_count": 17,
      "outputs": [
        {
          "output_type": "execute_result",
          "data": {
            "text/plain": [
              "   cluster  gender  highest_education  imd_band  age_band  \\\n",
              "0        0     0.0                2.0       5.0       0.0   \n",
              "1        1     0.0                2.0       4.0       0.0   \n",
              "2        2     0.0                2.0       4.0       0.0   \n",
              "\n",
              "   num_of_prev_attempts  studied_credits  disability  passed_course  \\\n",
              "0                   0.0             60.0         0.0            1.0   \n",
              "1                   0.0             60.0         0.0            0.0   \n",
              "2                   0.0             60.0         1.0            1.0   \n",
              "\n",
              "   assess_score_1  assess_score_2  assess_score_3  assess_score_4  \\\n",
              "0            80.0            82.0            88.0            84.0   \n",
              "1            67.0            65.0            67.0            61.0   \n",
              "2            75.0            75.0            80.0            78.0   \n",
              "\n",
              "   assess_score_5  \n",
              "0            88.0  \n",
              "1            62.0  \n",
              "2            80.0  "
            ],
            "text/html": [
              "\n",
              "  <div id=\"df-5e94abac-89f3-4b8f-9e57-91ab2f2e413a\">\n",
              "    <div class=\"colab-df-container\">\n",
              "      <div>\n",
              "<style scoped>\n",
              "    .dataframe tbody tr th:only-of-type {\n",
              "        vertical-align: middle;\n",
              "    }\n",
              "\n",
              "    .dataframe tbody tr th {\n",
              "        vertical-align: top;\n",
              "    }\n",
              "\n",
              "    .dataframe thead th {\n",
              "        text-align: right;\n",
              "    }\n",
              "</style>\n",
              "<table border=\"1\" class=\"dataframe\">\n",
              "  <thead>\n",
              "    <tr style=\"text-align: right;\">\n",
              "      <th></th>\n",
              "      <th>cluster</th>\n",
              "      <th>gender</th>\n",
              "      <th>highest_education</th>\n",
              "      <th>imd_band</th>\n",
              "      <th>age_band</th>\n",
              "      <th>num_of_prev_attempts</th>\n",
              "      <th>studied_credits</th>\n",
              "      <th>disability</th>\n",
              "      <th>passed_course</th>\n",
              "      <th>assess_score_1</th>\n",
              "      <th>assess_score_2</th>\n",
              "      <th>assess_score_3</th>\n",
              "      <th>assess_score_4</th>\n",
              "      <th>assess_score_5</th>\n",
              "    </tr>\n",
              "  </thead>\n",
              "  <tbody>\n",
              "    <tr>\n",
              "      <th>0</th>\n",
              "      <td>0</td>\n",
              "      <td>0.0</td>\n",
              "      <td>2.0</td>\n",
              "      <td>5.0</td>\n",
              "      <td>0.0</td>\n",
              "      <td>0.0</td>\n",
              "      <td>60.0</td>\n",
              "      <td>0.0</td>\n",
              "      <td>1.0</td>\n",
              "      <td>80.0</td>\n",
              "      <td>82.0</td>\n",
              "      <td>88.0</td>\n",
              "      <td>84.0</td>\n",
              "      <td>88.0</td>\n",
              "    </tr>\n",
              "    <tr>\n",
              "      <th>1</th>\n",
              "      <td>1</td>\n",
              "      <td>0.0</td>\n",
              "      <td>2.0</td>\n",
              "      <td>4.0</td>\n",
              "      <td>0.0</td>\n",
              "      <td>0.0</td>\n",
              "      <td>60.0</td>\n",
              "      <td>0.0</td>\n",
              "      <td>0.0</td>\n",
              "      <td>67.0</td>\n",
              "      <td>65.0</td>\n",
              "      <td>67.0</td>\n",
              "      <td>61.0</td>\n",
              "      <td>62.0</td>\n",
              "    </tr>\n",
              "    <tr>\n",
              "      <th>2</th>\n",
              "      <td>2</td>\n",
              "      <td>0.0</td>\n",
              "      <td>2.0</td>\n",
              "      <td>4.0</td>\n",
              "      <td>0.0</td>\n",
              "      <td>0.0</td>\n",
              "      <td>60.0</td>\n",
              "      <td>1.0</td>\n",
              "      <td>1.0</td>\n",
              "      <td>75.0</td>\n",
              "      <td>75.0</td>\n",
              "      <td>80.0</td>\n",
              "      <td>78.0</td>\n",
              "      <td>80.0</td>\n",
              "    </tr>\n",
              "  </tbody>\n",
              "</table>\n",
              "</div>\n",
              "      <button class=\"colab-df-convert\" onclick=\"convertToInteractive('df-5e94abac-89f3-4b8f-9e57-91ab2f2e413a')\"\n",
              "              title=\"Convert this dataframe to an interactive table.\"\n",
              "              style=\"display:none;\">\n",
              "        \n",
              "  <svg xmlns=\"http://www.w3.org/2000/svg\" height=\"24px\"viewBox=\"0 0 24 24\"\n",
              "       width=\"24px\">\n",
              "    <path d=\"M0 0h24v24H0V0z\" fill=\"none\"/>\n",
              "    <path d=\"M18.56 5.44l.94 2.06.94-2.06 2.06-.94-2.06-.94-.94-2.06-.94 2.06-2.06.94zm-11 1L8.5 8.5l.94-2.06 2.06-.94-2.06-.94L8.5 2.5l-.94 2.06-2.06.94zm10 10l.94 2.06.94-2.06 2.06-.94-2.06-.94-.94-2.06-.94 2.06-2.06.94z\"/><path d=\"M17.41 7.96l-1.37-1.37c-.4-.4-.92-.59-1.43-.59-.52 0-1.04.2-1.43.59L10.3 9.45l-7.72 7.72c-.78.78-.78 2.05 0 2.83L4 21.41c.39.39.9.59 1.41.59.51 0 1.02-.2 1.41-.59l7.78-7.78 2.81-2.81c.8-.78.8-2.07 0-2.86zM5.41 20L4 18.59l7.72-7.72 1.47 1.35L5.41 20z\"/>\n",
              "  </svg>\n",
              "      </button>\n",
              "      \n",
              "  <style>\n",
              "    .colab-df-container {\n",
              "      display:flex;\n",
              "      flex-wrap:wrap;\n",
              "      gap: 12px;\n",
              "    }\n",
              "\n",
              "    .colab-df-convert {\n",
              "      background-color: #E8F0FE;\n",
              "      border: none;\n",
              "      border-radius: 50%;\n",
              "      cursor: pointer;\n",
              "      display: none;\n",
              "      fill: #1967D2;\n",
              "      height: 32px;\n",
              "      padding: 0 0 0 0;\n",
              "      width: 32px;\n",
              "    }\n",
              "\n",
              "    .colab-df-convert:hover {\n",
              "      background-color: #E2EBFA;\n",
              "      box-shadow: 0px 1px 2px rgba(60, 64, 67, 0.3), 0px 1px 3px 1px rgba(60, 64, 67, 0.15);\n",
              "      fill: #174EA6;\n",
              "    }\n",
              "\n",
              "    [theme=dark] .colab-df-convert {\n",
              "      background-color: #3B4455;\n",
              "      fill: #D2E3FC;\n",
              "    }\n",
              "\n",
              "    [theme=dark] .colab-df-convert:hover {\n",
              "      background-color: #434B5C;\n",
              "      box-shadow: 0px 1px 3px 1px rgba(0, 0, 0, 0.15);\n",
              "      filter: drop-shadow(0px 1px 2px rgba(0, 0, 0, 0.3));\n",
              "      fill: #FFFFFF;\n",
              "    }\n",
              "  </style>\n",
              "\n",
              "      <script>\n",
              "        const buttonEl =\n",
              "          document.querySelector('#df-5e94abac-89f3-4b8f-9e57-91ab2f2e413a button.colab-df-convert');\n",
              "        buttonEl.style.display =\n",
              "          google.colab.kernel.accessAllowed ? 'block' : 'none';\n",
              "\n",
              "        async function convertToInteractive(key) {\n",
              "          const element = document.querySelector('#df-5e94abac-89f3-4b8f-9e57-91ab2f2e413a');\n",
              "          const dataTable =\n",
              "            await google.colab.kernel.invokeFunction('convertToInteractive',\n",
              "                                                     [key], {});\n",
              "          if (!dataTable) return;\n",
              "\n",
              "          const docLinkHtml = 'Like what you see? Visit the ' +\n",
              "            '<a target=\"_blank\" href=https://colab.research.google.com/notebooks/data_table.ipynb>data table notebook</a>'\n",
              "            + ' to learn more about interactive tables.';\n",
              "          element.innerHTML = '';\n",
              "          dataTable['output_type'] = 'display_data';\n",
              "          await google.colab.output.renderOutput(dataTable, element);\n",
              "          const docLink = document.createElement('div');\n",
              "          docLink.innerHTML = docLinkHtml;\n",
              "          element.appendChild(docLink);\n",
              "        }\n",
              "      </script>\n",
              "    </div>\n",
              "  </div>\n",
              "  "
            ]
          },
          "metadata": {},
          "execution_count": 17
        }
      ]
    },
    {
      "cell_type": "code",
      "source": [
        "df_cluster_estudiantes.pivot_table(index=['cluster'], columns=['gender'],values=['imd_band'], aggfunc='count')"
      ],
      "metadata": {
        "colab": {
          "base_uri": "https://localhost:8080/",
          "height": 206
        },
        "id": "8P4DEGRzwjxx",
        "outputId": "5f416744-b213-4f7c-dc61-4320d31582f3"
      },
      "execution_count": 18,
      "outputs": [
        {
          "output_type": "execute_result",
          "data": {
            "text/plain": [
              "        imd_band      \n",
              "gender         0     1\n",
              "cluster               \n",
              "0           4316  3354\n",
              "1           1957  1863\n",
              "2            711   419"
            ],
            "text/html": [
              "\n",
              "  <div id=\"df-26259464-afe5-4351-a219-df70519064ee\">\n",
              "    <div class=\"colab-df-container\">\n",
              "      <div>\n",
              "<style scoped>\n",
              "    .dataframe tbody tr th:only-of-type {\n",
              "        vertical-align: middle;\n",
              "    }\n",
              "\n",
              "    .dataframe tbody tr th {\n",
              "        vertical-align: top;\n",
              "    }\n",
              "\n",
              "    .dataframe thead tr th {\n",
              "        text-align: left;\n",
              "    }\n",
              "\n",
              "    .dataframe thead tr:last-of-type th {\n",
              "        text-align: right;\n",
              "    }\n",
              "</style>\n",
              "<table border=\"1\" class=\"dataframe\">\n",
              "  <thead>\n",
              "    <tr>\n",
              "      <th></th>\n",
              "      <th colspan=\"2\" halign=\"left\">imd_band</th>\n",
              "    </tr>\n",
              "    <tr>\n",
              "      <th>gender</th>\n",
              "      <th>0</th>\n",
              "      <th>1</th>\n",
              "    </tr>\n",
              "    <tr>\n",
              "      <th>cluster</th>\n",
              "      <th></th>\n",
              "      <th></th>\n",
              "    </tr>\n",
              "  </thead>\n",
              "  <tbody>\n",
              "    <tr>\n",
              "      <th>0</th>\n",
              "      <td>4316</td>\n",
              "      <td>3354</td>\n",
              "    </tr>\n",
              "    <tr>\n",
              "      <th>1</th>\n",
              "      <td>1957</td>\n",
              "      <td>1863</td>\n",
              "    </tr>\n",
              "    <tr>\n",
              "      <th>2</th>\n",
              "      <td>711</td>\n",
              "      <td>419</td>\n",
              "    </tr>\n",
              "  </tbody>\n",
              "</table>\n",
              "</div>\n",
              "      <button class=\"colab-df-convert\" onclick=\"convertToInteractive('df-26259464-afe5-4351-a219-df70519064ee')\"\n",
              "              title=\"Convert this dataframe to an interactive table.\"\n",
              "              style=\"display:none;\">\n",
              "        \n",
              "  <svg xmlns=\"http://www.w3.org/2000/svg\" height=\"24px\"viewBox=\"0 0 24 24\"\n",
              "       width=\"24px\">\n",
              "    <path d=\"M0 0h24v24H0V0z\" fill=\"none\"/>\n",
              "    <path d=\"M18.56 5.44l.94 2.06.94-2.06 2.06-.94-2.06-.94-.94-2.06-.94 2.06-2.06.94zm-11 1L8.5 8.5l.94-2.06 2.06-.94-2.06-.94L8.5 2.5l-.94 2.06-2.06.94zm10 10l.94 2.06.94-2.06 2.06-.94-2.06-.94-.94-2.06-.94 2.06-2.06.94z\"/><path d=\"M17.41 7.96l-1.37-1.37c-.4-.4-.92-.59-1.43-.59-.52 0-1.04.2-1.43.59L10.3 9.45l-7.72 7.72c-.78.78-.78 2.05 0 2.83L4 21.41c.39.39.9.59 1.41.59.51 0 1.02-.2 1.41-.59l7.78-7.78 2.81-2.81c.8-.78.8-2.07 0-2.86zM5.41 20L4 18.59l7.72-7.72 1.47 1.35L5.41 20z\"/>\n",
              "  </svg>\n",
              "      </button>\n",
              "      \n",
              "  <style>\n",
              "    .colab-df-container {\n",
              "      display:flex;\n",
              "      flex-wrap:wrap;\n",
              "      gap: 12px;\n",
              "    }\n",
              "\n",
              "    .colab-df-convert {\n",
              "      background-color: #E8F0FE;\n",
              "      border: none;\n",
              "      border-radius: 50%;\n",
              "      cursor: pointer;\n",
              "      display: none;\n",
              "      fill: #1967D2;\n",
              "      height: 32px;\n",
              "      padding: 0 0 0 0;\n",
              "      width: 32px;\n",
              "    }\n",
              "\n",
              "    .colab-df-convert:hover {\n",
              "      background-color: #E2EBFA;\n",
              "      box-shadow: 0px 1px 2px rgba(60, 64, 67, 0.3), 0px 1px 3px 1px rgba(60, 64, 67, 0.15);\n",
              "      fill: #174EA6;\n",
              "    }\n",
              "\n",
              "    [theme=dark] .colab-df-convert {\n",
              "      background-color: #3B4455;\n",
              "      fill: #D2E3FC;\n",
              "    }\n",
              "\n",
              "    [theme=dark] .colab-df-convert:hover {\n",
              "      background-color: #434B5C;\n",
              "      box-shadow: 0px 1px 3px 1px rgba(0, 0, 0, 0.15);\n",
              "      filter: drop-shadow(0px 1px 2px rgba(0, 0, 0, 0.3));\n",
              "      fill: #FFFFFF;\n",
              "    }\n",
              "  </style>\n",
              "\n",
              "      <script>\n",
              "        const buttonEl =\n",
              "          document.querySelector('#df-26259464-afe5-4351-a219-df70519064ee button.colab-df-convert');\n",
              "        buttonEl.style.display =\n",
              "          google.colab.kernel.accessAllowed ? 'block' : 'none';\n",
              "\n",
              "        async function convertToInteractive(key) {\n",
              "          const element = document.querySelector('#df-26259464-afe5-4351-a219-df70519064ee');\n",
              "          const dataTable =\n",
              "            await google.colab.kernel.invokeFunction('convertToInteractive',\n",
              "                                                     [key], {});\n",
              "          if (!dataTable) return;\n",
              "\n",
              "          const docLinkHtml = 'Like what you see? Visit the ' +\n",
              "            '<a target=\"_blank\" href=https://colab.research.google.com/notebooks/data_table.ipynb>data table notebook</a>'\n",
              "            + ' to learn more about interactive tables.';\n",
              "          element.innerHTML = '';\n",
              "          dataTable['output_type'] = 'display_data';\n",
              "          await google.colab.output.renderOutput(dataTable, element);\n",
              "          const docLink = document.createElement('div');\n",
              "          docLink.innerHTML = docLinkHtml;\n",
              "          element.appendChild(docLink);\n",
              "        }\n",
              "      </script>\n",
              "    </div>\n",
              "  </div>\n",
              "  "
            ]
          },
          "metadata": {},
          "execution_count": 18
        }
      ]
    },
    {
      "cell_type": "code",
      "source": [
        "df_cluster_estudiantes.pivot_table(index=['cluster'], columns=['age_band'],values=['imd_band'], aggfunc='count')"
      ],
      "metadata": {
        "colab": {
          "base_uri": "https://localhost:8080/",
          "height": 206
        },
        "id": "U1GmtgS63HPD",
        "outputId": "7a16242b-4e76-4b28-c21d-85c7eacca508"
      },
      "execution_count": 19,
      "outputs": [
        {
          "output_type": "execute_result",
          "data": {
            "text/plain": [
              "         imd_band              \n",
              "age_band        0       1     2\n",
              "cluster                        \n",
              "0          4843.0  2752.0  75.0\n",
              "1          2778.0  1024.0  18.0\n",
              "2           804.0   326.0   NaN"
            ],
            "text/html": [
              "\n",
              "  <div id=\"df-4650e5fd-5b52-42a8-a20b-4ed033e58604\">\n",
              "    <div class=\"colab-df-container\">\n",
              "      <div>\n",
              "<style scoped>\n",
              "    .dataframe tbody tr th:only-of-type {\n",
              "        vertical-align: middle;\n",
              "    }\n",
              "\n",
              "    .dataframe tbody tr th {\n",
              "        vertical-align: top;\n",
              "    }\n",
              "\n",
              "    .dataframe thead tr th {\n",
              "        text-align: left;\n",
              "    }\n",
              "\n",
              "    .dataframe thead tr:last-of-type th {\n",
              "        text-align: right;\n",
              "    }\n",
              "</style>\n",
              "<table border=\"1\" class=\"dataframe\">\n",
              "  <thead>\n",
              "    <tr>\n",
              "      <th></th>\n",
              "      <th colspan=\"3\" halign=\"left\">imd_band</th>\n",
              "    </tr>\n",
              "    <tr>\n",
              "      <th>age_band</th>\n",
              "      <th>0</th>\n",
              "      <th>1</th>\n",
              "      <th>2</th>\n",
              "    </tr>\n",
              "    <tr>\n",
              "      <th>cluster</th>\n",
              "      <th></th>\n",
              "      <th></th>\n",
              "      <th></th>\n",
              "    </tr>\n",
              "  </thead>\n",
              "  <tbody>\n",
              "    <tr>\n",
              "      <th>0</th>\n",
              "      <td>4843.0</td>\n",
              "      <td>2752.0</td>\n",
              "      <td>75.0</td>\n",
              "    </tr>\n",
              "    <tr>\n",
              "      <th>1</th>\n",
              "      <td>2778.0</td>\n",
              "      <td>1024.0</td>\n",
              "      <td>18.0</td>\n",
              "    </tr>\n",
              "    <tr>\n",
              "      <th>2</th>\n",
              "      <td>804.0</td>\n",
              "      <td>326.0</td>\n",
              "      <td>NaN</td>\n",
              "    </tr>\n",
              "  </tbody>\n",
              "</table>\n",
              "</div>\n",
              "      <button class=\"colab-df-convert\" onclick=\"convertToInteractive('df-4650e5fd-5b52-42a8-a20b-4ed033e58604')\"\n",
              "              title=\"Convert this dataframe to an interactive table.\"\n",
              "              style=\"display:none;\">\n",
              "        \n",
              "  <svg xmlns=\"http://www.w3.org/2000/svg\" height=\"24px\"viewBox=\"0 0 24 24\"\n",
              "       width=\"24px\">\n",
              "    <path d=\"M0 0h24v24H0V0z\" fill=\"none\"/>\n",
              "    <path d=\"M18.56 5.44l.94 2.06.94-2.06 2.06-.94-2.06-.94-.94-2.06-.94 2.06-2.06.94zm-11 1L8.5 8.5l.94-2.06 2.06-.94-2.06-.94L8.5 2.5l-.94 2.06-2.06.94zm10 10l.94 2.06.94-2.06 2.06-.94-2.06-.94-.94-2.06-.94 2.06-2.06.94z\"/><path d=\"M17.41 7.96l-1.37-1.37c-.4-.4-.92-.59-1.43-.59-.52 0-1.04.2-1.43.59L10.3 9.45l-7.72 7.72c-.78.78-.78 2.05 0 2.83L4 21.41c.39.39.9.59 1.41.59.51 0 1.02-.2 1.41-.59l7.78-7.78 2.81-2.81c.8-.78.8-2.07 0-2.86zM5.41 20L4 18.59l7.72-7.72 1.47 1.35L5.41 20z\"/>\n",
              "  </svg>\n",
              "      </button>\n",
              "      \n",
              "  <style>\n",
              "    .colab-df-container {\n",
              "      display:flex;\n",
              "      flex-wrap:wrap;\n",
              "      gap: 12px;\n",
              "    }\n",
              "\n",
              "    .colab-df-convert {\n",
              "      background-color: #E8F0FE;\n",
              "      border: none;\n",
              "      border-radius: 50%;\n",
              "      cursor: pointer;\n",
              "      display: none;\n",
              "      fill: #1967D2;\n",
              "      height: 32px;\n",
              "      padding: 0 0 0 0;\n",
              "      width: 32px;\n",
              "    }\n",
              "\n",
              "    .colab-df-convert:hover {\n",
              "      background-color: #E2EBFA;\n",
              "      box-shadow: 0px 1px 2px rgba(60, 64, 67, 0.3), 0px 1px 3px 1px rgba(60, 64, 67, 0.15);\n",
              "      fill: #174EA6;\n",
              "    }\n",
              "\n",
              "    [theme=dark] .colab-df-convert {\n",
              "      background-color: #3B4455;\n",
              "      fill: #D2E3FC;\n",
              "    }\n",
              "\n",
              "    [theme=dark] .colab-df-convert:hover {\n",
              "      background-color: #434B5C;\n",
              "      box-shadow: 0px 1px 3px 1px rgba(0, 0, 0, 0.15);\n",
              "      filter: drop-shadow(0px 1px 2px rgba(0, 0, 0, 0.3));\n",
              "      fill: #FFFFFF;\n",
              "    }\n",
              "  </style>\n",
              "\n",
              "      <script>\n",
              "        const buttonEl =\n",
              "          document.querySelector('#df-4650e5fd-5b52-42a8-a20b-4ed033e58604 button.colab-df-convert');\n",
              "        buttonEl.style.display =\n",
              "          google.colab.kernel.accessAllowed ? 'block' : 'none';\n",
              "\n",
              "        async function convertToInteractive(key) {\n",
              "          const element = document.querySelector('#df-4650e5fd-5b52-42a8-a20b-4ed033e58604');\n",
              "          const dataTable =\n",
              "            await google.colab.kernel.invokeFunction('convertToInteractive',\n",
              "                                                     [key], {});\n",
              "          if (!dataTable) return;\n",
              "\n",
              "          const docLinkHtml = 'Like what you see? Visit the ' +\n",
              "            '<a target=\"_blank\" href=https://colab.research.google.com/notebooks/data_table.ipynb>data table notebook</a>'\n",
              "            + ' to learn more about interactive tables.';\n",
              "          element.innerHTML = '';\n",
              "          dataTable['output_type'] = 'display_data';\n",
              "          await google.colab.output.renderOutput(dataTable, element);\n",
              "          const docLink = document.createElement('div');\n",
              "          docLink.innerHTML = docLinkHtml;\n",
              "          element.appendChild(docLink);\n",
              "        }\n",
              "      </script>\n",
              "    </div>\n",
              "  </div>\n",
              "  "
            ]
          },
          "metadata": {},
          "execution_count": 19
        }
      ]
    },
    {
      "cell_type": "code",
      "source": [
        "df_cluster_estudiantes.pivot_table(index=['cluster'], columns=['highest_education'],values=['imd_band'], aggfunc='count')"
      ],
      "metadata": {
        "colab": {
          "base_uri": "https://localhost:8080/",
          "height": 206
        },
        "id": "N5kdbQSb4K5I",
        "outputId": "fc889531-8ca7-44ca-8451-57da7f807eda"
      },
      "execution_count": 20,
      "outputs": [
        {
          "output_type": "execute_result",
          "data": {
            "text/plain": [
              "                  imd_band                              \n",
              "highest_education        0       1       2       3     4\n",
              "cluster                                                 \n",
              "0                     40.0  2499.0  1330.0  3730.0  71.0\n",
              "1                     54.0  1660.0   497.0  1598.0  11.0\n",
              "2                      2.0   546.0    52.0   530.0   NaN"
            ],
            "text/html": [
              "\n",
              "  <div id=\"df-a0fb8e62-b37b-49a5-9fdb-e8e2cb215185\">\n",
              "    <div class=\"colab-df-container\">\n",
              "      <div>\n",
              "<style scoped>\n",
              "    .dataframe tbody tr th:only-of-type {\n",
              "        vertical-align: middle;\n",
              "    }\n",
              "\n",
              "    .dataframe tbody tr th {\n",
              "        vertical-align: top;\n",
              "    }\n",
              "\n",
              "    .dataframe thead tr th {\n",
              "        text-align: left;\n",
              "    }\n",
              "\n",
              "    .dataframe thead tr:last-of-type th {\n",
              "        text-align: right;\n",
              "    }\n",
              "</style>\n",
              "<table border=\"1\" class=\"dataframe\">\n",
              "  <thead>\n",
              "    <tr>\n",
              "      <th></th>\n",
              "      <th colspan=\"5\" halign=\"left\">imd_band</th>\n",
              "    </tr>\n",
              "    <tr>\n",
              "      <th>highest_education</th>\n",
              "      <th>0</th>\n",
              "      <th>1</th>\n",
              "      <th>2</th>\n",
              "      <th>3</th>\n",
              "      <th>4</th>\n",
              "    </tr>\n",
              "    <tr>\n",
              "      <th>cluster</th>\n",
              "      <th></th>\n",
              "      <th></th>\n",
              "      <th></th>\n",
              "      <th></th>\n",
              "      <th></th>\n",
              "    </tr>\n",
              "  </thead>\n",
              "  <tbody>\n",
              "    <tr>\n",
              "      <th>0</th>\n",
              "      <td>40.0</td>\n",
              "      <td>2499.0</td>\n",
              "      <td>1330.0</td>\n",
              "      <td>3730.0</td>\n",
              "      <td>71.0</td>\n",
              "    </tr>\n",
              "    <tr>\n",
              "      <th>1</th>\n",
              "      <td>54.0</td>\n",
              "      <td>1660.0</td>\n",
              "      <td>497.0</td>\n",
              "      <td>1598.0</td>\n",
              "      <td>11.0</td>\n",
              "    </tr>\n",
              "    <tr>\n",
              "      <th>2</th>\n",
              "      <td>2.0</td>\n",
              "      <td>546.0</td>\n",
              "      <td>52.0</td>\n",
              "      <td>530.0</td>\n",
              "      <td>NaN</td>\n",
              "    </tr>\n",
              "  </tbody>\n",
              "</table>\n",
              "</div>\n",
              "      <button class=\"colab-df-convert\" onclick=\"convertToInteractive('df-a0fb8e62-b37b-49a5-9fdb-e8e2cb215185')\"\n",
              "              title=\"Convert this dataframe to an interactive table.\"\n",
              "              style=\"display:none;\">\n",
              "        \n",
              "  <svg xmlns=\"http://www.w3.org/2000/svg\" height=\"24px\"viewBox=\"0 0 24 24\"\n",
              "       width=\"24px\">\n",
              "    <path d=\"M0 0h24v24H0V0z\" fill=\"none\"/>\n",
              "    <path d=\"M18.56 5.44l.94 2.06.94-2.06 2.06-.94-2.06-.94-.94-2.06-.94 2.06-2.06.94zm-11 1L8.5 8.5l.94-2.06 2.06-.94-2.06-.94L8.5 2.5l-.94 2.06-2.06.94zm10 10l.94 2.06.94-2.06 2.06-.94-2.06-.94-.94-2.06-.94 2.06-2.06.94z\"/><path d=\"M17.41 7.96l-1.37-1.37c-.4-.4-.92-.59-1.43-.59-.52 0-1.04.2-1.43.59L10.3 9.45l-7.72 7.72c-.78.78-.78 2.05 0 2.83L4 21.41c.39.39.9.59 1.41.59.51 0 1.02-.2 1.41-.59l7.78-7.78 2.81-2.81c.8-.78.8-2.07 0-2.86zM5.41 20L4 18.59l7.72-7.72 1.47 1.35L5.41 20z\"/>\n",
              "  </svg>\n",
              "      </button>\n",
              "      \n",
              "  <style>\n",
              "    .colab-df-container {\n",
              "      display:flex;\n",
              "      flex-wrap:wrap;\n",
              "      gap: 12px;\n",
              "    }\n",
              "\n",
              "    .colab-df-convert {\n",
              "      background-color: #E8F0FE;\n",
              "      border: none;\n",
              "      border-radius: 50%;\n",
              "      cursor: pointer;\n",
              "      display: none;\n",
              "      fill: #1967D2;\n",
              "      height: 32px;\n",
              "      padding: 0 0 0 0;\n",
              "      width: 32px;\n",
              "    }\n",
              "\n",
              "    .colab-df-convert:hover {\n",
              "      background-color: #E2EBFA;\n",
              "      box-shadow: 0px 1px 2px rgba(60, 64, 67, 0.3), 0px 1px 3px 1px rgba(60, 64, 67, 0.15);\n",
              "      fill: #174EA6;\n",
              "    }\n",
              "\n",
              "    [theme=dark] .colab-df-convert {\n",
              "      background-color: #3B4455;\n",
              "      fill: #D2E3FC;\n",
              "    }\n",
              "\n",
              "    [theme=dark] .colab-df-convert:hover {\n",
              "      background-color: #434B5C;\n",
              "      box-shadow: 0px 1px 3px 1px rgba(0, 0, 0, 0.15);\n",
              "      filter: drop-shadow(0px 1px 2px rgba(0, 0, 0, 0.3));\n",
              "      fill: #FFFFFF;\n",
              "    }\n",
              "  </style>\n",
              "\n",
              "      <script>\n",
              "        const buttonEl =\n",
              "          document.querySelector('#df-a0fb8e62-b37b-49a5-9fdb-e8e2cb215185 button.colab-df-convert');\n",
              "        buttonEl.style.display =\n",
              "          google.colab.kernel.accessAllowed ? 'block' : 'none';\n",
              "\n",
              "        async function convertToInteractive(key) {\n",
              "          const element = document.querySelector('#df-a0fb8e62-b37b-49a5-9fdb-e8e2cb215185');\n",
              "          const dataTable =\n",
              "            await google.colab.kernel.invokeFunction('convertToInteractive',\n",
              "                                                     [key], {});\n",
              "          if (!dataTable) return;\n",
              "\n",
              "          const docLinkHtml = 'Like what you see? Visit the ' +\n",
              "            '<a target=\"_blank\" href=https://colab.research.google.com/notebooks/data_table.ipynb>data table notebook</a>'\n",
              "            + ' to learn more about interactive tables.';\n",
              "          element.innerHTML = '';\n",
              "          dataTable['output_type'] = 'display_data';\n",
              "          await google.colab.output.renderOutput(dataTable, element);\n",
              "          const docLink = document.createElement('div');\n",
              "          docLink.innerHTML = docLinkHtml;\n",
              "          element.appendChild(docLink);\n",
              "        }\n",
              "      </script>\n",
              "    </div>\n",
              "  </div>\n",
              "  "
            ]
          },
          "metadata": {},
          "execution_count": 20
        }
      ]
    },
    {
      "cell_type": "markdown",
      "source": [
        "**Visualizar los clústeres**"
      ],
      "metadata": {
        "id": "jI0s_G9NuwpW"
      }
    },
    {
      "cell_type": "code",
      "source": [
        "# Visualizaciones de los grupos\n",
        "fig, axes = plt.subplots(2,7, figsize = (30, 10))\n",
        "axes = axes.ravel()\n",
        "for i, col in enumerate(cluster_groups.columns[1:]):\n",
        "  axes[i].bar(cluster_groups['cluster'], cluster_groups[col])\n",
        "  axes[i].set_title(f'Mean {col}')"
      ],
      "metadata": {
        "colab": {
          "base_uri": "https://localhost:8080/",
          "height": 489
        },
        "id": "qSIxgNORuxQe",
        "outputId": "ba5bbae4-bfe8-4c50-e928-4f54c021a802"
      },
      "execution_count": 21,
      "outputs": [
        {
          "output_type": "display_data",
          "data": {
            "text/plain": [
              "<Figure size 2160x720 with 14 Axes>"
            ],
            "image/png": "[encoded data removed]"
          },
          "metadata": {
            "needs_background": "light"
          }
        }
      ]
    },
    {
      "cell_type": "markdown",
      "source": [
        "**Clúster 0:**\n",
        "\n",
        "Es un grupo en el cual aproximadamente el 44% de la población pertenece al género 1, tienen la mejor condición escolar superando, posiblemente la mayoría, la puntuación 2 de la característica highest_education, de igual forma es el grupo donde se presenta la mejor condición socioeconómica de las personas, estando la media cercana a 5, también es el grupo donde la banda de edad es más alta, es decir, varios de los estudiantes están en las franjas de edad superior, es el grupo, donde se presentan la menor cantidad de repitentes, la media de créditos es menor al resto de grupos, no presentan discapacidades, más del 80% supera el curso, siendo el clúster de mejor desempeño, en las calificaciones de la 1 a la 5 están cerca o más allá del 80. En conclusión, es el mejor grupo en cuanto a desempeño académico, con altas probabilidades de éxito, con características más elevadas en su indicador socioeconómico.\n",
        "\n",
        "\n",
        "**Clúster 1:**\n",
        "\n",
        "Es el clúster donde hay casi una distribución equitativa entre ambos géneros, es el grupo con el menor grado escolar, de igual manera tienen el IMD medio más bajo, lo que podría representar personas con dificultad económica, aunque comparte cercanía en esta característica con el clúster 2, es el grupo pre presenta mayor representación en la característica asociada a la repitencia de curso, también es el grupo con la mayor cantidad de créditos estudiados, posiblemente asociado a la repitencia, algunos de ellos presentan discapacidades, pero es una baja proporción de la población, son el grupo que más tendencia tiene a no pasar el curso, su historial lo confirma, y son aquellos que tienen la menor de las puntuaciones en todas las pruebas, un promedio cercano al 60. En conclusión, este es el grupo de los que normalmente reprueban, son repitentes, usan la mayor cantidad de créditos.\n",
        "\n",
        "\n",
        "**Clúster 2:**\n",
        "\n",
        "Es aquél con el mayor desbalance en los géneros, prevaleciendo el género 0, su nivel educativo llega hasta el nivel 3, pero al igual que el clúster 0, tiene una población relativamente balanceada entre el nivel 1 y 3, en la banda de edad es el único grupo que no tiene población en la banda 2, siendo la mayoría de la banda 0, son el segundo clúster en presentar alta repitencia, el uso de créditos está entre el clúster 0 y 1, siendo cercana a 75, su característica más relevante, es que concentra casi toda la población con algún tipo de discapacidad, pero a diferencia del clúster 1, de compartir casi las mismas puntuaciones socioeconómicas, tener una repitencia parecida, es más probable que este grupo apruebe el curso al repetirlo o verlo la primera vez, sus puntuaciones medias con intermedias y cercanas a 70.\n"
      ],
      "metadata": {
        "id": "fA4L5PLszEWB"
      }
    },
    {
      "cell_type": "markdown",
      "source": [
        "#**PARTE 2: PREDICCIONES**"
      ],
      "metadata": {
        "id": "zqCGC-TB8zyZ"
      }
    },
    {
      "cell_type": "markdown",
      "source": [
        "###**1) Carga de los datos**"
      ],
      "metadata": {
        "id": "GPokUldI9MvU"
      }
    },
    {
      "cell_type": "code",
      "source": [
        "df_modelo_exito = pd.read_csv('/content/drive/MyDrive/CODING DOJO/DATA SCIENCE/BELT EXAM 3/Option_B_modeling.csv')\n",
        "df_modelo_exito.head()"
      ],
      "metadata": {
        "colab": {
          "base_uri": "https://localhost:8080/",
          "height": 299
        },
        "id": "Pe7oNw1Y83U0",
        "outputId": "02c4343b-6ca9-4f77-8d2f-661b14a7f6ac"
      },
      "execution_count": 22,
      "outputs": [
        {
          "output_type": "execute_result",
          "data": {
            "text/plain": [
              "   gender  highest_education  imd_band  age_band  num_of_prev_attempts  \\\n",
              "0       1                  2         9         2                     0   \n",
              "1       0                  2         2         1                     0   \n",
              "2       0                  3         5         1                     0   \n",
              "3       0                  1         5         0                     0   \n",
              "4       1                  2         3         0                     0   \n",
              "\n",
              "   studied_credits  disability  passed_course  assess_score_1  assess_score_2  \\\n",
              "0              240           0              1            78.0            85.0   \n",
              "1               60           0              1            70.0            68.0   \n",
              "2               60           0              1            72.0            71.0   \n",
              "3               60           0              1            69.0            30.0   \n",
              "4               60           0              1            70.0            65.0   \n",
              "\n",
              "   ...  module_CCC  module_DDD  module_EEE  module_FFF  module_GGG  \\\n",
              "0  ...           0           0           0           0           0   \n",
              "1  ...           0           0           0           0           0   \n",
              "2  ...           0           0           0           0           0   \n",
              "3  ...           0           0           0           0           0   \n",
              "4  ...           0           0           0           0           0   \n",
              "\n",
              "   presentation_0  presentation_2013B  presentation_2013J  presentation_2014B  \\\n",
              "0               0                   0                   1                   0   \n",
              "1               0                   0                   1                   0   \n",
              "2               0                   0                   1                   0   \n",
              "3               0                   0                   1                   0   \n",
              "4               0                   0                   1                   0   \n",
              "\n",
              "   presentation_2014J  \n",
              "0                   0  \n",
              "1                   0  \n",
              "2                   0  \n",
              "3                   0  \n",
              "4                   0  \n",
              "\n",
              "[5 rows x 931 columns]"
            ],
            "text/html": [
              "\n",
              "  <div id=\"df-a2f4bfc1-768a-4125-b850-ec47c07bd5db\">\n",
              "    <div class=\"colab-df-container\">\n",
              "      <div>\n",
              "<style scoped>\n",
              "    .dataframe tbody tr th:only-of-type {\n",
              "        vertical-align: middle;\n",
              "    }\n",
              "\n",
              "    .dataframe tbody tr th {\n",
              "        vertical-align: top;\n",
              "    }\n",
              "\n",
              "    .dataframe thead th {\n",
              "        text-align: right;\n",
              "    }\n",
              "</style>\n",
              "<table border=\"1\" class=\"dataframe\">\n",
              "  <thead>\n",
              "    <tr style=\"text-align: right;\">\n",
              "      <th></th>\n",
              "      <th>gender</th>\n",
              "      <th>highest_education</th>\n",
              "      <th>imd_band</th>\n",
              "      <th>age_band</th>\n",
              "      <th>num_of_prev_attempts</th>\n",
              "      <th>studied_credits</th>\n",
              "      <th>disability</th>\n",
              "      <th>passed_course</th>\n",
              "      <th>assess_score_1</th>\n",
              "      <th>assess_score_2</th>\n",
              "      <th>...</th>\n",
              "      <th>module_CCC</th>\n",
              "      <th>module_DDD</th>\n",
              "      <th>module_EEE</th>\n",
              "      <th>module_FFF</th>\n",
              "      <th>module_GGG</th>\n",
              "      <th>presentation_0</th>\n",
              "      <th>presentation_2013B</th>\n",
              "      <th>presentation_2013J</th>\n",
              "      <th>presentation_2014B</th>\n",
              "      <th>presentation_2014J</th>\n",
              "    </tr>\n",
              "  </thead>\n",
              "  <tbody>\n",
              "    <tr>\n",
              "      <th>0</th>\n",
              "      <td>1</td>\n",
              "      <td>2</td>\n",
              "      <td>9</td>\n",
              "      <td>2</td>\n",
              "      <td>0</td>\n",
              "      <td>240</td>\n",
              "      <td>0</td>\n",
              "      <td>1</td>\n",
              "      <td>78.0</td>\n",
              "      <td>85.0</td>\n",
              "      <td>...</td>\n",
              "      <td>0</td>\n",
              "      <td>0</td>\n",
              "      <td>0</td>\n",
              "      <td>0</td>\n",
              "      <td>0</td>\n",
              "      <td>0</td>\n",
              "      <td>0</td>\n",
              "      <td>1</td>\n",
              "      <td>0</td>\n",
              "      <td>0</td>\n",
              "    </tr>\n",
              "    <tr>\n",
              "      <th>1</th>\n",
              "      <td>0</td>\n",
              "      <td>2</td>\n",
              "      <td>2</td>\n",
              "      <td>1</td>\n",
              "      <td>0</td>\n",
              "      <td>60</td>\n",
              "      <td>0</td>\n",
              "      <td>1</td>\n",
              "      <td>70.0</td>\n",
              "      <td>68.0</td>\n",
              "      <td>...</td>\n",
              "      <td>0</td>\n",
              "      <td>0</td>\n",
              "      <td>0</td>\n",
              "      <td>0</td>\n",
              "      <td>0</td>\n",
              "      <td>0</td>\n",
              "      <td>0</td>\n",
              "      <td>1</td>\n",
              "      <td>0</td>\n",
              "      <td>0</td>\n",
              "    </tr>\n",
              "    <tr>\n",
              "      <th>2</th>\n",
              "      <td>0</td>\n",
              "      <td>3</td>\n",
              "      <td>5</td>\n",
              "      <td>1</td>\n",
              "      <td>0</td>\n",
              "      <td>60</td>\n",
              "      <td>0</td>\n",
              "      <td>1</td>\n",
              "      <td>72.0</td>\n",
              "      <td>71.0</td>\n",
              "      <td>...</td>\n",
              "      <td>0</td>\n",
              "      <td>0</td>\n",
              "      <td>0</td>\n",
              "      <td>0</td>\n",
              "      <td>0</td>\n",
              "      <td>0</td>\n",
              "      <td>0</td>\n",
              "      <td>1</td>\n",
              "      <td>0</td>\n",
              "      <td>0</td>\n",
              "    </tr>\n",
              "    <tr>\n",
              "      <th>3</th>\n",
              "      <td>0</td>\n",
              "      <td>1</td>\n",
              "      <td>5</td>\n",
              "      <td>0</td>\n",
              "      <td>0</td>\n",
              "      <td>60</td>\n",
              "      <td>0</td>\n",
              "      <td>1</td>\n",
              "      <td>69.0</td>\n",
              "      <td>30.0</td>\n",
              "      <td>...</td>\n",
              "      <td>0</td>\n",
              "      <td>0</td>\n",
              "      <td>0</td>\n",
              "      <td>0</td>\n",
              "      <td>0</td>\n",
              "      <td>0</td>\n",
              "      <td>0</td>\n",
              "      <td>1</td>\n",
              "      <td>0</td>\n",
              "      <td>0</td>\n",
              "    </tr>\n",
              "    <tr>\n",
              "      <th>4</th>\n",
              "      <td>1</td>\n",
              "      <td>2</td>\n",
              "      <td>3</td>\n",
              "      <td>0</td>\n",
              "      <td>0</td>\n",
              "      <td>60</td>\n",
              "      <td>0</td>\n",
              "      <td>1</td>\n",
              "      <td>70.0</td>\n",
              "      <td>65.0</td>\n",
              "      <td>...</td>\n",
              "      <td>0</td>\n",
              "      <td>0</td>\n",
              "      <td>0</td>\n",
              "      <td>0</td>\n",
              "      <td>0</td>\n",
              "      <td>0</td>\n",
              "      <td>0</td>\n",
              "      <td>1</td>\n",
              "      <td>0</td>\n",
              "      <td>0</td>\n",
              "    </tr>\n",
              "  </tbody>\n",
              "</table>\n",
              "<p>5 rows × 931 columns</p>\n",
              "</div>\n",
              "      <button class=\"colab-df-convert\" onclick=\"convertToInteractive('df-a2f4bfc1-768a-4125-b850-ec47c07bd5db')\"\n",
              "              title=\"Convert this dataframe to an interactive table.\"\n",
              "              style=\"display:none;\">\n",
              "        \n",
              "  <svg xmlns=\"http://www.w3.org/2000/svg\" height=\"24px\"viewBox=\"0 0 24 24\"\n",
              "       width=\"24px\">\n",
              "    <path d=\"M0 0h24v24H0V0z\" fill=\"none\"/>\n",
              "    <path d=\"M18.56 5.44l.94 2.06.94-2.06 2.06-.94-2.06-.94-.94-2.06-.94 2.06-2.06.94zm-11 1L8.5 8.5l.94-2.06 2.06-.94-2.06-.94L8.5 2.5l-.94 2.06-2.06.94zm10 10l.94 2.06.94-2.06 2.06-.94-2.06-.94-.94-2.06-.94 2.06-2.06.94z\"/><path d=\"M17.41 7.96l-1.37-1.37c-.4-.4-.92-.59-1.43-.59-.52 0-1.04.2-1.43.59L10.3 9.45l-7.72 7.72c-.78.78-.78 2.05 0 2.83L4 21.41c.39.39.9.59 1.41.59.51 0 1.02-.2 1.41-.59l7.78-7.78 2.81-2.81c.8-.78.8-2.07 0-2.86zM5.41 20L4 18.59l7.72-7.72 1.47 1.35L5.41 20z\"/>\n",
              "  </svg>\n",
              "      </button>\n",
              "      \n",
              "  <style>\n",
              "    .colab-df-container {\n",
              "      display:flex;\n",
              "      flex-wrap:wrap;\n",
              "      gap: 12px;\n",
              "    }\n",
              "\n",
              "    .colab-df-convert {\n",
              "      background-color: #E8F0FE;\n",
              "      border: none;\n",
              "      border-radius: 50%;\n",
              "      cursor: pointer;\n",
              "      display: none;\n",
              "      fill: #1967D2;\n",
              "      height: 32px;\n",
              "      padding: 0 0 0 0;\n",
              "      width: 32px;\n",
              "    }\n",
              "\n",
              "    .colab-df-convert:hover {\n",
              "      background-color: #E2EBFA;\n",
              "      box-shadow: 0px 1px 2px rgba(60, 64, 67, 0.3), 0px 1px 3px 1px rgba(60, 64, 67, 0.15);\n",
              "      fill: #174EA6;\n",
              "    }\n",
              "\n",
              "    [theme=dark] .colab-df-convert {\n",
              "      background-color: #3B4455;\n",
              "      fill: #D2E3FC;\n",
              "    }\n",
              "\n",
              "    [theme=dark] .colab-df-convert:hover {\n",
              "      background-color: #434B5C;\n",
              "      box-shadow: 0px 1px 3px 1px rgba(0, 0, 0, 0.15);\n",
              "      filter: drop-shadow(0px 1px 2px rgba(0, 0, 0, 0.3));\n",
              "      fill: #FFFFFF;\n",
              "    }\n",
              "  </style>\n",
              "\n",
              "      <script>\n",
              "        const buttonEl =\n",
              "          document.querySelector('#df-a2f4bfc1-768a-4125-b850-ec47c07bd5db button.colab-df-convert');\n",
              "        buttonEl.style.display =\n",
              "          google.colab.kernel.accessAllowed ? 'block' : 'none';\n",
              "\n",
              "        async function convertToInteractive(key) {\n",
              "          const element = document.querySelector('#df-a2f4bfc1-768a-4125-b850-ec47c07bd5db');\n",
              "          const dataTable =\n",
              "            await google.colab.kernel.invokeFunction('convertToInteractive',\n",
              "                                                     [key], {});\n",
              "          if (!dataTable) return;\n",
              "\n",
              "          const docLinkHtml = 'Like what you see? Visit the ' +\n",
              "            '<a target=\"_blank\" href=https://colab.research.google.com/notebooks/data_table.ipynb>data table notebook</a>'\n",
              "            + ' to learn more about interactive tables.';\n",
              "          element.innerHTML = '';\n",
              "          dataTable['output_type'] = 'display_data';\n",
              "          await google.colab.output.renderOutput(dataTable, element);\n",
              "          const docLink = document.createElement('div');\n",
              "          docLink.innerHTML = docLinkHtml;\n",
              "          element.appendChild(docLink);\n",
              "        }\n",
              "      </script>\n",
              "    </div>\n",
              "  </div>\n",
              "  "
            ]
          },
          "metadata": {},
          "execution_count": 22
        }
      ]
    },
    {
      "cell_type": "code",
      "source": [
        "df_modelo_exito['passed_course'].value_counts()"
      ],
      "metadata": {
        "colab": {
          "base_uri": "https://localhost:8080/"
        },
        "id": "ynTxOgDy917m",
        "outputId": "ef6da7a6-1309-45d5-e696-fc579d88c7bd"
      },
      "execution_count": 23,
      "outputs": [
        {
          "output_type": "execute_result",
          "data": {
            "text/plain": [
              "1    9720\n",
              "0    3017\n",
              "Name: passed_course, dtype: int64"
            ]
          },
          "metadata": {},
          "execution_count": 23
        }
      ]
    },
    {
      "cell_type": "code",
      "source": [
        "df_modelo_exito.info()\n",
        "#Se observa que todos los dato son numéricos, por lo que no se requiere de un onehotencoder para la transformación, podría ser un min/max, más aún sabiendo que la salida es binaria"
      ],
      "metadata": {
        "colab": {
          "base_uri": "https://localhost:8080/"
        },
        "id": "HWhcFt8I9jG7",
        "outputId": "4eadf9e9-3f06-4159-eb5f-36c8f9baba90"
      },
      "execution_count": 24,
      "outputs": [
        {
          "output_type": "stream",
          "name": "stdout",
          "text": [
            "<class 'pandas.core.frame.DataFrame'>\n",
            "RangeIndex: 12737 entries, 0 to 12736\n",
            "Columns: 931 entries, gender to presentation_2014J\n",
            "dtypes: float64(910), int64(21)\n",
            "memory usage: 90.5 MB\n"
          ]
        }
      ]
    },
    {
      "cell_type": "markdown",
      "source": [
        "###**2) Importar las librerías necesarias para PCA**"
      ],
      "metadata": {
        "id": "KiZ1j-20_JW-"
      }
    },
    {
      "cell_type": "code",
      "source": [
        "from sklearn.preprocessing import StandardScaler, MinMaxScaler\n",
        "from sklearn.model_selection import train_test_split\n",
        "from sklearn.pipeline import  make_pipeline\n",
        "from sklearn.decomposition import PCA"
      ],
      "metadata": {
        "id": "zQjzMvNn_NaT"
      },
      "execution_count": 25,
      "outputs": []
    },
    {
      "cell_type": "markdown",
      "source": [
        "###**3) Dividir los datos**"
      ],
      "metadata": {
        "id": "2h_-Rt5L_lwb"
      }
    },
    {
      "cell_type": "code",
      "source": [
        "X = df_modelo_exito.drop(columns='passed_course')\n",
        "y= df_modelo_exito['passed_course']\n",
        "X_train,X_test, y_train, y_test = train_test_split(X,y,random_state=42, stratify=y)"
      ],
      "metadata": {
        "id": "Qsjq_6Ns_kz_"
      },
      "execution_count": 187,
      "outputs": []
    },
    {
      "cell_type": "code",
      "source": [
        "# Instanciar Escalador Estándar\n",
        "scaler = MinMaxScaler()\n",
        "# Ajustar y transformar datos\n",
        "X_train = scaler.fit_transform(X_train)\n",
        "X_test = scaler.transform(X_test)"
      ],
      "metadata": {
        "id": "6N8pUapnAENU"
      },
      "execution_count": 188,
      "outputs": []
    },
    {
      "cell_type": "markdown",
      "source": [
        "###**4) Aplicar PCA**"
      ],
      "metadata": {
        "id": "tSnQcm-QDJ-l"
      }
    },
    {
      "cell_type": "code",
      "source": [
        "pca = PCA(n_components=0.97) #El PCA se elige por la variabilidad que se pretender explicar con las columnas que queden\n",
        "X_train_pca = pca.fit_transform(X_train)\n",
        "X_test_pca = pca.transform(X_test)"
      ],
      "metadata": {
        "id": "5-e4o7zFA_D0"
      },
      "execution_count": 254,
      "outputs": []
    },
    {
      "cell_type": "markdown",
      "source": [
        "**Validación del número de columnas antes y después**"
      ],
      "metadata": {
        "id": "xYO9RR0nC--_"
      }
    },
    {
      "cell_type": "code",
      "source": [
        "print(f'Número de columnas X entrenamiento sin PCA: {X_train.shape[1]}')\n",
        "print(f'Número de columnas X entrenamiento CON PCA: {X_train_pca.shape[1]}')"
      ],
      "metadata": {
        "colab": {
          "base_uri": "https://localhost:8080/"
        },
        "id": "bEG7U3xwCe9_",
        "outputId": "ad1ca8f0-91db-4356-9b0b-592c120e8a0b"
      },
      "execution_count": 255,
      "outputs": [
        {
          "output_type": "stream",
          "name": "stdout",
          "text": [
            "Número de columnas X entrenamiento sin PCA: 930\n",
            "Número de columnas X entrenamiento CON PCA: 332\n"
          ]
        }
      ]
    },
    {
      "cell_type": "markdown",
      "source": [
        "###**5) Crear modelo de clasificación binaria para predecir**"
      ],
      "metadata": {
        "id": "z_31OBHmDNzS"
      }
    },
    {
      "cell_type": "markdown",
      "source": [
        "**Importar las librerías necesarias para el modelo de deep learning**"
      ],
      "metadata": {
        "id": "WnL_ai3eDX_y"
      }
    },
    {
      "cell_type": "code",
      "source": [
        "from tensorflow.keras.models import Sequential\n",
        "from tensorflow.keras.layers import Dense, Dropout\n",
        "from tensorflow.keras.callbacks import EarlyStopping"
      ],
      "metadata": {
        "id": "ihJ37w5xDWbT"
      },
      "execution_count": 256,
      "outputs": []
    },
    {
      "cell_type": "code",
      "source": [
        "input_shape = X_train_pca.shape[1]\n",
        "input_shape"
      ],
      "metadata": {
        "colab": {
          "base_uri": "https://localhost:8080/"
        },
        "id": "fLWXNSSCErvv",
        "outputId": "d634fc80-f64a-44cc-d483-7625bdcd251f"
      },
      "execution_count": 257,
      "outputs": [
        {
          "output_type": "execute_result",
          "data": {
            "text/plain": [
              "332"
            ]
          },
          "metadata": {},
          "execution_count": 257
        }
      ]
    },
    {
      "cell_type": "markdown",
      "source": [
        "####**MODELO 1**"
      ],
      "metadata": {
        "id": "K-qpeiPBFqD4"
      }
    },
    {
      "cell_type": "code",
      "source": [
        "model = Sequential()\n",
        "# Primera capa oculta\n",
        "model.add(Dense(32, \n",
        "                input_dim = input_shape,\n",
        "                activation = 'relu'))\n",
        "model.add(Dense(16, \n",
        "                activation = 'relu'))\n",
        "model.add(Dense(1, activation = 'sigmoid'))\n",
        "model.compile(loss = 'bce', optimizer = 'adam', metrics=['accuracy','AUC','Precision','Recall'])\n",
        "proceso = model.fit(X_train_pca, y_train,\n",
        "                    validation_data = (X_test_pca, y_test), \n",
        "                    epochs=20)"
      ],
      "metadata": {
        "colab": {
          "base_uri": "https://localhost:8080/"
        },
        "id": "ZVgwkpOnEmcY",
        "outputId": "a5baab9f-c20a-4ba6-c0a5-3bc3367f880a"
      },
      "execution_count": 258,
      "outputs": [
        {
          "output_type": "stream",
          "name": "stdout",
          "text": [
            "Epoch 1/20\n",
            "299/299 [==============================] - 3s 7ms/step - loss: 0.4340 - accuracy: 0.8121 - auc: 0.8080 - precision: 0.8249 - recall: 0.9569 - val_loss: 0.3336 - val_accuracy: 0.8675 - val_auc: 0.8887 - val_precision: 0.8865 - val_recall: 0.9478\n",
            "Epoch 2/20\n",
            "299/299 [==============================] - 2s 5ms/step - loss: 0.3003 - accuracy: 0.8800 - auc: 0.9083 - precision: 0.8962 - recall: 0.9532 - val_loss: 0.3180 - val_accuracy: 0.8703 - val_auc: 0.8937 - val_precision: 0.8782 - val_recall: 0.9638\n",
            "Epoch 3/20\n",
            "299/299 [==============================] - 2s 7ms/step - loss: 0.2724 - accuracy: 0.8925 - auc: 0.9243 - precision: 0.9054 - recall: 0.9594 - val_loss: 0.3176 - val_accuracy: 0.8747 - val_auc: 0.8921 - val_precision: 0.8950 - val_recall: 0.9469\n",
            "Epoch 4/20\n",
            "299/299 [==============================] - 2s 6ms/step - loss: 0.2527 - accuracy: 0.9002 - auc: 0.9355 - precision: 0.9131 - recall: 0.9606 - val_loss: 0.3214 - val_accuracy: 0.8732 - val_auc: 0.8899 - val_precision: 0.8951 - val_recall: 0.9445\n",
            "Epoch 5/20\n",
            "299/299 [==============================] - 2s 5ms/step - loss: 0.2369 - accuracy: 0.9066 - auc: 0.9436 - precision: 0.9188 - recall: 0.9627 - val_loss: 0.3292 - val_accuracy: 0.8713 - val_auc: 0.8878 - val_precision: 0.8858 - val_recall: 0.9543\n",
            "Epoch 6/20\n",
            "299/299 [==============================] - 2s 6ms/step - loss: 0.2197 - accuracy: 0.9146 - auc: 0.9517 - precision: 0.9245 - recall: 0.9671 - val_loss: 0.3347 - val_accuracy: 0.8700 - val_auc: 0.8870 - val_precision: 0.8941 - val_recall: 0.9412\n",
            "Epoch 7/20\n",
            "299/299 [==============================] - 2s 5ms/step - loss: 0.2044 - accuracy: 0.9217 - auc: 0.9586 - precision: 0.9306 - recall: 0.9697 - val_loss: 0.3421 - val_accuracy: 0.8700 - val_auc: 0.8853 - val_precision: 0.9010 - val_recall: 0.9321\n",
            "Epoch 8/20\n",
            "299/299 [==============================] - 2s 5ms/step - loss: 0.1882 - accuracy: 0.9301 - auc: 0.9648 - precision: 0.9383 - recall: 0.9723 - val_loss: 0.3497 - val_accuracy: 0.8697 - val_auc: 0.8823 - val_precision: 0.8975 - val_recall: 0.9362\n",
            "Epoch 9/20\n",
            "299/299 [==============================] - 2s 5ms/step - loss: 0.1720 - accuracy: 0.9349 - auc: 0.9710 - precision: 0.9423 - recall: 0.9743 - val_loss: 0.3665 - val_accuracy: 0.8691 - val_auc: 0.8793 - val_precision: 0.8927 - val_recall: 0.9416\n",
            "Epoch 10/20\n",
            "299/299 [==============================] - 2s 8ms/step - loss: 0.1580 - accuracy: 0.9406 - auc: 0.9753 - precision: 0.9463 - recall: 0.9776 - val_loss: 0.3749 - val_accuracy: 0.8678 - val_auc: 0.8798 - val_precision: 0.8972 - val_recall: 0.9338\n",
            "Epoch 11/20\n",
            "299/299 [==============================] - 3s 10ms/step - loss: 0.1426 - accuracy: 0.9497 - auc: 0.9802 - precision: 0.9555 - recall: 0.9798 - val_loss: 0.4016 - val_accuracy: 0.8619 - val_auc: 0.8717 - val_precision: 0.8955 - val_recall: 0.9272\n",
            "Epoch 12/20\n",
            "299/299 [==============================] - 2s 8ms/step - loss: 0.1284 - accuracy: 0.9560 - auc: 0.9841 - precision: 0.9605 - recall: 0.9829 - val_loss: 0.4153 - val_accuracy: 0.8628 - val_auc: 0.8735 - val_precision: 0.8928 - val_recall: 0.9321\n",
            "Epoch 13/20\n",
            "299/299 [==============================] - 2s 5ms/step - loss: 0.1150 - accuracy: 0.9605 - auc: 0.9875 - precision: 0.9656 - recall: 0.9833 - val_loss: 0.4399 - val_accuracy: 0.8581 - val_auc: 0.8678 - val_precision: 0.8903 - val_recall: 0.9284\n",
            "Epoch 14/20\n",
            "299/299 [==============================] - 2s 5ms/step - loss: 0.1045 - accuracy: 0.9642 - auc: 0.9897 - precision: 0.9687 - recall: 0.9849 - val_loss: 0.4700 - val_accuracy: 0.8477 - val_auc: 0.8656 - val_precision: 0.8955 - val_recall: 0.9062\n",
            "Epoch 15/20\n",
            "299/299 [==============================] - 2s 5ms/step - loss: 0.0926 - accuracy: 0.9690 - auc: 0.9919 - precision: 0.9722 - recall: 0.9877 - val_loss: 0.4904 - val_accuracy: 0.8628 - val_auc: 0.8634 - val_precision: 0.8913 - val_recall: 0.9342\n",
            "Epoch 16/20\n",
            "299/299 [==============================] - 2s 5ms/step - loss: 0.0816 - accuracy: 0.9741 - auc: 0.9941 - precision: 0.9770 - recall: 0.9894 - val_loss: 0.5182 - val_accuracy: 0.8515 - val_auc: 0.8643 - val_precision: 0.8944 - val_recall: 0.9132\n",
            "Epoch 17/20\n",
            "299/299 [==============================] - 2s 5ms/step - loss: 0.0717 - accuracy: 0.9756 - auc: 0.9953 - precision: 0.9784 - recall: 0.9898 - val_loss: 0.5373 - val_accuracy: 0.8521 - val_auc: 0.8632 - val_precision: 0.8923 - val_recall: 0.9169\n",
            "Epoch 18/20\n",
            "299/299 [==============================] - 2s 5ms/step - loss: 0.0622 - accuracy: 0.9812 - auc: 0.9966 - precision: 0.9831 - recall: 0.9923 - val_loss: 0.5798 - val_accuracy: 0.8427 - val_auc: 0.8614 - val_precision: 0.8965 - val_recall: 0.8976\n",
            "Epoch 19/20\n",
            "299/299 [==============================] - 2s 5ms/step - loss: 0.0557 - accuracy: 0.9829 - auc: 0.9972 - precision: 0.9850 - recall: 0.9927 - val_loss: 0.6227 - val_accuracy: 0.8499 - val_auc: 0.8496 - val_precision: 0.8858 - val_recall: 0.9223\n",
            "Epoch 20/20\n",
            "299/299 [==============================] - 2s 5ms/step - loss: 0.0478 - accuracy: 0.9864 - auc: 0.9983 - precision: 0.9880 - recall: 0.9942 - val_loss: 0.6594 - val_accuracy: 0.8427 - val_auc: 0.8522 - val_precision: 0.8923 - val_recall: 0.9029\n"
          ]
        }
      ]
    },
    {
      "cell_type": "markdown",
      "source": [
        "**Validación de la pérdida**"
      ],
      "metadata": {
        "id": "SU7QBZL6Fh0Z"
      }
    },
    {
      "cell_type": "code",
      "source": [
        "plt.plot(proceso.history['loss'], label='Train loss')\n",
        "plt.plot(proceso.history['val_loss'], label='Test loss')\n",
        "plt.legend();"
      ],
      "metadata": {
        "colab": {
          "base_uri": "https://localhost:8080/",
          "height": 265
        },
        "id": "0cdZcFvAFubi",
        "outputId": "e4c1473c-8794-46f8-8d4e-42b47a1c9a19"
      },
      "execution_count": 259,
      "outputs": [
        {
          "output_type": "display_data",
          "data": {
            "text/plain": [
              "<Figure size 432x288 with 1 Axes>"
            ],
            "image/png": "[encoded data removed]"
          },
          "metadata": {
            "needs_background": "light"
          }
        }
      ]
    },
    {
      "cell_type": "code",
      "source": [
        "plt.plot(proceso.history['accuracy'], label='Train accuracy')\n",
        "plt.plot(proceso.history['val_accuracy'], label='Test accuracy')\n",
        "plt.legend();"
      ],
      "metadata": {
        "colab": {
          "base_uri": "https://localhost:8080/",
          "height": 265
        },
        "id": "mg_VFnGGLSlm",
        "outputId": "697541d1-ed60-4a8b-876b-e970f727dc9a"
      },
      "execution_count": 260,
      "outputs": [
        {
          "output_type": "display_data",
          "data": {
            "text/plain": [
              "<Figure size 432x288 with 1 Axes>"
            ],
            "image/png": "[encoded data removed]"
          },
          "metadata": {
            "needs_background": "light"
          }
        }
      ]
    },
    {
      "cell_type": "code",
      "source": [
        "score = model.evaluate(X_test_pca, y_test)\n",
        "print('Val accuracy:', score[1])"
      ],
      "metadata": {
        "colab": {
          "base_uri": "https://localhost:8080/"
        },
        "id": "Ee-X5wk9POFQ",
        "outputId": "b5833d3b-08df-45d9-95c6-67bcb8a32442"
      },
      "execution_count": 261,
      "outputs": [
        {
          "output_type": "stream",
          "name": "stdout",
          "text": [
            "100/100 [==============================] - 0s 3ms/step - loss: 0.6594 - accuracy: 0.8427 - auc: 0.8522 - precision: 0.8923 - recall: 0.9029\n",
            "Val accuracy: 0.842700183391571\n"
          ]
        }
      ]
    },
    {
      "cell_type": "markdown",
      "source": [
        "####**MODELO 2**"
      ],
      "metadata": {
        "id": "fETMvmesLdnA"
      }
    },
    {
      "cell_type": "markdown",
      "source": [
        "El primer modelo sufría de sobre ajuste en el entrenamiento, pero una valor de preducción relativamente malo"
      ],
      "metadata": {
        "id": "CeHiWv9sLhKK"
      }
    },
    {
      "cell_type": "code",
      "source": [
        "model = Sequential()\n",
        "# Primera capa oculta\n",
        "model.add(Dense(32, \n",
        "                input_dim = input_shape,\n",
        "                activation = 'relu'))\n",
        "#Se agrega un Droout para prevenir el sobre ajuste en el entrenamiento\n",
        "model.add(Dropout(0.2))\n",
        "#Se agrega una capa adicional para validar si es posible aumentar la exactitud del modelo\n",
        "model.add(Dense(16, \n",
        "                activation = 'relu'))\n",
        "#Se agrega un Droout para prevenir el sobre ajuste en el entrenamiento\n",
        "model.add(Dropout(0.2))\n",
        "model.add(Dense(16, \n",
        "                activation = 'relu'))\n",
        "model.add(Dense(1, activation = 'sigmoid'))\n",
        "model.compile(loss = 'bce', optimizer = 'adam', metrics=['accuracy','AUC','Precision','Recall'])\n",
        "proceso = model.fit(X_train_pca, y_train,\n",
        "                    validation_data = (X_test_pca, y_test), \n",
        "                    epochs=10) #Se cambia el número de épocas para reducir el sobreajuste"
      ],
      "metadata": {
        "colab": {
          "base_uri": "https://localhost:8080/"
        },
        "outputId": "767787aa-23a4-4b5e-a5e6-ec3ddd69e853",
        "id": "MAqpsJzaLdnA"
      },
      "execution_count": 262,
      "outputs": [
        {
          "output_type": "stream",
          "name": "stdout",
          "text": [
            "Epoch 1/10\n",
            "299/299 [==============================] - 3s 7ms/step - loss: 0.4932 - accuracy: 0.7547 - auc: 0.7167 - precision: 0.7823 - recall: 0.9402 - val_loss: 0.3603 - val_accuracy: 0.8631 - val_auc: 0.8803 - val_precision: 0.8735 - val_recall: 0.9597\n",
            "Epoch 2/10\n",
            "299/299 [==============================] - 2s 6ms/step - loss: 0.3401 - accuracy: 0.8626 - auc: 0.8859 - precision: 0.8786 - recall: 0.9514 - val_loss: 0.3256 - val_accuracy: 0.8662 - val_auc: 0.8913 - val_precision: 0.8881 - val_recall: 0.9436\n",
            "Epoch 3/10\n",
            "299/299 [==============================] - 2s 5ms/step - loss: 0.3028 - accuracy: 0.8818 - auc: 0.9075 - precision: 0.8962 - recall: 0.9558 - val_loss: 0.3184 - val_accuracy: 0.8728 - val_auc: 0.8923 - val_precision: 0.8893 - val_recall: 0.9519\n",
            "Epoch 4/10\n",
            "299/299 [==============================] - 2s 6ms/step - loss: 0.2815 - accuracy: 0.8932 - auc: 0.9199 - precision: 0.9071 - recall: 0.9582 - val_loss: 0.3204 - val_accuracy: 0.8722 - val_auc: 0.8916 - val_precision: 0.8966 - val_recall: 0.9412\n",
            "Epoch 5/10\n",
            "299/299 [==============================] - 2s 5ms/step - loss: 0.2617 - accuracy: 0.9004 - auc: 0.9305 - precision: 0.9147 - recall: 0.9590 - val_loss: 0.3258 - val_accuracy: 0.8750 - val_auc: 0.8869 - val_precision: 0.8875 - val_recall: 0.9576\n",
            "Epoch 6/10\n",
            "299/299 [==============================] - 2s 5ms/step - loss: 0.2467 - accuracy: 0.9054 - auc: 0.9384 - precision: 0.9179 - recall: 0.9620 - val_loss: 0.3368 - val_accuracy: 0.8619 - val_auc: 0.8865 - val_precision: 0.8943 - val_recall: 0.9288\n",
            "Epoch 7/10\n",
            "299/299 [==============================] - 2s 5ms/step - loss: 0.2329 - accuracy: 0.9109 - auc: 0.9440 - precision: 0.9234 - recall: 0.9631 - val_loss: 0.3392 - val_accuracy: 0.8754 - val_auc: 0.8848 - val_precision: 0.8855 - val_recall: 0.9609\n",
            "Epoch 8/10\n",
            "299/299 [==============================] - 2s 6ms/step - loss: 0.2195 - accuracy: 0.9180 - auc: 0.9502 - precision: 0.9295 - recall: 0.9658 - val_loss: 0.3485 - val_accuracy: 0.8669 - val_auc: 0.8834 - val_precision: 0.8915 - val_recall: 0.9399\n",
            "Epoch 9/10\n",
            "299/299 [==============================] - 2s 6ms/step - loss: 0.2060 - accuracy: 0.9248 - auc: 0.9552 - precision: 0.9348 - recall: 0.9691 - val_loss: 0.3525 - val_accuracy: 0.8706 - val_auc: 0.8846 - val_precision: 0.8872 - val_recall: 0.9515\n",
            "Epoch 10/10\n",
            "299/299 [==============================] - 2s 6ms/step - loss: 0.1995 - accuracy: 0.9257 - auc: 0.9581 - precision: 0.9344 - recall: 0.9708 - val_loss: 0.3751 - val_accuracy: 0.8659 - val_auc: 0.8784 - val_precision: 0.8923 - val_recall: 0.9375\n"
          ]
        }
      ]
    },
    {
      "cell_type": "markdown",
      "source": [
        "**Validación de la pérdida**"
      ],
      "metadata": {
        "id": "nGySPP7GLdnB"
      }
    },
    {
      "cell_type": "code",
      "source": [
        "plt.plot(proceso.history['loss'], label='Train loss')\n",
        "plt.plot(proceso.history['val_loss'], label='Test loss')\n",
        "plt.legend();"
      ],
      "metadata": {
        "colab": {
          "base_uri": "https://localhost:8080/",
          "height": 265
        },
        "outputId": "acea2faf-baeb-45f9-bcff-660b8a503409",
        "id": "VmGyzXoFLdnB"
      },
      "execution_count": 263,
      "outputs": [
        {
          "output_type": "display_data",
          "data": {
            "text/plain": [
              "<Figure size 432x288 with 1 Axes>"
            ],
            "image/png": "[encoded data removed]"
          },
          "metadata": {
            "needs_background": "light"
          }
        }
      ]
    },
    {
      "cell_type": "code",
      "source": [
        "plt.plot(proceso.history['accuracy'], label='Train accuracy')\n",
        "plt.plot(proceso.history['val_accuracy'], label='Test accuracy')\n",
        "plt.legend();"
      ],
      "metadata": {
        "colab": {
          "base_uri": "https://localhost:8080/",
          "height": 265
        },
        "outputId": "81233387-1b36-4425-e262-feafb8060bd5",
        "id": "63xS4iL1LdnC"
      },
      "execution_count": 264,
      "outputs": [
        {
          "output_type": "display_data",
          "data": {
            "text/plain": [
              "<Figure size 432x288 with 1 Axes>"
            ],
            "image/png": "[encoded data removed]"
          },
          "metadata": {
            "needs_background": "light"
          }
        }
      ]
    },
    {
      "cell_type": "code",
      "source": [
        "score = model.evaluate(X_test_pca, y_test)\n",
        "print('Val accuracy:', score[1])"
      ],
      "metadata": {
        "colab": {
          "base_uri": "https://localhost:8080/"
        },
        "id": "dhCajoLAPFol",
        "outputId": "39ba5299-1ed7-4528-e75c-012f1d36b2e1"
      },
      "execution_count": 265,
      "outputs": [
        {
          "output_type": "stream",
          "name": "stdout",
          "text": [
            "100/100 [==============================] - 0s 4ms/step - loss: 0.3751 - accuracy: 0.8659 - auc: 0.8784 - precision: 0.8923 - recall: 0.9375\n",
            "Val accuracy: 0.8659340739250183\n"
          ]
        }
      ]
    },
    {
      "cell_type": "markdown",
      "source": [
        "####**MODELO 3**"
      ],
      "metadata": {
        "id": "f03_H5KWQK3J"
      }
    },
    {
      "cell_type": "markdown",
      "source": [
        "El modelo sigue teniendo un bajo desempeño, por ello se van aumetar el número de neuronas en las primeras capas"
      ],
      "metadata": {
        "id": "eXlC7ZzBQK3Q"
      }
    },
    {
      "cell_type": "code",
      "source": [
        "model = Sequential()\n",
        "# Primera capa oculta\n",
        "model.add(Dense(32, \n",
        "                input_dim = input_shape,\n",
        "                activation = 'relu'))\n",
        "#Se agrega un Droout para prevenir el sobre ajuste en el entrenamiento\n",
        "model.add(Dropout(0.3))\n",
        "#Se agrega una capa adicional para validar si es posible aumentar la exactitud del modelo\n",
        "model.add(Dense(16, \n",
        "                activation = 'relu'))\n",
        "#Se agrega un Droout para prevenir el sobre ajuste en el entrenamiento\n",
        "model.add(Dropout(0.2))\n",
        "model.add(Dense(16, \n",
        "                activation = 'relu'))\n",
        "#Se agrega un Droout para prevenir el sobre ajuste en el entrenamiento\n",
        "model.add(Dropout(0.2))\n",
        "model.add(Dense(16, \n",
        "                activation = 'relu'))\n",
        "model.add(Dense(1, activation = 'sigmoid'))\n",
        "early_stopping = EarlyStopping(patience=2) #Se tenía un early stopping de 5 y se obtenía un menor desempeño, se reduce a 4, esto dado que la pérdida aumenta rápidamente\n",
        "model.compile(loss = 'bce', optimizer = 'adam', metrics=['accuracy','AUC','Precision','Recall'])\n",
        "proceso = model.fit(X_train_pca, y_train,\n",
        "                    validation_data = (X_test_pca, y_test), \n",
        "                    epochs=20,\n",
        "                    callbacks = [early_stopping]) #Se agrega una parada"
      ],
      "metadata": {
        "colab": {
          "base_uri": "https://localhost:8080/"
        },
        "outputId": "32583e29-6fd2-41e0-d6e9-eec40d713d96",
        "id": "WiFJvfcdQK3Q"
      },
      "execution_count": 278,
      "outputs": [
        {
          "output_type": "stream",
          "name": "stdout",
          "text": [
            "Epoch 1/20\n",
            "299/299 [==============================] - 4s 9ms/step - loss: 0.4743 - accuracy: 0.7835 - auc: 0.7517 - precision: 0.7929 - recall: 0.9695 - val_loss: 0.3494 - val_accuracy: 0.8597 - val_auc: 0.8881 - val_precision: 0.8729 - val_recall: 0.9552\n",
            "Epoch 2/20\n",
            "299/299 [==============================] - 2s 6ms/step - loss: 0.3470 - accuracy: 0.8644 - auc: 0.8797 - precision: 0.8856 - recall: 0.9443 - val_loss: 0.3238 - val_accuracy: 0.8725 - val_auc: 0.8971 - val_precision: 0.8831 - val_recall: 0.9601\n",
            "Epoch 3/20\n",
            "299/299 [==============================] - 2s 6ms/step - loss: 0.3128 - accuracy: 0.8785 - auc: 0.8998 - precision: 0.8935 - recall: 0.9545 - val_loss: 0.3171 - val_accuracy: 0.8703 - val_auc: 0.8980 - val_precision: 0.8816 - val_recall: 0.9589\n",
            "Epoch 4/20\n",
            "299/299 [==============================] - 2s 6ms/step - loss: 0.2985 - accuracy: 0.8866 - auc: 0.9103 - precision: 0.9000 - recall: 0.9579 - val_loss: 0.3120 - val_accuracy: 0.8763 - val_auc: 0.8978 - val_precision: 0.8895 - val_recall: 0.9568\n",
            "Epoch 5/20\n",
            "299/299 [==============================] - 2s 6ms/step - loss: 0.2837 - accuracy: 0.8920 - auc: 0.9183 - precision: 0.9052 - recall: 0.9588 - val_loss: 0.3148 - val_accuracy: 0.8747 - val_auc: 0.8963 - val_precision: 0.8881 - val_recall: 0.9564\n",
            "Epoch 6/20\n",
            "299/299 [==============================] - 2s 6ms/step - loss: 0.2677 - accuracy: 0.8987 - auc: 0.9272 - precision: 0.9102 - recall: 0.9621 - val_loss: 0.3161 - val_accuracy: 0.8782 - val_auc: 0.8954 - val_precision: 0.8995 - val_recall: 0.9461\n"
          ]
        }
      ]
    },
    {
      "cell_type": "markdown",
      "source": [
        "**Validación de la pérdida**"
      ],
      "metadata": {
        "id": "y4_qK1wnQK3R"
      }
    },
    {
      "cell_type": "code",
      "source": [
        "plt.plot(proceso.history['loss'], label='Train loss')\n",
        "plt.plot(proceso.history['val_loss'], label='Test loss')\n",
        "plt.legend();"
      ],
      "metadata": {
        "colab": {
          "base_uri": "https://localhost:8080/",
          "height": 265
        },
        "outputId": "c8f014dc-79d6-4f35-96c6-e49c69a7068c",
        "id": "m0ZqiMH8QK3R"
      },
      "execution_count": 279,
      "outputs": [
        {
          "output_type": "display_data",
          "data": {
            "text/plain": [
              "<Figure size 432x288 with 1 Axes>"
            ],
            "image/png": "[encoded data removed]"
          },
          "metadata": {
            "needs_background": "light"
          }
        }
      ]
    },
    {
      "cell_type": "code",
      "source": [
        "plt.plot(proceso.history['accuracy'], label='Train accuracy')\n",
        "plt.plot(proceso.history['val_accuracy'], label='Test accuracy')\n",
        "plt.legend();"
      ],
      "metadata": {
        "colab": {
          "base_uri": "https://localhost:8080/",
          "height": 265
        },
        "outputId": "d526dc54-2f43-4099-a985-a1d0b9681de6",
        "id": "jWJ6YmikQK3R"
      },
      "execution_count": 280,
      "outputs": [
        {
          "output_type": "display_data",
          "data": {
            "text/plain": [
              "<Figure size 432x288 with 1 Axes>"
            ],
            "image/png": "[encoded data removed]"
          },
          "metadata": {
            "needs_background": "light"
          }
        }
      ]
    },
    {
      "cell_type": "code",
      "source": [
        "score = model.evaluate(X_test_pca, y_test)\n",
        "print('Val accuracy:', score[1])"
      ],
      "metadata": {
        "colab": {
          "base_uri": "https://localhost:8080/"
        },
        "outputId": "79d4fd22-c3ab-44c6-ddf0-d3848434f275",
        "id": "I_A1YfJuQK3R"
      },
      "execution_count": 281,
      "outputs": [
        {
          "output_type": "stream",
          "name": "stdout",
          "text": [
            "100/100 [==============================] - 0s 4ms/step - loss: 0.3161 - accuracy: 0.8782 - auc: 0.8954 - precision: 0.8995 - recall: 0.9461\n",
            "Val accuracy: 0.8781789541244507\n"
          ]
        }
      ]
    },
    {
      "cell_type": "markdown",
      "source": [
        "###**ELECCIÓN DEL MODELO FINAL**"
      ],
      "metadata": {
        "id": "lwFnX7_RTxnm"
      }
    },
    {
      "cell_type": "markdown",
      "source": [
        "El modelo a elegir sería el 3, luego de correrlo varias veces el que único que en la mayoría de las veces alcanza un accuracy superior al 86.5%; por otro lado, presenta la menor pérdida y menor sobre ajuste.\n",
        "\n",
        "Con relación a las métricas adicionales el modelo 3 tiene el mayor AUC, indicando que la mayoría de las veces se hace la clasificación de forma correcta, reduciendo la posibilidad de falsos negativo o falsos positivos.\n",
        "\n",
        "Por otro lado, el último modelo tiene una regilarización de early stopping, ello mejora el tiempo de entrenamiento en comparación a los demás modelos.\n",
        "\n",
        "Dentro de los tres modelos el modelo 3 es el que tiene mejor precisión (menor cantidad de falsos positivos) y sensibilidad (menor cantidad de falsos negativos)\n"
      ],
      "metadata": {
        "id": "3fP4V_uuUI5c"
      }
    }
  ]
}