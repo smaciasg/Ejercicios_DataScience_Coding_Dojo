{
  "nbformat": 4,
  "nbformat_minor": 0,
  "metadata": {
    "colab": {
      "provenance": [],
      "collapsed_sections": [],
      "mount_file_id": "1b9QCHLKoPddaQ_XTaTmhwAQhkUYiUNXQ",
      "authorship_tag": "ABX9TyO0Vlx7GAKNvWtrm3c1OVNQ",
      "include_colab_link": true
    },
    "kernelspec": {
      "name": "python3",
      "display_name": "Python 3"
    },
    "language_info": {
      "name": "python"
    }
  },
  "cells": [
    {
      "cell_type": "markdown",
      "metadata": {
        "id": "view-in-github",
        "colab_type": "text"
      },
      "source": [
        "<a href=\"https://colab.research.google.com/github/smaciasg/Ejercicios_DataScience_Coding_Dojo/blob/main/%C2%BFRegresi%C3%B3n_log%C3%ADstica%2C_bosque_aleatorio_o_KNN%3F_(base).ipynb\" target=\"_parent\"><img src=\"https://colab.research.google.com/assets/colab-badge.svg\" alt=\"Open In Colab\"/></a>"
      ]
    },
    {
      "cell_type": "markdown",
      "source": [
        "**OBJETIVO:**  predecir el tipo de uva basándose en sus características"
      ],
      "metadata": {
        "id": "Huip_SBLP5ry"
      }
    },
    {
      "cell_type": "markdown",
      "source": [
        "###**1) Importar las librerías necesarias**"
      ],
      "metadata": {
        "id": "Ild9jULoOk5A"
      }
    },
    {
      "cell_type": "code",
      "execution_count": 151,
      "metadata": {
        "id": "JZZtwj2ALkE8"
      },
      "outputs": [],
      "source": [
        "import pandas as pd\n",
        "import numpy as np\n",
        "import matplotlib.pyplot as plt\n",
        "#Librerías para preprocesamiento\n",
        "import sklearn\n",
        "from sklearn.compose import make_column_selector, make_column_transformer\n",
        "from sklearn.preprocessing import StandardScaler, OneHotEncoder\n",
        "from sklearn.pipeline import make_pipeline\n",
        "#Librerías para modelos de selección\n",
        "from sklearn.model_selection import train_test_split\n",
        "#Librería para el modelos\n",
        "from sklearn.tree import DecisionTreeClassifier\n",
        "from sklearn.neighbors import KNeighborsClassifier\n",
        "from sklearn.linear_model import LinearRegression, LogisticRegression\n",
        "from sklearn.ensemble import RandomForestClassifier\n",
        "#Librería para las métricas\n",
        "from sklearn.metrics import accuracy_score\n",
        "from sklearn.metrics import classification_report, plot_confusion_matrix\n",
        "#Para optimizar\n",
        "from sklearn.model_selection import GridSearchCV"
      ]
    },
    {
      "cell_type": "markdown",
      "source": [
        "###**2) Cargar los datos y explorar**"
      ],
      "metadata": {
        "id": "Sd9zzU2JOrzq"
      }
    },
    {
      "cell_type": "code",
      "source": [
        "wine = pd.read_csv('/content/drive/MyDrive/CODING DOJO/DATA SCIENCE/ACTIVIDADES SEMANA 7 - MODELOS DE PREDICCIÓN CLASIFICACIÓN/Wine_cultivars.csv')\n",
        "wine.head()"
      ],
      "metadata": {
        "colab": {
          "base_uri": "https://localhost:8080/",
          "height": 267
        },
        "id": "4EAL3STYOvfA",
        "outputId": "fa373a74-047b-4f83-a0ab-ab1a0c0d4f06"
      },
      "execution_count": 152,
      "outputs": [
        {
          "output_type": "execute_result",
          "data": {
            "text/plain": [
              "   Class label  Alcohol  Malic Acid   Ash  Alcalinity of ash  Magnesium  \\\n",
              "0            1    14.23        1.71  2.43               15.6        127   \n",
              "1            1    13.20        1.78  2.14               11.2        100   \n",
              "2            1    13.16        2.36  2.67               18.6        101   \n",
              "3            1    14.37        1.95  2.50               16.8        113   \n",
              "4            1    13.24        2.59  2.87               21.0        118   \n",
              "\n",
              "   Total phenols  Flavanoids  Nonflavonid phenols  Proanthocyanins  \\\n",
              "0           2.80        3.06                 0.28             2.29   \n",
              "1           2.65        2.76                 0.26             1.28   \n",
              "2           2.80        3.24                 0.30             2.81   \n",
              "3           3.85        3.49                 0.24             2.18   \n",
              "4           2.80        2.69                 0.39             1.82   \n",
              "\n",
              "   Color intensity   Hue  OD280/OD315 of diluted wines  Proline  \n",
              "0             5.64  1.04                          3.92     1065  \n",
              "1             4.38  1.05                          3.40     1050  \n",
              "2             5.68  1.03                          3.17     1185  \n",
              "3             7.80  0.86                          3.45     1480  \n",
              "4             4.32  1.04                          2.93      735  "
            ],
            "text/html": [
              "\n",
              "  <div id=\"df-0e6fa845-a7f7-4171-9562-e220e8080a65\">\n",
              "    <div class=\"colab-df-container\">\n",
              "      <div>\n",
              "<style scoped>\n",
              "    .dataframe tbody tr th:only-of-type {\n",
              "        vertical-align: middle;\n",
              "    }\n",
              "\n",
              "    .dataframe tbody tr th {\n",
              "        vertical-align: top;\n",
              "    }\n",
              "\n",
              "    .dataframe thead th {\n",
              "        text-align: right;\n",
              "    }\n",
              "</style>\n",
              "<table border=\"1\" class=\"dataframe\">\n",
              "  <thead>\n",
              "    <tr style=\"text-align: right;\">\n",
              "      <th></th>\n",
              "      <th>Class label</th>\n",
              "      <th>Alcohol</th>\n",
              "      <th>Malic Acid</th>\n",
              "      <th>Ash</th>\n",
              "      <th>Alcalinity of ash</th>\n",
              "      <th>Magnesium</th>\n",
              "      <th>Total phenols</th>\n",
              "      <th>Flavanoids</th>\n",
              "      <th>Nonflavonid phenols</th>\n",
              "      <th>Proanthocyanins</th>\n",
              "      <th>Color intensity</th>\n",
              "      <th>Hue</th>\n",
              "      <th>OD280/OD315 of diluted wines</th>\n",
              "      <th>Proline</th>\n",
              "    </tr>\n",
              "  </thead>\n",
              "  <tbody>\n",
              "    <tr>\n",
              "      <th>0</th>\n",
              "      <td>1</td>\n",
              "      <td>14.23</td>\n",
              "      <td>1.71</td>\n",
              "      <td>2.43</td>\n",
              "      <td>15.6</td>\n",
              "      <td>127</td>\n",
              "      <td>2.80</td>\n",
              "      <td>3.06</td>\n",
              "      <td>0.28</td>\n",
              "      <td>2.29</td>\n",
              "      <td>5.64</td>\n",
              "      <td>1.04</td>\n",
              "      <td>3.92</td>\n",
              "      <td>1065</td>\n",
              "    </tr>\n",
              "    <tr>\n",
              "      <th>1</th>\n",
              "      <td>1</td>\n",
              "      <td>13.20</td>\n",
              "      <td>1.78</td>\n",
              "      <td>2.14</td>\n",
              "      <td>11.2</td>\n",
              "      <td>100</td>\n",
              "      <td>2.65</td>\n",
              "      <td>2.76</td>\n",
              "      <td>0.26</td>\n",
              "      <td>1.28</td>\n",
              "      <td>4.38</td>\n",
              "      <td>1.05</td>\n",
              "      <td>3.40</td>\n",
              "      <td>1050</td>\n",
              "    </tr>\n",
              "    <tr>\n",
              "      <th>2</th>\n",
              "      <td>1</td>\n",
              "      <td>13.16</td>\n",
              "      <td>2.36</td>\n",
              "      <td>2.67</td>\n",
              "      <td>18.6</td>\n",
              "      <td>101</td>\n",
              "      <td>2.80</td>\n",
              "      <td>3.24</td>\n",
              "      <td>0.30</td>\n",
              "      <td>2.81</td>\n",
              "      <td>5.68</td>\n",
              "      <td>1.03</td>\n",
              "      <td>3.17</td>\n",
              "      <td>1185</td>\n",
              "    </tr>\n",
              "    <tr>\n",
              "      <th>3</th>\n",
              "      <td>1</td>\n",
              "      <td>14.37</td>\n",
              "      <td>1.95</td>\n",
              "      <td>2.50</td>\n",
              "      <td>16.8</td>\n",
              "      <td>113</td>\n",
              "      <td>3.85</td>\n",
              "      <td>3.49</td>\n",
              "      <td>0.24</td>\n",
              "      <td>2.18</td>\n",
              "      <td>7.80</td>\n",
              "      <td>0.86</td>\n",
              "      <td>3.45</td>\n",
              "      <td>1480</td>\n",
              "    </tr>\n",
              "    <tr>\n",
              "      <th>4</th>\n",
              "      <td>1</td>\n",
              "      <td>13.24</td>\n",
              "      <td>2.59</td>\n",
              "      <td>2.87</td>\n",
              "      <td>21.0</td>\n",
              "      <td>118</td>\n",
              "      <td>2.80</td>\n",
              "      <td>2.69</td>\n",
              "      <td>0.39</td>\n",
              "      <td>1.82</td>\n",
              "      <td>4.32</td>\n",
              "      <td>1.04</td>\n",
              "      <td>2.93</td>\n",
              "      <td>735</td>\n",
              "    </tr>\n",
              "  </tbody>\n",
              "</table>\n",
              "</div>\n",
              "      <button class=\"colab-df-convert\" onclick=\"convertToInteractive('df-0e6fa845-a7f7-4171-9562-e220e8080a65')\"\n",
              "              title=\"Convert this dataframe to an interactive table.\"\n",
              "              style=\"display:none;\">\n",
              "        \n",
              "  <svg xmlns=\"http://www.w3.org/2000/svg\" height=\"24px\"viewBox=\"0 0 24 24\"\n",
              "       width=\"24px\">\n",
              "    <path d=\"M0 0h24v24H0V0z\" fill=\"none\"/>\n",
              "    <path d=\"M18.56 5.44l.94 2.06.94-2.06 2.06-.94-2.06-.94-.94-2.06-.94 2.06-2.06.94zm-11 1L8.5 8.5l.94-2.06 2.06-.94-2.06-.94L8.5 2.5l-.94 2.06-2.06.94zm10 10l.94 2.06.94-2.06 2.06-.94-2.06-.94-.94-2.06-.94 2.06-2.06.94z\"/><path d=\"M17.41 7.96l-1.37-1.37c-.4-.4-.92-.59-1.43-.59-.52 0-1.04.2-1.43.59L10.3 9.45l-7.72 7.72c-.78.78-.78 2.05 0 2.83L4 21.41c.39.39.9.59 1.41.59.51 0 1.02-.2 1.41-.59l7.78-7.78 2.81-2.81c.8-.78.8-2.07 0-2.86zM5.41 20L4 18.59l7.72-7.72 1.47 1.35L5.41 20z\"/>\n",
              "  </svg>\n",
              "      </button>\n",
              "      \n",
              "  <style>\n",
              "    .colab-df-container {\n",
              "      display:flex;\n",
              "      flex-wrap:wrap;\n",
              "      gap: 12px;\n",
              "    }\n",
              "\n",
              "    .colab-df-convert {\n",
              "      background-color: #E8F0FE;\n",
              "      border: none;\n",
              "      border-radius: 50%;\n",
              "      cursor: pointer;\n",
              "      display: none;\n",
              "      fill: #1967D2;\n",
              "      height: 32px;\n",
              "      padding: 0 0 0 0;\n",
              "      width: 32px;\n",
              "    }\n",
              "\n",
              "    .colab-df-convert:hover {\n",
              "      background-color: #E2EBFA;\n",
              "      box-shadow: 0px 1px 2px rgba(60, 64, 67, 0.3), 0px 1px 3px 1px rgba(60, 64, 67, 0.15);\n",
              "      fill: #174EA6;\n",
              "    }\n",
              "\n",
              "    [theme=dark] .colab-df-convert {\n",
              "      background-color: #3B4455;\n",
              "      fill: #D2E3FC;\n",
              "    }\n",
              "\n",
              "    [theme=dark] .colab-df-convert:hover {\n",
              "      background-color: #434B5C;\n",
              "      box-shadow: 0px 1px 3px 1px rgba(0, 0, 0, 0.15);\n",
              "      filter: drop-shadow(0px 1px 2px rgba(0, 0, 0, 0.3));\n",
              "      fill: #FFFFFF;\n",
              "    }\n",
              "  </style>\n",
              "\n",
              "      <script>\n",
              "        const buttonEl =\n",
              "          document.querySelector('#df-0e6fa845-a7f7-4171-9562-e220e8080a65 button.colab-df-convert');\n",
              "        buttonEl.style.display =\n",
              "          google.colab.kernel.accessAllowed ? 'block' : 'none';\n",
              "\n",
              "        async function convertToInteractive(key) {\n",
              "          const element = document.querySelector('#df-0e6fa845-a7f7-4171-9562-e220e8080a65');\n",
              "          const dataTable =\n",
              "            await google.colab.kernel.invokeFunction('convertToInteractive',\n",
              "                                                     [key], {});\n",
              "          if (!dataTable) return;\n",
              "\n",
              "          const docLinkHtml = 'Like what you see? Visit the ' +\n",
              "            '<a target=\"_blank\" href=https://colab.research.google.com/notebooks/data_table.ipynb>data table notebook</a>'\n",
              "            + ' to learn more about interactive tables.';\n",
              "          element.innerHTML = '';\n",
              "          dataTable['output_type'] = 'display_data';\n",
              "          await google.colab.output.renderOutput(dataTable, element);\n",
              "          const docLink = document.createElement('div');\n",
              "          docLink.innerHTML = docLinkHtml;\n",
              "          element.appendChild(docLink);\n",
              "        }\n",
              "      </script>\n",
              "    </div>\n",
              "  </div>\n",
              "  "
            ]
          },
          "metadata": {},
          "execution_count": 152
        }
      ]
    },
    {
      "cell_type": "code",
      "source": [
        "#Explorar loss datos\n",
        "wine.info()\n",
        "#No hay filas vacías y todas las comlumnas son numéricas"
      ],
      "metadata": {
        "colab": {
          "base_uri": "https://localhost:8080/"
        },
        "id": "AdK727DrPklw",
        "outputId": "ac04359e-09ab-4bcb-912e-2f8dd5569368"
      },
      "execution_count": 153,
      "outputs": [
        {
          "output_type": "stream",
          "name": "stdout",
          "text": [
            "<class 'pandas.core.frame.DataFrame'>\n",
            "RangeIndex: 178 entries, 0 to 177\n",
            "Data columns (total 14 columns):\n",
            " #   Column                        Non-Null Count  Dtype  \n",
            "---  ------                        --------------  -----  \n",
            " 0   Class label                   178 non-null    int64  \n",
            " 1   Alcohol                       178 non-null    float64\n",
            " 2   Malic Acid                    178 non-null    float64\n",
            " 3   Ash                           178 non-null    float64\n",
            " 4   Alcalinity of ash             178 non-null    float64\n",
            " 5   Magnesium                     178 non-null    int64  \n",
            " 6   Total phenols                 178 non-null    float64\n",
            " 7   Flavanoids                    178 non-null    float64\n",
            " 8   Nonflavonid phenols           178 non-null    float64\n",
            " 9   Proanthocyanins               178 non-null    float64\n",
            " 10  Color intensity               178 non-null    float64\n",
            " 11  Hue                           178 non-null    float64\n",
            " 12  OD280/OD315 of diluted wines  178 non-null    float64\n",
            " 13  Proline                       178 non-null    int64  \n",
            "dtypes: float64(11), int64(3)\n",
            "memory usage: 19.6 KB\n"
          ]
        }
      ]
    },
    {
      "cell_type": "markdown",
      "source": [
        "La columna objetivo es **Class label**, se observa que no es necesario ningún tipo de transformación, se evidencia de igual manera que no pareciera haber alguna comuna con un característica que tenga un orden de prevalencia, hablando de las columnas de datos enteros"
      ],
      "metadata": {
        "id": "oDUZ0Y2fQHw-"
      }
    },
    {
      "cell_type": "markdown",
      "source": [
        "###**3) Crear la matriz de caracteríticas y el vector objetivo**"
      ],
      "metadata": {
        "id": "i_hsb3gzQKpM"
      }
    },
    {
      "cell_type": "code",
      "source": [
        "X = wine.drop(columns='Class label')\n",
        "y = wine['Class label']\n",
        "X_train,X_test,y_train,y_test = train_test_split(X,y,random_state=42)"
      ],
      "metadata": {
        "id": "J_5ILOAkQqHs"
      },
      "execution_count": 154,
      "outputs": []
    },
    {
      "cell_type": "markdown",
      "source": [
        "###**4) Instanciar los transformadores**"
      ],
      "metadata": {
        "id": "_Zw4lVE1Q7YM"
      }
    },
    {
      "cell_type": "markdown",
      "source": [
        "En este caso como todas las columnas son numéricas sólo necesitamos instanciar un scaler que va a funcionar para todos los modelos que se deseen trabajar."
      ],
      "metadata": {
        "id": "Spk_ax-XQ-2m"
      }
    },
    {
      "cell_type": "code",
      "source": [
        "scaler = StandardScaler()"
      ],
      "metadata": {
        "id": "GMywy9PjRJSW"
      },
      "execution_count": 155,
      "outputs": []
    },
    {
      "cell_type": "markdown",
      "source": [
        "##**5) MODELO: Regresión logística**"
      ],
      "metadata": {
        "id": "WKn6PcTnRMtE"
      }
    },
    {
      "cell_type": "markdown",
      "source": [
        "**Instanciar el modelo de la regresión logística, sin ningún hiperparámetro**"
      ],
      "metadata": {
        "id": "otfy5tnPRXpW"
      }
    },
    {
      "cell_type": "code",
      "source": [
        "reg_log = LogisticRegression()"
      ],
      "metadata": {
        "id": "MWsjURzORSkz"
      },
      "execution_count": 156,
      "outputs": []
    },
    {
      "cell_type": "markdown",
      "source": [
        "**Crear pipeline**"
      ],
      "metadata": {
        "id": "LP19kR2vRkuI"
      }
    },
    {
      "cell_type": "code",
      "source": [
        "log_reg_pipe = make_pipeline(scaler,reg_log)"
      ],
      "metadata": {
        "id": "VEqqI9qxRqTL"
      },
      "execution_count": 157,
      "outputs": []
    },
    {
      "cell_type": "markdown",
      "source": [
        "**Ajustar el modelo a los datos de entrenamiento**"
      ],
      "metadata": {
        "id": "QRnAuX7LRw00"
      }
    },
    {
      "cell_type": "code",
      "source": [
        "log_reg_pipe.fit(X_train,y_train)"
      ],
      "metadata": {
        "colab": {
          "base_uri": "https://localhost:8080/"
        },
        "id": "2OAV5_2-R1F2",
        "outputId": "4fd7bdf4-b000-4bef-dda9-da305d39fa98"
      },
      "execution_count": 158,
      "outputs": [
        {
          "output_type": "execute_result",
          "data": {
            "text/plain": [
              "Pipeline(steps=[('standardscaler', StandardScaler()),\n",
              "                ('logisticregression', LogisticRegression())])"
            ]
          },
          "metadata": {},
          "execution_count": 158
        }
      ]
    },
    {
      "cell_type": "markdown",
      "source": [
        "**Predecir con el conjunto de pruebas**"
      ],
      "metadata": {
        "id": "3BAXnPsESSVv"
      }
    },
    {
      "cell_type": "code",
      "source": [
        "log_reg_pred = log_reg_pipe.predict(X_test)"
      ],
      "metadata": {
        "id": "IAQ8I_d_SXWA"
      },
      "execution_count": 159,
      "outputs": []
    },
    {
      "cell_type": "markdown",
      "source": [
        "**Métrica por defecto del modelo**"
      ],
      "metadata": {
        "id": "UsriSXPHSeCJ"
      }
    },
    {
      "cell_type": "code",
      "source": [
        "socre_log_reg = log_reg_pipe.score(X_test,y_test)\n",
        "socre_log_reg"
      ],
      "metadata": {
        "colab": {
          "base_uri": "https://localhost:8080/"
        },
        "id": "5sX4RrH9SgF2",
        "outputId": "7d4ed3a5-ce03-430e-99ad-07a0e633c8bb"
      },
      "execution_count": 160,
      "outputs": [
        {
          "output_type": "execute_result",
          "data": {
            "text/plain": [
              "0.9777777777777777"
            ]
          },
          "metadata": {},
          "execution_count": 160
        }
      ]
    },
    {
      "cell_type": "markdown",
      "source": [
        "Se observa que hay un sobre ajuste, se pretender realizar una búsqueda de un mejor hiperparámetro C"
      ],
      "metadata": {
        "id": "OVTOGcjoSs-G"
      }
    },
    {
      "cell_type": "markdown",
      "source": [
        "###**OPTIMIZACIÓN HIPERPARÁMETRO C**"
      ],
      "metadata": {
        "id": "1wXGQRtdTAB-"
      }
    },
    {
      "cell_type": "markdown",
      "source": [
        "**Usando regularización l1**"
      ],
      "metadata": {
        "id": "kVKratPuTH9o"
      }
    },
    {
      "cell_type": "code",
      "source": [
        "#Crear lista de posibles valores c\n",
        "lista_c = [0.0001, 0.001, 0.01, 0.1, 1, 10, 100,1000]\n",
        "lista_train_score = []\n",
        "lista_test_score = []\n",
        "for c in lista_c: \n",
        "  log_reg_opti = LogisticRegression(C=c, solver='liblinear', max_iter=1000, penalty='l1')\n",
        "  log_reg_opti_pipe = make_pipeline(scaler,log_reg_opti)\n",
        "  log_reg_opti_pipe.fit(X_train, y_train)\n",
        "  lista_train_score.append(log_reg_opti_pipe.score(X_train,y_train))\n",
        "  lista_test_score.append(log_reg_opti_pipe.score(X_test,y_test))\n",
        "\n",
        "dic_l1={score:c for c,score in zip(lista_c,lista_test_score)}"
      ],
      "metadata": {
        "id": "5KXpAiiHTEO7"
      },
      "execution_count": 161,
      "outputs": []
    },
    {
      "cell_type": "code",
      "source": [
        "dic_l1.get(max(lista_test_score))"
      ],
      "metadata": {
        "colab": {
          "base_uri": "https://localhost:8080/"
        },
        "id": "4kcxrD5_TS0B",
        "outputId": "039a4950-5b98-4e43-f58f-71fbac3ff095"
      },
      "execution_count": 162,
      "outputs": [
        {
          "output_type": "execute_result",
          "data": {
            "text/plain": [
              "0.1"
            ]
          },
          "metadata": {},
          "execution_count": 162
        }
      ]
    },
    {
      "cell_type": "code",
      "source": [
        "{c:score for c,score in zip(lista_c,lista_test_score)}"
      ],
      "metadata": {
        "colab": {
          "base_uri": "https://localhost:8080/"
        },
        "id": "yxBGuopXTYYu",
        "outputId": "7c0bd69b-11c0-41e0-e9f4-9dac294b5b67"
      },
      "execution_count": 163,
      "outputs": [
        {
          "output_type": "execute_result",
          "data": {
            "text/plain": [
              "{0.0001: 0.3333333333333333,\n",
              " 0.001: 0.3333333333333333,\n",
              " 0.01: 0.3333333333333333,\n",
              " 0.1: 1.0,\n",
              " 1: 0.9777777777777777,\n",
              " 10: 0.9777777777777777,\n",
              " 100: 0.9777777777777777,\n",
              " 1000: 0.9777777777777777}"
            ]
          },
          "metadata": {},
          "execution_count": 163
        }
      ]
    },
    {
      "cell_type": "markdown",
      "source": [
        "**Usando regularización l2**"
      ],
      "metadata": {
        "id": "y9XtnkO0T3bc"
      }
    },
    {
      "cell_type": "code",
      "source": [
        "#Crear lista de posibles valores c\n",
        "lista_c = [0.0001, 0.001, 0.01, 0.1, 1, 10, 100,1000]\n",
        "lista_train_score = []\n",
        "lista_test_score = []\n",
        "for c in lista_c: \n",
        "  log_reg_opti = LogisticRegression(C=c, solver='liblinear', max_iter=1000, penalty='l2')\n",
        "  log_reg_opti_pipe = make_pipeline(scaler,log_reg_opti)\n",
        "  log_reg_opti_pipe.fit(X_train, y_train)\n",
        "  lista_train_score.append(log_reg_opti_pipe.score(X_train,y_train))\n",
        "  lista_test_score.append(log_reg_opti_pipe.score(X_test,y_test))\n",
        "\n",
        "dic_l2={score:c for c,score in zip(lista_c,lista_test_score)}"
      ],
      "metadata": {
        "id": "7wkK4U5jT7As"
      },
      "execution_count": 164,
      "outputs": []
    },
    {
      "cell_type": "code",
      "source": [
        "dic_l2.get(max(lista_test_score))"
      ],
      "metadata": {
        "colab": {
          "base_uri": "https://localhost:8080/"
        },
        "id": "tIVoDNFhT_aM",
        "outputId": "b338af54-7d2b-41fa-c178-0587c844a685"
      },
      "execution_count": 165,
      "outputs": [
        {
          "output_type": "execute_result",
          "data": {
            "text/plain": [
              "1000"
            ]
          },
          "metadata": {},
          "execution_count": 165
        }
      ]
    },
    {
      "cell_type": "code",
      "source": [
        "{c:score for c,score in zip(lista_c,lista_test_score)}"
      ],
      "metadata": {
        "colab": {
          "base_uri": "https://localhost:8080/"
        },
        "id": "NQkYxLXeUFVA",
        "outputId": "ca452cc2-264d-4a69-97cd-0c276f83b46a"
      },
      "execution_count": 166,
      "outputs": [
        {
          "output_type": "execute_result",
          "data": {
            "text/plain": [
              "{0.0001: 0.9111111111111111,\n",
              " 0.001: 0.9333333333333333,\n",
              " 0.01: 0.9555555555555556,\n",
              " 0.1: 0.9777777777777777,\n",
              " 1: 0.9777777777777777,\n",
              " 10: 0.9777777777777777,\n",
              " 100: 0.9777777777777777,\n",
              " 1000: 0.9777777777777777}"
            ]
          },
          "metadata": {},
          "execution_count": 166
        }
      ]
    },
    {
      "cell_type": "markdown",
      "source": [
        "En el caso de la regularización l2 se logra un mejor desempeño con cualquuiera de los C probados, pero ninguno supera el valor ya obtenido con la regresión sin modificar los hiperparámetros, por lo que al menos el valor C, en este caso no es el hiperparámetro a modificar, en caso tal, la regularización l2, llega más rápido a un score alto y estable"
      ],
      "metadata": {
        "id": "vqC57fYOUKYS"
      }
    },
    {
      "cell_type": "markdown",
      "source": [
        "##**6)MODELO: Bosque aleatorio**"
      ],
      "metadata": {
        "id": "KRxtLFQfUqNg"
      }
    },
    {
      "cell_type": "markdown",
      "source": [
        "**Instanciar el modelo de bosque aleatorio sin ningún hiperparámnetro**"
      ],
      "metadata": {
        "id": "mXP7YoVRI5el"
      }
    },
    {
      "cell_type": "code",
      "source": [
        "bosque_aletario = RandomForestClassifier(random_state=42)"
      ],
      "metadata": {
        "id": "ZIg22CQsUu3b"
      },
      "execution_count": 167,
      "outputs": []
    },
    {
      "cell_type": "markdown",
      "source": [
        "**Crear pipeline**"
      ],
      "metadata": {
        "id": "S5YnQ1HEJPOS"
      }
    },
    {
      "cell_type": "code",
      "source": [
        "tree_aleatorio_pipe = make_pipeline(scaler,bosque_aletario)"
      ],
      "metadata": {
        "id": "ZN-xGhQsJWRh"
      },
      "execution_count": 168,
      "outputs": []
    },
    {
      "cell_type": "markdown",
      "source": [
        "**Ajustar modelo a los datos de entrenamiento**"
      ],
      "metadata": {
        "id": "hyzb4J5HJcZ0"
      }
    },
    {
      "cell_type": "code",
      "source": [
        "tree_aleatorio_pipe.fit(X_train,y_train)"
      ],
      "metadata": {
        "colab": {
          "base_uri": "https://localhost:8080/"
        },
        "id": "7exILFV1JgJR",
        "outputId": "f4d0a007-a849-4ffd-ac9b-17d8895bb808"
      },
      "execution_count": 169,
      "outputs": [
        {
          "output_type": "execute_result",
          "data": {
            "text/plain": [
              "Pipeline(steps=[('standardscaler', StandardScaler()),\n",
              "                ('randomforestclassifier',\n",
              "                 RandomForestClassifier(random_state=42))])"
            ]
          },
          "metadata": {},
          "execution_count": 169
        }
      ]
    },
    {
      "cell_type": "markdown",
      "source": [
        "**Predecir valores**"
      ],
      "metadata": {
        "id": "vHV7gHSlJk_m"
      }
    },
    {
      "cell_type": "code",
      "source": [
        "tree_precitiones = tree_aleatorio_pipe.predict(X_test)"
      ],
      "metadata": {
        "id": "dBxZKab3JnmR"
      },
      "execution_count": 170,
      "outputs": []
    },
    {
      "cell_type": "markdown",
      "source": [
        "**Validar desempeño del modelo**"
      ],
      "metadata": {
        "id": "_ICN-JgYJtxM"
      }
    },
    {
      "cell_type": "code",
      "source": [
        "score_tree_aleatorio = tree_aleatorio_pipe.score(X_test,y_test)\n",
        "score_tree_aleatorio"
      ],
      "metadata": {
        "colab": {
          "base_uri": "https://localhost:8080/"
        },
        "id": "LOM0E5WxJw88",
        "outputId": "eaff1a14-8665-4134-cfbb-57c265a517b0"
      },
      "execution_count": 171,
      "outputs": [
        {
          "output_type": "execute_result",
          "data": {
            "text/plain": [
              "1.0"
            ]
          },
          "metadata": {},
          "execution_count": 171
        }
      ]
    },
    {
      "cell_type": "code",
      "source": [
        "plot_confusion_matrix(tree_aleatorio_pipe, X_test,y_test)"
      ],
      "metadata": {
        "colab": {
          "base_uri": "https://localhost:8080/",
          "height": 357
        },
        "id": "3x9EaP5AMlrI",
        "outputId": "8864a26b-fc10-4513-d05e-99211f08b0c2"
      },
      "execution_count": 172,
      "outputs": [
        {
          "output_type": "stream",
          "name": "stderr",
          "text": [
            "/usr/local/lib/python3.7/dist-packages/sklearn/utils/deprecation.py:87: FutureWarning: Function plot_confusion_matrix is deprecated; Function `plot_confusion_matrix` is deprecated in 1.0 and will be removed in 1.2. Use one of the class methods: ConfusionMatrixDisplay.from_predictions or ConfusionMatrixDisplay.from_estimator.\n",
            "  warnings.warn(msg, category=FutureWarning)\n"
          ]
        },
        {
          "output_type": "execute_result",
          "data": {
            "text/plain": [
              "<sklearn.metrics._plot.confusion_matrix.ConfusionMatrixDisplay at 0x7f92c6e63810>"
            ]
          },
          "metadata": {},
          "execution_count": 172
        },
        {
          "output_type": "display_data",
          "data": {
            "text/plain": [
              "<Figure size 432x288 with 2 Axes>"
            ],
            "image/png": "[encoded data removed]"
          },
          "metadata": {
            "needs_background": "light"
          }
        }
      ]
    },
    {
      "cell_type": "code",
      "source": [
        "#Dado que el mejor score está en valor del rango de la unidad, se hacer for entre 1 y 9\n",
        "mejor_score = []\n",
        "lista_optimo = {}\n",
        "lista_profundidad = []\n",
        "for profundidad in range(1,10):\n",
        "  bosque_aletario = RandomForestClassifier(random_state=42, max_depth=profundidad)\n",
        "  tree_aleatorio_pipe = make_pipeline(scaler,bosque_aletario)\n",
        "  tree_aleatorio_pipe.fit(X_train,y_train)\n",
        "  score_tree_aleatorio = tree_aleatorio_pipe.score(X_test,y_test)\n",
        "  mejor_score.append(score_tree_aleatorio)\n",
        "  lista_profundidad.append(profundidad)\n",
        "  lista_optimo[score_tree_aleatorio] = profundidad"
      ],
      "metadata": {
        "id": "WG4HICyqSPqm"
      },
      "execution_count": 185,
      "outputs": []
    },
    {
      "cell_type": "code",
      "source": [
        "{profundidad:score for profundidad,score in zip(lista_profundidad,mejor_score)}"
      ],
      "metadata": {
        "colab": {
          "base_uri": "https://localhost:8080/"
        },
        "id": "gsFhzfxgSqZz",
        "outputId": "ba525808-0731-4095-e3a8-39ebb2f8fb82"
      },
      "execution_count": 186,
      "outputs": [
        {
          "output_type": "execute_result",
          "data": {
            "text/plain": [
              "{1: 0.9333333333333333,\n",
              " 2: 0.9777777777777777,\n",
              " 3: 1.0,\n",
              " 4: 1.0,\n",
              " 5: 1.0,\n",
              " 6: 1.0,\n",
              " 7: 1.0,\n",
              " 8: 1.0,\n",
              " 9: 1.0}"
            ]
          },
          "metadata": {},
          "execution_count": 186
        }
      ]
    },
    {
      "cell_type": "markdown",
      "source": [
        "###**OPTIMIZACIÓN DE HIPERPARÁMETROS**"
      ],
      "metadata": {
        "id": "8Y4gjN3qKtZz"
      }
    },
    {
      "cell_type": "markdown",
      "source": [
        "No habría necesidad de ajustar hiperparámetros, tal vez, para que el modelo no tenga un desempeño del 100%, lo cual podría indicar un desbalanceo en los datos."
      ],
      "metadata": {
        "id": "-K3N8Dt8MJ4A"
      }
    },
    {
      "cell_type": "markdown",
      "source": [
        "##**7) MODELO: KNN**"
      ],
      "metadata": {
        "id": "Vh6dK-KpMX1e"
      }
    },
    {
      "cell_type": "markdown",
      "source": [
        "**Instanciar el modelo**"
      ],
      "metadata": {
        "id": "pNybFpkiMdSB"
      }
    },
    {
      "cell_type": "code",
      "source": [
        "knn_wine = KNeighborsClassifier()"
      ],
      "metadata": {
        "id": "241I5WY7McZy"
      },
      "execution_count": 175,
      "outputs": []
    },
    {
      "cell_type": "markdown",
      "source": [
        "**Instanciar pipeline**"
      ],
      "metadata": {
        "id": "whlNe6atNKoz"
      }
    },
    {
      "cell_type": "code",
      "source": [
        "knn_wine_pipe = make_pipeline(scaler,knn_wine)"
      ],
      "metadata": {
        "id": "W2DBC5K3NNiN"
      },
      "execution_count": 176,
      "outputs": []
    },
    {
      "cell_type": "markdown",
      "source": [
        "**Ajustar modelo a los datos de entrenamiento**"
      ],
      "metadata": {
        "id": "6kOZr4xyNXjG"
      }
    },
    {
      "cell_type": "code",
      "source": [
        "knn_wine_pipe.fit(X_train,y_train)"
      ],
      "metadata": {
        "colab": {
          "base_uri": "https://localhost:8080/"
        },
        "id": "LT-uZ8aGNaRc",
        "outputId": "4921942e-8502-4a22-8b2c-16792e821641"
      },
      "execution_count": 177,
      "outputs": [
        {
          "output_type": "execute_result",
          "data": {
            "text/plain": [
              "Pipeline(steps=[('standardscaler', StandardScaler()),\n",
              "                ('kneighborsclassifier', KNeighborsClassifier())])"
            ]
          },
          "metadata": {},
          "execution_count": 177
        }
      ]
    },
    {
      "cell_type": "markdown",
      "source": [
        "**Calcular predicciones**"
      ],
      "metadata": {
        "id": "LPYUszeANeYg"
      }
    },
    {
      "cell_type": "code",
      "source": [
        "knn_wine_precitions = knn_wine_pipe.predict(X_test)"
      ],
      "metadata": {
        "id": "Yjzkz7DdNgrd"
      },
      "execution_count": 178,
      "outputs": []
    },
    {
      "cell_type": "markdown",
      "source": [
        "**Evaluar desempeño del modelo**"
      ],
      "metadata": {
        "id": "3ax-cf-ANmdO"
      }
    },
    {
      "cell_type": "code",
      "source": [
        "score_knn = knn_wine_pipe.score(X_test,y_test)\n",
        "score_knn"
      ],
      "metadata": {
        "colab": {
          "base_uri": "https://localhost:8080/"
        },
        "id": "OO_OFwx0NowY",
        "outputId": "c219db11-d9e9-4d01-9838-e5fea256a7af"
      },
      "execution_count": 179,
      "outputs": [
        {
          "output_type": "execute_result",
          "data": {
            "text/plain": [
              "0.9555555555555556"
            ]
          },
          "metadata": {},
          "execution_count": 179
        }
      ]
    },
    {
      "cell_type": "markdown",
      "source": [
        "**Ajustar hiperparámetros**"
      ],
      "metadata": {
        "id": "nJ8ZqVe2OCCd"
      }
    },
    {
      "cell_type": "code",
      "source": [
        "knn_wine_pipe.get_params()"
      ],
      "metadata": {
        "colab": {
          "base_uri": "https://localhost:8080/"
        },
        "id": "ObMOHSwQOFRZ",
        "outputId": "b95ebcec-10cb-4b25-8fb8-b95327ba23bf"
      },
      "execution_count": 180,
      "outputs": [
        {
          "output_type": "execute_result",
          "data": {
            "text/plain": [
              "{'memory': None,\n",
              " 'steps': [('standardscaler', StandardScaler()),\n",
              "  ('kneighborsclassifier', KNeighborsClassifier())],\n",
              " 'verbose': False,\n",
              " 'standardscaler': StandardScaler(),\n",
              " 'kneighborsclassifier': KNeighborsClassifier(),\n",
              " 'standardscaler__copy': True,\n",
              " 'standardscaler__with_mean': True,\n",
              " 'standardscaler__with_std': True,\n",
              " 'kneighborsclassifier__algorithm': 'auto',\n",
              " 'kneighborsclassifier__leaf_size': 30,\n",
              " 'kneighborsclassifier__metric': 'minkowski',\n",
              " 'kneighborsclassifier__metric_params': None,\n",
              " 'kneighborsclassifier__n_jobs': None,\n",
              " 'kneighborsclassifier__n_neighbors': 5,\n",
              " 'kneighborsclassifier__p': 2,\n",
              " 'kneighborsclassifier__weights': 'uniform'}"
            ]
          },
          "metadata": {},
          "execution_count": 180
        }
      ]
    },
    {
      "cell_type": "code",
      "source": [
        "grid_param_knn = {'n_neighbors':[1,10,100]}\n",
        "grid_knn = GridSearchCV(knn_wine,grid_param_knn, cv=5)\n",
        "\n",
        "grid_knn.fit(X_train,y_train)\n",
        "grid_knn.best_params_"
      ],
      "metadata": {
        "colab": {
          "base_uri": "https://localhost:8080/"
        },
        "id": "710-wZDHOERi",
        "outputId": "9f2dc2c8-d1db-4cef-c387-f1e6ef088491"
      },
      "execution_count": 181,
      "outputs": [
        {
          "output_type": "execute_result",
          "data": {
            "text/plain": [
              "{'n_neighbors': 1}"
            ]
          },
          "metadata": {},
          "execution_count": 181
        }
      ]
    },
    {
      "cell_type": "code",
      "source": [
        "#Dado que el mejor score está en valor del rango de la unidad, se hacer for entre 1 y 9\n",
        "mejor_score = []\n",
        "lista_optimo = {}\n",
        "lista_vecinos = []\n",
        "for kvecinos in range(1,10):\n",
        "  knn_wine = KNeighborsClassifier(n_neighbors=kvecinos)\n",
        "  knn_wine_pipe = make_pipeline(scaler,knn_wine)\n",
        "  knn_wine_pipe.fit(X_train,y_train)\n",
        "  score_knn = knn_wine_pipe.score(X_test,y_test)\n",
        "  mejor_score.append(score_knn)\n",
        "  lista_vecinos.append(kvecinos)\n",
        "  lista_optimo[score_knn] = kvecinos"
      ],
      "metadata": {
        "id": "XAvqKIg0OfjP"
      },
      "execution_count": 182,
      "outputs": []
    },
    {
      "cell_type": "code",
      "source": [
        "{kvecinos:score for kvecinos,score in zip(lista_vecinos,mejor_score)}"
      ],
      "metadata": {
        "colab": {
          "base_uri": "https://localhost:8080/"
        },
        "id": "f-TIhhwMP9ZW",
        "outputId": "6342e46e-5aa9-4956-b4a0-635c983c8518"
      },
      "execution_count": 183,
      "outputs": [
        {
          "output_type": "execute_result",
          "data": {
            "text/plain": [
              "{1: 0.9555555555555556,\n",
              " 2: 0.9333333333333333,\n",
              " 3: 0.9555555555555556,\n",
              " 4: 0.9555555555555556,\n",
              " 5: 0.9555555555555556,\n",
              " 6: 0.9777777777777777,\n",
              " 7: 0.9777777777777777,\n",
              " 8: 0.9777777777777777,\n",
              " 9: 0.9777777777777777}"
            ]
          },
          "metadata": {},
          "execution_count": 183
        }
      ]
    },
    {
      "cell_type": "markdown",
      "source": [
        "**Reformular modelo con kvecinos = 6"
      ],
      "metadata": {
        "id": "lrNaQy2QQomi"
      }
    },
    {
      "cell_type": "code",
      "source": [
        "knn_wine = KNeighborsClassifier(n_neighbors=6)\n",
        "knn_wine_pipe = make_pipeline(scaler,knn_wine)\n",
        "knn_wine_pipe.fit(X_train,y_train)\n",
        "score_knn = knn_wine_pipe.score(X_test,y_test)\n",
        "score_knn"
      ],
      "metadata": {
        "colab": {
          "base_uri": "https://localhost:8080/"
        },
        "id": "TyUPbLtmQu-L",
        "outputId": "fbcd90b2-027d-4e80-fbb8-f373e99ac191"
      },
      "execution_count": 184,
      "outputs": [
        {
          "output_type": "execute_result",
          "data": {
            "text/plain": [
              "0.9777777777777777"
            ]
          },
          "metadata": {},
          "execution_count": 184
        }
      ]
    },
    {
      "cell_type": "markdown",
      "source": [
        "##**PREGUNTAS FINALES**"
      ],
      "metadata": {
        "id": "Ubnt5PHlRFw9"
      }
    },
    {
      "cell_type": "markdown",
      "source": [
        "1.¿Cuál es el modelo que mejor funciona? \n",
        "\n",
        "R// El modelo que mejor desempeño tiene es el bosque aleatorio.\n",
        "\n",
        "2.¿Cuáles hiperparámetros afinaron para cada uno de los modelos? ¿Hay algún modelo que les gustó más y por qué?\n",
        "\n",
        "R// Todos los modelos funcionan muy bien, en general el boque aletario funciona muy bien, pero se ajusta tanto que podría correr el riesgo de no servir para nuevas muestras. \n",
        "\n",
        "Respecto a hiperparámetros en la regresión logística se ajustó el parámetro C y el tipo de regularización, para KNN se optimizó el número de vecinos.\n",
        "\n",
        "Para el bosque aleatorio, se encontró en con una profundidad de 2 era suficiente para obtener resultados adecuados, tal vez, con el fin de mejorar el rendimiento del modelo se pueda cambiar el valor de la profundidad.\n",
        "\n",
        "Con respecto a poder ver cómo cambia el desempeño del modelo al modificar su función de costo, me pareció muy interesante la regresión logística y la regularización."
      ],
      "metadata": {
        "id": "KS1bFOrXRI3A"
      }
    }
  ]
}